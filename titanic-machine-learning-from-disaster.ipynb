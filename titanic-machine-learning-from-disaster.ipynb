{
 "cells": [
  {
   "cell_type": "code",
   "execution_count": 1,
   "id": "47e9ab83",
   "metadata": {
    "_cell_guid": "b1076dfc-b9ad-4769-8c92-a6c4dae69d19",
    "_uuid": "8f2839f25d086af736a60e9eeb907d3b93b6e0e5",
    "execution": {
     "iopub.execute_input": "2023-04-29T04:27:34.578467Z",
     "iopub.status.busy": "2023-04-29T04:27:34.578077Z",
     "iopub.status.idle": "2023-04-29T04:27:34.594031Z",
     "shell.execute_reply": "2023-04-29T04:27:34.592493Z"
    },
    "papermill": {
     "duration": 0.036458,
     "end_time": "2023-04-29T04:27:34.596816",
     "exception": false,
     "start_time": "2023-04-29T04:27:34.560358",
     "status": "completed"
    },
    "tags": []
   },
   "outputs": [
    {
     "name": "stdout",
     "output_type": "stream",
     "text": [
      "/kaggle/input/titanic/train.csv\n",
      "/kaggle/input/titanic/test.csv\n",
      "/kaggle/input/titanic/gender_submission.csv\n"
     ]
    }
   ],
   "source": [
    "# This Python 3 environment comes with many helpful analytics libraries installed\n",
    "# It is defined by the kaggle/python Docker image: https://github.com/kaggle/docker-python\n",
    "# For example, here's several helpful packages to load\n",
    "\n",
    "import numpy as np # linear algebra\n",
    "import pandas as pd # data processing, CSV file I/O (e.g. pd.read_csv)\n",
    "\n",
    "# Input data files are available in the read-only \"../input/\" directory\n",
    "# For example, running this (by clicking run or pressing Shift+Enter) will list all files under the input directory\n",
    "\n",
    "import os\n",
    "for dirname, _, filenames in os.walk('/kaggle/input'):\n",
    "    for filename in filenames:\n",
    "        print(os.path.join(dirname, filename))\n",
    "\n",
    "# You can write up to 20GB to the current directory (/kaggle/working/) that gets preserved as output when you create a version using \"Save & Run All\" \n",
    "# You can also write temporary files to /kaggle/temp/, but they won't be saved outside of the current session"
   ]
  },
  {
   "cell_type": "markdown",
   "id": "c698c5ff",
   "metadata": {
    "papermill": {
     "duration": 0.013795,
     "end_time": "2023-04-29T04:27:34.626031",
     "exception": false,
     "start_time": "2023-04-29T04:27:34.612236",
     "status": "completed"
    },
    "tags": []
   },
   "source": [
    "## Overview\n",
    "The sinking of the Titanic is one of the most infamous shipwrecks in history.\n",
    "\n",
    "On April 15, 1912, during her maiden voyage, the widely considered “unsinkable” RMS Titanic sank after colliding with an iceberg. Unfortunately, there weren’t enough lifeboats for everyone onboard, resulting in the death of 1502 out of 2224 passengers and crew.\n",
    "\n",
    "While there was some element of luck involved in surviving, it seems some groups of people were more likely to survive than others.\n",
    "\n",
    "## Challenge\n",
    "“what sorts of people were more likely to survive?” using passenger data (ie name, age, gender, socio-economic class, etc)."
   ]
  },
  {
   "cell_type": "markdown",
   "id": "419bc254",
   "metadata": {
    "papermill": {
     "duration": 0.013649,
     "end_time": "2023-04-29T04:27:34.653804",
     "exception": false,
     "start_time": "2023-04-29T04:27:34.640155",
     "status": "completed"
    },
    "tags": []
   },
   "source": [
    "## Import and Get Data"
   ]
  },
  {
   "cell_type": "code",
   "execution_count": 2,
   "id": "7bfc21f0",
   "metadata": {
    "execution": {
     "iopub.execute_input": "2023-04-29T04:27:34.687375Z",
     "iopub.status.busy": "2023-04-29T04:27:34.686646Z",
     "iopub.status.idle": "2023-04-29T04:27:34.738515Z",
     "shell.execute_reply": "2023-04-29T04:27:34.737066Z"
    },
    "papermill": {
     "duration": 0.070752,
     "end_time": "2023-04-29T04:27:34.741426",
     "exception": false,
     "start_time": "2023-04-29T04:27:34.670674",
     "status": "completed"
    },
    "tags": []
   },
   "outputs": [
    {
     "data": {
      "text/html": [
       "<div>\n",
       "<style scoped>\n",
       "    .dataframe tbody tr th:only-of-type {\n",
       "        vertical-align: middle;\n",
       "    }\n",
       "\n",
       "    .dataframe tbody tr th {\n",
       "        vertical-align: top;\n",
       "    }\n",
       "\n",
       "    .dataframe thead th {\n",
       "        text-align: right;\n",
       "    }\n",
       "</style>\n",
       "<table border=\"1\" class=\"dataframe\">\n",
       "  <thead>\n",
       "    <tr style=\"text-align: right;\">\n",
       "      <th></th>\n",
       "      <th>PassengerId</th>\n",
       "      <th>Survived</th>\n",
       "      <th>Pclass</th>\n",
       "      <th>Name</th>\n",
       "      <th>Sex</th>\n",
       "      <th>Age</th>\n",
       "      <th>SibSp</th>\n",
       "      <th>Parch</th>\n",
       "      <th>Ticket</th>\n",
       "      <th>Fare</th>\n",
       "      <th>Cabin</th>\n",
       "      <th>Embarked</th>\n",
       "    </tr>\n",
       "  </thead>\n",
       "  <tbody>\n",
       "    <tr>\n",
       "      <th>0</th>\n",
       "      <td>1</td>\n",
       "      <td>0</td>\n",
       "      <td>3</td>\n",
       "      <td>Braund, Mr. Owen Harris</td>\n",
       "      <td>male</td>\n",
       "      <td>22.0</td>\n",
       "      <td>1</td>\n",
       "      <td>0</td>\n",
       "      <td>A/5 21171</td>\n",
       "      <td>7.2500</td>\n",
       "      <td>NaN</td>\n",
       "      <td>S</td>\n",
       "    </tr>\n",
       "    <tr>\n",
       "      <th>1</th>\n",
       "      <td>2</td>\n",
       "      <td>1</td>\n",
       "      <td>1</td>\n",
       "      <td>Cumings, Mrs. John Bradley (Florence Briggs Th...</td>\n",
       "      <td>female</td>\n",
       "      <td>38.0</td>\n",
       "      <td>1</td>\n",
       "      <td>0</td>\n",
       "      <td>PC 17599</td>\n",
       "      <td>71.2833</td>\n",
       "      <td>C85</td>\n",
       "      <td>C</td>\n",
       "    </tr>\n",
       "    <tr>\n",
       "      <th>2</th>\n",
       "      <td>3</td>\n",
       "      <td>1</td>\n",
       "      <td>3</td>\n",
       "      <td>Heikkinen, Miss. Laina</td>\n",
       "      <td>female</td>\n",
       "      <td>26.0</td>\n",
       "      <td>0</td>\n",
       "      <td>0</td>\n",
       "      <td>STON/O2. 3101282</td>\n",
       "      <td>7.9250</td>\n",
       "      <td>NaN</td>\n",
       "      <td>S</td>\n",
       "    </tr>\n",
       "    <tr>\n",
       "      <th>3</th>\n",
       "      <td>4</td>\n",
       "      <td>1</td>\n",
       "      <td>1</td>\n",
       "      <td>Futrelle, Mrs. Jacques Heath (Lily May Peel)</td>\n",
       "      <td>female</td>\n",
       "      <td>35.0</td>\n",
       "      <td>1</td>\n",
       "      <td>0</td>\n",
       "      <td>113803</td>\n",
       "      <td>53.1000</td>\n",
       "      <td>C123</td>\n",
       "      <td>S</td>\n",
       "    </tr>\n",
       "    <tr>\n",
       "      <th>4</th>\n",
       "      <td>5</td>\n",
       "      <td>0</td>\n",
       "      <td>3</td>\n",
       "      <td>Allen, Mr. William Henry</td>\n",
       "      <td>male</td>\n",
       "      <td>35.0</td>\n",
       "      <td>0</td>\n",
       "      <td>0</td>\n",
       "      <td>373450</td>\n",
       "      <td>8.0500</td>\n",
       "      <td>NaN</td>\n",
       "      <td>S</td>\n",
       "    </tr>\n",
       "  </tbody>\n",
       "</table>\n",
       "</div>"
      ],
      "text/plain": [
       "   PassengerId  Survived  Pclass  \\\n",
       "0            1         0       3   \n",
       "1            2         1       1   \n",
       "2            3         1       3   \n",
       "3            4         1       1   \n",
       "4            5         0       3   \n",
       "\n",
       "                                                Name     Sex   Age  SibSp  \\\n",
       "0                            Braund, Mr. Owen Harris    male  22.0      1   \n",
       "1  Cumings, Mrs. John Bradley (Florence Briggs Th...  female  38.0      1   \n",
       "2                             Heikkinen, Miss. Laina  female  26.0      0   \n",
       "3       Futrelle, Mrs. Jacques Heath (Lily May Peel)  female  35.0      1   \n",
       "4                           Allen, Mr. William Henry    male  35.0      0   \n",
       "\n",
       "   Parch            Ticket     Fare Cabin Embarked  \n",
       "0      0         A/5 21171   7.2500   NaN        S  \n",
       "1      0          PC 17599  71.2833   C85        C  \n",
       "2      0  STON/O2. 3101282   7.9250   NaN        S  \n",
       "3      0            113803  53.1000  C123        S  \n",
       "4      0            373450   8.0500   NaN        S  "
      ]
     },
     "execution_count": 2,
     "metadata": {},
     "output_type": "execute_result"
    }
   ],
   "source": [
    "train_data = pd.read_csv(\"/kaggle/input/titanic/train.csv\")\n",
    "train_data.head()"
   ]
  },
  {
   "cell_type": "code",
   "execution_count": 3,
   "id": "4c7c385e",
   "metadata": {
    "execution": {
     "iopub.execute_input": "2023-04-29T04:27:34.772935Z",
     "iopub.status.busy": "2023-04-29T04:27:34.772200Z",
     "iopub.status.idle": "2023-04-29T04:27:34.802581Z",
     "shell.execute_reply": "2023-04-29T04:27:34.801044Z"
    },
    "papermill": {
     "duration": 0.049766,
     "end_time": "2023-04-29T04:27:34.805703",
     "exception": false,
     "start_time": "2023-04-29T04:27:34.755937",
     "status": "completed"
    },
    "tags": []
   },
   "outputs": [
    {
     "data": {
      "text/html": [
       "<div>\n",
       "<style scoped>\n",
       "    .dataframe tbody tr th:only-of-type {\n",
       "        vertical-align: middle;\n",
       "    }\n",
       "\n",
       "    .dataframe tbody tr th {\n",
       "        vertical-align: top;\n",
       "    }\n",
       "\n",
       "    .dataframe thead th {\n",
       "        text-align: right;\n",
       "    }\n",
       "</style>\n",
       "<table border=\"1\" class=\"dataframe\">\n",
       "  <thead>\n",
       "    <tr style=\"text-align: right;\">\n",
       "      <th></th>\n",
       "      <th>PassengerId</th>\n",
       "      <th>Pclass</th>\n",
       "      <th>Name</th>\n",
       "      <th>Sex</th>\n",
       "      <th>Age</th>\n",
       "      <th>SibSp</th>\n",
       "      <th>Parch</th>\n",
       "      <th>Ticket</th>\n",
       "      <th>Fare</th>\n",
       "      <th>Cabin</th>\n",
       "      <th>Embarked</th>\n",
       "    </tr>\n",
       "  </thead>\n",
       "  <tbody>\n",
       "    <tr>\n",
       "      <th>0</th>\n",
       "      <td>892</td>\n",
       "      <td>3</td>\n",
       "      <td>Kelly, Mr. James</td>\n",
       "      <td>male</td>\n",
       "      <td>34.5</td>\n",
       "      <td>0</td>\n",
       "      <td>0</td>\n",
       "      <td>330911</td>\n",
       "      <td>7.8292</td>\n",
       "      <td>NaN</td>\n",
       "      <td>Q</td>\n",
       "    </tr>\n",
       "    <tr>\n",
       "      <th>1</th>\n",
       "      <td>893</td>\n",
       "      <td>3</td>\n",
       "      <td>Wilkes, Mrs. James (Ellen Needs)</td>\n",
       "      <td>female</td>\n",
       "      <td>47.0</td>\n",
       "      <td>1</td>\n",
       "      <td>0</td>\n",
       "      <td>363272</td>\n",
       "      <td>7.0000</td>\n",
       "      <td>NaN</td>\n",
       "      <td>S</td>\n",
       "    </tr>\n",
       "    <tr>\n",
       "      <th>2</th>\n",
       "      <td>894</td>\n",
       "      <td>2</td>\n",
       "      <td>Myles, Mr. Thomas Francis</td>\n",
       "      <td>male</td>\n",
       "      <td>62.0</td>\n",
       "      <td>0</td>\n",
       "      <td>0</td>\n",
       "      <td>240276</td>\n",
       "      <td>9.6875</td>\n",
       "      <td>NaN</td>\n",
       "      <td>Q</td>\n",
       "    </tr>\n",
       "    <tr>\n",
       "      <th>3</th>\n",
       "      <td>895</td>\n",
       "      <td>3</td>\n",
       "      <td>Wirz, Mr. Albert</td>\n",
       "      <td>male</td>\n",
       "      <td>27.0</td>\n",
       "      <td>0</td>\n",
       "      <td>0</td>\n",
       "      <td>315154</td>\n",
       "      <td>8.6625</td>\n",
       "      <td>NaN</td>\n",
       "      <td>S</td>\n",
       "    </tr>\n",
       "    <tr>\n",
       "      <th>4</th>\n",
       "      <td>896</td>\n",
       "      <td>3</td>\n",
       "      <td>Hirvonen, Mrs. Alexander (Helga E Lindqvist)</td>\n",
       "      <td>female</td>\n",
       "      <td>22.0</td>\n",
       "      <td>1</td>\n",
       "      <td>1</td>\n",
       "      <td>3101298</td>\n",
       "      <td>12.2875</td>\n",
       "      <td>NaN</td>\n",
       "      <td>S</td>\n",
       "    </tr>\n",
       "  </tbody>\n",
       "</table>\n",
       "</div>"
      ],
      "text/plain": [
       "   PassengerId  Pclass                                          Name     Sex  \\\n",
       "0          892       3                              Kelly, Mr. James    male   \n",
       "1          893       3              Wilkes, Mrs. James (Ellen Needs)  female   \n",
       "2          894       2                     Myles, Mr. Thomas Francis    male   \n",
       "3          895       3                              Wirz, Mr. Albert    male   \n",
       "4          896       3  Hirvonen, Mrs. Alexander (Helga E Lindqvist)  female   \n",
       "\n",
       "    Age  SibSp  Parch   Ticket     Fare Cabin Embarked  \n",
       "0  34.5      0      0   330911   7.8292   NaN        Q  \n",
       "1  47.0      1      0   363272   7.0000   NaN        S  \n",
       "2  62.0      0      0   240276   9.6875   NaN        Q  \n",
       "3  27.0      0      0   315154   8.6625   NaN        S  \n",
       "4  22.0      1      1  3101298  12.2875   NaN        S  "
      ]
     },
     "execution_count": 3,
     "metadata": {},
     "output_type": "execute_result"
    }
   ],
   "source": [
    "test_data = pd.read_csv(\"/kaggle/input/titanic/test.csv\")\n",
    "test_data.head()"
   ]
  },
  {
   "cell_type": "code",
   "execution_count": 4,
   "id": "4016d24c",
   "metadata": {
    "execution": {
     "iopub.execute_input": "2023-04-29T04:27:34.839108Z",
     "iopub.status.busy": "2023-04-29T04:27:34.838621Z",
     "iopub.status.idle": "2023-04-29T04:27:36.075304Z",
     "shell.execute_reply": "2023-04-29T04:27:36.073946Z"
    },
    "papermill": {
     "duration": 1.257453,
     "end_time": "2023-04-29T04:27:36.078484",
     "exception": false,
     "start_time": "2023-04-29T04:27:34.821031",
     "status": "completed"
    },
    "tags": []
   },
   "outputs": [],
   "source": [
    "import matplotlib.pyplot as plt\n",
    "import seaborn as sns\n",
    "%matplotlib inline"
   ]
  },
  {
   "cell_type": "markdown",
   "id": "79f4e4c6",
   "metadata": {
    "papermill": {
     "duration": 0.014374,
     "end_time": "2023-04-29T04:27:36.107300",
     "exception": false,
     "start_time": "2023-04-29T04:27:36.092926",
     "status": "completed"
    },
    "tags": []
   },
   "source": [
    "## Explore Data Analysis"
   ]
  },
  {
   "cell_type": "markdown",
   "id": "5755986c",
   "metadata": {
    "papermill": {
     "duration": 0.014151,
     "end_time": "2023-04-29T04:27:36.135983",
     "exception": false,
     "start_time": "2023-04-29T04:27:36.121832",
     "status": "completed"
    },
    "tags": []
   },
   "source": [
    "**🔍 Find null using Seaborn to look where data is missing easily**"
   ]
  },
  {
   "cell_type": "code",
   "execution_count": 5,
   "id": "74a4aada",
   "metadata": {
    "execution": {
     "iopub.execute_input": "2023-04-29T04:27:36.167705Z",
     "iopub.status.busy": "2023-04-29T04:27:36.167277Z",
     "iopub.status.idle": "2023-04-29T04:27:36.436469Z",
     "shell.execute_reply": "2023-04-29T04:27:36.435096Z"
    },
    "papermill": {
     "duration": 0.28906,
     "end_time": "2023-04-29T04:27:36.439697",
     "exception": false,
     "start_time": "2023-04-29T04:27:36.150637",
     "status": "completed"
    },
    "tags": []
   },
   "outputs": [
    {
     "data": {
      "text/plain": [
       "<AxesSubplot:>"
      ]
     },
     "execution_count": 5,
     "metadata": {},
     "output_type": "execute_result"
    },
    {
     "data": {
      "image/png": "[encoded data removed]",
      "text/plain": [
       "<Figure size 640x480 with 1 Axes>"
      ]
     },
     "metadata": {},
     "output_type": "display_data"
    }
   ],
   "source": [
    "sns.heatmap(train_data.isnull(),yticklabels=False,cbar=False,cmap='magma')"
   ]
  },
  {
   "cell_type": "code",
   "execution_count": 6,
   "id": "cba6012f",
   "metadata": {
    "execution": {
     "iopub.execute_input": "2023-04-29T04:27:36.481338Z",
     "iopub.status.busy": "2023-04-29T04:27:36.480435Z",
     "iopub.status.idle": "2023-04-29T04:27:36.486154Z",
     "shell.execute_reply": "2023-04-29T04:27:36.484841Z"
    },
    "papermill": {
     "duration": 0.028427,
     "end_time": "2023-04-29T04:27:36.488699",
     "exception": false,
     "start_time": "2023-04-29T04:27:36.460272",
     "status": "completed"
    },
    "tags": []
   },
   "outputs": [],
   "source": [
    "sns.set_style(\"whitegrid\")"
   ]
  },
  {
   "cell_type": "markdown",
   "id": "6ea5c625",
   "metadata": {
    "papermill": {
     "duration": 0.021622,
     "end_time": "2023-04-29T04:27:36.534115",
     "exception": false,
     "start_time": "2023-04-29T04:27:36.512493",
     "status": "completed"
    },
    "tags": []
   },
   "source": [
    "👫 See how many people are survived?<br>\n",
    "Classified by gender, women are survived more than men."
   ]
  },
  {
   "cell_type": "code",
   "execution_count": 7,
   "id": "1184c5a7",
   "metadata": {
    "execution": {
     "iopub.execute_input": "2023-04-29T04:27:36.569982Z",
     "iopub.status.busy": "2023-04-29T04:27:36.569470Z",
     "iopub.status.idle": "2023-04-29T04:27:36.831355Z",
     "shell.execute_reply": "2023-04-29T04:27:36.830097Z"
    },
    "papermill": {
     "duration": 0.281277,
     "end_time": "2023-04-29T04:27:36.834060",
     "exception": false,
     "start_time": "2023-04-29T04:27:36.552783",
     "status": "completed"
    },
    "tags": []
   },
   "outputs": [
    {
     "data": {
      "text/plain": [
       "<AxesSubplot:xlabel='Survived', ylabel='count'>"
      ]
     },
     "execution_count": 7,
     "metadata": {},
     "output_type": "execute_result"
    },
    {
     "data": {
      "image/png": "[encoded data removed]",
      "text/plain": [
       "<Figure size 640x480 with 1 Axes>"
      ]
     },
     "metadata": {},
     "output_type": "display_data"
    }
   ],
   "source": [
    "sns.countplot(x='Survived', hue='Sex', data=train_data, palette='RdBu_r')"
   ]
  },
  {
   "cell_type": "markdown",
   "id": "98354a14",
   "metadata": {
    "papermill": {
     "duration": 0.014943,
     "end_time": "2023-04-29T04:27:36.864938",
     "exception": false,
     "start_time": "2023-04-29T04:27:36.849995",
     "status": "completed"
    },
    "tags": []
   },
   "source": [
    "👫 See how many people are survived?<br>\n",
    "Classified by Pclass, found that high class are survived more than low class."
   ]
  },
  {
   "cell_type": "code",
   "execution_count": 8,
   "id": "1c980869",
   "metadata": {
    "execution": {
     "iopub.execute_input": "2023-04-29T04:27:36.899934Z",
     "iopub.status.busy": "2023-04-29T04:27:36.899513Z",
     "iopub.status.idle": "2023-04-29T04:27:37.174948Z",
     "shell.execute_reply": "2023-04-29T04:27:37.174024Z"
    },
    "papermill": {
     "duration": 0.294923,
     "end_time": "2023-04-29T04:27:37.177522",
     "exception": false,
     "start_time": "2023-04-29T04:27:36.882599",
     "status": "completed"
    },
    "tags": []
   },
   "outputs": [
    {
     "data": {
      "text/plain": [
       "<AxesSubplot:xlabel='Survived', ylabel='count'>"
      ]
     },
     "execution_count": 8,
     "metadata": {},
     "output_type": "execute_result"
    },
    {
     "data": {
      "image/png": "[encoded data removed]",
      "text/plain": [
       "<Figure size 640x480 with 1 Axes>"
      ]
     },
     "metadata": {},
     "output_type": "display_data"
    }
   ],
   "source": [
    "sns.countplot(x='Survived', hue='Pclass', data=train_data)"
   ]
  },
  {
   "cell_type": "markdown",
   "id": "dda30126",
   "metadata": {
    "papermill": {
     "duration": 0.0153,
     "end_time": "2023-04-29T04:27:37.208738",
     "exception": false,
     "start_time": "2023-04-29T04:27:37.193438",
     "status": "completed"
    },
    "tags": []
   },
   "source": [
    "👨‍👩‍👧‍👦 Using histplot to find average age of passenger"
   ]
  },
  {
   "cell_type": "code",
   "execution_count": 9,
   "id": "72678558",
   "metadata": {
    "execution": {
     "iopub.execute_input": "2023-04-29T04:27:37.242386Z",
     "iopub.status.busy": "2023-04-29T04:27:37.241546Z",
     "iopub.status.idle": "2023-04-29T04:27:37.661820Z",
     "shell.execute_reply": "2023-04-29T04:27:37.660914Z"
    },
    "papermill": {
     "duration": 0.44015,
     "end_time": "2023-04-29T04:27:37.664478",
     "exception": false,
     "start_time": "2023-04-29T04:27:37.224328",
     "status": "completed"
    },
    "tags": []
   },
   "outputs": [
    {
     "data": {
      "text/plain": [
       "<AxesSubplot:xlabel='Age', ylabel='Count'>"
      ]
     },
     "execution_count": 9,
     "metadata": {},
     "output_type": "execute_result"
    },
    {
     "data": {
      "image/png": "[encoded data removed]",
      "text/plain": [
       "<Figure size 640x480 with 1 Axes>"
      ]
     },
     "metadata": {},
     "output_type": "display_data"
    }
   ],
   "source": [
    "sns.histplot(train_data['Age'].dropna(),kde=True,bins=30)"
   ]
  },
  {
   "cell_type": "markdown",
   "id": "b5ca927a",
   "metadata": {
    "papermill": {
     "duration": 0.016006,
     "end_time": "2023-04-29T04:27:37.697056",
     "exception": false,
     "start_time": "2023-04-29T04:27:37.681050",
     "status": "completed"
    },
    "tags": []
   },
   "source": [
    "🔍 See the detail of all data"
   ]
  },
  {
   "cell_type": "code",
   "execution_count": 10,
   "id": "4f572f6d",
   "metadata": {
    "execution": {
     "iopub.execute_input": "2023-04-29T04:27:37.732230Z",
     "iopub.status.busy": "2023-04-29T04:27:37.731417Z",
     "iopub.status.idle": "2023-04-29T04:27:37.748443Z",
     "shell.execute_reply": "2023-04-29T04:27:37.746703Z"
    },
    "papermill": {
     "duration": 0.037567,
     "end_time": "2023-04-29T04:27:37.750984",
     "exception": false,
     "start_time": "2023-04-29T04:27:37.713417",
     "status": "completed"
    },
    "tags": []
   },
   "outputs": [
    {
     "name": "stdout",
     "output_type": "stream",
     "text": [
      "<class 'pandas.core.frame.DataFrame'>\n",
      "RangeIndex: 891 entries, 0 to 890\n",
      "Data columns (total 12 columns):\n",
      " #   Column       Non-Null Count  Dtype  \n",
      "---  ------       --------------  -----  \n",
      " 0   PassengerId  891 non-null    int64  \n",
      " 1   Survived     891 non-null    int64  \n",
      " 2   Pclass       891 non-null    int64  \n",
      " 3   Name         891 non-null    object \n",
      " 4   Sex          891 non-null    object \n",
      " 5   Age          714 non-null    float64\n",
      " 6   SibSp        891 non-null    int64  \n",
      " 7   Parch        891 non-null    int64  \n",
      " 8   Ticket       891 non-null    object \n",
      " 9   Fare         891 non-null    float64\n",
      " 10  Cabin        204 non-null    object \n",
      " 11  Embarked     889 non-null    object \n",
      "dtypes: float64(2), int64(5), object(5)\n",
      "memory usage: 83.7+ KB\n"
     ]
    }
   ],
   "source": [
    "train_data.info()"
   ]
  },
  {
   "cell_type": "markdown",
   "id": "2c5c4dbd",
   "metadata": {
    "papermill": {
     "duration": 0.016814,
     "end_time": "2023-04-29T04:27:37.784344",
     "exception": false,
     "start_time": "2023-04-29T04:27:37.767530",
     "status": "completed"
    },
    "tags": []
   },
   "source": [
    "👨‍👩‍👧‍👧 Look for passenger coming with sibling, spouse, etc."
   ]
  },
  {
   "cell_type": "code",
   "execution_count": 11,
   "id": "6e3e1325",
   "metadata": {
    "execution": {
     "iopub.execute_input": "2023-04-29T04:27:37.819658Z",
     "iopub.status.busy": "2023-04-29T04:27:37.818828Z",
     "iopub.status.idle": "2023-04-29T04:27:38.084797Z",
     "shell.execute_reply": "2023-04-29T04:27:38.083272Z"
    },
    "papermill": {
     "duration": 0.287712,
     "end_time": "2023-04-29T04:27:38.088471",
     "exception": false,
     "start_time": "2023-04-29T04:27:37.800759",
     "status": "completed"
    },
    "tags": []
   },
   "outputs": [
    {
     "data": {
      "text/plain": [
       "<AxesSubplot:xlabel='SibSp', ylabel='count'>"
      ]
     },
     "execution_count": 11,
     "metadata": {},
     "output_type": "execute_result"
    },
    {
     "data": {
      "image/png": "[encoded data removed]",
      "text/plain": [
       "<Figure size 640x480 with 1 Axes>"
      ]
     },
     "metadata": {},
     "output_type": "display_data"
    }
   ],
   "source": [
    "sns.countplot(x='SibSp', data=train_data)"
   ]
  },
  {
   "cell_type": "code",
   "execution_count": 12,
   "id": "246095a5",
   "metadata": {
    "execution": {
     "iopub.execute_input": "2023-04-29T04:27:38.126327Z",
     "iopub.status.busy": "2023-04-29T04:27:38.125652Z",
     "iopub.status.idle": "2023-04-29T04:27:38.481737Z",
     "shell.execute_reply": "2023-04-29T04:27:38.480809Z"
    },
    "papermill": {
     "duration": 0.378705,
     "end_time": "2023-04-29T04:27:38.484938",
     "exception": false,
     "start_time": "2023-04-29T04:27:38.106233",
     "status": "completed"
    },
    "tags": []
   },
   "outputs": [
    {
     "data": {
      "text/plain": [
       "<AxesSubplot:>"
      ]
     },
     "execution_count": 12,
     "metadata": {},
     "output_type": "execute_result"
    },
    {
     "data": {
      "image/png": "[encoded data removed]",
      "text/plain": [
       "<Figure size 1000x400 with 1 Axes>"
      ]
     },
     "metadata": {},
     "output_type": "display_data"
    }
   ],
   "source": [
    "train_data['Fare'].hist(bins=40, figsize=(10,4))"
   ]
  },
  {
   "cell_type": "markdown",
   "id": "57e713fb",
   "metadata": {
    "papermill": {
     "duration": 0.01809,
     "end_time": "2023-04-29T04:27:38.521680",
     "exception": false,
     "start_time": "2023-04-29T04:27:38.503590",
     "status": "completed"
    },
    "tags": []
   },
   "source": [
    "➗ Find average age for missing data"
   ]
  },
  {
   "cell_type": "code",
   "execution_count": 13,
   "id": "dd617b74",
   "metadata": {
    "execution": {
     "iopub.execute_input": "2023-04-29T04:27:38.561442Z",
     "iopub.status.busy": "2023-04-29T04:27:38.560992Z",
     "iopub.status.idle": "2023-04-29T04:27:38.786023Z",
     "shell.execute_reply": "2023-04-29T04:27:38.784853Z"
    },
    "papermill": {
     "duration": 0.248232,
     "end_time": "2023-04-29T04:27:38.788716",
     "exception": false,
     "start_time": "2023-04-29T04:27:38.540484",
     "status": "completed"
    },
    "tags": []
   },
   "outputs": [
    {
     "data": {
      "text/plain": [
       "<AxesSubplot:xlabel='Pclass', ylabel='Age'>"
      ]
     },
     "execution_count": 13,
     "metadata": {},
     "output_type": "execute_result"
    },
    {
     "data": {
      "image/png": "[encoded data removed]",
      "text/plain": [
       "<Figure size 1000x700 with 1 Axes>"
      ]
     },
     "metadata": {},
     "output_type": "display_data"
    }
   ],
   "source": [
    "plt.figure(figsize=(10,7))\n",
    "sns.boxplot(x='Pclass', y='Age', data=train_data)"
   ]
  },
  {
   "cell_type": "markdown",
   "id": "5ab735fe",
   "metadata": {
    "papermill": {
     "duration": 0.017696,
     "end_time": "2023-04-29T04:27:38.824697",
     "exception": false,
     "start_time": "2023-04-29T04:27:38.807001",
     "status": "completed"
    },
    "tags": []
   },
   "source": [
    "⨐ Function for filling average age classified by Pclass"
   ]
  },
  {
   "cell_type": "code",
   "execution_count": 14,
   "id": "7971695c",
   "metadata": {
    "execution": {
     "iopub.execute_input": "2023-04-29T04:27:38.863969Z",
     "iopub.status.busy": "2023-04-29T04:27:38.863211Z",
     "iopub.status.idle": "2023-04-29T04:27:38.870214Z",
     "shell.execute_reply": "2023-04-29T04:27:38.869117Z"
    },
    "papermill": {
     "duration": 0.029514,
     "end_time": "2023-04-29T04:27:38.872635",
     "exception": false,
     "start_time": "2023-04-29T04:27:38.843121",
     "status": "completed"
    },
    "tags": []
   },
   "outputs": [],
   "source": [
    "def impute_age(cols):\n",
    "    Age = cols[0]\n",
    "    Pclass = cols[1]\n",
    "    \n",
    "    if pd.isnull(Age):\n",
    "        if Pclass == 1:\n",
    "            return 37\n",
    "        elif Pclass == 2:\n",
    "            return 29\n",
    "        else:\n",
    "            return 24\n",
    "    else:\n",
    "        return Age"
   ]
  },
  {
   "cell_type": "code",
   "execution_count": 15,
   "id": "52cff8f3",
   "metadata": {
    "execution": {
     "iopub.execute_input": "2023-04-29T04:27:38.911292Z",
     "iopub.status.busy": "2023-04-29T04:27:38.910787Z",
     "iopub.status.idle": "2023-04-29T04:27:38.933383Z",
     "shell.execute_reply": "2023-04-29T04:27:38.932235Z"
    },
    "papermill": {
     "duration": 0.045103,
     "end_time": "2023-04-29T04:27:38.935965",
     "exception": false,
     "start_time": "2023-04-29T04:27:38.890862",
     "status": "completed"
    },
    "tags": []
   },
   "outputs": [],
   "source": [
    "train_data['Age'] = train_data[['Age', 'Pclass']].apply(impute_age,axis=1)"
   ]
  },
  {
   "cell_type": "markdown",
   "id": "79e47054",
   "metadata": {
    "papermill": {
     "duration": 0.018025,
     "end_time": "2023-04-29T04:27:38.972285",
     "exception": false,
     "start_time": "2023-04-29T04:27:38.954260",
     "status": "completed"
    },
    "tags": []
   },
   "source": [
    "📊 Age average already filled, to prepare data."
   ]
  },
  {
   "cell_type": "code",
   "execution_count": 16,
   "id": "6f546584",
   "metadata": {
    "execution": {
     "iopub.execute_input": "2023-04-29T04:27:39.011369Z",
     "iopub.status.busy": "2023-04-29T04:27:39.010875Z",
     "iopub.status.idle": "2023-04-29T04:27:39.317576Z",
     "shell.execute_reply": "2023-04-29T04:27:39.315959Z"
    },
    "papermill": {
     "duration": 0.330417,
     "end_time": "2023-04-29T04:27:39.320771",
     "exception": false,
     "start_time": "2023-04-29T04:27:38.990354",
     "status": "completed"
    },
    "tags": []
   },
   "outputs": [
    {
     "data": {
      "text/plain": [
       "<AxesSubplot:>"
      ]
     },
     "execution_count": 16,
     "metadata": {},
     "output_type": "execute_result"
    },
    {
     "data": {
      "image/png": "[encoded data removed]",
      "text/plain": [
       "<Figure size 640x480 with 1 Axes>"
      ]
     },
     "metadata": {},
     "output_type": "display_data"
    }
   ],
   "source": [
    "sns.heatmap(train_data.isnull(),yticklabels=False,cbar=False)"
   ]
  },
  {
   "cell_type": "markdown",
   "id": "dd4093d2",
   "metadata": {
    "papermill": {
     "duration": 0.019485,
     "end_time": "2023-04-29T04:27:39.359916",
     "exception": false,
     "start_time": "2023-04-29T04:27:39.340431",
     "status": "completed"
    },
    "tags": []
   },
   "source": [
    "🚚 Remove Cabin because of there are many null value and not for calculation"
   ]
  },
  {
   "cell_type": "code",
   "execution_count": 17,
   "id": "7622e037",
   "metadata": {
    "execution": {
     "iopub.execute_input": "2023-04-29T04:27:39.403800Z",
     "iopub.status.busy": "2023-04-29T04:27:39.402860Z",
     "iopub.status.idle": "2023-04-29T04:27:39.411072Z",
     "shell.execute_reply": "2023-04-29T04:27:39.409526Z"
    },
    "papermill": {
     "duration": 0.032641,
     "end_time": "2023-04-29T04:27:39.413975",
     "exception": false,
     "start_time": "2023-04-29T04:27:39.381334",
     "status": "completed"
    },
    "tags": []
   },
   "outputs": [],
   "source": [
    "train_data.drop('Cabin', axis=1, inplace=True)"
   ]
  },
  {
   "cell_type": "markdown",
   "id": "e7ec2fe2",
   "metadata": {
    "papermill": {
     "duration": 0.019214,
     "end_time": "2023-04-29T04:27:39.452467",
     "exception": false,
     "start_time": "2023-04-29T04:27:39.433253",
     "status": "completed"
    },
    "tags": []
   },
   "source": [
    "Looking the data again."
   ]
  },
  {
   "cell_type": "code",
   "execution_count": 18,
   "id": "9b4d057a",
   "metadata": {
    "execution": {
     "iopub.execute_input": "2023-04-29T04:27:39.495047Z",
     "iopub.status.busy": "2023-04-29T04:27:39.493760Z",
     "iopub.status.idle": "2023-04-29T04:27:39.767795Z",
     "shell.execute_reply": "2023-04-29T04:27:39.766548Z"
    },
    "papermill": {
     "duration": 0.298819,
     "end_time": "2023-04-29T04:27:39.771045",
     "exception": false,
     "start_time": "2023-04-29T04:27:39.472226",
     "status": "completed"
    },
    "tags": []
   },
   "outputs": [
    {
     "data": {
      "text/plain": [
       "<AxesSubplot:>"
      ]
     },
     "execution_count": 18,
     "metadata": {},
     "output_type": "execute_result"
    },
    {
     "data": {
      "image/png": "[encoded data removed]",
      "text/plain": [
       "<Figure size 640x480 with 1 Axes>"
      ]
     },
     "metadata": {},
     "output_type": "display_data"
    }
   ],
   "source": [
    "sns.heatmap(train_data.isnull(),yticklabels=False,cbar=False)"
   ]
  },
  {
   "cell_type": "code",
   "execution_count": 19,
   "id": "9436f4a2",
   "metadata": {
    "execution": {
     "iopub.execute_input": "2023-04-29T04:27:39.818660Z",
     "iopub.status.busy": "2023-04-29T04:27:39.818233Z",
     "iopub.status.idle": "2023-04-29T04:27:39.823557Z",
     "shell.execute_reply": "2023-04-29T04:27:39.822102Z"
    },
    "papermill": {
     "duration": 0.033774,
     "end_time": "2023-04-29T04:27:39.826541",
     "exception": false,
     "start_time": "2023-04-29T04:27:39.792767",
     "status": "completed"
    },
    "tags": []
   },
   "outputs": [],
   "source": [
    "# If there are still some a little na value, we can drop using\n",
    "# train_data.dropna(inplace=True)"
   ]
  },
  {
   "cell_type": "markdown",
   "id": "587a05f9",
   "metadata": {
    "papermill": {
     "duration": 0.019507,
     "end_time": "2023-04-29T04:27:39.866190",
     "exception": false,
     "start_time": "2023-04-29T04:27:39.846683",
     "status": "completed"
    },
    "tags": []
   },
   "source": [
    "**⚧️ Change all string to numeric for machine learning calculation**"
   ]
  },
  {
   "cell_type": "code",
   "execution_count": 20,
   "id": "4833115c",
   "metadata": {
    "execution": {
     "iopub.execute_input": "2023-04-29T04:27:39.909258Z",
     "iopub.status.busy": "2023-04-29T04:27:39.908379Z",
     "iopub.status.idle": "2023-04-29T04:27:39.925373Z",
     "shell.execute_reply": "2023-04-29T04:27:39.924098Z"
    },
    "papermill": {
     "duration": 0.041343,
     "end_time": "2023-04-29T04:27:39.928204",
     "exception": false,
     "start_time": "2023-04-29T04:27:39.886861",
     "status": "completed"
    },
    "tags": []
   },
   "outputs": [
    {
     "data": {
      "text/html": [
       "<div>\n",
       "<style scoped>\n",
       "    .dataframe tbody tr th:only-of-type {\n",
       "        vertical-align: middle;\n",
       "    }\n",
       "\n",
       "    .dataframe tbody tr th {\n",
       "        vertical-align: top;\n",
       "    }\n",
       "\n",
       "    .dataframe thead th {\n",
       "        text-align: right;\n",
       "    }\n",
       "</style>\n",
       "<table border=\"1\" class=\"dataframe\">\n",
       "  <thead>\n",
       "    <tr style=\"text-align: right;\">\n",
       "      <th></th>\n",
       "      <th>PassengerId</th>\n",
       "      <th>Survived</th>\n",
       "      <th>Pclass</th>\n",
       "      <th>Name</th>\n",
       "      <th>Sex</th>\n",
       "      <th>Age</th>\n",
       "      <th>SibSp</th>\n",
       "      <th>Parch</th>\n",
       "      <th>Ticket</th>\n",
       "      <th>Fare</th>\n",
       "      <th>Embarked</th>\n",
       "    </tr>\n",
       "  </thead>\n",
       "  <tbody>\n",
       "    <tr>\n",
       "      <th>0</th>\n",
       "      <td>1</td>\n",
       "      <td>0</td>\n",
       "      <td>3</td>\n",
       "      <td>Braund, Mr. Owen Harris</td>\n",
       "      <td>male</td>\n",
       "      <td>22.0</td>\n",
       "      <td>1</td>\n",
       "      <td>0</td>\n",
       "      <td>A/5 21171</td>\n",
       "      <td>7.2500</td>\n",
       "      <td>S</td>\n",
       "    </tr>\n",
       "    <tr>\n",
       "      <th>1</th>\n",
       "      <td>2</td>\n",
       "      <td>1</td>\n",
       "      <td>1</td>\n",
       "      <td>Cumings, Mrs. John Bradley (Florence Briggs Th...</td>\n",
       "      <td>female</td>\n",
       "      <td>38.0</td>\n",
       "      <td>1</td>\n",
       "      <td>0</td>\n",
       "      <td>PC 17599</td>\n",
       "      <td>71.2833</td>\n",
       "      <td>C</td>\n",
       "    </tr>\n",
       "    <tr>\n",
       "      <th>2</th>\n",
       "      <td>3</td>\n",
       "      <td>1</td>\n",
       "      <td>3</td>\n",
       "      <td>Heikkinen, Miss. Laina</td>\n",
       "      <td>female</td>\n",
       "      <td>26.0</td>\n",
       "      <td>0</td>\n",
       "      <td>0</td>\n",
       "      <td>STON/O2. 3101282</td>\n",
       "      <td>7.9250</td>\n",
       "      <td>S</td>\n",
       "    </tr>\n",
       "    <tr>\n",
       "      <th>3</th>\n",
       "      <td>4</td>\n",
       "      <td>1</td>\n",
       "      <td>1</td>\n",
       "      <td>Futrelle, Mrs. Jacques Heath (Lily May Peel)</td>\n",
       "      <td>female</td>\n",
       "      <td>35.0</td>\n",
       "      <td>1</td>\n",
       "      <td>0</td>\n",
       "      <td>113803</td>\n",
       "      <td>53.1000</td>\n",
       "      <td>S</td>\n",
       "    </tr>\n",
       "    <tr>\n",
       "      <th>4</th>\n",
       "      <td>5</td>\n",
       "      <td>0</td>\n",
       "      <td>3</td>\n",
       "      <td>Allen, Mr. William Henry</td>\n",
       "      <td>male</td>\n",
       "      <td>35.0</td>\n",
       "      <td>0</td>\n",
       "      <td>0</td>\n",
       "      <td>373450</td>\n",
       "      <td>8.0500</td>\n",
       "      <td>S</td>\n",
       "    </tr>\n",
       "  </tbody>\n",
       "</table>\n",
       "</div>"
      ],
      "text/plain": [
       "   PassengerId  Survived  Pclass  \\\n",
       "0            1         0       3   \n",
       "1            2         1       1   \n",
       "2            3         1       3   \n",
       "3            4         1       1   \n",
       "4            5         0       3   \n",
       "\n",
       "                                                Name     Sex   Age  SibSp  \\\n",
       "0                            Braund, Mr. Owen Harris    male  22.0      1   \n",
       "1  Cumings, Mrs. John Bradley (Florence Briggs Th...  female  38.0      1   \n",
       "2                             Heikkinen, Miss. Laina  female  26.0      0   \n",
       "3       Futrelle, Mrs. Jacques Heath (Lily May Peel)  female  35.0      1   \n",
       "4                           Allen, Mr. William Henry    male  35.0      0   \n",
       "\n",
       "   Parch            Ticket     Fare Embarked  \n",
       "0      0         A/5 21171   7.2500        S  \n",
       "1      0          PC 17599  71.2833        C  \n",
       "2      0  STON/O2. 3101282   7.9250        S  \n",
       "3      0            113803  53.1000        S  \n",
       "4      0            373450   8.0500        S  "
      ]
     },
     "execution_count": 20,
     "metadata": {},
     "output_type": "execute_result"
    }
   ],
   "source": [
    "train_data.head() # Sex -> male, female not for calculation"
   ]
  },
  {
   "cell_type": "markdown",
   "id": "3e10eaca",
   "metadata": {
    "papermill": {
     "duration": 0.019674,
     "end_time": "2023-04-29T04:27:39.967847",
     "exception": false,
     "start_time": "2023-04-29T04:27:39.948173",
     "status": "completed"
    },
    "tags": []
   },
   "source": [
    "Gender dummies"
   ]
  },
  {
   "cell_type": "code",
   "execution_count": 21,
   "id": "72edeb4d",
   "metadata": {
    "execution": {
     "iopub.execute_input": "2023-04-29T04:27:40.010535Z",
     "iopub.status.busy": "2023-04-29T04:27:40.010087Z",
     "iopub.status.idle": "2023-04-29T04:27:40.026650Z",
     "shell.execute_reply": "2023-04-29T04:27:40.025599Z"
    },
    "papermill": {
     "duration": 0.041163,
     "end_time": "2023-04-29T04:27:40.029356",
     "exception": false,
     "start_time": "2023-04-29T04:27:39.988193",
     "status": "completed"
    },
    "tags": []
   },
   "outputs": [
    {
     "data": {
      "text/html": [
       "<div>\n",
       "<style scoped>\n",
       "    .dataframe tbody tr th:only-of-type {\n",
       "        vertical-align: middle;\n",
       "    }\n",
       "\n",
       "    .dataframe tbody tr th {\n",
       "        vertical-align: top;\n",
       "    }\n",
       "\n",
       "    .dataframe thead th {\n",
       "        text-align: right;\n",
       "    }\n",
       "</style>\n",
       "<table border=\"1\" class=\"dataframe\">\n",
       "  <thead>\n",
       "    <tr style=\"text-align: right;\">\n",
       "      <th></th>\n",
       "      <th>female</th>\n",
       "      <th>male</th>\n",
       "    </tr>\n",
       "  </thead>\n",
       "  <tbody>\n",
       "    <tr>\n",
       "      <th>0</th>\n",
       "      <td>0</td>\n",
       "      <td>1</td>\n",
       "    </tr>\n",
       "    <tr>\n",
       "      <th>1</th>\n",
       "      <td>1</td>\n",
       "      <td>0</td>\n",
       "    </tr>\n",
       "    <tr>\n",
       "      <th>2</th>\n",
       "      <td>1</td>\n",
       "      <td>0</td>\n",
       "    </tr>\n",
       "    <tr>\n",
       "      <th>3</th>\n",
       "      <td>1</td>\n",
       "      <td>0</td>\n",
       "    </tr>\n",
       "    <tr>\n",
       "      <th>4</th>\n",
       "      <td>0</td>\n",
       "      <td>1</td>\n",
       "    </tr>\n",
       "    <tr>\n",
       "      <th>...</th>\n",
       "      <td>...</td>\n",
       "      <td>...</td>\n",
       "    </tr>\n",
       "    <tr>\n",
       "      <th>886</th>\n",
       "      <td>0</td>\n",
       "      <td>1</td>\n",
       "    </tr>\n",
       "    <tr>\n",
       "      <th>887</th>\n",
       "      <td>1</td>\n",
       "      <td>0</td>\n",
       "    </tr>\n",
       "    <tr>\n",
       "      <th>888</th>\n",
       "      <td>1</td>\n",
       "      <td>0</td>\n",
       "    </tr>\n",
       "    <tr>\n",
       "      <th>889</th>\n",
       "      <td>0</td>\n",
       "      <td>1</td>\n",
       "    </tr>\n",
       "    <tr>\n",
       "      <th>890</th>\n",
       "      <td>0</td>\n",
       "      <td>1</td>\n",
       "    </tr>\n",
       "  </tbody>\n",
       "</table>\n",
       "<p>891 rows × 2 columns</p>\n",
       "</div>"
      ],
      "text/plain": [
       "     female  male\n",
       "0         0     1\n",
       "1         1     0\n",
       "2         1     0\n",
       "3         1     0\n",
       "4         0     1\n",
       "..      ...   ...\n",
       "886       0     1\n",
       "887       1     0\n",
       "888       1     0\n",
       "889       0     1\n",
       "890       0     1\n",
       "\n",
       "[891 rows x 2 columns]"
      ]
     },
     "execution_count": 21,
     "metadata": {},
     "output_type": "execute_result"
    }
   ],
   "source": [
    "pd.get_dummies(train_data['Sex'])"
   ]
  },
  {
   "cell_type": "markdown",
   "id": "475dab1c",
   "metadata": {
    "papermill": {
     "duration": 0.020343,
     "end_time": "2023-04-29T04:27:40.070525",
     "exception": false,
     "start_time": "2023-04-29T04:27:40.050182",
     "status": "completed"
    },
    "tags": []
   },
   "source": [
    "🎬 Finalize 'Sex' column"
   ]
  },
  {
   "cell_type": "code",
   "execution_count": 22,
   "id": "b343473e",
   "metadata": {
    "execution": {
     "iopub.execute_input": "2023-04-29T04:27:40.116208Z",
     "iopub.status.busy": "2023-04-29T04:27:40.115737Z",
     "iopub.status.idle": "2023-04-29T04:27:40.124159Z",
     "shell.execute_reply": "2023-04-29T04:27:40.122446Z"
    },
    "papermill": {
     "duration": 0.03398,
     "end_time": "2023-04-29T04:27:40.126663",
     "exception": false,
     "start_time": "2023-04-29T04:27:40.092683",
     "status": "completed"
    },
    "tags": []
   },
   "outputs": [],
   "source": [
    "sex = pd.get_dummies(train_data['Sex'],drop_first=True)"
   ]
  },
  {
   "cell_type": "markdown",
   "id": "e072be6d",
   "metadata": {
    "papermill": {
     "duration": 0.019059,
     "end_time": "2023-04-29T04:27:40.165156",
     "exception": false,
     "start_time": "2023-04-29T04:27:40.146097",
     "status": "completed"
    },
    "tags": []
   },
   "source": [
    "🎚️ Handle 'Embarked' column"
   ]
  },
  {
   "cell_type": "code",
   "execution_count": 23,
   "id": "423366f0",
   "metadata": {
    "execution": {
     "iopub.execute_input": "2023-04-29T04:27:40.206512Z",
     "iopub.status.busy": "2023-04-29T04:27:40.206046Z",
     "iopub.status.idle": "2023-04-29T04:27:40.213754Z",
     "shell.execute_reply": "2023-04-29T04:27:40.212368Z"
    },
    "papermill": {
     "duration": 0.031853,
     "end_time": "2023-04-29T04:27:40.216319",
     "exception": false,
     "start_time": "2023-04-29T04:27:40.184466",
     "status": "completed"
    },
    "tags": []
   },
   "outputs": [],
   "source": [
    "embark = pd.get_dummies(train_data['Embarked'],drop_first=True)"
   ]
  },
  {
   "cell_type": "markdown",
   "id": "2abc7680",
   "metadata": {
    "papermill": {
     "duration": 0.019022,
     "end_time": "2023-04-29T04:27:40.254538",
     "exception": false,
     "start_time": "2023-04-29T04:27:40.235516",
     "status": "completed"
    },
    "tags": []
   },
   "source": [
    "Manipulate dataframe to prepare final data."
   ]
  },
  {
   "cell_type": "code",
   "execution_count": 24,
   "id": "7b9f3435",
   "metadata": {
    "execution": {
     "iopub.execute_input": "2023-04-29T04:27:40.296644Z",
     "iopub.status.busy": "2023-04-29T04:27:40.296165Z",
     "iopub.status.idle": "2023-04-29T04:27:40.305166Z",
     "shell.execute_reply": "2023-04-29T04:27:40.303717Z"
    },
    "papermill": {
     "duration": 0.033445,
     "end_time": "2023-04-29T04:27:40.307666",
     "exception": false,
     "start_time": "2023-04-29T04:27:40.274221",
     "status": "completed"
    },
    "tags": []
   },
   "outputs": [],
   "source": [
    "train_data = pd.concat([train_data,sex,embark],axis=1)"
   ]
  },
  {
   "cell_type": "markdown",
   "id": "effac485",
   "metadata": {
    "papermill": {
     "duration": 0.019181,
     "end_time": "2023-04-29T04:27:40.346884",
     "exception": false,
     "start_time": "2023-04-29T04:27:40.327703",
     "status": "completed"
    },
    "tags": []
   },
   "source": [
    "🔦 Display dataframe again."
   ]
  },
  {
   "cell_type": "code",
   "execution_count": 25,
   "id": "62b943ff",
   "metadata": {
    "execution": {
     "iopub.execute_input": "2023-04-29T04:27:40.387979Z",
     "iopub.status.busy": "2023-04-29T04:27:40.387497Z",
     "iopub.status.idle": "2023-04-29T04:27:40.407560Z",
     "shell.execute_reply": "2023-04-29T04:27:40.406311Z"
    },
    "papermill": {
     "duration": 0.043626,
     "end_time": "2023-04-29T04:27:40.409896",
     "exception": false,
     "start_time": "2023-04-29T04:27:40.366270",
     "status": "completed"
    },
    "tags": []
   },
   "outputs": [
    {
     "data": {
      "text/html": [
       "<div>\n",
       "<style scoped>\n",
       "    .dataframe tbody tr th:only-of-type {\n",
       "        vertical-align: middle;\n",
       "    }\n",
       "\n",
       "    .dataframe tbody tr th {\n",
       "        vertical-align: top;\n",
       "    }\n",
       "\n",
       "    .dataframe thead th {\n",
       "        text-align: right;\n",
       "    }\n",
       "</style>\n",
       "<table border=\"1\" class=\"dataframe\">\n",
       "  <thead>\n",
       "    <tr style=\"text-align: right;\">\n",
       "      <th></th>\n",
       "      <th>PassengerId</th>\n",
       "      <th>Survived</th>\n",
       "      <th>Pclass</th>\n",
       "      <th>Name</th>\n",
       "      <th>Sex</th>\n",
       "      <th>Age</th>\n",
       "      <th>SibSp</th>\n",
       "      <th>Parch</th>\n",
       "      <th>Ticket</th>\n",
       "      <th>Fare</th>\n",
       "      <th>Embarked</th>\n",
       "      <th>male</th>\n",
       "      <th>Q</th>\n",
       "      <th>S</th>\n",
       "    </tr>\n",
       "  </thead>\n",
       "  <tbody>\n",
       "    <tr>\n",
       "      <th>0</th>\n",
       "      <td>1</td>\n",
       "      <td>0</td>\n",
       "      <td>3</td>\n",
       "      <td>Braund, Mr. Owen Harris</td>\n",
       "      <td>male</td>\n",
       "      <td>22.0</td>\n",
       "      <td>1</td>\n",
       "      <td>0</td>\n",
       "      <td>A/5 21171</td>\n",
       "      <td>7.2500</td>\n",
       "      <td>S</td>\n",
       "      <td>1</td>\n",
       "      <td>0</td>\n",
       "      <td>1</td>\n",
       "    </tr>\n",
       "    <tr>\n",
       "      <th>1</th>\n",
       "      <td>2</td>\n",
       "      <td>1</td>\n",
       "      <td>1</td>\n",
       "      <td>Cumings, Mrs. John Bradley (Florence Briggs Th...</td>\n",
       "      <td>female</td>\n",
       "      <td>38.0</td>\n",
       "      <td>1</td>\n",
       "      <td>0</td>\n",
       "      <td>PC 17599</td>\n",
       "      <td>71.2833</td>\n",
       "      <td>C</td>\n",
       "      <td>0</td>\n",
       "      <td>0</td>\n",
       "      <td>0</td>\n",
       "    </tr>\n",
       "    <tr>\n",
       "      <th>2</th>\n",
       "      <td>3</td>\n",
       "      <td>1</td>\n",
       "      <td>3</td>\n",
       "      <td>Heikkinen, Miss. Laina</td>\n",
       "      <td>female</td>\n",
       "      <td>26.0</td>\n",
       "      <td>0</td>\n",
       "      <td>0</td>\n",
       "      <td>STON/O2. 3101282</td>\n",
       "      <td>7.9250</td>\n",
       "      <td>S</td>\n",
       "      <td>0</td>\n",
       "      <td>0</td>\n",
       "      <td>1</td>\n",
       "    </tr>\n",
       "    <tr>\n",
       "      <th>3</th>\n",
       "      <td>4</td>\n",
       "      <td>1</td>\n",
       "      <td>1</td>\n",
       "      <td>Futrelle, Mrs. Jacques Heath (Lily May Peel)</td>\n",
       "      <td>female</td>\n",
       "      <td>35.0</td>\n",
       "      <td>1</td>\n",
       "      <td>0</td>\n",
       "      <td>113803</td>\n",
       "      <td>53.1000</td>\n",
       "      <td>S</td>\n",
       "      <td>0</td>\n",
       "      <td>0</td>\n",
       "      <td>1</td>\n",
       "    </tr>\n",
       "    <tr>\n",
       "      <th>4</th>\n",
       "      <td>5</td>\n",
       "      <td>0</td>\n",
       "      <td>3</td>\n",
       "      <td>Allen, Mr. William Henry</td>\n",
       "      <td>male</td>\n",
       "      <td>35.0</td>\n",
       "      <td>0</td>\n",
       "      <td>0</td>\n",
       "      <td>373450</td>\n",
       "      <td>8.0500</td>\n",
       "      <td>S</td>\n",
       "      <td>1</td>\n",
       "      <td>0</td>\n",
       "      <td>1</td>\n",
       "    </tr>\n",
       "  </tbody>\n",
       "</table>\n",
       "</div>"
      ],
      "text/plain": [
       "   PassengerId  Survived  Pclass  \\\n",
       "0            1         0       3   \n",
       "1            2         1       1   \n",
       "2            3         1       3   \n",
       "3            4         1       1   \n",
       "4            5         0       3   \n",
       "\n",
       "                                                Name     Sex   Age  SibSp  \\\n",
       "0                            Braund, Mr. Owen Harris    male  22.0      1   \n",
       "1  Cumings, Mrs. John Bradley (Florence Briggs Th...  female  38.0      1   \n",
       "2                             Heikkinen, Miss. Laina  female  26.0      0   \n",
       "3       Futrelle, Mrs. Jacques Heath (Lily May Peel)  female  35.0      1   \n",
       "4                           Allen, Mr. William Henry    male  35.0      0   \n",
       "\n",
       "   Parch            Ticket     Fare Embarked  male  Q  S  \n",
       "0      0         A/5 21171   7.2500        S     1  0  1  \n",
       "1      0          PC 17599  71.2833        C     0  0  0  \n",
       "2      0  STON/O2. 3101282   7.9250        S     0  0  1  \n",
       "3      0            113803  53.1000        S     0  0  1  \n",
       "4      0            373450   8.0500        S     1  0  1  "
      ]
     },
     "execution_count": 25,
     "metadata": {},
     "output_type": "execute_result"
    }
   ],
   "source": [
    "train_data.head()"
   ]
  },
  {
   "cell_type": "markdown",
   "id": "59373c92",
   "metadata": {
    "papermill": {
     "duration": 0.019495,
     "end_time": "2023-04-29T04:27:40.449215",
     "exception": false,
     "start_time": "2023-04-29T04:27:40.429720",
     "status": "completed"
    },
    "tags": []
   },
   "source": [
    "🗑️ Drop column, prepare data for algorithm to calculate."
   ]
  },
  {
   "cell_type": "code",
   "execution_count": 26,
   "id": "b39eea98",
   "metadata": {
    "execution": {
     "iopub.execute_input": "2023-04-29T04:27:40.491641Z",
     "iopub.status.busy": "2023-04-29T04:27:40.491164Z",
     "iopub.status.idle": "2023-04-29T04:27:40.500714Z",
     "shell.execute_reply": "2023-04-29T04:27:40.499141Z"
    },
    "papermill": {
     "duration": 0.034407,
     "end_time": "2023-04-29T04:27:40.503366",
     "exception": false,
     "start_time": "2023-04-29T04:27:40.468959",
     "status": "completed"
    },
    "tags": []
   },
   "outputs": [],
   "source": [
    "train_data.drop(['Sex','Embarked', 'Name', 'Ticket'],axis=1,inplace=True)"
   ]
  },
  {
   "cell_type": "code",
   "execution_count": 27,
   "id": "9d64b5ac",
   "metadata": {
    "execution": {
     "iopub.execute_input": "2023-04-29T04:27:40.545209Z",
     "iopub.status.busy": "2023-04-29T04:27:40.544672Z",
     "iopub.status.idle": "2023-04-29T04:27:40.561305Z",
     "shell.execute_reply": "2023-04-29T04:27:40.560032Z"
    },
    "papermill": {
     "duration": 0.041124,
     "end_time": "2023-04-29T04:27:40.564199",
     "exception": false,
     "start_time": "2023-04-29T04:27:40.523075",
     "status": "completed"
    },
    "tags": []
   },
   "outputs": [
    {
     "data": {
      "text/html": [
       "<div>\n",
       "<style scoped>\n",
       "    .dataframe tbody tr th:only-of-type {\n",
       "        vertical-align: middle;\n",
       "    }\n",
       "\n",
       "    .dataframe tbody tr th {\n",
       "        vertical-align: top;\n",
       "    }\n",
       "\n",
       "    .dataframe thead th {\n",
       "        text-align: right;\n",
       "    }\n",
       "</style>\n",
       "<table border=\"1\" class=\"dataframe\">\n",
       "  <thead>\n",
       "    <tr style=\"text-align: right;\">\n",
       "      <th></th>\n",
       "      <th>PassengerId</th>\n",
       "      <th>Survived</th>\n",
       "      <th>Pclass</th>\n",
       "      <th>Age</th>\n",
       "      <th>SibSp</th>\n",
       "      <th>Parch</th>\n",
       "      <th>Fare</th>\n",
       "      <th>male</th>\n",
       "      <th>Q</th>\n",
       "      <th>S</th>\n",
       "    </tr>\n",
       "  </thead>\n",
       "  <tbody>\n",
       "    <tr>\n",
       "      <th>0</th>\n",
       "      <td>1</td>\n",
       "      <td>0</td>\n",
       "      <td>3</td>\n",
       "      <td>22.0</td>\n",
       "      <td>1</td>\n",
       "      <td>0</td>\n",
       "      <td>7.2500</td>\n",
       "      <td>1</td>\n",
       "      <td>0</td>\n",
       "      <td>1</td>\n",
       "    </tr>\n",
       "    <tr>\n",
       "      <th>1</th>\n",
       "      <td>2</td>\n",
       "      <td>1</td>\n",
       "      <td>1</td>\n",
       "      <td>38.0</td>\n",
       "      <td>1</td>\n",
       "      <td>0</td>\n",
       "      <td>71.2833</td>\n",
       "      <td>0</td>\n",
       "      <td>0</td>\n",
       "      <td>0</td>\n",
       "    </tr>\n",
       "    <tr>\n",
       "      <th>2</th>\n",
       "      <td>3</td>\n",
       "      <td>1</td>\n",
       "      <td>3</td>\n",
       "      <td>26.0</td>\n",
       "      <td>0</td>\n",
       "      <td>0</td>\n",
       "      <td>7.9250</td>\n",
       "      <td>0</td>\n",
       "      <td>0</td>\n",
       "      <td>1</td>\n",
       "    </tr>\n",
       "    <tr>\n",
       "      <th>3</th>\n",
       "      <td>4</td>\n",
       "      <td>1</td>\n",
       "      <td>1</td>\n",
       "      <td>35.0</td>\n",
       "      <td>1</td>\n",
       "      <td>0</td>\n",
       "      <td>53.1000</td>\n",
       "      <td>0</td>\n",
       "      <td>0</td>\n",
       "      <td>1</td>\n",
       "    </tr>\n",
       "    <tr>\n",
       "      <th>4</th>\n",
       "      <td>5</td>\n",
       "      <td>0</td>\n",
       "      <td>3</td>\n",
       "      <td>35.0</td>\n",
       "      <td>0</td>\n",
       "      <td>0</td>\n",
       "      <td>8.0500</td>\n",
       "      <td>1</td>\n",
       "      <td>0</td>\n",
       "      <td>1</td>\n",
       "    </tr>\n",
       "  </tbody>\n",
       "</table>\n",
       "</div>"
      ],
      "text/plain": [
       "   PassengerId  Survived  Pclass   Age  SibSp  Parch     Fare  male  Q  S\n",
       "0            1         0       3  22.0      1      0   7.2500     1  0  1\n",
       "1            2         1       1  38.0      1      0  71.2833     0  0  0\n",
       "2            3         1       3  26.0      0      0   7.9250     0  0  1\n",
       "3            4         1       1  35.0      1      0  53.1000     0  0  1\n",
       "4            5         0       3  35.0      0      0   8.0500     1  0  1"
      ]
     },
     "execution_count": 27,
     "metadata": {},
     "output_type": "execute_result"
    }
   ],
   "source": [
    "train_data.head()"
   ]
  },
  {
   "cell_type": "markdown",
   "id": "4aac997d",
   "metadata": {
    "papermill": {
     "duration": 0.0199,
     "end_time": "2023-04-29T04:27:40.603991",
     "exception": false,
     "start_time": "2023-04-29T04:27:40.584091",
     "status": "completed"
    },
    "tags": []
   },
   "source": [
    "⚒️ Check data and finalize it (PassengerID)."
   ]
  },
  {
   "cell_type": "code",
   "execution_count": 28,
   "id": "6bce81c1",
   "metadata": {
    "execution": {
     "iopub.execute_input": "2023-04-29T04:27:40.647538Z",
     "iopub.status.busy": "2023-04-29T04:27:40.647104Z",
     "iopub.status.idle": "2023-04-29T04:27:40.663869Z",
     "shell.execute_reply": "2023-04-29T04:27:40.662549Z"
    },
    "papermill": {
     "duration": 0.041902,
     "end_time": "2023-04-29T04:27:40.666183",
     "exception": false,
     "start_time": "2023-04-29T04:27:40.624281",
     "status": "completed"
    },
    "tags": []
   },
   "outputs": [
    {
     "data": {
      "text/html": [
       "<div>\n",
       "<style scoped>\n",
       "    .dataframe tbody tr th:only-of-type {\n",
       "        vertical-align: middle;\n",
       "    }\n",
       "\n",
       "    .dataframe tbody tr th {\n",
       "        vertical-align: top;\n",
       "    }\n",
       "\n",
       "    .dataframe thead th {\n",
       "        text-align: right;\n",
       "    }\n",
       "</style>\n",
       "<table border=\"1\" class=\"dataframe\">\n",
       "  <thead>\n",
       "    <tr style=\"text-align: right;\">\n",
       "      <th></th>\n",
       "      <th>PassengerId</th>\n",
       "      <th>Survived</th>\n",
       "      <th>Pclass</th>\n",
       "      <th>Age</th>\n",
       "      <th>SibSp</th>\n",
       "      <th>Parch</th>\n",
       "      <th>Fare</th>\n",
       "      <th>male</th>\n",
       "      <th>Q</th>\n",
       "      <th>S</th>\n",
       "    </tr>\n",
       "  </thead>\n",
       "  <tbody>\n",
       "    <tr>\n",
       "      <th>886</th>\n",
       "      <td>887</td>\n",
       "      <td>0</td>\n",
       "      <td>2</td>\n",
       "      <td>27.0</td>\n",
       "      <td>0</td>\n",
       "      <td>0</td>\n",
       "      <td>13.00</td>\n",
       "      <td>1</td>\n",
       "      <td>0</td>\n",
       "      <td>1</td>\n",
       "    </tr>\n",
       "    <tr>\n",
       "      <th>887</th>\n",
       "      <td>888</td>\n",
       "      <td>1</td>\n",
       "      <td>1</td>\n",
       "      <td>19.0</td>\n",
       "      <td>0</td>\n",
       "      <td>0</td>\n",
       "      <td>30.00</td>\n",
       "      <td>0</td>\n",
       "      <td>0</td>\n",
       "      <td>1</td>\n",
       "    </tr>\n",
       "    <tr>\n",
       "      <th>888</th>\n",
       "      <td>889</td>\n",
       "      <td>0</td>\n",
       "      <td>3</td>\n",
       "      <td>24.0</td>\n",
       "      <td>1</td>\n",
       "      <td>2</td>\n",
       "      <td>23.45</td>\n",
       "      <td>0</td>\n",
       "      <td>0</td>\n",
       "      <td>1</td>\n",
       "    </tr>\n",
       "    <tr>\n",
       "      <th>889</th>\n",
       "      <td>890</td>\n",
       "      <td>1</td>\n",
       "      <td>1</td>\n",
       "      <td>26.0</td>\n",
       "      <td>0</td>\n",
       "      <td>0</td>\n",
       "      <td>30.00</td>\n",
       "      <td>1</td>\n",
       "      <td>0</td>\n",
       "      <td>0</td>\n",
       "    </tr>\n",
       "    <tr>\n",
       "      <th>890</th>\n",
       "      <td>891</td>\n",
       "      <td>0</td>\n",
       "      <td>3</td>\n",
       "      <td>32.0</td>\n",
       "      <td>0</td>\n",
       "      <td>0</td>\n",
       "      <td>7.75</td>\n",
       "      <td>1</td>\n",
       "      <td>1</td>\n",
       "      <td>0</td>\n",
       "    </tr>\n",
       "  </tbody>\n",
       "</table>\n",
       "</div>"
      ],
      "text/plain": [
       "     PassengerId  Survived  Pclass   Age  SibSp  Parch   Fare  male  Q  S\n",
       "886          887         0       2  27.0      0      0  13.00     1  0  1\n",
       "887          888         1       1  19.0      0      0  30.00     0  0  1\n",
       "888          889         0       3  24.0      1      2  23.45     0  0  1\n",
       "889          890         1       1  26.0      0      0  30.00     1  0  0\n",
       "890          891         0       3  32.0      0      0   7.75     1  1  0"
      ]
     },
     "execution_count": 28,
     "metadata": {},
     "output_type": "execute_result"
    }
   ],
   "source": [
    "train_data.tail()"
   ]
  },
  {
   "cell_type": "code",
   "execution_count": 29,
   "id": "53d6e47a",
   "metadata": {
    "execution": {
     "iopub.execute_input": "2023-04-29T04:27:40.708303Z",
     "iopub.status.busy": "2023-04-29T04:27:40.707885Z",
     "iopub.status.idle": "2023-04-29T04:27:40.714142Z",
     "shell.execute_reply": "2023-04-29T04:27:40.712935Z"
    },
    "papermill": {
     "duration": 0.030256,
     "end_time": "2023-04-29T04:27:40.716574",
     "exception": false,
     "start_time": "2023-04-29T04:27:40.686318",
     "status": "completed"
    },
    "tags": []
   },
   "outputs": [],
   "source": [
    "train_data.drop('PassengerId',axis=1,inplace=True)"
   ]
  },
  {
   "cell_type": "code",
   "execution_count": 30,
   "id": "28a358a9",
   "metadata": {
    "execution": {
     "iopub.execute_input": "2023-04-29T04:27:40.761965Z",
     "iopub.status.busy": "2023-04-29T04:27:40.761539Z",
     "iopub.status.idle": "2023-04-29T04:27:40.776242Z",
     "shell.execute_reply": "2023-04-29T04:27:40.775050Z"
    },
    "papermill": {
     "duration": 0.041147,
     "end_time": "2023-04-29T04:27:40.778979",
     "exception": false,
     "start_time": "2023-04-29T04:27:40.737832",
     "status": "completed"
    },
    "tags": []
   },
   "outputs": [
    {
     "data": {
      "text/html": [
       "<div>\n",
       "<style scoped>\n",
       "    .dataframe tbody tr th:only-of-type {\n",
       "        vertical-align: middle;\n",
       "    }\n",
       "\n",
       "    .dataframe tbody tr th {\n",
       "        vertical-align: top;\n",
       "    }\n",
       "\n",
       "    .dataframe thead th {\n",
       "        text-align: right;\n",
       "    }\n",
       "</style>\n",
       "<table border=\"1\" class=\"dataframe\">\n",
       "  <thead>\n",
       "    <tr style=\"text-align: right;\">\n",
       "      <th></th>\n",
       "      <th>Survived</th>\n",
       "      <th>Pclass</th>\n",
       "      <th>Age</th>\n",
       "      <th>SibSp</th>\n",
       "      <th>Parch</th>\n",
       "      <th>Fare</th>\n",
       "      <th>male</th>\n",
       "      <th>Q</th>\n",
       "      <th>S</th>\n",
       "    </tr>\n",
       "  </thead>\n",
       "  <tbody>\n",
       "    <tr>\n",
       "      <th>0</th>\n",
       "      <td>0</td>\n",
       "      <td>3</td>\n",
       "      <td>22.0</td>\n",
       "      <td>1</td>\n",
       "      <td>0</td>\n",
       "      <td>7.2500</td>\n",
       "      <td>1</td>\n",
       "      <td>0</td>\n",
       "      <td>1</td>\n",
       "    </tr>\n",
       "    <tr>\n",
       "      <th>1</th>\n",
       "      <td>1</td>\n",
       "      <td>1</td>\n",
       "      <td>38.0</td>\n",
       "      <td>1</td>\n",
       "      <td>0</td>\n",
       "      <td>71.2833</td>\n",
       "      <td>0</td>\n",
       "      <td>0</td>\n",
       "      <td>0</td>\n",
       "    </tr>\n",
       "    <tr>\n",
       "      <th>2</th>\n",
       "      <td>1</td>\n",
       "      <td>3</td>\n",
       "      <td>26.0</td>\n",
       "      <td>0</td>\n",
       "      <td>0</td>\n",
       "      <td>7.9250</td>\n",
       "      <td>0</td>\n",
       "      <td>0</td>\n",
       "      <td>1</td>\n",
       "    </tr>\n",
       "    <tr>\n",
       "      <th>3</th>\n",
       "      <td>1</td>\n",
       "      <td>1</td>\n",
       "      <td>35.0</td>\n",
       "      <td>1</td>\n",
       "      <td>0</td>\n",
       "      <td>53.1000</td>\n",
       "      <td>0</td>\n",
       "      <td>0</td>\n",
       "      <td>1</td>\n",
       "    </tr>\n",
       "    <tr>\n",
       "      <th>4</th>\n",
       "      <td>0</td>\n",
       "      <td>3</td>\n",
       "      <td>35.0</td>\n",
       "      <td>0</td>\n",
       "      <td>0</td>\n",
       "      <td>8.0500</td>\n",
       "      <td>1</td>\n",
       "      <td>0</td>\n",
       "      <td>1</td>\n",
       "    </tr>\n",
       "  </tbody>\n",
       "</table>\n",
       "</div>"
      ],
      "text/plain": [
       "   Survived  Pclass   Age  SibSp  Parch     Fare  male  Q  S\n",
       "0         0       3  22.0      1      0   7.2500     1  0  1\n",
       "1         1       1  38.0      1      0  71.2833     0  0  0\n",
       "2         1       3  26.0      0      0   7.9250     0  0  1\n",
       "3         1       1  35.0      1      0  53.1000     0  0  1\n",
       "4         0       3  35.0      0      0   8.0500     1  0  1"
      ]
     },
     "execution_count": 30,
     "metadata": {},
     "output_type": "execute_result"
    }
   ],
   "source": [
    "train_data.head()"
   ]
  },
  {
   "cell_type": "markdown",
   "id": "2a7ec2c9",
   "metadata": {
    "papermill": {
     "duration": 0.02134,
     "end_time": "2023-04-29T04:27:40.823039",
     "exception": false,
     "start_time": "2023-04-29T04:27:40.801699",
     "status": "completed"
    },
    "tags": []
   },
   "source": [
    "## Training and Testing Data\n",
    "Split the data into training and testing sets."
   ]
  },
  {
   "cell_type": "code",
   "execution_count": 31,
   "id": "f5c893bd",
   "metadata": {
    "execution": {
     "iopub.execute_input": "2023-04-29T04:27:40.869727Z",
     "iopub.status.busy": "2023-04-29T04:27:40.869308Z",
     "iopub.status.idle": "2023-04-29T04:27:40.875883Z",
     "shell.execute_reply": "2023-04-29T04:27:40.874725Z"
    },
    "papermill": {
     "duration": 0.033071,
     "end_time": "2023-04-29T04:27:40.878315",
     "exception": false,
     "start_time": "2023-04-29T04:27:40.845244",
     "status": "completed"
    },
    "tags": []
   },
   "outputs": [],
   "source": [
    "X = train_data.drop('Survived', axis=1)\n",
    "y = train_data['Survived']"
   ]
  },
  {
   "cell_type": "code",
   "execution_count": 32,
   "id": "94402489",
   "metadata": {
    "execution": {
     "iopub.execute_input": "2023-04-29T04:27:40.924206Z",
     "iopub.status.busy": "2023-04-29T04:27:40.922989Z",
     "iopub.status.idle": "2023-04-29T04:27:41.391893Z",
     "shell.execute_reply": "2023-04-29T04:27:41.390581Z"
    },
    "papermill": {
     "duration": 0.495016,
     "end_time": "2023-04-29T04:27:41.394990",
     "exception": false,
     "start_time": "2023-04-29T04:27:40.899974",
     "status": "completed"
    },
    "tags": []
   },
   "outputs": [],
   "source": [
    "from sklearn.model_selection import train_test_split"
   ]
  },
  {
   "cell_type": "code",
   "execution_count": 33,
   "id": "e4c405e7",
   "metadata": {
    "execution": {
     "iopub.execute_input": "2023-04-29T04:27:41.439697Z",
     "iopub.status.busy": "2023-04-29T04:27:41.438266Z",
     "iopub.status.idle": "2023-04-29T04:27:41.448547Z",
     "shell.execute_reply": "2023-04-29T04:27:41.447522Z"
    },
    "papermill": {
     "duration": 0.034971,
     "end_time": "2023-04-29T04:27:41.450944",
     "exception": false,
     "start_time": "2023-04-29T04:27:41.415973",
     "status": "completed"
    },
    "tags": []
   },
   "outputs": [],
   "source": [
    "X_train,X_test,y_train,y_test = train_test_split(X,y,test_size=0.3, random_state=42)"
   ]
  },
  {
   "cell_type": "markdown",
   "id": "d24f9ef2",
   "metadata": {
    "papermill": {
     "duration": 0.020195,
     "end_time": "2023-04-29T04:27:41.494417",
     "exception": false,
     "start_time": "2023-04-29T04:27:41.474222",
     "status": "completed"
    },
    "tags": []
   },
   "source": [
    "## Train the Model\n",
    "Train our model on our training data."
   ]
  },
  {
   "cell_type": "code",
   "execution_count": 34,
   "id": "e6ac143a",
   "metadata": {
    "execution": {
     "iopub.execute_input": "2023-04-29T04:27:41.543486Z",
     "iopub.status.busy": "2023-04-29T04:27:41.542531Z",
     "iopub.status.idle": "2023-04-29T04:27:41.642296Z",
     "shell.execute_reply": "2023-04-29T04:27:41.640835Z"
    },
    "papermill": {
     "duration": 0.125188,
     "end_time": "2023-04-29T04:27:41.645211",
     "exception": false,
     "start_time": "2023-04-29T04:27:41.520023",
     "status": "completed"
    },
    "tags": []
   },
   "outputs": [],
   "source": [
    "from sklearn.linear_model import LogisticRegression"
   ]
  },
  {
   "cell_type": "markdown",
   "id": "b9a26082",
   "metadata": {
    "papermill": {
     "duration": 0.021128,
     "end_time": "2023-04-29T04:27:41.687965",
     "exception": false,
     "start_time": "2023-04-29T04:27:41.666837",
     "status": "completed"
    },
    "tags": []
   },
   "source": [
    "⚙️ Add Solver and max_iter=1000 to solve limit problem."
   ]
  },
  {
   "cell_type": "code",
   "execution_count": 35,
   "id": "f70d17b1",
   "metadata": {
    "execution": {
     "iopub.execute_input": "2023-04-29T04:27:41.731573Z",
     "iopub.status.busy": "2023-04-29T04:27:41.730288Z",
     "iopub.status.idle": "2023-04-29T04:27:41.737028Z",
     "shell.execute_reply": "2023-04-29T04:27:41.735426Z"
    },
    "papermill": {
     "duration": 0.031649,
     "end_time": "2023-04-29T04:27:41.739993",
     "exception": false,
     "start_time": "2023-04-29T04:27:41.708344",
     "status": "completed"
    },
    "tags": []
   },
   "outputs": [],
   "source": [
    "logmodel = LogisticRegression(solver='lbfgs',max_iter=1000)"
   ]
  },
  {
   "cell_type": "code",
   "execution_count": 36,
   "id": "eea1ad71",
   "metadata": {
    "execution": {
     "iopub.execute_input": "2023-04-29T04:27:41.783872Z",
     "iopub.status.busy": "2023-04-29T04:27:41.782484Z",
     "iopub.status.idle": "2023-04-29T04:27:41.849319Z",
     "shell.execute_reply": "2023-04-29T04:27:41.848071Z"
    },
    "papermill": {
     "duration": 0.091918,
     "end_time": "2023-04-29T04:27:41.852474",
     "exception": false,
     "start_time": "2023-04-29T04:27:41.760556",
     "status": "completed"
    },
    "tags": []
   },
   "outputs": [
    {
     "data": {
      "text/plain": [
       "LogisticRegression(max_iter=1000)"
      ]
     },
     "execution_count": 36,
     "metadata": {},
     "output_type": "execute_result"
    }
   ],
   "source": [
    "logmodel.fit(X_train,y_train)"
   ]
  },
  {
   "cell_type": "markdown",
   "id": "04f92bc7",
   "metadata": {
    "papermill": {
     "duration": 0.019956,
     "end_time": "2023-04-29T04:27:41.893032",
     "exception": false,
     "start_time": "2023-04-29T04:27:41.873076",
     "status": "completed"
    },
    "tags": []
   },
   "source": [
    "## Predicting Test Data\n",
    "🎉 Let's evaluate its performance by predicting off the test values!"
   ]
  },
  {
   "cell_type": "code",
   "execution_count": 37,
   "id": "209e77cb",
   "metadata": {
    "execution": {
     "iopub.execute_input": "2023-04-29T04:27:41.935992Z",
     "iopub.status.busy": "2023-04-29T04:27:41.935112Z",
     "iopub.status.idle": "2023-04-29T04:27:41.942999Z",
     "shell.execute_reply": "2023-04-29T04:27:41.942040Z"
    },
    "papermill": {
     "duration": 0.031806,
     "end_time": "2023-04-29T04:27:41.945248",
     "exception": false,
     "start_time": "2023-04-29T04:27:41.913442",
     "status": "completed"
    },
    "tags": []
   },
   "outputs": [],
   "source": [
    "predictions = logmodel.predict(X_test)"
   ]
  },
  {
   "cell_type": "code",
   "execution_count": 38,
   "id": "17b3a6a9",
   "metadata": {
    "execution": {
     "iopub.execute_input": "2023-04-29T04:27:41.989694Z",
     "iopub.status.busy": "2023-04-29T04:27:41.988243Z",
     "iopub.status.idle": "2023-04-29T04:27:41.994451Z",
     "shell.execute_reply": "2023-04-29T04:27:41.993350Z"
    },
    "papermill": {
     "duration": 0.030973,
     "end_time": "2023-04-29T04:27:41.996896",
     "exception": false,
     "start_time": "2023-04-29T04:27:41.965923",
     "status": "completed"
    },
    "tags": []
   },
   "outputs": [],
   "source": [
    "from sklearn.metrics import classification_report"
   ]
  },
  {
   "cell_type": "markdown",
   "id": "54f5de6e",
   "metadata": {
    "papermill": {
     "duration": 0.020641,
     "end_time": "2023-04-29T04:27:42.038139",
     "exception": false,
     "start_time": "2023-04-29T04:27:42.017498",
     "status": "completed"
    },
    "tags": []
   },
   "source": [
    "## Print test data report"
   ]
  },
  {
   "cell_type": "code",
   "execution_count": 39,
   "id": "e43b509b",
   "metadata": {
    "execution": {
     "iopub.execute_input": "2023-04-29T04:27:42.081313Z",
     "iopub.status.busy": "2023-04-29T04:27:42.080836Z",
     "iopub.status.idle": "2023-04-29T04:27:42.093457Z",
     "shell.execute_reply": "2023-04-29T04:27:42.092087Z"
    },
    "papermill": {
     "duration": 0.037217,
     "end_time": "2023-04-29T04:27:42.095826",
     "exception": false,
     "start_time": "2023-04-29T04:27:42.058609",
     "status": "completed"
    },
    "tags": []
   },
   "outputs": [
    {
     "name": "stdout",
     "output_type": "stream",
     "text": [
      "              precision    recall  f1-score   support\n",
      "\n",
      "           0       0.82      0.87      0.85       157\n",
      "           1       0.80      0.73      0.76       111\n",
      "\n",
      "    accuracy                           0.81       268\n",
      "   macro avg       0.81      0.80      0.80       268\n",
      "weighted avg       0.81      0.81      0.81       268\n",
      "\n"
     ]
    }
   ],
   "source": [
    "print(classification_report(y_test,predictions))"
   ]
  },
  {
   "cell_type": "markdown",
   "id": "f5bb1451",
   "metadata": {
    "papermill": {
     "duration": 0.020594,
     "end_time": "2023-04-29T04:27:42.137115",
     "exception": false,
     "start_time": "2023-04-29T04:27:42.116521",
     "status": "completed"
    },
    "tags": []
   },
   "source": [
    "💎 Calculate a very specific value, using Confusion Matrix."
   ]
  },
  {
   "cell_type": "code",
   "execution_count": 40,
   "id": "d8a4cd6f",
   "metadata": {
    "execution": {
     "iopub.execute_input": "2023-04-29T04:27:42.182213Z",
     "iopub.status.busy": "2023-04-29T04:27:42.181263Z",
     "iopub.status.idle": "2023-04-29T04:27:42.186474Z",
     "shell.execute_reply": "2023-04-29T04:27:42.185440Z"
    },
    "papermill": {
     "duration": 0.030692,
     "end_time": "2023-04-29T04:27:42.188937",
     "exception": false,
     "start_time": "2023-04-29T04:27:42.158245",
     "status": "completed"
    },
    "tags": []
   },
   "outputs": [],
   "source": [
    "from sklearn.metrics import confusion_matrix"
   ]
  },
  {
   "cell_type": "code",
   "execution_count": 41,
   "id": "2def1783",
   "metadata": {
    "execution": {
     "iopub.execute_input": "2023-04-29T04:27:42.234322Z",
     "iopub.status.busy": "2023-04-29T04:27:42.233413Z",
     "iopub.status.idle": "2023-04-29T04:27:42.246970Z",
     "shell.execute_reply": "2023-04-29T04:27:42.245480Z"
    },
    "papermill": {
     "duration": 0.039819,
     "end_time": "2023-04-29T04:27:42.250053",
     "exception": false,
     "start_time": "2023-04-29T04:27:42.210234",
     "status": "completed"
    },
    "tags": []
   },
   "outputs": [
    {
     "data": {
      "text/plain": [
       "array([[137,  20],\n",
       "       [ 30,  81]])"
      ]
     },
     "execution_count": 41,
     "metadata": {},
     "output_type": "execute_result"
    }
   ],
   "source": [
    "confusion_matrix(y_test,predictions)"
   ]
  }
 ],
 "metadata": {
  "kernelspec": {
   "display_name": "Python 3",
   "language": "python",
   "name": "python3"
  },
  "language_info": {
   "codemirror_mode": {
    "name": "ipython",
    "version": 3
   },
   "file_extension": ".py",
   "mimetype": "text/x-python",
   "name": "python",
   "nbconvert_exporter": "python",
   "pygments_lexer": "ipython3",
   "version": "3.7.12"
  },
  "papermill": {
   "default_parameters": {},
   "duration": 19.404808,
   "end_time": "2023-04-29T04:27:43.297752",
   "environment_variables": {},
   "exception": null,
   "input_path": "__notebook__.ipynb",
   "output_path": "__notebook__.ipynb",
   "parameters": {},
   "start_time": "2023-04-29T04:27:23.892944",
   "version": "2.4.0"
  }
 },
 "nbformat": 4,
 "nbformat_minor": 5
}
