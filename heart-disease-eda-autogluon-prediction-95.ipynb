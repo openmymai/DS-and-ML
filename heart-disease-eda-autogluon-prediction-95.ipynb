{
 "cells": [
  {
   "cell_type": "code",
   "execution_count": 1,
   "id": "74c21658",
   "metadata": {
    "_kg_hide-input": true,
    "execution": {
     "iopub.execute_input": "2023-05-31T15:33:13.795344Z",
     "iopub.status.busy": "2023-05-31T15:33:13.795000Z",
     "iopub.status.idle": "2023-05-31T15:33:13.811328Z",
     "shell.execute_reply": "2023-05-31T15:33:13.810505Z"
    },
    "papermill": {
     "duration": 0.031875,
     "end_time": "2023-05-31T15:33:13.813265",
     "exception": false,
     "start_time": "2023-05-31T15:33:13.781390",
     "status": "completed"
    },
    "tags": []
   },
   "outputs": [
    {
     "data": {
      "text/html": [
       "\n",
       "<style>\n",
       "@import url(\"https://fonts.googleapis.com/css2?family=Raleway&family=Roboto:ital,wght@0,500;0,900;1,500&display=swap\");\n",
       ".output_png {\n",
       "    display: table-cell;\n",
       "    text-align: center;\n",
       "    vertical-align: middle;\n",
       "    horizontal-align: middle;\n",
       "}\n",
       "h1 {\n",
       "    display: inline-block;\n",
       "    text-align: center;\n",
       "    border: 1px solid;\n",
       "    padding: 30px;\n",
       "    margin: 0;\n",
       "    background: linear-gradient(0deg, blue, green 40%, red);\n",
       "    -webkit-background-clip: text;\n",
       "    -webkit-text-fill-color: transparent;\n",
       "    width: 90%;\n",
       "    font-family: Raleway;\n",
       "    border-radius: 5px;\n",
       "}\n",
       "\n",
       "h2 {\n",
       "    display: inline-block;\n",
       "    text-align: center;\n",
       "    border: 1px solid;\n",
       "    padding: 25px;\n",
       "    margin: 0;\n",
       "    background: linear-gradient(0deg, blue, green 40%, red);\n",
       "    -webkit-background-clip: text;\n",
       "    -webkit-text-fill-color: transparent;\n",
       "    width: 90%;\n",
       "    font-family: Raleway;\n",
       "    border-radius: 5px;\n",
       "}\n",
       "\n",
       "h3 {\n",
       "    display: inline-block;\n",
       "    text-align: center;\n",
       "    border: 1px solid;\n",
       "    padding: 20px;\n",
       "    margin: 0;\n",
       "    background: linear-gradient(0deg, blue, green 40%, red);\n",
       "    -webkit-background-clip: text;\n",
       "    -webkit-text-fill-color: transparent;\n",
       "    width: 90%;\n",
       "    font-family: Raleway;\n",
       "    border-radius: 5px;\n",
       "}\n",
       "\n",
       "\n",
       "body, p, ul, li {\n",
       "    font-family: Raleway;\n",
       "    font-size: 15px;\n",
       "    color: charcoal;\n",
       "}\n",
       "div {\n",
       "    font-size: 14px;\n",
       "    margin: 0;\n",
       "\n",
       "}\n",
       "\n",
       "h4 {\n",
       "    padding: 0px;\n",
       "    margin: 0;\n",
       "    font-family: Raleway;\n",
       "    font-size: 20px;\n",
       "    background: linear-gradient(to right, #30CFD0 0%, #121FCF 100%);\n",
       "    -webkit-background-clip: text;\n",
       "    -webkit-text-fill-color: transparent;\n",
       "}\n",
       "</style>\n"
      ],
      "text/plain": [
       "<IPython.core.display.HTML object>"
      ]
     },
     "execution_count": 1,
     "metadata": {},
     "output_type": "execute_result"
    }
   ],
   "source": [
    "from IPython.core.display import HTML\n",
    "HTML(\"\"\"\n",
    "<style>\n",
    "@import url(\"https://fonts.googleapis.com/css2?family=Raleway&family=Roboto:ital,wght@0,500;0,900;1,500&display=swap\");\n",
    ".output_png {\n",
    "    display: table-cell;\n",
    "    text-align: center;\n",
    "    vertical-align: middle;\n",
    "    horizontal-align: middle;\n",
    "}\n",
    "h1 {\n",
    "    display: inline-block;\n",
    "    text-align: center;\n",
    "    border: 1px solid;\n",
    "    padding: 30px;\n",
    "    margin: 0;\n",
    "    background: linear-gradient(0deg, blue, green 40%, red);\n",
    "    -webkit-background-clip: text;\n",
    "    -webkit-text-fill-color: transparent;\n",
    "    width: 90%;\n",
    "    font-family: Raleway;\n",
    "    border-radius: 5px;\n",
    "}\n",
    "\n",
    "h2 {\n",
    "    display: inline-block;\n",
    "    text-align: center;\n",
    "    border: 1px solid;\n",
    "    padding: 25px;\n",
    "    margin: 0;\n",
    "    background: linear-gradient(0deg, blue, green 40%, red);\n",
    "    -webkit-background-clip: text;\n",
    "    -webkit-text-fill-color: transparent;\n",
    "    width: 90%;\n",
    "    font-family: Raleway;\n",
    "    border-radius: 5px;\n",
    "}\n",
    "\n",
    "h3 {\n",
    "    display: inline-block;\n",
    "    text-align: center;\n",
    "    border: 1px solid;\n",
    "    padding: 20px;\n",
    "    margin: 0;\n",
    "    background: linear-gradient(0deg, blue, green 40%, red);\n",
    "    -webkit-background-clip: text;\n",
    "    -webkit-text-fill-color: transparent;\n",
    "    width: 90%;\n",
    "    font-family: Raleway;\n",
    "    border-radius: 5px;\n",
    "}\n",
    "\n",
    "\n",
    "body, p, ul, li {\n",
    "    font-family: Raleway;\n",
    "    font-size: 15px;\n",
    "    color: charcoal;\n",
    "}\n",
    "div {\n",
    "    font-size: 14px;\n",
    "    margin: 0;\n",
    "\n",
    "}\n",
    "\n",
    "h4 {\n",
    "    padding: 0px;\n",
    "    margin: 0;\n",
    "    font-family: Raleway;\n",
    "    font-size: 20px;\n",
    "    background: linear-gradient(to right, #30CFD0 0%, #121FCF 100%);\n",
    "    -webkit-background-clip: text;\n",
    "    -webkit-text-fill-color: transparent;\n",
    "}\n",
    "</style>\n",
    "\"\"\")"
   ]
  },
  {
   "cell_type": "markdown",
   "id": "52f80e90",
   "metadata": {
    "papermill": {
     "duration": 0.010516,
     "end_time": "2023-05-31T15:33:13.834689",
     "exception": false,
     "start_time": "2023-05-31T15:33:13.824173",
     "status": "completed"
    },
    "tags": []
   },
   "source": [
    "# Heart Disease EDA + AutoGluon Prediction\n",
    "\n",
    "**About Dataset**\n",
    "\n",
    "This data set dates from 1988 and consists of four databases: Cleveland, Hungary, Switzerland, and Long Beach V. It contains 76 attributes, including the predicted attribute, but all published experiments refer to using a subset of 14 of them. The \"target\" field refers to the presence of heart disease in the patient. It is integer valued 0 = no disease and 1 = disease.\n",
    "\n",
    "**Attribute Information:**\n",
    "1. age\n",
    "2. sex\n",
    "3. chest pain type (4 values)\n",
    "4. resting blood pressure\n",
    "5. serum cholestoral in mg/dl\n",
    "6. fasting blood sugar > 120 mg/dl\n",
    "7. resting electrocardiographic results (values 0,1,2)\n",
    "8. maximum heart rate achieved\n",
    "9. exercise induced angina\n",
    "10. oldpeak = ST depression induced by exercise relative to rest\n",
    "11. the slope of the peak exercise ST segment\n",
    "12. number of major vessels (0-3) colored by flourosopy\n",
    "13. thal: 0 = normal; 1 = fixed defect; 2 = reversable defect\n",
    "\n",
    "The names and social security numbers of the patients were recently removed from the database, replaced with dummy values."
   ]
  },
  {
   "cell_type": "code",
   "execution_count": 2,
   "id": "7c26b6bf",
   "metadata": {
    "_kg_hide-input": true,
    "execution": {
     "iopub.execute_input": "2023-05-31T15:33:13.858254Z",
     "iopub.status.busy": "2023-05-31T15:33:13.857638Z",
     "iopub.status.idle": "2023-05-31T15:33:15.905806Z",
     "shell.execute_reply": "2023-05-31T15:33:15.904335Z"
    },
    "papermill": {
     "duration": 2.062487,
     "end_time": "2023-05-31T15:33:15.907987",
     "exception": false,
     "start_time": "2023-05-31T15:33:13.845500",
     "status": "completed"
    },
    "tags": []
   },
   "outputs": [
    {
     "name": "stdout",
     "output_type": "stream",
     "text": [
      "/kaggle/input/heart-disease-dataset/heart.csv\n"
     ]
    }
   ],
   "source": [
    "# This Python 3 environment comes with many helpful analytics libraries installed\n",
    "# It is defined by the kaggle/python Docker image: https://github.com/kaggle/docker-python\n",
    "# For example, here's several helpful packages to load\n",
    "\n",
    "import numpy as np # linear algebra\n",
    "import pandas as pd # data processing, CSV file I/O (e.g. pd.read_csv)\n",
    "import matplotlib.pyplot as plt\n",
    "import seaborn as sns\n",
    "\n",
    "%matplotlib inline\n",
    "\n",
    "# Input data files are available in the read-only \"../input/\" directory\n",
    "# For example, running this (by clicking run or pressing Shift+Enter) will list all files under the input directory\n",
    "\n",
    "import os\n",
    "for dirname, _, filenames in os.walk('/kaggle/input'):\n",
    "    for filename in filenames:\n",
    "        print(os.path.join(dirname, filename))\n",
    "        \n",
    "\n",
    "# You can write up to 20GB to the current directory (/kaggle/working/) that gets preserved as output when you create a version using \"Save & Run All\" \n",
    "# You can also write temporary files to /kaggle/temp/, but they won't be saved outside of the current session"
   ]
  },
  {
   "cell_type": "markdown",
   "id": "b8f29dd5",
   "metadata": {
    "papermill": {
     "duration": 0.010778,
     "end_time": "2023-05-31T15:33:15.929829",
     "exception": false,
     "start_time": "2023-05-31T15:33:15.919051",
     "status": "completed"
    },
    "tags": []
   },
   "source": [
    "# What is heart disease?\n",
    "The term “heart disease” refers to several types of heart conditions. The most common type of heart disease in the United States is coronary artery disease (CAD), which affects the blood flow to the heart. Decreased blood flow can cause a heart attack.\n",
    "\n",
    "## What are the symptoms of heart disease?\n",
    "Sometimes heart disease may be “silent” and not diagnosed until a person experiences signs or symptoms of a heart attack, heart failure, or an arrhythmia. When these events happen, symptoms may include1\n",
    "\n",
    "* Heart attack: Chest pain or discomfort, upper back or neck pain, indigestion, heartburn, nausea or vomiting, extreme fatigue, upper body discomfort, dizziness, and shortness of breath.\n",
    "* Arrhythmia: Fluttering feelings in the chest (palpitations).\n",
    "* Heart failure: Shortness of breath, fatigue, or swelling of the feet, ankles, legs, abdomen, or neck veins.\n",
    "\n",
    "## What are the risk factors for heart disease?\n",
    "Thease are key risk factors for heart disease.\n",
    "* High blood pressure\n",
    "* High blood cholesterol\n",
    "* Smoking \n",
    "\n",
    "\n",
    "Credit: https://www.cdc.gov/"
   ]
  },
  {
   "cell_type": "markdown",
   "id": "9dcd0b41",
   "metadata": {
    "papermill": {
     "duration": 0.010535,
     "end_time": "2023-05-31T15:33:15.951039",
     "exception": false,
     "start_time": "2023-05-31T15:33:15.940504",
     "status": "completed"
    },
    "tags": []
   },
   "source": [
    "# Task\n",
    "Perform EDA and predict if a person is prone to those symptoms provide above:\n",
    "* Heart attack\n",
    "* Arrhythmia\n",
    "* Heart failure\n",
    "\n",
    "> Note from the dataset information:<br>\n",
    "> The \"target\" field refers to the presence of heart disease in the patient. It is integer valued 0 = no disease and 1 = disease."
   ]
  },
  {
   "cell_type": "markdown",
   "id": "9558f477",
   "metadata": {
    "papermill": {
     "duration": 0.011016,
     "end_time": "2023-05-31T15:33:15.973126",
     "exception": false,
     "start_time": "2023-05-31T15:33:15.962110",
     "status": "completed"
    },
    "tags": []
   },
   "source": [
    "### Get the data"
   ]
  },
  {
   "cell_type": "code",
   "execution_count": 3,
   "id": "cdc1ac65",
   "metadata": {
    "execution": {
     "iopub.execute_input": "2023-05-31T15:33:15.997068Z",
     "iopub.status.busy": "2023-05-31T15:33:15.996061Z",
     "iopub.status.idle": "2023-05-31T15:33:16.021335Z",
     "shell.execute_reply": "2023-05-31T15:33:16.020442Z"
    },
    "papermill": {
     "duration": 0.03955,
     "end_time": "2023-05-31T15:33:16.023561",
     "exception": false,
     "start_time": "2023-05-31T15:33:15.984011",
     "status": "completed"
    },
    "tags": []
   },
   "outputs": [],
   "source": [
    "# Get the data\n",
    "df = pd.read_csv('/kaggle/input/heart-disease-dataset/heart.csv')"
   ]
  },
  {
   "cell_type": "markdown",
   "id": "b5ada7b0",
   "metadata": {
    "papermill": {
     "duration": 0.010774,
     "end_time": "2023-05-31T15:33:16.045312",
     "exception": false,
     "start_time": "2023-05-31T15:33:16.034538",
     "status": "completed"
    },
    "tags": []
   },
   "source": [
    "### Review the data"
   ]
  },
  {
   "cell_type": "code",
   "execution_count": 4,
   "id": "3a5c1d23",
   "metadata": {
    "execution": {
     "iopub.execute_input": "2023-05-31T15:33:16.070110Z",
     "iopub.status.busy": "2023-05-31T15:33:16.069181Z",
     "iopub.status.idle": "2023-05-31T15:33:16.091827Z",
     "shell.execute_reply": "2023-05-31T15:33:16.090792Z"
    },
    "papermill": {
     "duration": 0.036958,
     "end_time": "2023-05-31T15:33:16.093963",
     "exception": false,
     "start_time": "2023-05-31T15:33:16.057005",
     "status": "completed"
    },
    "tags": []
   },
   "outputs": [
    {
     "data": {
      "text/html": [
       "<div>\n",
       "<style scoped>\n",
       "    .dataframe tbody tr th:only-of-type {\n",
       "        vertical-align: middle;\n",
       "    }\n",
       "\n",
       "    .dataframe tbody tr th {\n",
       "        vertical-align: top;\n",
       "    }\n",
       "\n",
       "    .dataframe thead th {\n",
       "        text-align: right;\n",
       "    }\n",
       "</style>\n",
       "<table border=\"1\" class=\"dataframe\">\n",
       "  <thead>\n",
       "    <tr style=\"text-align: right;\">\n",
       "      <th></th>\n",
       "      <th>age</th>\n",
       "      <th>sex</th>\n",
       "      <th>cp</th>\n",
       "      <th>trestbps</th>\n",
       "      <th>chol</th>\n",
       "      <th>fbs</th>\n",
       "      <th>restecg</th>\n",
       "      <th>thalach</th>\n",
       "      <th>exang</th>\n",
       "      <th>oldpeak</th>\n",
       "      <th>slope</th>\n",
       "      <th>ca</th>\n",
       "      <th>thal</th>\n",
       "      <th>target</th>\n",
       "    </tr>\n",
       "  </thead>\n",
       "  <tbody>\n",
       "    <tr>\n",
       "      <th>0</th>\n",
       "      <td>52</td>\n",
       "      <td>1</td>\n",
       "      <td>0</td>\n",
       "      <td>125</td>\n",
       "      <td>212</td>\n",
       "      <td>0</td>\n",
       "      <td>1</td>\n",
       "      <td>168</td>\n",
       "      <td>0</td>\n",
       "      <td>1.0</td>\n",
       "      <td>2</td>\n",
       "      <td>2</td>\n",
       "      <td>3</td>\n",
       "      <td>0</td>\n",
       "    </tr>\n",
       "    <tr>\n",
       "      <th>1</th>\n",
       "      <td>53</td>\n",
       "      <td>1</td>\n",
       "      <td>0</td>\n",
       "      <td>140</td>\n",
       "      <td>203</td>\n",
       "      <td>1</td>\n",
       "      <td>0</td>\n",
       "      <td>155</td>\n",
       "      <td>1</td>\n",
       "      <td>3.1</td>\n",
       "      <td>0</td>\n",
       "      <td>0</td>\n",
       "      <td>3</td>\n",
       "      <td>0</td>\n",
       "    </tr>\n",
       "    <tr>\n",
       "      <th>2</th>\n",
       "      <td>70</td>\n",
       "      <td>1</td>\n",
       "      <td>0</td>\n",
       "      <td>145</td>\n",
       "      <td>174</td>\n",
       "      <td>0</td>\n",
       "      <td>1</td>\n",
       "      <td>125</td>\n",
       "      <td>1</td>\n",
       "      <td>2.6</td>\n",
       "      <td>0</td>\n",
       "      <td>0</td>\n",
       "      <td>3</td>\n",
       "      <td>0</td>\n",
       "    </tr>\n",
       "    <tr>\n",
       "      <th>3</th>\n",
       "      <td>61</td>\n",
       "      <td>1</td>\n",
       "      <td>0</td>\n",
       "      <td>148</td>\n",
       "      <td>203</td>\n",
       "      <td>0</td>\n",
       "      <td>1</td>\n",
       "      <td>161</td>\n",
       "      <td>0</td>\n",
       "      <td>0.0</td>\n",
       "      <td>2</td>\n",
       "      <td>1</td>\n",
       "      <td>3</td>\n",
       "      <td>0</td>\n",
       "    </tr>\n",
       "    <tr>\n",
       "      <th>4</th>\n",
       "      <td>62</td>\n",
       "      <td>0</td>\n",
       "      <td>0</td>\n",
       "      <td>138</td>\n",
       "      <td>294</td>\n",
       "      <td>1</td>\n",
       "      <td>1</td>\n",
       "      <td>106</td>\n",
       "      <td>0</td>\n",
       "      <td>1.9</td>\n",
       "      <td>1</td>\n",
       "      <td>3</td>\n",
       "      <td>2</td>\n",
       "      <td>0</td>\n",
       "    </tr>\n",
       "  </tbody>\n",
       "</table>\n",
       "</div>"
      ],
      "text/plain": [
       "   age  sex  cp  trestbps  chol  fbs  restecg  thalach  exang  oldpeak  slope  \\\n",
       "0   52    1   0       125   212    0        1      168      0      1.0      2   \n",
       "1   53    1   0       140   203    1        0      155      1      3.1      0   \n",
       "2   70    1   0       145   174    0        1      125      1      2.6      0   \n",
       "3   61    1   0       148   203    0        1      161      0      0.0      2   \n",
       "4   62    0   0       138   294    1        1      106      0      1.9      1   \n",
       "\n",
       "   ca  thal  target  \n",
       "0   2     3       0  \n",
       "1   0     3       0  \n",
       "2   0     3       0  \n",
       "3   1     3       0  \n",
       "4   3     2       0  "
      ]
     },
     "execution_count": 4,
     "metadata": {},
     "output_type": "execute_result"
    }
   ],
   "source": [
    "# Review the data\n",
    "df.head()"
   ]
  },
  {
   "cell_type": "markdown",
   "id": "b3b4cd74",
   "metadata": {
    "papermill": {
     "duration": 0.011369,
     "end_time": "2023-05-31T15:33:16.117445",
     "exception": false,
     "start_time": "2023-05-31T15:33:16.106076",
     "status": "completed"
    },
    "tags": []
   },
   "source": [
    "### Check data size and type"
   ]
  },
  {
   "cell_type": "code",
   "execution_count": 5,
   "id": "b16e925f",
   "metadata": {
    "execution": {
     "iopub.execute_input": "2023-05-31T15:33:16.142329Z",
     "iopub.status.busy": "2023-05-31T15:33:16.141447Z",
     "iopub.status.idle": "2023-05-31T15:33:16.171472Z",
     "shell.execute_reply": "2023-05-31T15:33:16.170077Z"
    },
    "papermill": {
     "duration": 0.044557,
     "end_time": "2023-05-31T15:33:16.173408",
     "exception": false,
     "start_time": "2023-05-31T15:33:16.128851",
     "status": "completed"
    },
    "tags": []
   },
   "outputs": [
    {
     "name": "stdout",
     "output_type": "stream",
     "text": [
      "<class 'pandas.core.frame.DataFrame'>\n",
      "RangeIndex: 1025 entries, 0 to 1024\n",
      "Data columns (total 14 columns):\n",
      " #   Column    Non-Null Count  Dtype  \n",
      "---  ------    --------------  -----  \n",
      " 0   age       1025 non-null   int64  \n",
      " 1   sex       1025 non-null   int64  \n",
      " 2   cp        1025 non-null   int64  \n",
      " 3   trestbps  1025 non-null   int64  \n",
      " 4   chol      1025 non-null   int64  \n",
      " 5   fbs       1025 non-null   int64  \n",
      " 6   restecg   1025 non-null   int64  \n",
      " 7   thalach   1025 non-null   int64  \n",
      " 8   exang     1025 non-null   int64  \n",
      " 9   oldpeak   1025 non-null   float64\n",
      " 10  slope     1025 non-null   int64  \n",
      " 11  ca        1025 non-null   int64  \n",
      " 12  thal      1025 non-null   int64  \n",
      " 13  target    1025 non-null   int64  \n",
      "dtypes: float64(1), int64(13)\n",
      "memory usage: 112.2 KB\n"
     ]
    }
   ],
   "source": [
    "# Check the data size and type\n",
    "df.info()"
   ]
  },
  {
   "cell_type": "markdown",
   "id": "6f1349bf",
   "metadata": {
    "papermill": {
     "duration": 0.010879,
     "end_time": "2023-05-31T15:33:16.195215",
     "exception": false,
     "start_time": "2023-05-31T15:33:16.184336",
     "status": "completed"
    },
    "tags": []
   },
   "source": [
    "### Statistic summary"
   ]
  },
  {
   "cell_type": "code",
   "execution_count": 6,
   "id": "1f15683c",
   "metadata": {
    "execution": {
     "iopub.execute_input": "2023-05-31T15:33:16.219130Z",
     "iopub.status.busy": "2023-05-31T15:33:16.218878Z",
     "iopub.status.idle": "2023-05-31T15:33:16.249840Z",
     "shell.execute_reply": "2023-05-31T15:33:16.248976Z"
    },
    "papermill": {
     "duration": 0.045933,
     "end_time": "2023-05-31T15:33:16.251986",
     "exception": false,
     "start_time": "2023-05-31T15:33:16.206053",
     "status": "completed"
    },
    "tags": []
   },
   "outputs": [
    {
     "data": {
      "text/html": [
       "<div>\n",
       "<style scoped>\n",
       "    .dataframe tbody tr th:only-of-type {\n",
       "        vertical-align: middle;\n",
       "    }\n",
       "\n",
       "    .dataframe tbody tr th {\n",
       "        vertical-align: top;\n",
       "    }\n",
       "\n",
       "    .dataframe thead th {\n",
       "        text-align: right;\n",
       "    }\n",
       "</style>\n",
       "<table border=\"1\" class=\"dataframe\">\n",
       "  <thead>\n",
       "    <tr style=\"text-align: right;\">\n",
       "      <th></th>\n",
       "      <th>count</th>\n",
       "      <th>mean</th>\n",
       "      <th>std</th>\n",
       "      <th>min</th>\n",
       "      <th>25%</th>\n",
       "      <th>50%</th>\n",
       "      <th>75%</th>\n",
       "      <th>max</th>\n",
       "    </tr>\n",
       "  </thead>\n",
       "  <tbody>\n",
       "    <tr>\n",
       "      <th>age</th>\n",
       "      <td>1025.0</td>\n",
       "      <td>54.434146</td>\n",
       "      <td>9.072290</td>\n",
       "      <td>29.0</td>\n",
       "      <td>48.0</td>\n",
       "      <td>56.0</td>\n",
       "      <td>61.0</td>\n",
       "      <td>77.0</td>\n",
       "    </tr>\n",
       "    <tr>\n",
       "      <th>trestbps</th>\n",
       "      <td>1025.0</td>\n",
       "      <td>131.611707</td>\n",
       "      <td>17.516718</td>\n",
       "      <td>94.0</td>\n",
       "      <td>120.0</td>\n",
       "      <td>130.0</td>\n",
       "      <td>140.0</td>\n",
       "      <td>200.0</td>\n",
       "    </tr>\n",
       "    <tr>\n",
       "      <th>chol</th>\n",
       "      <td>1025.0</td>\n",
       "      <td>246.000000</td>\n",
       "      <td>51.592510</td>\n",
       "      <td>126.0</td>\n",
       "      <td>211.0</td>\n",
       "      <td>240.0</td>\n",
       "      <td>275.0</td>\n",
       "      <td>564.0</td>\n",
       "    </tr>\n",
       "    <tr>\n",
       "      <th>thalach</th>\n",
       "      <td>1025.0</td>\n",
       "      <td>149.114146</td>\n",
       "      <td>23.005724</td>\n",
       "      <td>71.0</td>\n",
       "      <td>132.0</td>\n",
       "      <td>152.0</td>\n",
       "      <td>166.0</td>\n",
       "      <td>202.0</td>\n",
       "    </tr>\n",
       "    <tr>\n",
       "      <th>oldpeak</th>\n",
       "      <td>1025.0</td>\n",
       "      <td>1.071512</td>\n",
       "      <td>1.175053</td>\n",
       "      <td>0.0</td>\n",
       "      <td>0.0</td>\n",
       "      <td>0.8</td>\n",
       "      <td>1.8</td>\n",
       "      <td>6.2</td>\n",
       "    </tr>\n",
       "  </tbody>\n",
       "</table>\n",
       "</div>"
      ],
      "text/plain": [
       "           count        mean        std    min    25%    50%    75%    max\n",
       "age       1025.0   54.434146   9.072290   29.0   48.0   56.0   61.0   77.0\n",
       "trestbps  1025.0  131.611707  17.516718   94.0  120.0  130.0  140.0  200.0\n",
       "chol      1025.0  246.000000  51.592510  126.0  211.0  240.0  275.0  564.0\n",
       "thalach   1025.0  149.114146  23.005724   71.0  132.0  152.0  166.0  202.0\n",
       "oldpeak   1025.0    1.071512   1.175053    0.0    0.0    0.8    1.8    6.2"
      ]
     },
     "execution_count": 6,
     "metadata": {},
     "output_type": "execute_result"
    }
   ],
   "source": [
    "# stat sum\n",
    "continuous_columns = [\"age\",\"trestbps\",\"chol\",\"thalach\",\"oldpeak\"]\n",
    "df[continuous_columns].describe().transpose()"
   ]
  },
  {
   "cell_type": "code",
   "execution_count": 7,
   "id": "e2b10eaf",
   "metadata": {
    "execution": {
     "iopub.execute_input": "2023-05-31T15:33:16.277851Z",
     "iopub.status.busy": "2023-05-31T15:33:16.277047Z",
     "iopub.status.idle": "2023-05-31T15:33:16.285034Z",
     "shell.execute_reply": "2023-05-31T15:33:16.283997Z"
    },
    "papermill": {
     "duration": 0.022854,
     "end_time": "2023-05-31T15:33:16.287235",
     "exception": false,
     "start_time": "2023-05-31T15:33:16.264381",
     "status": "completed"
    },
    "tags": []
   },
   "outputs": [
    {
     "data": {
      "text/plain": [
       "age         0\n",
       "sex         0\n",
       "cp          0\n",
       "trestbps    0\n",
       "chol        0\n",
       "fbs         0\n",
       "restecg     0\n",
       "thalach     0\n",
       "exang       0\n",
       "oldpeak     0\n",
       "slope       0\n",
       "ca          0\n",
       "thal        0\n",
       "target      0\n",
       "dtype: int64"
      ]
     },
     "execution_count": 7,
     "metadata": {},
     "output_type": "execute_result"
    }
   ],
   "source": [
    "# Missing values\n",
    "df.isnull().sum()"
   ]
  },
  {
   "cell_type": "markdown",
   "id": "dc5f341f",
   "metadata": {
    "papermill": {
     "duration": 0.011248,
     "end_time": "2023-05-31T15:33:16.310840",
     "exception": false,
     "start_time": "2023-05-31T15:33:16.299592",
     "status": "completed"
    },
    "tags": []
   },
   "source": [
    "# Exploratory Data Analysis"
   ]
  },
  {
   "cell_type": "markdown",
   "id": "d56150a6",
   "metadata": {
    "papermill": {
     "duration": 0.011537,
     "end_time": "2023-05-31T15:33:16.333753",
     "exception": false,
     "start_time": "2023-05-31T15:33:16.322216",
     "status": "completed"
    },
    "tags": []
   },
   "source": [
    "### Heart Disease Analysis using Scatter Plot \n",
    "\n",
    "As mention above, there are 3 key risk factors for heart disease. High blood pressure, high blood cholesterol, smoking.\n",
    "\n",
    "Anyway, the scatter plot show 2 key risk factors focus over 50 years old people:\n",
    "* Heart Disease - Cholesterol & Age\n",
    "* Heart Disease - Resting Blood Pressure & Age"
   ]
  },
  {
   "cell_type": "code",
   "execution_count": 8,
   "id": "535846ec",
   "metadata": {
    "execution": {
     "iopub.execute_input": "2023-05-31T15:33:16.358129Z",
     "iopub.status.busy": "2023-05-31T15:33:16.357408Z",
     "iopub.status.idle": "2023-05-31T15:33:16.371949Z",
     "shell.execute_reply": "2023-05-31T15:33:16.370995Z"
    },
    "papermill": {
     "duration": 0.028911,
     "end_time": "2023-05-31T15:33:16.374018",
     "exception": false,
     "start_time": "2023-05-31T15:33:16.345107",
     "status": "completed"
    },
    "tags": []
   },
   "outputs": [
    {
     "data": {
      "text/html": [
       "<div>\n",
       "<style scoped>\n",
       "    .dataframe tbody tr th:only-of-type {\n",
       "        vertical-align: middle;\n",
       "    }\n",
       "\n",
       "    .dataframe tbody tr th {\n",
       "        vertical-align: top;\n",
       "    }\n",
       "\n",
       "    .dataframe thead th {\n",
       "        text-align: right;\n",
       "    }\n",
       "</style>\n",
       "<table border=\"1\" class=\"dataframe\">\n",
       "  <thead>\n",
       "    <tr style=\"text-align: right;\">\n",
       "      <th></th>\n",
       "      <th>age</th>\n",
       "      <th>sex</th>\n",
       "      <th>cp</th>\n",
       "      <th>trestbps</th>\n",
       "      <th>chol</th>\n",
       "      <th>fbs</th>\n",
       "      <th>restecg</th>\n",
       "      <th>thalach</th>\n",
       "      <th>exang</th>\n",
       "      <th>oldpeak</th>\n",
       "      <th>slope</th>\n",
       "      <th>ca</th>\n",
       "      <th>thal</th>\n",
       "      <th>target</th>\n",
       "    </tr>\n",
       "  </thead>\n",
       "  <tbody>\n",
       "    <tr>\n",
       "      <th>0</th>\n",
       "      <td>52</td>\n",
       "      <td>1</td>\n",
       "      <td>0</td>\n",
       "      <td>125</td>\n",
       "      <td>212</td>\n",
       "      <td>0</td>\n",
       "      <td>1</td>\n",
       "      <td>168</td>\n",
       "      <td>0</td>\n",
       "      <td>1.0</td>\n",
       "      <td>2</td>\n",
       "      <td>2</td>\n",
       "      <td>3</td>\n",
       "      <td>0</td>\n",
       "    </tr>\n",
       "    <tr>\n",
       "      <th>1</th>\n",
       "      <td>53</td>\n",
       "      <td>1</td>\n",
       "      <td>0</td>\n",
       "      <td>140</td>\n",
       "      <td>203</td>\n",
       "      <td>1</td>\n",
       "      <td>0</td>\n",
       "      <td>155</td>\n",
       "      <td>1</td>\n",
       "      <td>3.1</td>\n",
       "      <td>0</td>\n",
       "      <td>0</td>\n",
       "      <td>3</td>\n",
       "      <td>0</td>\n",
       "    </tr>\n",
       "    <tr>\n",
       "      <th>2</th>\n",
       "      <td>70</td>\n",
       "      <td>1</td>\n",
       "      <td>0</td>\n",
       "      <td>145</td>\n",
       "      <td>174</td>\n",
       "      <td>0</td>\n",
       "      <td>1</td>\n",
       "      <td>125</td>\n",
       "      <td>1</td>\n",
       "      <td>2.6</td>\n",
       "      <td>0</td>\n",
       "      <td>0</td>\n",
       "      <td>3</td>\n",
       "      <td>0</td>\n",
       "    </tr>\n",
       "    <tr>\n",
       "      <th>3</th>\n",
       "      <td>61</td>\n",
       "      <td>1</td>\n",
       "      <td>0</td>\n",
       "      <td>148</td>\n",
       "      <td>203</td>\n",
       "      <td>0</td>\n",
       "      <td>1</td>\n",
       "      <td>161</td>\n",
       "      <td>0</td>\n",
       "      <td>0.0</td>\n",
       "      <td>2</td>\n",
       "      <td>1</td>\n",
       "      <td>3</td>\n",
       "      <td>0</td>\n",
       "    </tr>\n",
       "    <tr>\n",
       "      <th>4</th>\n",
       "      <td>62</td>\n",
       "      <td>0</td>\n",
       "      <td>0</td>\n",
       "      <td>138</td>\n",
       "      <td>294</td>\n",
       "      <td>1</td>\n",
       "      <td>1</td>\n",
       "      <td>106</td>\n",
       "      <td>0</td>\n",
       "      <td>1.9</td>\n",
       "      <td>1</td>\n",
       "      <td>3</td>\n",
       "      <td>2</td>\n",
       "      <td>0</td>\n",
       "    </tr>\n",
       "  </tbody>\n",
       "</table>\n",
       "</div>"
      ],
      "text/plain": [
       "   age  sex  cp  trestbps  chol  fbs  restecg  thalach  exang  oldpeak  slope  \\\n",
       "0   52    1   0       125   212    0        1      168      0      1.0      2   \n",
       "1   53    1   0       140   203    1        0      155      1      3.1      0   \n",
       "2   70    1   0       145   174    0        1      125      1      2.6      0   \n",
       "3   61    1   0       148   203    0        1      161      0      0.0      2   \n",
       "4   62    0   0       138   294    1        1      106      0      1.9      1   \n",
       "\n",
       "   ca  thal  target  \n",
       "0   2     3       0  \n",
       "1   0     3       0  \n",
       "2   0     3       0  \n",
       "3   1     3       0  \n",
       "4   3     2       0  "
      ]
     },
     "execution_count": 8,
     "metadata": {},
     "output_type": "execute_result"
    }
   ],
   "source": [
    "over_30 = df[df[\"age\"]>30]\n",
    "over_30.head()"
   ]
  },
  {
   "cell_type": "code",
   "execution_count": 9,
   "id": "58de452b",
   "metadata": {
    "_kg_hide-input": true,
    "execution": {
     "iopub.execute_input": "2023-05-31T15:33:16.400585Z",
     "iopub.status.busy": "2023-05-31T15:33:16.399825Z",
     "iopub.status.idle": "2023-05-31T15:33:17.701065Z",
     "shell.execute_reply": "2023-05-31T15:33:17.700051Z"
    },
    "papermill": {
     "duration": 1.316846,
     "end_time": "2023-05-31T15:33:17.703808",
     "exception": false,
     "start_time": "2023-05-31T15:33:16.386962",
     "status": "completed"
    },
    "tags": []
   },
   "outputs": [
    {
     "data": {
      "image/png": "[encoded data removed]",
      "text/plain": [
       "<Figure size 1000x1000 with 2 Axes>"
      ]
     },
     "metadata": {},
     "output_type": "display_data"
    }
   ],
   "source": [
    "# Set the style\n",
    "plt.style.use('seaborn-v0_8-whitegrid')\n",
    "\n",
    "# subplot of chol, age, thalach\n",
    "fig, (ax0, ax1) = plt.subplots(nrows=2,\n",
    "                              ncols=1,\n",
    "                              figsize=(10,10))\n",
    "\n",
    "# Add data to ax0\n",
    "scatter = ax0.scatter(x=over_30[\"age\"],\n",
    "                      y=over_30[\"chol\"],\n",
    "                      c=over_30[\"target\"],\n",
    "                      cmap=\"winter\") # change plot (matplotlib.org)\n",
    "\n",
    "# Customize ax0\n",
    "ax0.set(title=\"Heart Disease & Cholesterol Levels\",\n",
    "        xlabel=\"Age\",\n",
    "        ylabel=\"Cholesterol\")\n",
    "\n",
    "ax0.set_xlim([30, 80]) # Change x axis limit\n",
    "\n",
    "# Add a legend to ax0\n",
    "ax0.legend(*scatter.legend_elements(), title=\"Target\")\n",
    "\n",
    "# Add a horizontal line\n",
    "ax0.axhline(y=over_30[\"chol\"].mean(),\n",
    "            linestyle=\"--\")\n",
    "\n",
    "ax0.text(76, over_30[\"chol\"].mean()+10, round(over_30[\"chol\"].mean(),2)) # Add mean value to line\n",
    "\n",
    "# Add data to ax1\n",
    "scatter = ax1.scatter(x=over_30[\"age\"],\n",
    "                      y=over_30[\"thalach\"],\n",
    "                      c=over_30[\"target\"],\n",
    "                      cmap=\"winter\") # change plot (matplotlib.org)\n",
    "\n",
    "# Customize ax1\n",
    "ax1.set(title=\"Heart Disease & Resting Blood Pressure\",\n",
    "        xlabel=\"Age\",\n",
    "        ylabel=\"Blood Pressure\")\n",
    "\n",
    "ax1.set_xlim([30, 80]) # Change x axis limit\n",
    "\n",
    "# Add a legend to ax1\n",
    "ax1.legend(*scatter.legend_elements(), title=\"Target\")\n",
    "\n",
    "# Add a mean line\n",
    "ax1.axhline(y=over_30[\"trestbps\"].mean(),\n",
    "            linestyle=\"--\")\n",
    "\n",
    "ax1.text(76, over_30[\"trestbps\"].mean()+2, round(over_30[\"trestbps\"].mean(),2)) # Add mean value to line\n",
    "\n",
    "# Add a title to the figure\n",
    "fig.suptitle(\"Heart Disease Analysis\", fontsize=16, fontweight=\"bold\");\n"
   ]
  },
  {
   "cell_type": "markdown",
   "id": "45b84d64",
   "metadata": {
    "papermill": {
     "duration": 0.019837,
     "end_time": "2023-05-31T15:33:17.743834",
     "exception": false,
     "start_time": "2023-05-31T15:33:17.723997",
     "status": "completed"
    },
    "tags": []
   },
   "source": [
    "# Prediction\n",
    "Build a classifier to predict whether a person is prone to heart attack or not. "
   ]
  },
  {
   "cell_type": "markdown",
   "id": "e8096086",
   "metadata": {
    "papermill": {
     "duration": 0.019414,
     "end_time": "2023-05-31T15:33:17.784044",
     "exception": false,
     "start_time": "2023-05-31T15:33:17.764630",
     "status": "completed"
    },
    "tags": []
   },
   "source": [
    "#### Install Autogluon"
   ]
  },
  {
   "cell_type": "code",
   "execution_count": 10,
   "id": "3dec35ba",
   "metadata": {
    "_kg_hide-input": true,
    "_kg_hide-output": true,
    "execution": {
     "iopub.execute_input": "2023-05-31T15:33:17.826749Z",
     "iopub.status.busy": "2023-05-31T15:33:17.826350Z",
     "iopub.status.idle": "2023-05-31T15:37:06.679620Z",
     "shell.execute_reply": "2023-05-31T15:37:06.678463Z"
    },
    "papermill": {
     "duration": 228.87761,
     "end_time": "2023-05-31T15:37:06.682278",
     "exception": false,
     "start_time": "2023-05-31T15:33:17.804668",
     "status": "completed"
    },
    "tags": []
   },
   "outputs": [
    {
     "name": "stdout",
     "output_type": "stream",
     "text": [
      "Collecting autogluon\r\n",
      "  Downloading autogluon-0.7.0-py3-none-any.whl (9.7 kB)\r\n",
      "Collecting autogluon.core[all]==0.7.0 (from autogluon)\r\n",
      "  Downloading autogluon.core-0.7.0-py3-none-any.whl (218 kB)\r\n",
      "\u001b[2K     \u001b[90m━━━━━━━━━━━━━━━━━━━━━━━━━━━━━━━━━━━━━━━\u001b[0m \u001b[32m218.3/218.3 kB\u001b[0m \u001b[31m5.3 MB/s\u001b[0m eta \u001b[36m0:00:00\u001b[0m\r\n",
      "\u001b[?25hCollecting autogluon.features==0.7.0 (from autogluon)\r\n",
      "  Downloading autogluon.features-0.7.0-py3-none-any.whl (60 kB)\r\n",
      "\u001b[2K     \u001b[90m━━━━━━━━━━━━━━━━━━━━━━━━━━━━━━━━━━━━━━━━\u001b[0m \u001b[32m60.1/60.1 kB\u001b[0m \u001b[31m5.2 MB/s\u001b[0m eta \u001b[36m0:00:00\u001b[0m\r\n",
      "\u001b[?25hCollecting autogluon.tabular[all]==0.7.0 (from autogluon)\r\n",
      "  Downloading autogluon.tabular-0.7.0-py3-none-any.whl (292 kB)\r\n",
      "\u001b[2K     \u001b[90m━━━━━━━━━━━━━━━━━━━━━━━━━━━━━━━━━━━━━━\u001b[0m \u001b[32m292.2/292.2 kB\u001b[0m \u001b[31m15.6 MB/s\u001b[0m eta \u001b[36m0:00:00\u001b[0m\r\n",
      "\u001b[?25hCollecting autogluon.multimodal==0.7.0 (from autogluon)\r\n",
      "  Downloading autogluon.multimodal-0.7.0-py3-none-any.whl (331 kB)\r\n",
      "\u001b[2K     \u001b[90m━━━━━━━━━━━━━━━━━━━━━━━━━━━━━━━━━━━━━━\u001b[0m \u001b[32m331.1/331.1 kB\u001b[0m \u001b[31m23.6 MB/s\u001b[0m eta \u001b[36m0:00:00\u001b[0m\r\n",
      "\u001b[?25hCollecting autogluon.timeseries[all]==0.7.0 (from autogluon)\r\n",
      "  Downloading autogluon.timeseries-0.7.0-py3-none-any.whl (108 kB)\r\n",
      "\u001b[2K     \u001b[90m━━━━━━━━━━━━━━━━━━━━━━━━━━━━━━━━━━━━━━━\u001b[0m \u001b[32m108.7/108.7 kB\u001b[0m \u001b[31m8.0 MB/s\u001b[0m eta \u001b[36m0:00:00\u001b[0m\r\n",
      "\u001b[?25hRequirement already satisfied: numpy<1.27,>=1.21 in /opt/conda/lib/python3.10/site-packages (from autogluon.core[all]==0.7.0->autogluon) (1.23.5)\r\n",
      "Requirement already satisfied: scipy<1.12,>=1.5.4 in /opt/conda/lib/python3.10/site-packages (from autogluon.core[all]==0.7.0->autogluon) (1.10.1)\r\n",
      "Requirement already satisfied: scikit-learn<1.3,>=1.0 in /opt/conda/lib/python3.10/site-packages (from autogluon.core[all]==0.7.0->autogluon) (1.2.2)\r\n",
      "Collecting networkx<3.0,>=2.3 (from autogluon.core[all]==0.7.0->autogluon)\r\n",
      "  Downloading networkx-2.8.8-py3-none-any.whl (2.0 MB)\r\n",
      "\u001b[2K     \u001b[90m━━━━━━━━━━━━━━━━━━━━━━━━━━━━━━━━━━━━━━━━\u001b[0m \u001b[32m2.0/2.0 MB\u001b[0m \u001b[31m48.1 MB/s\u001b[0m eta \u001b[36m0:00:00\u001b[0m\r\n",
      "\u001b[?25hRequirement already satisfied: pandas<1.6,>=1.4.1 in /opt/conda/lib/python3.10/site-packages (from autogluon.core[all]==0.7.0->autogluon) (1.5.3)\r\n",
      "Requirement already satisfied: tqdm<5,>=4.38 in /opt/conda/lib/python3.10/site-packages (from autogluon.core[all]==0.7.0->autogluon) (4.64.1)\r\n",
      "Requirement already satisfied: requests in /opt/conda/lib/python3.10/site-packages (from autogluon.core[all]==0.7.0->autogluon) (2.28.2)\r\n",
      "Requirement already satisfied: matplotlib in /opt/conda/lib/python3.10/site-packages (from autogluon.core[all]==0.7.0->autogluon) (3.6.3)\r\n",
      "Requirement already satisfied: boto3<2,>=1.10 in /opt/conda/lib/python3.10/site-packages (from autogluon.core[all]==0.7.0->autogluon) (1.26.100)\r\n",
      "Collecting autogluon.common==0.7.0 (from autogluon.core[all]==0.7.0->autogluon)\r\n",
      "  Downloading autogluon.common-0.7.0-py3-none-any.whl (45 kB)\r\n",
      "\u001b[2K     \u001b[90m━━━━━━━━━━━━━━━━━━━━━━━━━━━━━━━━━━━━━━━━\u001b[0m \u001b[32m45.0/45.0 kB\u001b[0m \u001b[31m3.3 MB/s\u001b[0m eta \u001b[36m0:00:00\u001b[0m\r\n",
      "\u001b[?25hRequirement already satisfied: hyperopt<0.2.8,>=0.2.7 in /opt/conda/lib/python3.10/site-packages (from autogluon.core[all]==0.7.0->autogluon) (0.2.7)\r\n",
      "Collecting ray[tune]<2.3,>=2.2 (from autogluon.core[all]==0.7.0->autogluon)\r\n",
      "  Downloading ray-2.2.0-cp310-cp310-manylinux2014_x86_64.whl (57.4 MB)\r\n",
      "\u001b[2K     \u001b[90m━━━━━━━━━━━━━━━━━━━━━━━━━━━━━━━━━━━━━━━━\u001b[0m \u001b[32m57.4/57.4 MB\u001b[0m \u001b[31m22.0 MB/s\u001b[0m eta \u001b[36m0:00:00\u001b[0m\r\n",
      "\u001b[?25hRequirement already satisfied: Pillow<9.6,>=9.3 in /opt/conda/lib/python3.10/site-packages (from autogluon.multimodal==0.7.0->autogluon) (9.5.0)\r\n",
      "Requirement already satisfied: jsonschema<4.18,>=4.14 in /opt/conda/lib/python3.10/site-packages (from autogluon.multimodal==0.7.0->autogluon) (4.17.3)\r\n",
      "Collecting seqeval<1.3.0,>=1.2.2 (from autogluon.multimodal==0.7.0->autogluon)\r\n",
      "  Downloading seqeval-1.2.2.tar.gz (43 kB)\r\n",
      "\u001b[2K     \u001b[90m━━━━━━━━━━━━━━━━━━━━━━━━━━━━━━━━━━━━━━━━\u001b[0m \u001b[32m43.6/43.6 kB\u001b[0m \u001b[31m2.6 MB/s\u001b[0m eta \u001b[36m0:00:00\u001b[0m\r\n",
      "\u001b[?25h  Preparing metadata (setup.py) ... \u001b[?25l-\b \b\\\b \bdone\r\n",
      "\u001b[?25hCollecting evaluate<0.4.0,>=0.2.2 (from autogluon.multimodal==0.7.0->autogluon)\r\n",
      "  Downloading evaluate-0.3.0-py3-none-any.whl (72 kB)\r\n",
      "\u001b[2K     \u001b[90m━━━━━━━━━━━━━━━━━━━━━━━━━━━━━━━━━━━━━━━━\u001b[0m \u001b[32m72.9/72.9 kB\u001b[0m \u001b[31m5.0 MB/s\u001b[0m eta \u001b[36m0:00:00\u001b[0m\r\n",
      "\u001b[?25hRequirement already satisfied: accelerate<0.17,>=0.9 in /opt/conda/lib/python3.10/site-packages (from autogluon.multimodal==0.7.0->autogluon) (0.12.0)\r\n",
      "Collecting timm<0.7.0,>=0.6.12 (from autogluon.multimodal==0.7.0->autogluon)\r\n",
      "  Downloading timm-0.6.13-py3-none-any.whl (549 kB)\r\n",
      "\u001b[2K     \u001b[90m━━━━━━━━━━━━━━━━━━━━━━━━━━━━━━━━━━━━━━\u001b[0m \u001b[32m549.1/549.1 kB\u001b[0m \u001b[31m32.8 MB/s\u001b[0m eta \u001b[36m0:00:00\u001b[0m\r\n",
      "\u001b[?25hCollecting torch<1.14,>=1.9 (from autogluon.multimodal==0.7.0->autogluon)\r\n",
      "  Downloading torch-1.13.1-cp310-cp310-manylinux1_x86_64.whl (887.5 MB)\r\n",
      "\u001b[2K     \u001b[90m━━━━━━━━━━━━━━━━━━━━━━━━━━━━━━━━━━━━━\u001b[0m \u001b[32m887.5/887.5 MB\u001b[0m \u001b[31m728.2 kB/s\u001b[0m eta \u001b[36m0:00:00\u001b[0m\r\n",
      "\u001b[?25hCollecting torchvision<0.15.0 (from autogluon.multimodal==0.7.0->autogluon)\r\n",
      "  Downloading torchvision-0.14.1-cp310-cp310-manylinux1_x86_64.whl (24.2 MB)\r\n",
      "\u001b[2K     \u001b[90m━━━━━━━━━━━━━━━━━━━━━━━━━━━━━━━━━━━━━━━━\u001b[0m \u001b[32m24.2/24.2 MB\u001b[0m \u001b[31m56.1 MB/s\u001b[0m eta \u001b[36m0:00:00\u001b[0m\r\n",
      "\u001b[?25hCollecting fairscale<0.4.14,>=0.4.5 (from autogluon.multimodal==0.7.0->autogluon)\r\n",
      "  Downloading fairscale-0.4.13.tar.gz (266 kB)\r\n",
      "\u001b[2K     \u001b[90m━━━━━━━━━━━━━━━━━━━━━━━━━━━━━━━━━━━━━━\u001b[0m \u001b[32m266.3/266.3 kB\u001b[0m \u001b[31m19.1 MB/s\u001b[0m eta \u001b[36m0:00:00\u001b[0m\r\n",
      "\u001b[?25h  Installing build dependencies ... \u001b[?25l-\b \b\\\b \b|\b \b/\b \bdone\r\n",
      "\u001b[?25h  Getting requirements to build wheel ... \u001b[?25ldone\r\n",
      "\u001b[?25h  Installing backend dependencies ... \u001b[?25l-\b \b\\\b \bdone\r\n",
      "\u001b[?25h  Preparing metadata (pyproject.toml) ... \u001b[?25l-\b \bdone\r\n",
      "\u001b[?25hCollecting scikit-image<0.20.0,>=0.19.1 (from autogluon.multimodal==0.7.0->autogluon)\r\n",
      "  Downloading scikit_image-0.19.3-cp310-cp310-manylinux_2_17_x86_64.manylinux2014_x86_64.whl (13.9 MB)\r\n",
      "\u001b[2K     \u001b[90m━━━━━━━━━━━━━━━━━━━━━━━━━━━━━━━━━━━━━━━━\u001b[0m \u001b[32m13.9/13.9 MB\u001b[0m \u001b[31m74.4 MB/s\u001b[0m eta \u001b[36m0:00:00\u001b[0m\r\n",
      "\u001b[?25hCollecting pytorch-lightning<1.10.0,>=1.9.0 (from autogluon.multimodal==0.7.0->autogluon)\r\n",
      "  Downloading pytorch_lightning-1.9.5-py3-none-any.whl (829 kB)\r\n",
      "\u001b[2K     \u001b[90m━━━━━━━━━━━━━━━━━━━━━━━━━━━━━━━━━━━━━━\u001b[0m \u001b[32m829.5/829.5 kB\u001b[0m \u001b[31m49.2 MB/s\u001b[0m eta \u001b[36m0:00:00\u001b[0m\r\n",
      "\u001b[?25hRequirement already satisfied: text-unidecode<1.4,>=1.3 in /opt/conda/lib/python3.10/site-packages (from autogluon.multimodal==0.7.0->autogluon) (1.3)\r\n",
      "Collecting torchmetrics<0.9.0,>=0.8.0 (from autogluon.multimodal==0.7.0->autogluon)\r\n",
      "  Downloading torchmetrics-0.8.2-py3-none-any.whl (409 kB)\r\n",
      "\u001b[2K     \u001b[90m━━━━━━━━━━━━━━━━━━━━━━━━━━━━━━━━━━━━━━\u001b[0m \u001b[32m409.8/409.8 kB\u001b[0m \u001b[31m33.3 MB/s\u001b[0m eta \u001b[36m0:00:00\u001b[0m\r\n",
      "\u001b[?25hCollecting transformers<4.27.0,>=4.23.0 (from autogluon.multimodal==0.7.0->autogluon)\r\n",
      "  Downloading transformers-4.26.1-py3-none-any.whl (6.3 MB)\r\n",
      "\u001b[2K     \u001b[90m━━━━━━━━━━━━━━━━━━━━━━━━━━━━━━━━━━━━━━━━\u001b[0m \u001b[32m6.3/6.3 MB\u001b[0m \u001b[31m89.2 MB/s\u001b[0m eta \u001b[36m0:00:00\u001b[0m\r\n",
      "\u001b[?25hCollecting nptyping<2.5.0,>=1.4.4 (from autogluon.multimodal==0.7.0->autogluon)\r\n",
      "  Downloading nptyping-2.4.1-py3-none-any.whl (36 kB)\r\n",
      "Collecting omegaconf<2.3.0,>=2.1.1 (from autogluon.multimodal==0.7.0->autogluon)\r\n",
      "  Downloading omegaconf-2.2.3-py3-none-any.whl (79 kB)\r\n",
      "\u001b[2K     \u001b[90m━━━━━━━━━━━━━━━━━━━━━━━━━━━━━━━━━━━━━━━━\u001b[0m \u001b[32m79.3/79.3 kB\u001b[0m \u001b[31m7.5 MB/s\u001b[0m eta \u001b[36m0:00:00\u001b[0m\r\n",
      "\u001b[?25hRequirement already satisfied: sentencepiece<0.2.0,>=0.1.95 in /opt/conda/lib/python3.10/site-packages (from autogluon.multimodal==0.7.0->autogluon) (0.1.99)\r\n",
      "Collecting pytorch-metric-learning<2.0,>=1.3.0 (from autogluon.multimodal==0.7.0->autogluon)\r\n",
      "  Downloading pytorch_metric_learning-1.7.3-py3-none-any.whl (112 kB)\r\n",
      "\u001b[2K     \u001b[90m━━━━━━━━━━━━━━━━━━━━━━━━━━━━━━━━━━━━━━\u001b[0m \u001b[32m112.2/112.2 kB\u001b[0m \u001b[31m10.7 MB/s\u001b[0m eta \u001b[36m0:00:00\u001b[0m\r\n",
      "\u001b[?25hCollecting nlpaug<1.2.0,>=1.1.10 (from autogluon.multimodal==0.7.0->autogluon)\r\n",
      "  Downloading nlpaug-1.1.11-py3-none-any.whl (410 kB)\r\n",
      "\u001b[2K     \u001b[90m━━━━━━━━━━━━━━━━━━━━━━━━━━━━━━━━━━━━━━\u001b[0m \u001b[32m410.5/410.5 kB\u001b[0m \u001b[31m30.9 MB/s\u001b[0m eta \u001b[36m0:00:00\u001b[0m\r\n",
      "\u001b[?25hCollecting nltk<4.0.0,>=3.4.5 (from autogluon.multimodal==0.7.0->autogluon)\r\n",
      "  Downloading nltk-3.8.1-py3-none-any.whl (1.5 MB)\r\n",
      "\u001b[2K     \u001b[90m━━━━━━━━━━━━━━━━━━━━━━━━━━━━━━━━━━━━━━━━\u001b[0m \u001b[32m1.5/1.5 MB\u001b[0m \u001b[31m63.7 MB/s\u001b[0m eta \u001b[36m0:00:00\u001b[0m\r\n",
      "\u001b[?25hCollecting openmim<0.4.0,>0.1.5 (from autogluon.multimodal==0.7.0->autogluon)\r\n",
      "  Downloading openmim-0.3.7-py2.py3-none-any.whl (51 kB)\r\n",
      "\u001b[2K     \u001b[90m━━━━━━━━━━━━━━━━━━━━━━━━━━━━━━━━━━━━━━━━\u001b[0m \u001b[32m51.3/51.3 kB\u001b[0m \u001b[31m3.8 MB/s\u001b[0m eta \u001b[36m0:00:00\u001b[0m\r\n",
      "\u001b[?25hRequirement already satisfied: defusedxml<0.7.2,>=0.7.1 in /opt/conda/lib/python3.10/site-packages (from autogluon.multimodal==0.7.0->autogluon) (0.7.1)\r\n",
      "Requirement already satisfied: jinja2<3.2,>=3.0.3 in /opt/conda/lib/python3.10/site-packages (from autogluon.multimodal==0.7.0->autogluon) (3.1.2)\r\n",
      "Requirement already satisfied: tensorboard<3,>=2.9 in /opt/conda/lib/python3.10/site-packages (from autogluon.multimodal==0.7.0->autogluon) (2.12.3)\r\n",
      "Requirement already satisfied: pytesseract<0.3.11,>=0.3.9 in /opt/conda/lib/python3.10/site-packages (from autogluon.multimodal==0.7.0->autogluon) (0.3.10)\r\n",
      "Collecting catboost<1.2,>=1.0 (from autogluon.tabular[all]==0.7.0->autogluon)\r\n",
      "  Downloading catboost-1.1.1-cp310-none-manylinux1_x86_64.whl (76.6 MB)\r\n",
      "\u001b[2K     \u001b[90m━━━━━━━━━━━━━━━━━━━━━━━━━━━━━━━━━━━━━━━━\u001b[0m \u001b[32m76.6/76.6 MB\u001b[0m \u001b[31m16.3 MB/s\u001b[0m eta \u001b[36m0:00:00\u001b[0m\r\n",
      "\u001b[?25hRequirement already satisfied: lightgbm<3.4,>=3.3 in /opt/conda/lib/python3.10/site-packages (from autogluon.tabular[all]==0.7.0->autogluon) (3.3.2)\r\n",
      "Requirement already satisfied: xgboost<1.8,>=1.6 in /opt/conda/lib/python3.10/site-packages (from autogluon.tabular[all]==0.7.0->autogluon) (1.7.5)\r\n",
      "Requirement already satisfied: fastai<2.8,>=2.3.1 in /opt/conda/lib/python3.10/site-packages (from autogluon.tabular[all]==0.7.0->autogluon) (2.7.12)\r\n",
      "Requirement already satisfied: joblib<2,>=1.1 in /opt/conda/lib/python3.10/site-packages (from autogluon.timeseries[all]==0.7.0->autogluon) (1.2.0)\r\n",
      "Requirement already satisfied: statsmodels<0.14,>=0.13.0 in /opt/conda/lib/python3.10/site-packages (from autogluon.timeseries[all]==0.7.0->autogluon) (0.13.5)\r\n",
      "Collecting gluonts<0.13,>=0.12.0 (from autogluon.timeseries[all]==0.7.0->autogluon)\r\n",
      "  Downloading gluonts-0.12.8-py3-none-any.whl (1.2 MB)\r\n",
      "\u001b[2K     \u001b[90m━━━━━━━━━━━━━━━━━━━━━━━━━━━━━━━━━━━━━━━━\u001b[0m \u001b[32m1.2/1.2 MB\u001b[0m \u001b[31m59.1 MB/s\u001b[0m eta \u001b[36m0:00:00\u001b[0m\r\n",
      "\u001b[?25hCollecting statsforecast<1.5,>=1.4.0 (from autogluon.timeseries[all]==0.7.0->autogluon)\r\n",
      "  Downloading statsforecast-1.4.0-py3-none-any.whl (91 kB)\r\n",
      "\u001b[2K     \u001b[90m━━━━━━━━━━━━━━━━━━━━━━━━━━━━━━━━━━━━━━━━\u001b[0m \u001b[32m92.0/92.0 kB\u001b[0m \u001b[31m8.5 MB/s\u001b[0m eta \u001b[36m0:00:00\u001b[0m\r\n",
      "\u001b[?25hRequirement already satisfied: ujson<6,>=5 in /opt/conda/lib/python3.10/site-packages (from autogluon.timeseries[all]==0.7.0->autogluon) (5.7.0)\r\n",
      "Collecting sktime<0.16,>=0.14 (from autogluon.timeseries[all]==0.7.0->autogluon)\r\n",
      "  Downloading sktime-0.15.1-py3-none-any.whl (16.0 MB)\r\n",
      "\u001b[2K     \u001b[90m━━━━━━━━━━━━━━━━━━━━━━━━━━━━━━━━━━━━━━━━\u001b[0m \u001b[32m16.0/16.0 MB\u001b[0m \u001b[31m79.8 MB/s\u001b[0m eta \u001b[36m0:00:00\u001b[0m\r\n",
      "\u001b[?25hCollecting tbats<2,>=1.1 (from autogluon.timeseries[all]==0.7.0->autogluon)\r\n",
      "  Downloading tbats-1.1.3-py3-none-any.whl (44 kB)\r\n",
      "\u001b[2K     \u001b[90m━━━━━━━━━━━━━━━━━━━━━━━━━━━━━━━━━━━━━━━━\u001b[0m \u001b[32m44.0/44.0 kB\u001b[0m \u001b[31m3.2 MB/s\u001b[0m eta \u001b[36m0:00:00\u001b[0m\r\n",
      "\u001b[?25hCollecting pmdarima<1.9,>=1.8.2 (from autogluon.timeseries[all]==0.7.0->autogluon)\r\n",
      "  Downloading pmdarima-1.8.5-cp310-cp310-manylinux_2_17_x86_64.manylinux2014_x86_64.manylinux_2_24_x86_64.whl (1.4 MB)\r\n",
      "\u001b[2K     \u001b[90m━━━━━━━━━━━━━━━━━━━━━━━━━━━━━━━━━━━━━━━━\u001b[0m \u001b[32m1.4/1.4 MB\u001b[0m \u001b[31m64.9 MB/s\u001b[0m eta \u001b[36m0:00:00\u001b[0m\r\n",
      "\u001b[?25hRequirement already satisfied: psutil<6,>=5.7.3 in /opt/conda/lib/python3.10/site-packages (from autogluon.common==0.7.0->autogluon.core[all]==0.7.0->autogluon) (5.9.3)\r\n",
      "Requirement already satisfied: setuptools in /opt/conda/lib/python3.10/site-packages (from autogluon.common==0.7.0->autogluon.core[all]==0.7.0->autogluon) (59.8.0)\r\n",
      "Requirement already satisfied: packaging>=20.0 in /opt/conda/lib/python3.10/site-packages (from accelerate<0.17,>=0.9->autogluon.multimodal==0.7.0->autogluon) (21.3)\r\n",
      "Requirement already satisfied: pyyaml in /opt/conda/lib/python3.10/site-packages (from accelerate<0.17,>=0.9->autogluon.multimodal==0.7.0->autogluon) (5.4.1)\r\n",
      "Collecting botocore<1.30.0,>=1.29.100 (from boto3<2,>=1.10->autogluon.core[all]==0.7.0->autogluon)\r\n",
      "  Downloading botocore-1.29.143-py3-none-any.whl (10.8 MB)\r\n",
      "\u001b[2K     \u001b[90m━━━━━━━━━━━━━━━━━━━━━━━━━━━━━━━━━━━━━━━━\u001b[0m \u001b[32m10.8/10.8 MB\u001b[0m \u001b[31m28.3 MB/s\u001b[0m eta \u001b[36m0:00:00\u001b[0m\r\n",
      "\u001b[?25hRequirement already satisfied: jmespath<2.0.0,>=0.7.1 in /opt/conda/lib/python3.10/site-packages (from boto3<2,>=1.10->autogluon.core[all]==0.7.0->autogluon) (1.0.1)\r\n",
      "Requirement already satisfied: s3transfer<0.7.0,>=0.6.0 in /opt/conda/lib/python3.10/site-packages (from boto3<2,>=1.10->autogluon.core[all]==0.7.0->autogluon) (0.6.1)\r\n",
      "Requirement already satisfied: graphviz in /opt/conda/lib/python3.10/site-packages (from catboost<1.2,>=1.0->autogluon.tabular[all]==0.7.0->autogluon) (0.20.1)\r\n",
      "Requirement already satisfied: plotly in /opt/conda/lib/python3.10/site-packages (from catboost<1.2,>=1.0->autogluon.tabular[all]==0.7.0->autogluon) (5.14.1)\r\n",
      "Requirement already satisfied: six in /opt/conda/lib/python3.10/site-packages (from catboost<1.2,>=1.0->autogluon.tabular[all]==0.7.0->autogluon) (1.16.0)\r\n",
      "Requirement already satisfied: datasets>=2.0.0 in /opt/conda/lib/python3.10/site-packages (from evaluate<0.4.0,>=0.2.2->autogluon.multimodal==0.7.0->autogluon) (2.1.0)\r\n",
      "Requirement already satisfied: dill in /opt/conda/lib/python3.10/site-packages (from evaluate<0.4.0,>=0.2.2->autogluon.multimodal==0.7.0->autogluon) (0.3.6)\r\n",
      "Requirement already satisfied: xxhash in /opt/conda/lib/python3.10/site-packages (from evaluate<0.4.0,>=0.2.2->autogluon.multimodal==0.7.0->autogluon) (3.2.0)\r\n",
      "Requirement already satisfied: multiprocess in /opt/conda/lib/python3.10/site-packages (from evaluate<0.4.0,>=0.2.2->autogluon.multimodal==0.7.0->autogluon) (0.70.14)\r\n",
      "Requirement already satisfied: fsspec[http]>=2021.05.0 in /opt/conda/lib/python3.10/site-packages (from evaluate<0.4.0,>=0.2.2->autogluon.multimodal==0.7.0->autogluon) (2023.5.0)\r\n",
      "Requirement already satisfied: huggingface-hub>=0.7.0 in /opt/conda/lib/python3.10/site-packages (from evaluate<0.4.0,>=0.2.2->autogluon.multimodal==0.7.0->autogluon) (0.14.1)\r\n",
      "Requirement already satisfied: responses<0.19 in /opt/conda/lib/python3.10/site-packages (from evaluate<0.4.0,>=0.2.2->autogluon.multimodal==0.7.0->autogluon) (0.18.0)\r\n",
      "Requirement already satisfied: pip in /opt/conda/lib/python3.10/site-packages (from fastai<2.8,>=2.3.1->autogluon.tabular[all]==0.7.0->autogluon) (23.1.2)\r\n",
      "Requirement already satisfied: fastdownload<2,>=0.0.5 in /opt/conda/lib/python3.10/site-packages (from fastai<2.8,>=2.3.1->autogluon.tabular[all]==0.7.0->autogluon) (0.0.7)\r\n",
      "Requirement already satisfied: fastcore<1.6,>=1.5.29 in /opt/conda/lib/python3.10/site-packages (from fastai<2.8,>=2.3.1->autogluon.tabular[all]==0.7.0->autogluon) (1.5.29)\r\n",
      "Requirement already satisfied: fastprogress>=0.2.4 in /opt/conda/lib/python3.10/site-packages (from fastai<2.8,>=2.3.1->autogluon.tabular[all]==0.7.0->autogluon) (1.0.3)\r\n",
      "Requirement already satisfied: spacy<4 in /opt/conda/lib/python3.10/site-packages (from fastai<2.8,>=2.3.1->autogluon.tabular[all]==0.7.0->autogluon) (3.5.3)\r\n",
      "Requirement already satisfied: pydantic~=1.7 in /opt/conda/lib/python3.10/site-packages (from gluonts<0.13,>=0.12.0->autogluon.timeseries[all]==0.7.0->autogluon) (1.10.7)\r\n",
      "Requirement already satisfied: toolz~=0.10 in /opt/conda/lib/python3.10/site-packages (from gluonts<0.13,>=0.12.0->autogluon.timeseries[all]==0.7.0->autogluon) (0.12.0)\r\n",
      "Requirement already satisfied: typing-extensions~=4.0 in /opt/conda/lib/python3.10/site-packages (from gluonts<0.13,>=0.12.0->autogluon.timeseries[all]==0.7.0->autogluon) (4.5.0)\r\n",
      "Requirement already satisfied: future in /opt/conda/lib/python3.10/site-packages (from hyperopt<0.2.8,>=0.2.7->autogluon.core[all]==0.7.0->autogluon) (0.18.3)\r\n",
      "Requirement already satisfied: cloudpickle in /opt/conda/lib/python3.10/site-packages (from hyperopt<0.2.8,>=0.2.7->autogluon.core[all]==0.7.0->autogluon) (2.2.1)\r\n",
      "Requirement already satisfied: py4j in /opt/conda/lib/python3.10/site-packages (from hyperopt<0.2.8,>=0.2.7->autogluon.core[all]==0.7.0->autogluon) (0.10.9.7)\r\n",
      "Requirement already satisfied: MarkupSafe>=2.0 in /opt/conda/lib/python3.10/site-packages (from jinja2<3.2,>=3.0.3->autogluon.multimodal==0.7.0->autogluon) (2.1.2)\r\n",
      "Requirement already satisfied: attrs>=17.4.0 in /opt/conda/lib/python3.10/site-packages (from jsonschema<4.18,>=4.14->autogluon.multimodal==0.7.0->autogluon) (23.1.0)\r\n",
      "Requirement already satisfied: pyrsistent!=0.17.0,!=0.17.1,!=0.17.2,>=0.14.0 in /opt/conda/lib/python3.10/site-packages (from jsonschema<4.18,>=4.14->autogluon.multimodal==0.7.0->autogluon) (0.19.3)\r\n",
      "Requirement already satisfied: wheel in /opt/conda/lib/python3.10/site-packages (from lightgbm<3.4,>=3.3->autogluon.tabular[all]==0.7.0->autogluon) (0.40.0)\r\n",
      "Collecting gdown>=4.0.0 (from nlpaug<1.2.0,>=1.1.10->autogluon.multimodal==0.7.0->autogluon)\r\n",
      "  Downloading gdown-4.7.1-py3-none-any.whl (15 kB)\r\n",
      "Requirement already satisfied: click in /opt/conda/lib/python3.10/site-packages (from nltk<4.0.0,>=3.4.5->autogluon.multimodal==0.7.0->autogluon) (8.1.3)\r\n",
      "Requirement already satisfied: regex>=2021.8.3 in /opt/conda/lib/python3.10/site-packages (from nltk<4.0.0,>=3.4.5->autogluon.multimodal==0.7.0->autogluon) (2023.5.5)\r\n",
      "Collecting antlr4-python3-runtime==4.9.* (from omegaconf<2.3.0,>=2.1.1->autogluon.multimodal==0.7.0->autogluon)\r\n",
      "  Downloading antlr4-python3-runtime-4.9.3.tar.gz (117 kB)\r\n",
      "\u001b[2K     \u001b[90m━━━━━━━━━━━━━━━━━━━━━━━━━━━━━━━━━━━━━━━\u001b[0m \u001b[32m117.0/117.0 kB\u001b[0m \u001b[31m7.4 MB/s\u001b[0m eta \u001b[36m0:00:00\u001b[0m\r\n",
      "\u001b[?25h  Preparing metadata (setup.py) ... \u001b[?25l-\b \b\\\b \bdone\r\n",
      "\u001b[?25hRequirement already satisfied: colorama in /opt/conda/lib/python3.10/site-packages (from openmim<0.4.0,>0.1.5->autogluon.multimodal==0.7.0->autogluon) (0.4.6)\r\n",
      "Collecting model-index (from openmim<0.4.0,>0.1.5->autogluon.multimodal==0.7.0->autogluon)\r\n",
      "  Downloading model_index-0.1.11-py3-none-any.whl (34 kB)\r\n",
      "Requirement already satisfied: rich in /opt/conda/lib/python3.10/site-packages (from openmim<0.4.0,>0.1.5->autogluon.multimodal==0.7.0->autogluon) (12.6.0)\r\n",
      "Requirement already satisfied: tabulate in /opt/conda/lib/python3.10/site-packages (from openmim<0.4.0,>0.1.5->autogluon.multimodal==0.7.0->autogluon) (0.9.0)\r\n",
      "Requirement already satisfied: python-dateutil>=2.8.1 in /opt/conda/lib/python3.10/site-packages (from pandas<1.6,>=1.4.1->autogluon.core[all]==0.7.0->autogluon) (2.8.2)\r\n",
      "Requirement already satisfied: pytz>=2020.1 in /opt/conda/lib/python3.10/site-packages (from pandas<1.6,>=1.4.1->autogluon.core[all]==0.7.0->autogluon) (2023.3)\r\n",
      "Requirement already satisfied: Cython!=0.29.18,>=0.29 in /opt/conda/lib/python3.10/site-packages (from pmdarima<1.9,>=1.8.2->autogluon.timeseries[all]==0.7.0->autogluon) (0.29.34)\r\n",
      "Requirement already satisfied: urllib3 in /opt/conda/lib/python3.10/site-packages (from pmdarima<1.9,>=1.8.2->autogluon.timeseries[all]==0.7.0->autogluon) (1.26.15)\r\n",
      "Requirement already satisfied: lightning-utilities>=0.6.0.post0 in /opt/conda/lib/python3.10/site-packages (from pytorch-lightning<1.10.0,>=1.9.0->autogluon.multimodal==0.7.0->autogluon) (0.8.0)\r\n",
      "Requirement already satisfied: filelock in /opt/conda/lib/python3.10/site-packages (from ray[tune]<2.3,>=2.2->autogluon.core[all]==0.7.0->autogluon) (3.12.0)\r\n",
      "Requirement already satisfied: msgpack<2.0.0,>=1.0.0 in /opt/conda/lib/python3.10/site-packages (from ray[tune]<2.3,>=2.2->autogluon.core[all]==0.7.0->autogluon) (1.0.5)\r\n",
      "Requirement already satisfied: protobuf!=3.19.5,>=3.15.3 in /opt/conda/lib/python3.10/site-packages (from ray[tune]<2.3,>=2.2->autogluon.core[all]==0.7.0->autogluon) (3.20.3)\r\n",
      "Requirement already satisfied: aiosignal in /opt/conda/lib/python3.10/site-packages (from ray[tune]<2.3,>=2.2->autogluon.core[all]==0.7.0->autogluon) (1.3.1)\r\n",
      "Requirement already satisfied: frozenlist in /opt/conda/lib/python3.10/site-packages (from ray[tune]<2.3,>=2.2->autogluon.core[all]==0.7.0->autogluon) (1.3.3)\r\n",
      "Requirement already satisfied: virtualenv>=20.0.24 in /opt/conda/lib/python3.10/site-packages (from ray[tune]<2.3,>=2.2->autogluon.core[all]==0.7.0->autogluon) (20.21.0)\r\n",
      "Requirement already satisfied: grpcio>=1.42.0 in /opt/conda/lib/python3.10/site-packages (from ray[tune]<2.3,>=2.2->autogluon.core[all]==0.7.0->autogluon) (1.51.1)\r\n",
      "Requirement already satisfied: tensorboardX>=1.9 in /opt/conda/lib/python3.10/site-packages (from ray[tune]<2.3,>=2.2->autogluon.core[all]==0.7.0->autogluon) (2.6)\r\n",
      "Requirement already satisfied: charset-normalizer<4,>=2 in /opt/conda/lib/python3.10/site-packages (from requests->autogluon.core[all]==0.7.0->autogluon) (2.1.1)\r\n",
      "Requirement already satisfied: idna<4,>=2.5 in /opt/conda/lib/python3.10/site-packages (from requests->autogluon.core[all]==0.7.0->autogluon) (3.4)\r\n",
      "Requirement already satisfied: certifi>=2017.4.17 in /opt/conda/lib/python3.10/site-packages (from requests->autogluon.core[all]==0.7.0->autogluon) (2023.5.7)\r\n",
      "Requirement already satisfied: imageio>=2.4.1 in /opt/conda/lib/python3.10/site-packages (from scikit-image<0.20.0,>=0.19.1->autogluon.multimodal==0.7.0->autogluon) (2.28.1)\r\n",
      "Requirement already satisfied: tifffile>=2019.7.26 in /opt/conda/lib/python3.10/site-packages (from scikit-image<0.20.0,>=0.19.1->autogluon.multimodal==0.7.0->autogluon) (2023.4.12)\r\n",
      "Requirement already satisfied: PyWavelets>=1.1.1 in /opt/conda/lib/python3.10/site-packages (from scikit-image<0.20.0,>=0.19.1->autogluon.multimodal==0.7.0->autogluon) (1.4.1)\r\n",
      "Requirement already satisfied: threadpoolctl>=2.0.0 in /opt/conda/lib/python3.10/site-packages (from scikit-learn<1.3,>=1.0->autogluon.core[all]==0.7.0->autogluon) (3.1.0)\r\n",
      "Requirement already satisfied: deprecated>=1.2.13 in /opt/conda/lib/python3.10/site-packages (from sktime<0.16,>=0.14->autogluon.timeseries[all]==0.7.0->autogluon) (1.2.13)\r\n",
      "Requirement already satisfied: numba>=0.55 in /opt/conda/lib/python3.10/site-packages (from sktime<0.16,>=0.14->autogluon.timeseries[all]==0.7.0->autogluon) (0.56.4)\r\n",
      "Requirement already satisfied: patsy>=0.5.2 in /opt/conda/lib/python3.10/site-packages (from statsmodels<0.14,>=0.13.0->autogluon.timeseries[all]==0.7.0->autogluon) (0.5.3)\r\n",
      "Requirement already satisfied: absl-py>=0.4 in /opt/conda/lib/python3.10/site-packages (from tensorboard<3,>=2.9->autogluon.multimodal==0.7.0->autogluon) (1.4.0)\r\n",
      "Requirement already satisfied: google-auth<3,>=1.6.3 in /opt/conda/lib/python3.10/site-packages (from tensorboard<3,>=2.9->autogluon.multimodal==0.7.0->autogluon) (2.17.3)\r\n",
      "Requirement already satisfied: google-auth-oauthlib<1.1,>=0.5 in /opt/conda/lib/python3.10/site-packages (from tensorboard<3,>=2.9->autogluon.multimodal==0.7.0->autogluon) (1.0.0)\r\n",
      "Requirement already satisfied: markdown>=2.6.8 in /opt/conda/lib/python3.10/site-packages (from tensorboard<3,>=2.9->autogluon.multimodal==0.7.0->autogluon) (3.4.3)\r\n",
      "Requirement already satisfied: tensorboard-data-server<0.8.0,>=0.7.0 in /opt/conda/lib/python3.10/site-packages (from tensorboard<3,>=2.9->autogluon.multimodal==0.7.0->autogluon) (0.7.0)\r\n",
      "Requirement already satisfied: werkzeug>=1.0.1 in /opt/conda/lib/python3.10/site-packages (from tensorboard<3,>=2.9->autogluon.multimodal==0.7.0->autogluon) (2.3.4)\r\n",
      "Collecting nvidia-cuda-runtime-cu11==11.7.99 (from torch<1.14,>=1.9->autogluon.multimodal==0.7.0->autogluon)\r\n",
      "  Downloading nvidia_cuda_runtime_cu11-11.7.99-py3-none-manylinux1_x86_64.whl (849 kB)\r\n",
      "\u001b[2K     \u001b[90m━━━━━━━━━━━━━━━━━━━━━━━━━━━━━━━━━━━━━━\u001b[0m \u001b[32m849.3/849.3 kB\u001b[0m \u001b[31m49.6 MB/s\u001b[0m eta \u001b[36m0:00:00\u001b[0m\r\n",
      "\u001b[?25hCollecting nvidia-cudnn-cu11==8.5.0.96 (from torch<1.14,>=1.9->autogluon.multimodal==0.7.0->autogluon)\r\n",
      "  Downloading nvidia_cudnn_cu11-8.5.0.96-2-py3-none-manylinux1_x86_64.whl (557.1 MB)\r\n",
      "\u001b[2K     \u001b[90m━━━━━━━━━━━━━━━━━━━━━━━━━━━━━━━━━━━━━━━\u001b[0m \u001b[32m557.1/557.1 MB\u001b[0m \u001b[31m1.5 MB/s\u001b[0m eta \u001b[36m0:00:00\u001b[0m\r\n",
      "\u001b[?25hCollecting nvidia-cublas-cu11==11.10.3.66 (from torch<1.14,>=1.9->autogluon.multimodal==0.7.0->autogluon)\r\n",
      "  Downloading nvidia_cublas_cu11-11.10.3.66-py3-none-manylinux1_x86_64.whl (317.1 MB)\r\n",
      "\u001b[2K     \u001b[90m━━━━━━━━━━━━━━━━━━━━━━━━━━━━━━━━━━━━━━━\u001b[0m \u001b[32m317.1/317.1 MB\u001b[0m \u001b[31m2.4 MB/s\u001b[0m eta \u001b[36m0:00:00\u001b[0m\r\n",
      "\u001b[?25hCollecting nvidia-cuda-nvrtc-cu11==11.7.99 (from torch<1.14,>=1.9->autogluon.multimodal==0.7.0->autogluon)\r\n",
      "  Downloading nvidia_cuda_nvrtc_cu11-11.7.99-2-py3-none-manylinux1_x86_64.whl (21.0 MB)\r\n",
      "\u001b[2K     \u001b[90m━━━━━━━━━━━━━━━━━━━━━━━━━━━━━━━━━━━━━━━━\u001b[0m \u001b[32m21.0/21.0 MB\u001b[0m \u001b[31m64.0 MB/s\u001b[0m eta \u001b[36m0:00:00\u001b[0m\r\n",
      "\u001b[?25hCollecting pyDeprecate==0.3.* (from torchmetrics<0.9.0,>=0.8.0->autogluon.multimodal==0.7.0->autogluon)\r\n",
      "  Downloading pyDeprecate-0.3.2-py3-none-any.whl (10 kB)\r\n",
      "Requirement already satisfied: tokenizers!=0.11.3,<0.14,>=0.11.1 in /opt/conda/lib/python3.10/site-packages (from transformers<4.27.0,>=4.23.0->autogluon.multimodal==0.7.0->autogluon) (0.13.3)\r\n",
      "Requirement already satisfied: contourpy>=1.0.1 in /opt/conda/lib/python3.10/site-packages (from matplotlib->autogluon.core[all]==0.7.0->autogluon) (1.0.7)\r\n",
      "Requirement already satisfied: cycler>=0.10 in /opt/conda/lib/python3.10/site-packages (from matplotlib->autogluon.core[all]==0.7.0->autogluon) (0.11.0)\r\n",
      "Requirement already satisfied: fonttools>=4.22.0 in /opt/conda/lib/python3.10/site-packages (from matplotlib->autogluon.core[all]==0.7.0->autogluon) (4.39.3)\r\n",
      "Requirement already satisfied: kiwisolver>=1.0.1 in /opt/conda/lib/python3.10/site-packages (from matplotlib->autogluon.core[all]==0.7.0->autogluon) (1.4.4)\r\n",
      "Requirement already satisfied: pyparsing>=2.2.1 in /opt/conda/lib/python3.10/site-packages (from matplotlib->autogluon.core[all]==0.7.0->autogluon) (3.0.9)\r\n",
      "Requirement already satisfied: pyarrow>=5.0.0 in /opt/conda/lib/python3.10/site-packages (from datasets>=2.0.0->evaluate<0.4.0,>=0.2.2->autogluon.multimodal==0.7.0->autogluon) (10.0.1)\r\n",
      "Requirement already satisfied: aiohttp in /opt/conda/lib/python3.10/site-packages (from datasets>=2.0.0->evaluate<0.4.0,>=0.2.2->autogluon.multimodal==0.7.0->autogluon) (3.8.4)\r\n",
      "Requirement already satisfied: wrapt<2,>=1.10 in /opt/conda/lib/python3.10/site-packages (from deprecated>=1.2.13->sktime<0.16,>=0.14->autogluon.timeseries[all]==0.7.0->autogluon) (1.14.1)\r\n",
      "Requirement already satisfied: beautifulsoup4 in /opt/conda/lib/python3.10/site-packages (from gdown>=4.0.0->nlpaug<1.2.0,>=1.1.10->autogluon.multimodal==0.7.0->autogluon) (4.12.2)\r\n",
      "Requirement already satisfied: cachetools<6.0,>=2.0.0 in /opt/conda/lib/python3.10/site-packages (from google-auth<3,>=1.6.3->tensorboard<3,>=2.9->autogluon.multimodal==0.7.0->autogluon) (4.2.4)\r\n",
      "Requirement already satisfied: pyasn1-modules>=0.2.1 in /opt/conda/lib/python3.10/site-packages (from google-auth<3,>=1.6.3->tensorboard<3,>=2.9->autogluon.multimodal==0.7.0->autogluon) (0.2.7)\r\n",
      "Requirement already satisfied: rsa<5,>=3.1.4 in /opt/conda/lib/python3.10/site-packages (from google-auth<3,>=1.6.3->tensorboard<3,>=2.9->autogluon.multimodal==0.7.0->autogluon) (4.9)\r\n",
      "Requirement already satisfied: requests-oauthlib>=0.7.0 in /opt/conda/lib/python3.10/site-packages (from google-auth-oauthlib<1.1,>=0.5->tensorboard<3,>=2.9->autogluon.multimodal==0.7.0->autogluon) (1.3.1)\r\n",
      "Requirement already satisfied: llvmlite<0.40,>=0.39.0dev0 in /opt/conda/lib/python3.10/site-packages (from numba>=0.55->sktime<0.16,>=0.14->autogluon.timeseries[all]==0.7.0->autogluon) (0.39.1)\r\n",
      "Requirement already satisfied: spacy-legacy<3.1.0,>=3.0.11 in /opt/conda/lib/python3.10/site-packages (from spacy<4->fastai<2.8,>=2.3.1->autogluon.tabular[all]==0.7.0->autogluon) (3.0.12)\r\n",
      "Requirement already satisfied: spacy-loggers<2.0.0,>=1.0.0 in /opt/conda/lib/python3.10/site-packages (from spacy<4->fastai<2.8,>=2.3.1->autogluon.tabular[all]==0.7.0->autogluon) (1.0.4)\r\n",
      "Requirement already satisfied: murmurhash<1.1.0,>=0.28.0 in /opt/conda/lib/python3.10/site-packages (from spacy<4->fastai<2.8,>=2.3.1->autogluon.tabular[all]==0.7.0->autogluon) (1.0.9)\r\n",
      "Requirement already satisfied: cymem<2.1.0,>=2.0.2 in /opt/conda/lib/python3.10/site-packages (from spacy<4->fastai<2.8,>=2.3.1->autogluon.tabular[all]==0.7.0->autogluon) (2.0.7)\r\n",
      "Requirement already satisfied: preshed<3.1.0,>=3.0.2 in /opt/conda/lib/python3.10/site-packages (from spacy<4->fastai<2.8,>=2.3.1->autogluon.tabular[all]==0.7.0->autogluon) (3.0.8)\r\n",
      "Requirement already satisfied: thinc<8.2.0,>=8.1.8 in /opt/conda/lib/python3.10/site-packages (from spacy<4->fastai<2.8,>=2.3.1->autogluon.tabular[all]==0.7.0->autogluon) (8.1.10)\r\n",
      "Requirement already satisfied: wasabi<1.2.0,>=0.9.1 in /opt/conda/lib/python3.10/site-packages (from spacy<4->fastai<2.8,>=2.3.1->autogluon.tabular[all]==0.7.0->autogluon) (1.1.1)\r\n",
      "Requirement already satisfied: srsly<3.0.0,>=2.4.3 in /opt/conda/lib/python3.10/site-packages (from spacy<4->fastai<2.8,>=2.3.1->autogluon.tabular[all]==0.7.0->autogluon) (2.4.6)\r\n",
      "Requirement already satisfied: catalogue<2.1.0,>=2.0.6 in /opt/conda/lib/python3.10/site-packages (from spacy<4->fastai<2.8,>=2.3.1->autogluon.tabular[all]==0.7.0->autogluon) (2.0.8)\r\n",
      "Requirement already satisfied: typer<0.8.0,>=0.3.0 in /opt/conda/lib/python3.10/site-packages (from spacy<4->fastai<2.8,>=2.3.1->autogluon.tabular[all]==0.7.0->autogluon) (0.7.0)\r\n",
      "Requirement already satisfied: pathy>=0.10.0 in /opt/conda/lib/python3.10/site-packages (from spacy<4->fastai<2.8,>=2.3.1->autogluon.tabular[all]==0.7.0->autogluon) (0.10.1)\r\n",
      "Requirement already satisfied: smart-open<7.0.0,>=5.2.1 in /opt/conda/lib/python3.10/site-packages (from spacy<4->fastai<2.8,>=2.3.1->autogluon.tabular[all]==0.7.0->autogluon) (6.3.0)\r\n",
      "Requirement already satisfied: langcodes<4.0.0,>=3.2.0 in /opt/conda/lib/python3.10/site-packages (from spacy<4->fastai<2.8,>=2.3.1->autogluon.tabular[all]==0.7.0->autogluon) (3.3.0)\r\n",
      "Requirement already satisfied: distlib<1,>=0.3.6 in /opt/conda/lib/python3.10/site-packages (from virtualenv>=20.0.24->ray[tune]<2.3,>=2.2->autogluon.core[all]==0.7.0->autogluon) (0.3.6)\r\n",
      "Requirement already satisfied: platformdirs<4,>=2.4 in /opt/conda/lib/python3.10/site-packages (from virtualenv>=20.0.24->ray[tune]<2.3,>=2.2->autogluon.core[all]==0.7.0->autogluon) (3.5.0)\r\n",
      "Collecting ordered-set (from model-index->openmim<0.4.0,>0.1.5->autogluon.multimodal==0.7.0->autogluon)\r\n",
      "  Downloading ordered_set-4.1.0-py3-none-any.whl (7.6 kB)\r\n",
      "Requirement already satisfied: tenacity>=6.2.0 in /opt/conda/lib/python3.10/site-packages (from plotly->catboost<1.2,>=1.0->autogluon.tabular[all]==0.7.0->autogluon) (8.2.2)\r\n",
      "Requirement already satisfied: commonmark<0.10.0,>=0.9.0 in /opt/conda/lib/python3.10/site-packages (from rich->openmim<0.4.0,>0.1.5->autogluon.multimodal==0.7.0->autogluon) (0.9.1)\r\n",
      "Requirement already satisfied: pygments<3.0.0,>=2.6.0 in /opt/conda/lib/python3.10/site-packages (from rich->openmim<0.4.0,>0.1.5->autogluon.multimodal==0.7.0->autogluon) (2.15.1)\r\n",
      "Requirement already satisfied: multidict<7.0,>=4.5 in /opt/conda/lib/python3.10/site-packages (from aiohttp->datasets>=2.0.0->evaluate<0.4.0,>=0.2.2->autogluon.multimodal==0.7.0->autogluon) (6.0.4)\r\n",
      "Requirement already satisfied: async-timeout<5.0,>=4.0.0a3 in /opt/conda/lib/python3.10/site-packages (from aiohttp->datasets>=2.0.0->evaluate<0.4.0,>=0.2.2->autogluon.multimodal==0.7.0->autogluon) (4.0.2)\r\n",
      "Requirement already satisfied: yarl<2.0,>=1.0 in /opt/conda/lib/python3.10/site-packages (from aiohttp->datasets>=2.0.0->evaluate<0.4.0,>=0.2.2->autogluon.multimodal==0.7.0->autogluon) (1.9.1)\r\n",
      "Requirement already satisfied: pyasn1<0.5.0,>=0.4.6 in /opt/conda/lib/python3.10/site-packages (from pyasn1-modules>=0.2.1->google-auth<3,>=1.6.3->tensorboard<3,>=2.9->autogluon.multimodal==0.7.0->autogluon) (0.4.8)\r\n",
      "Requirement already satisfied: oauthlib>=3.0.0 in /opt/conda/lib/python3.10/site-packages (from requests-oauthlib>=0.7.0->google-auth-oauthlib<1.1,>=0.5->tensorboard<3,>=2.9->autogluon.multimodal==0.7.0->autogluon) (3.2.2)\r\n",
      "Requirement already satisfied: blis<0.8.0,>=0.7.8 in /opt/conda/lib/python3.10/site-packages (from thinc<8.2.0,>=8.1.8->spacy<4->fastai<2.8,>=2.3.1->autogluon.tabular[all]==0.7.0->autogluon) (0.7.9)\r\n",
      "Requirement already satisfied: confection<1.0.0,>=0.0.1 in /opt/conda/lib/python3.10/site-packages (from thinc<8.2.0,>=8.1.8->spacy<4->fastai<2.8,>=2.3.1->autogluon.tabular[all]==0.7.0->autogluon) (0.0.4)\r\n",
      "Requirement already satisfied: soupsieve>1.2 in /opt/conda/lib/python3.10/site-packages (from beautifulsoup4->gdown>=4.0.0->nlpaug<1.2.0,>=1.1.10->autogluon.multimodal==0.7.0->autogluon) (2.3.2.post1)\r\n",
      "Requirement already satisfied: PySocks!=1.5.7,>=1.5.6 in /opt/conda/lib/python3.10/site-packages (from requests->autogluon.core[all]==0.7.0->autogluon) (1.7.1)\r\n",
      "Building wheels for collected packages: fairscale, antlr4-python3-runtime, seqeval\r\n",
      "  Building wheel for fairscale (pyproject.toml) ... \u001b[?25l-\b \b\\\b \bdone\r\n",
      "\u001b[?25h  Created wheel for fairscale: filename=fairscale-0.4.13-py3-none-any.whl size=332112 sha256=c5896cd5bcaed3d4ea58e21b69fa2c2bf7ae4c4d96336336dc676421c3ea9fb7\r\n",
      "  Stored in directory: /root/.cache/pip/wheels/78/a4/c0/fb0a7ef03cff161611c3fa40c6cf898f76e58ec421b88e8cb3\r\n",
      "  Building wheel for antlr4-python3-runtime (setup.py) ... \u001b[?25l-\b \b\\\b \b|\b \bdone\r\n",
      "\u001b[?25h  Created wheel for antlr4-python3-runtime: filename=antlr4_python3_runtime-4.9.3-py3-none-any.whl size=144574 sha256=f78c1898fb2a6a1600517f7eb342886aaf8808d57450515c1efe15ff6a845903\r\n",
      "  Stored in directory: /root/.cache/pip/wheels/12/93/dd/1f6a127edc45659556564c5730f6d4e300888f4bca2d4c5a88\r\n",
      "  Building wheel for seqeval (setup.py) ... \u001b[?25l-\b \b\\\b \bdone\r\n",
      "\u001b[?25h  Created wheel for seqeval: filename=seqeval-1.2.2-py3-none-any.whl size=16181 sha256=a4ba6559dad811951b82cd72d50e343626892a63dc316514b724ec01f303843d\r\n",
      "  Stored in directory: /root/.cache/pip/wheels/1a/67/4a/ad4082dd7dfc30f2abfe4d80a2ed5926a506eb8a972b4767fa\r\n",
      "Successfully built fairscale antlr4-python3-runtime seqeval\r\n",
      "Installing collected packages: antlr4-python3-runtime, pyDeprecate, ordered-set, omegaconf, nvidia-cuda-runtime-cu11, nvidia-cuda-nvrtc-cu11, nvidia-cublas-cu11, nptyping, nltk, networkx, scikit-image, ray, nvidia-cudnn-cu11, model-index, botocore, transformers, torch, seqeval, openmim, gluonts, gdown, catboost, torchvision, torchmetrics, statsforecast, sktime, pytorch-metric-learning, pmdarima, nlpaug, fairscale, timm, tbats, pytorch-lightning, evaluate, autogluon.common, autogluon.features, autogluon.core, autogluon.tabular, autogluon.multimodal, autogluon.timeseries, autogluon\r\n",
      "  Attempting uninstall: nltk\r\n",
      "    Found existing installation: nltk 3.2.4\r\n",
      "    Uninstalling nltk-3.2.4:\r\n",
      "      Successfully uninstalled nltk-3.2.4\r\n",
      "  Attempting uninstall: networkx\r\n",
      "    Found existing installation: networkx 3.1\r\n",
      "    Uninstalling networkx-3.1:\r\n",
      "      Successfully uninstalled networkx-3.1\r\n",
      "  Attempting uninstall: scikit-image\r\n",
      "    Found existing installation: scikit-image 0.20.0\r\n",
      "    Uninstalling scikit-image-0.20.0:\r\n",
      "      Successfully uninstalled scikit-image-0.20.0\r\n",
      "  Attempting uninstall: ray\r\n",
      "    Found existing installation: ray 2.4.0\r\n",
      "    Uninstalling ray-2.4.0:\r\n",
      "      Successfully uninstalled ray-2.4.0\r\n",
      "  Attempting uninstall: botocore\r\n",
      "    Found existing installation: botocore 1.29.76\r\n",
      "    Uninstalling botocore-1.29.76:\r\n",
      "      Successfully uninstalled botocore-1.29.76\r\n",
      "  Attempting uninstall: transformers\r\n",
      "    Found existing installation: transformers 4.29.2\r\n",
      "    Uninstalling transformers-4.29.2:\r\n",
      "      Successfully uninstalled transformers-4.29.2\r\n",
      "  Attempting uninstall: torch\r\n",
      "    Found existing installation: torch 2.0.0\r\n",
      "    Uninstalling torch-2.0.0:\r\n",
      "      Successfully uninstalled torch-2.0.0\r\n",
      "  Attempting uninstall: catboost\r\n",
      "    Found existing installation: catboost 1.2\r\n",
      "    Uninstalling catboost-1.2:\r\n",
      "      Successfully uninstalled catboost-1.2\r\n",
      "  Attempting uninstall: torchvision\r\n",
      "    Found existing installation: torchvision 0.15.1\r\n",
      "    Uninstalling torchvision-0.15.1:\r\n",
      "      Successfully uninstalled torchvision-0.15.1\r\n",
      "  Attempting uninstall: torchmetrics\r\n",
      "    Found existing installation: torchmetrics 0.11.4\r\n",
      "    Uninstalling torchmetrics-0.11.4:\r\n",
      "      Successfully uninstalled torchmetrics-0.11.4\r\n",
      "  Attempting uninstall: timm\r\n",
      "    Found existing installation: timm 0.9.2\r\n",
      "    Uninstalling timm-0.9.2:\r\n",
      "      Successfully uninstalled timm-0.9.2\r\n",
      "  Attempting uninstall: pytorch-lightning\r\n",
      "    Found existing installation: pytorch-lightning 2.0.2\r\n",
      "    Uninstalling pytorch-lightning-2.0.2:\r\n",
      "      Successfully uninstalled pytorch-lightning-2.0.2\r\n",
      "\u001b[31mERROR: pip's dependency resolver does not currently take into account all the packages that are installed. This behaviour is the source of the following dependency conflicts.\r\n",
      "aiobotocore 2.5.0 requires botocore<1.29.77,>=1.29.76, but you have botocore 1.29.143 which is incompatible.\r\n",
      "momepy 0.6.0 requires shapely>=2, but you have shapely 1.8.5.post1 which is incompatible.\r\n",
      "preprocessing 0.1.13 requires nltk==3.2.4, but you have nltk 3.8.1 which is incompatible.\r\n",
      "torchdata 0.6.0 requires torch==2.0.0, but you have torch 1.13.1 which is incompatible.\r\n",
      "ydata-profiling 4.1.2 requires scipy<1.10,>=1.4.1, but you have scipy 1.10.1 which is incompatible.\u001b[0m\u001b[31m\r\n",
      "\u001b[0mSuccessfully installed antlr4-python3-runtime-4.9.3 autogluon-0.7.0 autogluon.common-0.7.0 autogluon.core-0.7.0 autogluon.features-0.7.0 autogluon.multimodal-0.7.0 autogluon.tabular-0.7.0 autogluon.timeseries-0.7.0 botocore-1.29.143 catboost-1.1.1 evaluate-0.3.0 fairscale-0.4.13 gdown-4.7.1 gluonts-0.12.8 model-index-0.1.11 networkx-2.8.8 nlpaug-1.1.11 nltk-3.8.1 nptyping-2.4.1 nvidia-cublas-cu11-11.10.3.66 nvidia-cuda-nvrtc-cu11-11.7.99 nvidia-cuda-runtime-cu11-11.7.99 nvidia-cudnn-cu11-8.5.0.96 omegaconf-2.2.3 openmim-0.3.7 ordered-set-4.1.0 pmdarima-1.8.5 pyDeprecate-0.3.2 pytorch-lightning-1.9.5 pytorch-metric-learning-1.7.3 ray-2.2.0 scikit-image-0.19.3 seqeval-1.2.2 sktime-0.15.1 statsforecast-1.4.0 tbats-1.1.3 timm-0.6.13 torch-1.13.1 torchmetrics-0.8.2 torchvision-0.14.1 transformers-4.26.1\r\n",
      "\u001b[33mWARNING: Running pip as the 'root' user can result in broken permissions and conflicting behaviour with the system package manager. It is recommended to use a virtual environment instead: https://pip.pypa.io/warnings/venv\u001b[0m\u001b[33m\r\n",
      "\u001b[0m"
     ]
    }
   ],
   "source": [
    "# install autogluon\n",
    "!pip install autogluon"
   ]
  },
  {
   "cell_type": "markdown",
   "id": "33f1b8ac",
   "metadata": {
    "papermill": {
     "duration": 0.089655,
     "end_time": "2023-05-31T15:37:06.859054",
     "exception": false,
     "start_time": "2023-05-31T15:37:06.769399",
     "status": "completed"
    },
    "tags": []
   },
   "source": [
    "#### Imports"
   ]
  },
  {
   "cell_type": "code",
   "execution_count": 11,
   "id": "1ea5b7de",
   "metadata": {
    "execution": {
     "iopub.execute_input": "2023-05-31T15:37:07.030685Z",
     "iopub.status.busy": "2023-05-31T15:37:07.030327Z",
     "iopub.status.idle": "2023-05-31T15:37:08.346017Z",
     "shell.execute_reply": "2023-05-31T15:37:08.345061Z"
    },
    "papermill": {
     "duration": 1.40555,
     "end_time": "2023-05-31T15:37:08.348775",
     "exception": false,
     "start_time": "2023-05-31T15:37:06.943225",
     "status": "completed"
    },
    "tags": []
   },
   "outputs": [],
   "source": [
    "from autogluon.tabular import TabularDataset, TabularPredictor"
   ]
  },
  {
   "cell_type": "code",
   "execution_count": 12,
   "id": "66b84963",
   "metadata": {
    "execution": {
     "iopub.execute_input": "2023-05-31T15:37:08.520900Z",
     "iopub.status.busy": "2023-05-31T15:37:08.520562Z",
     "iopub.status.idle": "2023-05-31T15:37:08.546989Z",
     "shell.execute_reply": "2023-05-31T15:37:08.545986Z"
    },
    "papermill": {
     "duration": 0.115045,
     "end_time": "2023-05-31T15:37:08.549326",
     "exception": false,
     "start_time": "2023-05-31T15:37:08.434281",
     "status": "completed"
    },
    "tags": []
   },
   "outputs": [
    {
     "name": "stderr",
     "output_type": "stream",
     "text": [
      "Loaded data from: /kaggle/input/heart-disease-dataset/heart.csv | Columns = 14 / 14 | Rows = 1025 -> 1025\n"
     ]
    }
   ],
   "source": [
    "# Same Data but different type, so I change the variable name to data instead of df\n",
    "data = TabularDataset('/kaggle/input/heart-disease-dataset/heart.csv')"
   ]
  },
  {
   "cell_type": "code",
   "execution_count": 13,
   "id": "71d459b4",
   "metadata": {
    "execution": {
     "iopub.execute_input": "2023-05-31T15:37:08.719636Z",
     "iopub.status.busy": "2023-05-31T15:37:08.719330Z",
     "iopub.status.idle": "2023-05-31T15:37:08.738120Z",
     "shell.execute_reply": "2023-05-31T15:37:08.737112Z"
    },
    "papermill": {
     "duration": 0.106613,
     "end_time": "2023-05-31T15:37:08.741041",
     "exception": false,
     "start_time": "2023-05-31T15:37:08.634428",
     "status": "completed"
    },
    "tags": []
   },
   "outputs": [
    {
     "data": {
      "text/html": [
       "<div>\n",
       "<style scoped>\n",
       "    .dataframe tbody tr th:only-of-type {\n",
       "        vertical-align: middle;\n",
       "    }\n",
       "\n",
       "    .dataframe tbody tr th {\n",
       "        vertical-align: top;\n",
       "    }\n",
       "\n",
       "    .dataframe thead th {\n",
       "        text-align: right;\n",
       "    }\n",
       "</style>\n",
       "<table border=\"1\" class=\"dataframe\">\n",
       "  <thead>\n",
       "    <tr style=\"text-align: right;\">\n",
       "      <th></th>\n",
       "      <th>age</th>\n",
       "      <th>sex</th>\n",
       "      <th>cp</th>\n",
       "      <th>trestbps</th>\n",
       "      <th>chol</th>\n",
       "      <th>fbs</th>\n",
       "      <th>restecg</th>\n",
       "      <th>thalach</th>\n",
       "      <th>exang</th>\n",
       "      <th>oldpeak</th>\n",
       "      <th>slope</th>\n",
       "      <th>ca</th>\n",
       "      <th>thal</th>\n",
       "      <th>target</th>\n",
       "    </tr>\n",
       "  </thead>\n",
       "  <tbody>\n",
       "    <tr>\n",
       "      <th>0</th>\n",
       "      <td>52</td>\n",
       "      <td>1</td>\n",
       "      <td>0</td>\n",
       "      <td>125</td>\n",
       "      <td>212</td>\n",
       "      <td>0</td>\n",
       "      <td>1</td>\n",
       "      <td>168</td>\n",
       "      <td>0</td>\n",
       "      <td>1.0</td>\n",
       "      <td>2</td>\n",
       "      <td>2</td>\n",
       "      <td>3</td>\n",
       "      <td>0</td>\n",
       "    </tr>\n",
       "    <tr>\n",
       "      <th>1</th>\n",
       "      <td>53</td>\n",
       "      <td>1</td>\n",
       "      <td>0</td>\n",
       "      <td>140</td>\n",
       "      <td>203</td>\n",
       "      <td>1</td>\n",
       "      <td>0</td>\n",
       "      <td>155</td>\n",
       "      <td>1</td>\n",
       "      <td>3.1</td>\n",
       "      <td>0</td>\n",
       "      <td>0</td>\n",
       "      <td>3</td>\n",
       "      <td>0</td>\n",
       "    </tr>\n",
       "    <tr>\n",
       "      <th>2</th>\n",
       "      <td>70</td>\n",
       "      <td>1</td>\n",
       "      <td>0</td>\n",
       "      <td>145</td>\n",
       "      <td>174</td>\n",
       "      <td>0</td>\n",
       "      <td>1</td>\n",
       "      <td>125</td>\n",
       "      <td>1</td>\n",
       "      <td>2.6</td>\n",
       "      <td>0</td>\n",
       "      <td>0</td>\n",
       "      <td>3</td>\n",
       "      <td>0</td>\n",
       "    </tr>\n",
       "    <tr>\n",
       "      <th>3</th>\n",
       "      <td>61</td>\n",
       "      <td>1</td>\n",
       "      <td>0</td>\n",
       "      <td>148</td>\n",
       "      <td>203</td>\n",
       "      <td>0</td>\n",
       "      <td>1</td>\n",
       "      <td>161</td>\n",
       "      <td>0</td>\n",
       "      <td>0.0</td>\n",
       "      <td>2</td>\n",
       "      <td>1</td>\n",
       "      <td>3</td>\n",
       "      <td>0</td>\n",
       "    </tr>\n",
       "    <tr>\n",
       "      <th>4</th>\n",
       "      <td>62</td>\n",
       "      <td>0</td>\n",
       "      <td>0</td>\n",
       "      <td>138</td>\n",
       "      <td>294</td>\n",
       "      <td>1</td>\n",
       "      <td>1</td>\n",
       "      <td>106</td>\n",
       "      <td>0</td>\n",
       "      <td>1.9</td>\n",
       "      <td>1</td>\n",
       "      <td>3</td>\n",
       "      <td>2</td>\n",
       "      <td>0</td>\n",
       "    </tr>\n",
       "  </tbody>\n",
       "</table>\n",
       "</div>"
      ],
      "text/plain": [
       "   age  sex  cp  trestbps  chol  fbs  restecg  thalach  exang  oldpeak  slope  \\\n",
       "0   52    1   0       125   212    0        1      168      0      1.0      2   \n",
       "1   53    1   0       140   203    1        0      155      1      3.1      0   \n",
       "2   70    1   0       145   174    0        1      125      1      2.6      0   \n",
       "3   61    1   0       148   203    0        1      161      0      0.0      2   \n",
       "4   62    0   0       138   294    1        1      106      0      1.9      1   \n",
       "\n",
       "   ca  thal  target  \n",
       "0   2     3       0  \n",
       "1   0     3       0  \n",
       "2   0     3       0  \n",
       "3   1     3       0  \n",
       "4   3     2       0  "
      ]
     },
     "execution_count": 13,
     "metadata": {},
     "output_type": "execute_result"
    }
   ],
   "source": [
    "data.head()"
   ]
  },
  {
   "cell_type": "code",
   "execution_count": 14,
   "id": "f3cde973",
   "metadata": {
    "execution": {
     "iopub.execute_input": "2023-05-31T15:37:08.919041Z",
     "iopub.status.busy": "2023-05-31T15:37:08.918672Z",
     "iopub.status.idle": "2023-05-31T15:37:08.936896Z",
     "shell.execute_reply": "2023-05-31T15:37:08.935627Z"
    },
    "papermill": {
     "duration": 0.107664,
     "end_time": "2023-05-31T15:37:08.939135",
     "exception": false,
     "start_time": "2023-05-31T15:37:08.831471",
     "status": "completed"
    },
    "tags": []
   },
   "outputs": [
    {
     "name": "stdout",
     "output_type": "stream",
     "text": [
      "<class 'autogluon.core.dataset.TabularDataset'>\n",
      "RangeIndex: 1025 entries, 0 to 1024\n",
      "Data columns (total 14 columns):\n",
      " #   Column    Non-Null Count  Dtype  \n",
      "---  ------    --------------  -----  \n",
      " 0   age       1025 non-null   int64  \n",
      " 1   sex       1025 non-null   int64  \n",
      " 2   cp        1025 non-null   int64  \n",
      " 3   trestbps  1025 non-null   int64  \n",
      " 4   chol      1025 non-null   int64  \n",
      " 5   fbs       1025 non-null   int64  \n",
      " 6   restecg   1025 non-null   int64  \n",
      " 7   thalach   1025 non-null   int64  \n",
      " 8   exang     1025 non-null   int64  \n",
      " 9   oldpeak   1025 non-null   float64\n",
      " 10  slope     1025 non-null   int64  \n",
      " 11  ca        1025 non-null   int64  \n",
      " 12  thal      1025 non-null   int64  \n",
      " 13  target    1025 non-null   int64  \n",
      "dtypes: float64(1), int64(13)\n",
      "memory usage: 112.2 KB\n"
     ]
    }
   ],
   "source": [
    "data.info()"
   ]
  },
  {
   "cell_type": "code",
   "execution_count": 15,
   "id": "da452efb",
   "metadata": {
    "execution": {
     "iopub.execute_input": "2023-05-31T15:37:09.119115Z",
     "iopub.status.busy": "2023-05-31T15:37:09.118434Z",
     "iopub.status.idle": "2023-05-31T15:37:09.129216Z",
     "shell.execute_reply": "2023-05-31T15:37:09.128284Z"
    },
    "papermill": {
     "duration": 0.104828,
     "end_time": "2023-05-31T15:37:09.131481",
     "exception": false,
     "start_time": "2023-05-31T15:37:09.026653",
     "status": "completed"
    },
    "tags": []
   },
   "outputs": [],
   "source": [
    "train_size = 820 # 0.8*len(data)\n",
    "seed = 42\n",
    "\n",
    "train_data = data.sample(train_size, random_state=seed)\n",
    "test_data = data.drop(train_data.index)"
   ]
  },
  {
   "cell_type": "markdown",
   "id": "50a3ee36",
   "metadata": {
    "papermill": {
     "duration": 0.090225,
     "end_time": "2023-05-31T15:37:09.318698",
     "exception": false,
     "start_time": "2023-05-31T15:37:09.228473",
     "status": "completed"
    },
    "tags": []
   },
   "source": [
    "#### Training a model"
   ]
  },
  {
   "cell_type": "code",
   "execution_count": 16,
   "id": "5cb2f551",
   "metadata": {
    "execution": {
     "iopub.execute_input": "2023-05-31T15:37:09.500457Z",
     "iopub.status.busy": "2023-05-31T15:37:09.499316Z",
     "iopub.status.idle": "2023-05-31T15:37:09.504622Z",
     "shell.execute_reply": "2023-05-31T15:37:09.503615Z"
    },
    "papermill": {
     "duration": 0.098724,
     "end_time": "2023-05-31T15:37:09.506821",
     "exception": false,
     "start_time": "2023-05-31T15:37:09.408097",
     "status": "completed"
    },
    "tags": []
   },
   "outputs": [],
   "source": [
    "save_path = 'reservation_predictors'"
   ]
  },
  {
   "cell_type": "code",
   "execution_count": 17,
   "id": "f520e147",
   "metadata": {
    "execution": {
     "iopub.execute_input": "2023-05-31T15:37:09.738771Z",
     "iopub.status.busy": "2023-05-31T15:37:09.738040Z",
     "iopub.status.idle": "2023-05-31T15:37:09.744188Z",
     "shell.execute_reply": "2023-05-31T15:37:09.743187Z"
    },
    "papermill": {
     "duration": 0.106713,
     "end_time": "2023-05-31T15:37:09.746382",
     "exception": false,
     "start_time": "2023-05-31T15:37:09.639669",
     "status": "completed"
    },
    "tags": []
   },
   "outputs": [],
   "source": [
    "predictor = TabularPredictor(label='target', path=save_path)"
   ]
  },
  {
   "cell_type": "code",
   "execution_count": 18,
   "id": "082248f1",
   "metadata": {
    "execution": {
     "iopub.execute_input": "2023-05-31T15:37:09.934286Z",
     "iopub.status.busy": "2023-05-31T15:37:09.933344Z",
     "iopub.status.idle": "2023-05-31T15:37:09.939650Z",
     "shell.execute_reply": "2023-05-31T15:37:09.938714Z"
    },
    "papermill": {
     "duration": 0.100302,
     "end_time": "2023-05-31T15:37:09.941886",
     "exception": false,
     "start_time": "2023-05-31T15:37:09.841584",
     "status": "completed"
    },
    "tags": []
   },
   "outputs": [
    {
     "data": {
      "text/plain": [
       "autogluon.tabular.predictor.predictor.TabularPredictor"
      ]
     },
     "execution_count": 18,
     "metadata": {},
     "output_type": "execute_result"
    }
   ],
   "source": [
    "type(predictor)"
   ]
  },
  {
   "cell_type": "code",
   "execution_count": 19,
   "id": "67a5eb35",
   "metadata": {
    "_kg_hide-input": true,
    "execution": {
     "iopub.execute_input": "2023-05-31T15:37:10.113524Z",
     "iopub.status.busy": "2023-05-31T15:37:10.113192Z",
     "iopub.status.idle": "2023-05-31T15:37:29.197853Z",
     "shell.execute_reply": "2023-05-31T15:37:29.196775Z"
    },
    "papermill": {
     "duration": 19.173022,
     "end_time": "2023-05-31T15:37:29.200374",
     "exception": false,
     "start_time": "2023-05-31T15:37:10.027352",
     "status": "completed"
    },
    "scrolled": true,
    "tags": []
   },
   "outputs": [
    {
     "name": "stderr",
     "output_type": "stream",
     "text": [
      "Beginning AutoGluon training ...\n",
      "AutoGluon will save models to \"reservation_predictors/\"\n",
      "AutoGluon Version:  0.7.0\n",
      "Python Version:     3.10.10\n",
      "Operating System:   Linux\n",
      "Platform Machine:   x86_64\n",
      "Platform Version:   #1 SMP Sat May 20 10:48:19 UTC 2023\n",
      "Train Data Rows:    820\n",
      "Train Data Columns: 13\n",
      "Label Column: target\n",
      "Preprocessing data ...\n",
      "AutoGluon infers your prediction problem is: 'binary' (because only two unique label-values observed).\n",
      "\t2 unique label values:  [1, 0]\n",
      "\tIf 'binary' is not the correct problem_type, please manually specify the problem_type parameter during predictor init (You may specify problem_type as one of: ['binary', 'multiclass', 'regression'])\n",
      "Selected class <--> label mapping:  class 1 = 1, class 0 = 0\n",
      "Using Feature Generators to preprocess the data ...\n",
      "Fitting AutoMLPipelineFeatureGenerator...\n",
      "\tAvailable Memory:                    15721.59 MB\n",
      "\tTrain Data (Original)  Memory Usage: 0.09 MB (0.0% of available memory)\n",
      "\tInferring data type of each feature based on column values. Set feature_metadata_in to manually specify special dtypes of the features.\n",
      "\tStage 1 Generators:\n",
      "\t\tFitting AsTypeFeatureGenerator...\n",
      "\t\t\tNote: Converting 3 features to boolean dtype as they only contain 2 unique values.\n",
      "\tStage 2 Generators:\n",
      "\t\tFitting FillNaFeatureGenerator...\n",
      "\tStage 3 Generators:\n",
      "\t\tFitting IdentityFeatureGenerator...\n",
      "\tStage 4 Generators:\n",
      "\t\tFitting DropUniqueFeatureGenerator...\n",
      "\tTypes of features in original data (raw dtype, special dtypes):\n",
      "\t\t('float', []) :  1 | ['oldpeak']\n",
      "\t\t('int', [])   : 12 | ['age', 'sex', 'cp', 'trestbps', 'chol', ...]\n",
      "\tTypes of features in processed data (raw dtype, special dtypes):\n",
      "\t\t('float', [])     : 1 | ['oldpeak']\n",
      "\t\t('int', [])       : 9 | ['age', 'cp', 'trestbps', 'chol', 'restecg', ...]\n",
      "\t\t('int', ['bool']) : 3 | ['sex', 'fbs', 'exang']\n",
      "\t0.1s = Fit runtime\n",
      "\t13 features in original data used to generate 13 features in processed data.\n",
      "\tTrain Data (Processed) Memory Usage: 0.07 MB (0.0% of available memory)\n",
      "Data preprocessing and feature engineering runtime = 0.08s ...\n",
      "AutoGluon will gauge predictive performance using evaluation metric: 'accuracy'\n",
      "\tTo change this, specify the eval_metric parameter of Predictor()\n",
      "Automatically generating train/validation split with holdout_frac=0.2, Train Rows: 656, Val Rows: 164\n",
      "Fitting 13 L1 models ...\n",
      "Fitting model: KNeighborsUnif ...\n",
      "\t0.6951\t = Validation score   (accuracy)\n",
      "\t1.3s\t = Training   runtime\n",
      "\t0.02s\t = Validation runtime\n",
      "Fitting model: KNeighborsDist ...\n",
      "\t0.9512\t = Validation score   (accuracy)\n",
      "\t0.01s\t = Training   runtime\n",
      "\t0.0s\t = Validation runtime\n",
      "Fitting model: LightGBMXT ...\n",
      "\t0.9817\t = Validation score   (accuracy)\n",
      "\t3.73s\t = Training   runtime\n",
      "\t0.0s\t = Validation runtime\n",
      "Fitting model: LightGBM ...\n",
      "\t0.9939\t = Validation score   (accuracy)\n",
      "\t0.34s\t = Training   runtime\n",
      "\t0.0s\t = Validation runtime\n",
      "Fitting model: RandomForestGini ...\n",
      "\t0.9939\t = Validation score   (accuracy)\n",
      "\t0.82s\t = Training   runtime\n",
      "\t0.09s\t = Validation runtime\n",
      "Fitting model: RandomForestEntr ...\n",
      "\t0.9939\t = Validation score   (accuracy)\n",
      "\t0.92s\t = Training   runtime\n",
      "\t0.09s\t = Validation runtime\n",
      "Fitting model: CatBoost ...\n",
      "\t0.9939\t = Validation score   (accuracy)\n",
      "\t1.21s\t = Training   runtime\n",
      "\t0.0s\t = Validation runtime\n",
      "Fitting model: ExtraTreesGini ...\n",
      "\t0.9817\t = Validation score   (accuracy)\n",
      "\t0.81s\t = Training   runtime\n",
      "\t0.09s\t = Validation runtime\n",
      "Fitting model: ExtraTreesEntr ...\n",
      "\t0.9817\t = Validation score   (accuracy)\n",
      "\t0.81s\t = Training   runtime\n",
      "\t0.1s\t = Validation runtime\n",
      "Fitting model: NeuralNetFastAI ...\n",
      "\t0.9756\t = Validation score   (accuracy)\n",
      "\t2.55s\t = Training   runtime\n",
      "\t0.01s\t = Validation runtime\n",
      "Fitting model: XGBoost ...\n",
      "\t0.9817\t = Validation score   (accuracy)\n",
      "\t0.24s\t = Training   runtime\n",
      "\t0.01s\t = Validation runtime\n",
      "Fitting model: NeuralNetTorch ...\n",
      "\t0.9878\t = Validation score   (accuracy)\n",
      "\t3.73s\t = Training   runtime\n",
      "\t0.01s\t = Validation runtime\n",
      "Fitting model: LightGBMLarge ...\n",
      "\t0.9878\t = Validation score   (accuracy)\n",
      "\t0.83s\t = Training   runtime\n",
      "\t0.01s\t = Validation runtime\n",
      "Fitting model: WeightedEnsemble_L2 ...\n",
      "\t0.9939\t = Validation score   (accuracy)\n",
      "\t0.92s\t = Training   runtime\n",
      "\t0.0s\t = Validation runtime\n",
      "AutoGluon training complete, total runtime = 19.05s ... Best model: \"WeightedEnsemble_L2\"\n",
      "TabularPredictor saved. To load, use: predictor = TabularPredictor.load(\"reservation_predictors/\")\n"
     ]
    },
    {
     "data": {
      "text/plain": [
       "<autogluon.tabular.predictor.predictor.TabularPredictor at 0x7e8f03b1a5c0>"
      ]
     },
     "execution_count": 19,
     "metadata": {},
     "output_type": "execute_result"
    }
   ],
   "source": [
    "predictor.fit(train_data)"
   ]
  },
  {
   "cell_type": "markdown",
   "id": "5e29ded4",
   "metadata": {
    "papermill": {
     "duration": 0.089083,
     "end_time": "2023-05-31T15:37:29.393993",
     "exception": false,
     "start_time": "2023-05-31T15:37:29.304910",
     "status": "completed"
    },
    "tags": []
   },
   "source": [
    "> From above output, we can see that the best model is WeightedEnsemble_L2 (Best model: \"WeightedEnsemble_L2\")"
   ]
  },
  {
   "cell_type": "code",
   "execution_count": 20,
   "id": "75700e49",
   "metadata": {
    "execution": {
     "iopub.execute_input": "2023-05-31T15:37:29.575868Z",
     "iopub.status.busy": "2023-05-31T15:37:29.575103Z",
     "iopub.status.idle": "2023-05-31T15:37:30.610087Z",
     "shell.execute_reply": "2023-05-31T15:37:30.608871Z"
    },
    "papermill": {
     "duration": 1.129005,
     "end_time": "2023-05-31T15:37:30.613170",
     "exception": false,
     "start_time": "2023-05-31T15:37:29.484165",
     "status": "completed"
    },
    "scrolled": true,
    "tags": []
   },
   "outputs": [
    {
     "name": "stdout",
     "output_type": "stream",
     "text": [
      "*** Summary of fit() ***\n",
      "Estimated performance of each model:\n",
      "                  model  score_val  pred_time_val  fit_time  pred_time_val_marginal  fit_time_marginal  stack_level  can_infer  fit_order\n",
      "0              CatBoost   0.993902       0.002634  1.209918                0.002634           1.209918            1       True          7\n",
      "1              LightGBM   0.993902       0.002830  0.335967                0.002830           0.335967            1       True          4\n",
      "2   WeightedEnsemble_L2   0.993902       0.004148  1.259629                0.001318           0.923662            2       True         14\n",
      "3      RandomForestEntr   0.993902       0.091164  0.918696                0.091164           0.918696            1       True          6\n",
      "4      RandomForestGini   0.993902       0.093028  0.824127                0.093028           0.824127            1       True          5\n",
      "5         LightGBMLarge   0.987805       0.008288  0.826434                0.008288           0.826434            1       True         13\n",
      "6        NeuralNetTorch   0.987805       0.011611  3.728502                0.011611           3.728502            1       True         12\n",
      "7            LightGBMXT   0.981707       0.003984  3.725731                0.003984           3.725731            1       True          3\n",
      "8               XGBoost   0.981707       0.006525  0.239798                0.006525           0.239798            1       True         11\n",
      "9        ExtraTreesGini   0.981707       0.092294  0.811968                0.092294           0.811968            1       True          8\n",
      "10       ExtraTreesEntr   0.981707       0.095976  0.811218                0.095976           0.811218            1       True          9\n",
      "11      NeuralNetFastAI   0.975610       0.010157  2.550168                0.010157           2.550168            1       True         10\n",
      "12       KNeighborsDist   0.951220       0.003626  0.009513                0.003626           0.009513            1       True          2\n",
      "13       KNeighborsUnif   0.695122       0.016897  1.296505                0.016897           1.296505            1       True          1\n",
      "Number of models trained: 14\n",
      "Types of models trained:\n",
      "{'RFModel', 'TabularNeuralNetTorchModel', 'LGBModel', 'WeightedEnsembleModel', 'XTModel', 'CatBoostModel', 'KNNModel', 'XGBoostModel', 'NNFastAiTabularModel'}\n",
      "Bagging used: False \n",
      "Multi-layer stack-ensembling used: False \n",
      "Feature Metadata (Processed):\n",
      "(raw dtype, special dtypes):\n",
      "('float', [])     : 1 | ['oldpeak']\n",
      "('int', [])       : 9 | ['age', 'cp', 'trestbps', 'chol', 'restecg', ...]\n",
      "('int', ['bool']) : 3 | ['sex', 'fbs', 'exang']\n",
      "Plot summary of models saved to file: reservation_predictors/SummaryOfModels.html\n",
      "*** End of fit() summary ***\n"
     ]
    },
    {
     "data": {
      "text/plain": [
       "{'model_types': {'KNeighborsUnif': 'KNNModel',\n",
       "  'KNeighborsDist': 'KNNModel',\n",
       "  'LightGBMXT': 'LGBModel',\n",
       "  'LightGBM': 'LGBModel',\n",
       "  'RandomForestGini': 'RFModel',\n",
       "  'RandomForestEntr': 'RFModel',\n",
       "  'CatBoost': 'CatBoostModel',\n",
       "  'ExtraTreesGini': 'XTModel',\n",
       "  'ExtraTreesEntr': 'XTModel',\n",
       "  'NeuralNetFastAI': 'NNFastAiTabularModel',\n",
       "  'XGBoost': 'XGBoostModel',\n",
       "  'NeuralNetTorch': 'TabularNeuralNetTorchModel',\n",
       "  'LightGBMLarge': 'LGBModel',\n",
       "  'WeightedEnsemble_L2': 'WeightedEnsembleModel'},\n",
       " 'model_performance': {'KNeighborsUnif': 0.6951219512195121,\n",
       "  'KNeighborsDist': 0.9512195121951219,\n",
       "  'LightGBMXT': 0.9817073170731707,\n",
       "  'LightGBM': 0.9939024390243902,\n",
       "  'RandomForestGini': 0.9939024390243902,\n",
       "  'RandomForestEntr': 0.9939024390243902,\n",
       "  'CatBoost': 0.9939024390243902,\n",
       "  'ExtraTreesGini': 0.9817073170731707,\n",
       "  'ExtraTreesEntr': 0.9817073170731707,\n",
       "  'NeuralNetFastAI': 0.975609756097561,\n",
       "  'XGBoost': 0.9817073170731707,\n",
       "  'NeuralNetTorch': 0.9878048780487805,\n",
       "  'LightGBMLarge': 0.9878048780487805,\n",
       "  'WeightedEnsemble_L2': 0.9939024390243902},\n",
       " 'model_best': 'WeightedEnsemble_L2',\n",
       " 'model_paths': {'KNeighborsUnif': 'reservation_predictors/models/KNeighborsUnif/',\n",
       "  'KNeighborsDist': 'reservation_predictors/models/KNeighborsDist/',\n",
       "  'LightGBMXT': 'reservation_predictors/models/LightGBMXT/',\n",
       "  'LightGBM': 'reservation_predictors/models/LightGBM/',\n",
       "  'RandomForestGini': 'reservation_predictors/models/RandomForestGini/',\n",
       "  'RandomForestEntr': 'reservation_predictors/models/RandomForestEntr/',\n",
       "  'CatBoost': 'reservation_predictors/models/CatBoost/',\n",
       "  'ExtraTreesGini': 'reservation_predictors/models/ExtraTreesGini/',\n",
       "  'ExtraTreesEntr': 'reservation_predictors/models/ExtraTreesEntr/',\n",
       "  'NeuralNetFastAI': 'reservation_predictors/models/NeuralNetFastAI/',\n",
       "  'XGBoost': 'reservation_predictors/models/XGBoost/',\n",
       "  'NeuralNetTorch': 'reservation_predictors/models/NeuralNetTorch/',\n",
       "  'LightGBMLarge': 'reservation_predictors/models/LightGBMLarge/',\n",
       "  'WeightedEnsemble_L2': 'reservation_predictors/models/WeightedEnsemble_L2/'},\n",
       " 'model_fit_times': {'KNeighborsUnif': 1.2965049743652344,\n",
       "  'KNeighborsDist': 0.009512901306152344,\n",
       "  'LightGBMXT': 3.7257308959960938,\n",
       "  'LightGBM': 0.3359665870666504,\n",
       "  'RandomForestGini': 0.8241267204284668,\n",
       "  'RandomForestEntr': 0.9186956882476807,\n",
       "  'CatBoost': 1.2099180221557617,\n",
       "  'ExtraTreesGini': 0.8119683265686035,\n",
       "  'ExtraTreesEntr': 0.8112175464630127,\n",
       "  'NeuralNetFastAI': 2.550168037414551,\n",
       "  'XGBoost': 0.23979759216308594,\n",
       "  'NeuralNetTorch': 3.728501796722412,\n",
       "  'LightGBMLarge': 0.8264336585998535,\n",
       "  'WeightedEnsemble_L2': 0.9236619472503662},\n",
       " 'model_pred_times': {'KNeighborsUnif': 0.016896724700927734,\n",
       "  'KNeighborsDist': 0.003625631332397461,\n",
       "  'LightGBMXT': 0.0039844512939453125,\n",
       "  'LightGBM': 0.0028302669525146484,\n",
       "  'RandomForestGini': 0.09302783012390137,\n",
       "  'RandomForestEntr': 0.09116435050964355,\n",
       "  'CatBoost': 0.002634286880493164,\n",
       "  'ExtraTreesGini': 0.09229350090026855,\n",
       "  'ExtraTreesEntr': 0.09597635269165039,\n",
       "  'NeuralNetFastAI': 0.010156631469726562,\n",
       "  'XGBoost': 0.006525278091430664,\n",
       "  'NeuralNetTorch': 0.011610746383666992,\n",
       "  'LightGBMLarge': 0.008288383483886719,\n",
       "  'WeightedEnsemble_L2': 0.001318216323852539},\n",
       " 'num_bag_folds': 0,\n",
       " 'max_stack_level': 2,\n",
       " 'num_classes': 2,\n",
       " 'model_hyperparams': {'KNeighborsUnif': {'weights': 'uniform'},\n",
       "  'KNeighborsDist': {'weights': 'distance'},\n",
       "  'LightGBMXT': {'learning_rate': 0.05, 'extra_trees': True},\n",
       "  'LightGBM': {'learning_rate': 0.05},\n",
       "  'RandomForestGini': {'n_estimators': 300,\n",
       "   'max_leaf_nodes': 15000,\n",
       "   'n_jobs': -1,\n",
       "   'random_state': 0,\n",
       "   'bootstrap': True,\n",
       "   'criterion': 'gini'},\n",
       "  'RandomForestEntr': {'n_estimators': 300,\n",
       "   'max_leaf_nodes': 15000,\n",
       "   'n_jobs': -1,\n",
       "   'random_state': 0,\n",
       "   'bootstrap': True,\n",
       "   'criterion': 'entropy'},\n",
       "  'CatBoost': {'iterations': 10000,\n",
       "   'learning_rate': 0.05,\n",
       "   'random_seed': 0,\n",
       "   'allow_writing_files': False,\n",
       "   'eval_metric': 'Accuracy'},\n",
       "  'ExtraTreesGini': {'n_estimators': 300,\n",
       "   'max_leaf_nodes': 15000,\n",
       "   'n_jobs': -1,\n",
       "   'random_state': 0,\n",
       "   'bootstrap': True,\n",
       "   'criterion': 'gini'},\n",
       "  'ExtraTreesEntr': {'n_estimators': 300,\n",
       "   'max_leaf_nodes': 15000,\n",
       "   'n_jobs': -1,\n",
       "   'random_state': 0,\n",
       "   'bootstrap': True,\n",
       "   'criterion': 'entropy'},\n",
       "  'NeuralNetFastAI': {'layers': None,\n",
       "   'emb_drop': 0.1,\n",
       "   'ps': 0.1,\n",
       "   'bs': 'auto',\n",
       "   'lr': 0.01,\n",
       "   'epochs': 'auto',\n",
       "   'early.stopping.min_delta': 0.0001,\n",
       "   'early.stopping.patience': 20,\n",
       "   'smoothing': 0.0},\n",
       "  'XGBoost': {'n_estimators': 10000,\n",
       "   'learning_rate': 0.1,\n",
       "   'n_jobs': -1,\n",
       "   'proc.max_category_levels': 100,\n",
       "   'objective': 'binary:logistic',\n",
       "   'booster': 'gbtree'},\n",
       "  'NeuralNetTorch': {'num_epochs': 500,\n",
       "   'epochs_wo_improve': 20,\n",
       "   'activation': 'relu',\n",
       "   'embedding_size_factor': 1.0,\n",
       "   'embed_exponent': 0.56,\n",
       "   'max_embedding_dim': 100,\n",
       "   'y_range': None,\n",
       "   'y_range_extend': 0.05,\n",
       "   'dropout_prob': 0.1,\n",
       "   'optimizer': 'adam',\n",
       "   'learning_rate': 0.0003,\n",
       "   'weight_decay': 1e-06,\n",
       "   'proc.embed_min_categories': 4,\n",
       "   'proc.impute_strategy': 'median',\n",
       "   'proc.max_category_levels': 100,\n",
       "   'proc.skew_threshold': 0.99,\n",
       "   'use_ngram_features': False,\n",
       "   'num_layers': 4,\n",
       "   'hidden_size': 128,\n",
       "   'max_batch_size': 512,\n",
       "   'use_batchnorm': False,\n",
       "   'loss_function': 'auto'},\n",
       "  'LightGBMLarge': {'learning_rate': 0.03,\n",
       "   'num_leaves': 128,\n",
       "   'feature_fraction': 0.9,\n",
       "   'min_data_in_leaf': 5},\n",
       "  'WeightedEnsemble_L2': {'use_orig_features': False,\n",
       "   'max_base_models': 25,\n",
       "   'max_base_models_per_type': 5,\n",
       "   'save_bag_folds': True}},\n",
       " 'leaderboard':                   model  score_val  pred_time_val  fit_time  \\\n",
       " 0              CatBoost   0.993902       0.002634  1.209918   \n",
       " 1              LightGBM   0.993902       0.002830  0.335967   \n",
       " 2   WeightedEnsemble_L2   0.993902       0.004148  1.259629   \n",
       " 3      RandomForestEntr   0.993902       0.091164  0.918696   \n",
       " 4      RandomForestGini   0.993902       0.093028  0.824127   \n",
       " 5         LightGBMLarge   0.987805       0.008288  0.826434   \n",
       " 6        NeuralNetTorch   0.987805       0.011611  3.728502   \n",
       " 7            LightGBMXT   0.981707       0.003984  3.725731   \n",
       " 8               XGBoost   0.981707       0.006525  0.239798   \n",
       " 9        ExtraTreesGini   0.981707       0.092294  0.811968   \n",
       " 10       ExtraTreesEntr   0.981707       0.095976  0.811218   \n",
       " 11      NeuralNetFastAI   0.975610       0.010157  2.550168   \n",
       " 12       KNeighborsDist   0.951220       0.003626  0.009513   \n",
       " 13       KNeighborsUnif   0.695122       0.016897  1.296505   \n",
       " \n",
       "     pred_time_val_marginal  fit_time_marginal  stack_level  can_infer  \\\n",
       " 0                 0.002634           1.209918            1       True   \n",
       " 1                 0.002830           0.335967            1       True   \n",
       " 2                 0.001318           0.923662            2       True   \n",
       " 3                 0.091164           0.918696            1       True   \n",
       " 4                 0.093028           0.824127            1       True   \n",
       " 5                 0.008288           0.826434            1       True   \n",
       " 6                 0.011611           3.728502            1       True   \n",
       " 7                 0.003984           3.725731            1       True   \n",
       " 8                 0.006525           0.239798            1       True   \n",
       " 9                 0.092294           0.811968            1       True   \n",
       " 10                0.095976           0.811218            1       True   \n",
       " 11                0.010157           2.550168            1       True   \n",
       " 12                0.003626           0.009513            1       True   \n",
       " 13                0.016897           1.296505            1       True   \n",
       " \n",
       "     fit_order  \n",
       " 0           7  \n",
       " 1           4  \n",
       " 2          14  \n",
       " 3           6  \n",
       " 4           5  \n",
       " 5          13  \n",
       " 6          12  \n",
       " 7           3  \n",
       " 8          11  \n",
       " 9           8  \n",
       " 10          9  \n",
       " 11         10  \n",
       " 12          2  \n",
       " 13          1  }"
      ]
     },
     "execution_count": 20,
     "metadata": {},
     "output_type": "execute_result"
    }
   ],
   "source": [
    "predictor.fit_summary()"
   ]
  },
  {
   "cell_type": "code",
   "execution_count": 21,
   "id": "852b3f7c",
   "metadata": {
    "execution": {
     "iopub.execute_input": "2023-05-31T15:37:30.900399Z",
     "iopub.status.busy": "2023-05-31T15:37:30.899859Z",
     "iopub.status.idle": "2023-05-31T15:37:30.910521Z",
     "shell.execute_reply": "2023-05-31T15:37:30.909695Z"
    },
    "papermill": {
     "duration": 0.158294,
     "end_time": "2023-05-31T15:37:30.914450",
     "exception": false,
     "start_time": "2023-05-31T15:37:30.756156",
     "status": "completed"
    },
    "tags": []
   },
   "outputs": [],
   "source": [
    "# Load the predictor that I have saved\n",
    "brand_new_preditor = TabularPredictor.load(\"reservation_predictors/\")"
   ]
  },
  {
   "cell_type": "markdown",
   "id": "62dd0db0",
   "metadata": {
    "papermill": {
     "duration": 0.131117,
     "end_time": "2023-05-31T15:37:31.171933",
     "exception": false,
     "start_time": "2023-05-31T15:37:31.040816",
     "status": "completed"
    },
    "tags": []
   },
   "source": [
    "### Validation\n",
    "Evaluate the model performance on the unseen test data:\n",
    "\n",
    "To validate this model, drop the label from the test data and subsequently store it:"
   ]
  },
  {
   "cell_type": "code",
   "execution_count": 22,
   "id": "06f0a975",
   "metadata": {
    "execution": {
     "iopub.execute_input": "2023-05-31T15:37:31.439652Z",
     "iopub.status.busy": "2023-05-31T15:37:31.439248Z",
     "iopub.status.idle": "2023-05-31T15:37:31.444055Z",
     "shell.execute_reply": "2023-05-31T15:37:31.443165Z"
    },
    "papermill": {
     "duration": 0.144276,
     "end_time": "2023-05-31T15:37:31.448240",
     "exception": false,
     "start_time": "2023-05-31T15:37:31.303964",
     "status": "completed"
    },
    "tags": []
   },
   "outputs": [],
   "source": [
    "y_test = test_data['target']"
   ]
  },
  {
   "cell_type": "code",
   "execution_count": 23,
   "id": "72d024b7",
   "metadata": {
    "execution": {
     "iopub.execute_input": "2023-05-31T15:37:31.710655Z",
     "iopub.status.busy": "2023-05-31T15:37:31.710278Z",
     "iopub.status.idle": "2023-05-31T15:37:31.716051Z",
     "shell.execute_reply": "2023-05-31T15:37:31.715177Z"
    },
    "papermill": {
     "duration": 0.139582,
     "end_time": "2023-05-31T15:37:31.720330",
     "exception": false,
     "start_time": "2023-05-31T15:37:31.580748",
     "status": "completed"
    },
    "tags": []
   },
   "outputs": [],
   "source": [
    "test_features = test_data.drop(columns=['target'])"
   ]
  },
  {
   "cell_type": "code",
   "execution_count": 24,
   "id": "cdddc1b7",
   "metadata": {
    "execution": {
     "iopub.execute_input": "2023-05-31T15:37:31.998863Z",
     "iopub.status.busy": "2023-05-31T15:37:31.998481Z",
     "iopub.status.idle": "2023-05-31T15:37:32.006751Z",
     "shell.execute_reply": "2023-05-31T15:37:32.005799Z"
    },
    "papermill": {
     "duration": 0.145908,
     "end_time": "2023-05-31T15:37:32.008746",
     "exception": false,
     "start_time": "2023-05-31T15:37:31.862838",
     "status": "completed"
    },
    "tags": []
   },
   "outputs": [
    {
     "data": {
      "text/plain": [
       "1       0\n",
       "4       0\n",
       "13      0\n",
       "14      0\n",
       "20      0\n",
       "       ..\n",
       "1003    1\n",
       "1007    1\n",
       "1009    0\n",
       "1019    1\n",
       "1023    1\n",
       "Name: target, Length: 205, dtype: int64"
      ]
     },
     "execution_count": 24,
     "metadata": {},
     "output_type": "execute_result"
    }
   ],
   "source": [
    "y_test"
   ]
  },
  {
   "cell_type": "code",
   "execution_count": 25,
   "id": "597b1fed",
   "metadata": {
    "execution": {
     "iopub.execute_input": "2023-05-31T15:37:32.196233Z",
     "iopub.status.busy": "2023-05-31T15:37:32.195922Z",
     "iopub.status.idle": "2023-05-31T15:37:32.215401Z",
     "shell.execute_reply": "2023-05-31T15:37:32.214428Z"
    },
    "papermill": {
     "duration": 0.115133,
     "end_time": "2023-05-31T15:37:32.217457",
     "exception": false,
     "start_time": "2023-05-31T15:37:32.102324",
     "status": "completed"
    },
    "tags": []
   },
   "outputs": [
    {
     "data": {
      "text/plain": [
       "1       0\n",
       "4       0\n",
       "13      0\n",
       "14      0\n",
       "20      1\n",
       "       ..\n",
       "1003    0\n",
       "1007    1\n",
       "1009    0\n",
       "1019    1\n",
       "1023    1\n",
       "Name: target, Length: 205, dtype: int64"
      ]
     },
     "execution_count": 25,
     "metadata": {},
     "output_type": "execute_result"
    }
   ],
   "source": [
    "y_pred = brand_new_preditor.predict(test_features)\n",
    "y_pred"
   ]
  },
  {
   "cell_type": "code",
   "execution_count": 26,
   "id": "bdd7e763",
   "metadata": {
    "execution": {
     "iopub.execute_input": "2023-05-31T15:37:32.427298Z",
     "iopub.status.busy": "2023-05-31T15:37:32.426958Z",
     "iopub.status.idle": "2023-05-31T15:37:32.433975Z",
     "shell.execute_reply": "2023-05-31T15:37:32.433022Z"
    },
    "papermill": {
     "duration": 0.115409,
     "end_time": "2023-05-31T15:37:32.436103",
     "exception": false,
     "start_time": "2023-05-31T15:37:32.320694",
     "status": "completed"
    },
    "tags": []
   },
   "outputs": [
    {
     "data": {
      "text/plain": [
       "0.9512195121951219"
      ]
     },
     "execution_count": 26,
     "metadata": {},
     "output_type": "execute_result"
    }
   ],
   "source": [
    "# Accuracy\n",
    "sum(y_test == y_pred)/len(y_test)"
   ]
  },
  {
   "cell_type": "code",
   "execution_count": 27,
   "id": "e9c3fcc4",
   "metadata": {
    "execution": {
     "iopub.execute_input": "2023-05-31T15:37:32.631626Z",
     "iopub.status.busy": "2023-05-31T15:37:32.631262Z",
     "iopub.status.idle": "2023-05-31T15:37:32.661074Z",
     "shell.execute_reply": "2023-05-31T15:37:32.658785Z"
    },
    "papermill": {
     "duration": 0.129417,
     "end_time": "2023-05-31T15:37:32.663475",
     "exception": false,
     "start_time": "2023-05-31T15:37:32.534058",
     "status": "completed"
    },
    "tags": []
   },
   "outputs": [
    {
     "name": "stderr",
     "output_type": "stream",
     "text": [
      "Evaluation: accuracy on test data: 0.9512195121951219\n",
      "Evaluations on test data:\n",
      "{\n",
      "    \"accuracy\": 0.9512195121951219,\n",
      "    \"balanced_accuracy\": 0.951496093005527,\n",
      "    \"mcc\": 0.9025622511268953,\n",
      "    \"f1\": 0.9523809523809524,\n",
      "    \"precision\": 0.9615384615384616,\n",
      "    \"recall\": 0.9433962264150944\n",
      "}\n"
     ]
    }
   ],
   "source": [
    "metrics = predictor.evaluate_predictions(y_true=y_test,y_pred=y_pred,auxiliary_metrics=True)"
   ]
  },
  {
   "cell_type": "code",
   "execution_count": 28,
   "id": "3a80f2de",
   "metadata": {
    "execution": {
     "iopub.execute_input": "2023-05-31T15:37:32.854346Z",
     "iopub.status.busy": "2023-05-31T15:37:32.853276Z",
     "iopub.status.idle": "2023-05-31T15:37:32.861173Z",
     "shell.execute_reply": "2023-05-31T15:37:32.860331Z"
    },
    "papermill": {
     "duration": 0.102678,
     "end_time": "2023-05-31T15:37:32.863163",
     "exception": false,
     "start_time": "2023-05-31T15:37:32.760485",
     "status": "completed"
    },
    "tags": []
   },
   "outputs": [
    {
     "data": {
      "text/plain": [
       "{'accuracy': 0.9512195121951219,\n",
       " 'balanced_accuracy': 0.951496093005527,\n",
       " 'mcc': 0.9025622511268953,\n",
       " 'f1': 0.9523809523809524,\n",
       " 'precision': 0.9615384615384616,\n",
       " 'recall': 0.9433962264150944}"
      ]
     },
     "execution_count": 28,
     "metadata": {},
     "output_type": "execute_result"
    }
   ],
   "source": [
    "metrics"
   ]
  },
  {
   "cell_type": "code",
   "execution_count": 29,
   "id": "e720f00a",
   "metadata": {
    "execution": {
     "iopub.execute_input": "2023-05-31T15:37:33.050664Z",
     "iopub.status.busy": "2023-05-31T15:37:33.050026Z",
     "iopub.status.idle": "2023-05-31T15:37:33.273406Z",
     "shell.execute_reply": "2023-05-31T15:37:33.272274Z"
    },
    "papermill": {
     "duration": 0.320001,
     "end_time": "2023-05-31T15:37:33.276189",
     "exception": false,
     "start_time": "2023-05-31T15:37:32.956188",
     "status": "completed"
    },
    "tags": []
   },
   "outputs": [
    {
     "name": "stderr",
     "output_type": "stream",
     "text": [
      "Computing feature importance via permutation shuffling for 13 features using 205 rows with 5 shuffle sets...\n",
      "\t0.71s\t= Expected runtime (0.14s per shuffle set)\n",
      "\t0.2s\t= Actual runtime (Completed 5 of 5 shuffle sets)\n"
     ]
    },
    {
     "data": {
      "text/html": [
       "<div>\n",
       "<style scoped>\n",
       "    .dataframe tbody tr th:only-of-type {\n",
       "        vertical-align: middle;\n",
       "    }\n",
       "\n",
       "    .dataframe tbody tr th {\n",
       "        vertical-align: top;\n",
       "    }\n",
       "\n",
       "    .dataframe thead th {\n",
       "        text-align: right;\n",
       "    }\n",
       "</style>\n",
       "<table border=\"1\" class=\"dataframe\">\n",
       "  <thead>\n",
       "    <tr style=\"text-align: right;\">\n",
       "      <th></th>\n",
       "      <th>importance</th>\n",
       "      <th>stddev</th>\n",
       "      <th>p_value</th>\n",
       "      <th>n</th>\n",
       "      <th>p99_high</th>\n",
       "      <th>p99_low</th>\n",
       "    </tr>\n",
       "  </thead>\n",
       "  <tbody>\n",
       "    <tr>\n",
       "      <th>ca</th>\n",
       "      <td>0.122927</td>\n",
       "      <td>0.019934</td>\n",
       "      <td>8.015592e-05</td>\n",
       "      <td>5</td>\n",
       "      <td>0.163972</td>\n",
       "      <td>0.081882</td>\n",
       "    </tr>\n",
       "    <tr>\n",
       "      <th>cp</th>\n",
       "      <td>0.104390</td>\n",
       "      <td>0.004363</td>\n",
       "      <td>3.653383e-07</td>\n",
       "      <td>5</td>\n",
       "      <td>0.113374</td>\n",
       "      <td>0.095407</td>\n",
       "    </tr>\n",
       "    <tr>\n",
       "      <th>age</th>\n",
       "      <td>0.078049</td>\n",
       "      <td>0.014222</td>\n",
       "      <td>1.266348e-04</td>\n",
       "      <td>5</td>\n",
       "      <td>0.107332</td>\n",
       "      <td>0.048766</td>\n",
       "    </tr>\n",
       "    <tr>\n",
       "      <th>sex</th>\n",
       "      <td>0.067317</td>\n",
       "      <td>0.010575</td>\n",
       "      <td>7.074620e-05</td>\n",
       "      <td>5</td>\n",
       "      <td>0.089092</td>\n",
       "      <td>0.045542</td>\n",
       "    </tr>\n",
       "    <tr>\n",
       "      <th>thal</th>\n",
       "      <td>0.065366</td>\n",
       "      <td>0.019081</td>\n",
       "      <td>7.804543e-04</td>\n",
       "      <td>5</td>\n",
       "      <td>0.104653</td>\n",
       "      <td>0.026079</td>\n",
       "    </tr>\n",
       "    <tr>\n",
       "      <th>oldpeak</th>\n",
       "      <td>0.051707</td>\n",
       "      <td>0.021706</td>\n",
       "      <td>2.989262e-03</td>\n",
       "      <td>5</td>\n",
       "      <td>0.096400</td>\n",
       "      <td>0.007014</td>\n",
       "    </tr>\n",
       "    <tr>\n",
       "      <th>exang</th>\n",
       "      <td>0.044878</td>\n",
       "      <td>0.010575</td>\n",
       "      <td>3.441407e-04</td>\n",
       "      <td>5</td>\n",
       "      <td>0.066653</td>\n",
       "      <td>0.023103</td>\n",
       "    </tr>\n",
       "    <tr>\n",
       "      <th>slope</th>\n",
       "      <td>0.044878</td>\n",
       "      <td>0.006360</td>\n",
       "      <td>4.713961e-05</td>\n",
       "      <td>5</td>\n",
       "      <td>0.057974</td>\n",
       "      <td>0.031782</td>\n",
       "    </tr>\n",
       "    <tr>\n",
       "      <th>thalach</th>\n",
       "      <td>0.039024</td>\n",
       "      <td>0.010348</td>\n",
       "      <td>5.414893e-04</td>\n",
       "      <td>5</td>\n",
       "      <td>0.060331</td>\n",
       "      <td>0.017718</td>\n",
       "    </tr>\n",
       "    <tr>\n",
       "      <th>chol</th>\n",
       "      <td>0.031220</td>\n",
       "      <td>0.005562</td>\n",
       "      <td>1.159284e-04</td>\n",
       "      <td>5</td>\n",
       "      <td>0.042671</td>\n",
       "      <td>0.019768</td>\n",
       "    </tr>\n",
       "    <tr>\n",
       "      <th>trestbps</th>\n",
       "      <td>0.025366</td>\n",
       "      <td>0.007235</td>\n",
       "      <td>7.150067e-04</td>\n",
       "      <td>5</td>\n",
       "      <td>0.040263</td>\n",
       "      <td>0.010468</td>\n",
       "    </tr>\n",
       "    <tr>\n",
       "      <th>restecg</th>\n",
       "      <td>0.014634</td>\n",
       "      <td>0.005974</td>\n",
       "      <td>2.704239e-03</td>\n",
       "      <td>5</td>\n",
       "      <td>0.026935</td>\n",
       "      <td>0.002333</td>\n",
       "    </tr>\n",
       "    <tr>\n",
       "      <th>fbs</th>\n",
       "      <td>0.000976</td>\n",
       "      <td>0.002182</td>\n",
       "      <td>1.869505e-01</td>\n",
       "      <td>5</td>\n",
       "      <td>0.005467</td>\n",
       "      <td>-0.003516</td>\n",
       "    </tr>\n",
       "  </tbody>\n",
       "</table>\n",
       "</div>"
      ],
      "text/plain": [
       "          importance    stddev       p_value  n  p99_high   p99_low\n",
       "ca          0.122927  0.019934  8.015592e-05  5  0.163972  0.081882\n",
       "cp          0.104390  0.004363  3.653383e-07  5  0.113374  0.095407\n",
       "age         0.078049  0.014222  1.266348e-04  5  0.107332  0.048766\n",
       "sex         0.067317  0.010575  7.074620e-05  5  0.089092  0.045542\n",
       "thal        0.065366  0.019081  7.804543e-04  5  0.104653  0.026079\n",
       "oldpeak     0.051707  0.021706  2.989262e-03  5  0.096400  0.007014\n",
       "exang       0.044878  0.010575  3.441407e-04  5  0.066653  0.023103\n",
       "slope       0.044878  0.006360  4.713961e-05  5  0.057974  0.031782\n",
       "thalach     0.039024  0.010348  5.414893e-04  5  0.060331  0.017718\n",
       "chol        0.031220  0.005562  1.159284e-04  5  0.042671  0.019768\n",
       "trestbps    0.025366  0.007235  7.150067e-04  5  0.040263  0.010468\n",
       "restecg     0.014634  0.005974  2.704239e-03  5  0.026935  0.002333\n",
       "fbs         0.000976  0.002182  1.869505e-01  5  0.005467 -0.003516"
      ]
     },
     "execution_count": 29,
     "metadata": {},
     "output_type": "execute_result"
    }
   ],
   "source": [
    "# Features and Label\n",
    "predictor.feature_importance(test_data)"
   ]
  },
  {
   "cell_type": "markdown",
   "id": "98123c9c",
   "metadata": {
    "papermill": {
     "duration": 0.094336,
     "end_time": "2023-05-31T15:37:33.471984",
     "exception": false,
     "start_time": "2023-05-31T15:37:33.377648",
     "status": "completed"
    },
    "tags": []
   },
   "source": [
    "## Feature Importance\n",
    "A feature’s importance score represents the performance drop that results when the model makes predictions on a perturbed copy of the data where this feature’s values have been randomly shuffled across rows. A feature score of 0.01 would indicate that the predictive performance dropped by 0.01 when the feature was randomly shuffled. The higher the score a feature has, the more important it is to the model’s performance. If a feature has a negative score, this means that the feature is likely harmful to the final model, and a model trained with the feature removed would be expected to achieve a better predictive performance. Note that calculating feature importance can be a very computationally expensive process, particularly if the model uses hundreds or thousands of features. In many cases, this can take longer than the original model training. To estimate how long feature_importance(model, data, features) will take, it is roughly the time taken by predict_proba(data, model) multiplied by the number of features."
   ]
  },
  {
   "cell_type": "markdown",
   "id": "484e933b",
   "metadata": {
    "papermill": {
     "duration": 0.09318,
     "end_time": "2023-05-31T15:37:33.659054",
     "exception": false,
     "start_time": "2023-05-31T15:37:33.565874",
     "status": "completed"
    },
    "tags": []
   },
   "source": [
    "# Conclusion\n",
    "\n",
    "#### Benefits of using AutoML (AutoGluon)\n",
    "In general, an AutoML model aims to automate all time-consuming operations like the selection of algorithms, writing the code, pipeline development, and hyperparameter tuning thereby allowing the data scientists to focus more on speedily resolving the business challenges at hand. Within the pipeline, the AutoML framework\n",
    "\n",
    "1. Considers and selects multiple machine learning algorithms from the available ones like the random forest, k-Nearest Neighbor, SVMs, etc.\n",
    "2. Performs data preprocessing steps like missing value imputation, feature scaling, feature selection, etc..,\n",
    "3. Optimization or the hyperparameter tuning for all of the models\n",
    "4. Decides/Tries multiple ways to ensemble or stack the algorithms\n",
    "\n",
    "The following are the benefits of using the ‘AutoGluon’ library:\n",
    "\n",
    "* Simplicity: Training of classification and regression models and deployment can be achieved with a few lines of code.\n",
    "* Robustness: Without doing any feature engineering or data manipulation, users should be able to use raw data.\n",
    "* Predictable-timing: Getting the best model under a specified time constraint.\n",
    "* Fault-tolerance: Training can be resumed even if interrupted and the users can inspect all the intermediate steps.\n",
    "\n",
    "AutoGluon helps me to save time and I can get more accuracy.<br>\n",
    "🎉🎉🎉In this case, I have 95% accuracy (0.9512195121951219)"
   ]
  },
  {
   "cell_type": "code",
   "execution_count": null,
   "id": "1b3249dd",
   "metadata": {
    "papermill": {
     "duration": 0.094098,
     "end_time": "2023-05-31T15:37:33.844536",
     "exception": false,
     "start_time": "2023-05-31T15:37:33.750438",
     "status": "completed"
    },
    "tags": []
   },
   "outputs": [],
   "source": []
  }
 ],
 "metadata": {
  "kernelspec": {
   "display_name": "Python 3",
   "language": "python",
   "name": "python3"
  },
  "language_info": {
   "codemirror_mode": {
    "name": "ipython",
    "version": 3
   },
   "file_extension": ".py",
   "mimetype": "text/x-python",
   "name": "python",
   "nbconvert_exporter": "python",
   "pygments_lexer": "ipython3",
   "version": "3.10.10"
  },
  "papermill": {
   "default_parameters": {},
   "duration": 277.784263,
   "end_time": "2023-05-31T15:37:36.955484",
   "environment_variables": {},
   "exception": null,
   "input_path": "__notebook__.ipynb",
   "output_path": "__notebook__.ipynb",
   "parameters": {},
   "start_time": "2023-05-31T15:32:59.171221",
   "version": "2.4.0"
  }
 },
 "nbformat": 4,
 "nbformat_minor": 5
}
