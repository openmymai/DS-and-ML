{
 "cells": [
  {
   "cell_type": "markdown",
   "id": "60b8b973",
   "metadata": {
    "papermill": {
     "duration": 0.008092,
     "end_time": "2023-06-04T17:47:45.421536",
     "exception": false,
     "start_time": "2023-06-04T17:47:45.413444",
     "status": "completed"
    },
    "tags": []
   },
   "source": [
    "# Scraping, Analyzing, and Visualizing Stock Data\n",
    "\n",
    "There are two key factors that influence a stock's performance: the profitability of the underlying company and how investors value that profitability. An earnings report can tell you about the profitability part but not the value that investors place on those profits. One way to determine a stock's value is by comparing its share price to the company's earnings, a measurement known as the price-to-earnings ratio (or P/E for short).\n",
    "\n",
    "## How to analyze a stock using the P/E ratio\n",
    "As a result of all this, companies and industry groups generating the same level of earnings per share can be awarded very different P/E ratios. For example, two companies may both report earnings of <span>$2 per share but the stock trading at </span> &#36;20 <span>a share has a P/E ratio of 10 while the other trading at</span> &#36;30 a share has a P/E of 15.\n",
    "\n",
    "This can be due in part to the consistency of earnings, the anticipation for increased earnings, and the industry group that each stock is in. If investors are excited about the prospects for a given company, they may be willing to accept a higher P/E ratio in order to buy its shares. On the other end of the spectrum, if investors feel that future earnings will be underwhelming, a stock's P/E ratio may languish at a relatively low level.\n",
    "\n",
    "The key is to look at whether the current P/E ratio for the stock of a given company is presently \"high\" or \"low.\" The tricky part is that there are arbitrary cutoff levels that qualify as \"high\" or \"low.\" The best way to assess a company's P/E ratio is by:\n",
    "1. Comparing the company's current P/E to its historical P/E range\n",
    "2. If appropriate, comparing the company's current P/E to that of similar companies in the same business or industry group"
   ]
  },
  {
   "cell_type": "code",
   "execution_count": 1,
   "id": "73c8b08b",
   "metadata": {
    "_kg_hide-input": true,
    "execution": {
     "iopub.execute_input": "2023-06-04T17:47:45.438980Z",
     "iopub.status.busy": "2023-06-04T17:47:45.438611Z",
     "iopub.status.idle": "2023-06-04T17:47:45.452434Z",
     "shell.execute_reply": "2023-06-04T17:47:45.451636Z"
    },
    "papermill": {
     "duration": 0.025309,
     "end_time": "2023-06-04T17:47:45.454736",
     "exception": false,
     "start_time": "2023-06-04T17:47:45.429427",
     "status": "completed"
    },
    "tags": []
   },
   "outputs": [
    {
     "data": {
      "text/html": [
       "\n",
       "<style>\n",
       "@import url(\"https://fonts.googleapis.com/css2?family=Raleway&family=Roboto:ital,wght@0,500;0,900;1,500&display=swap\");\n",
       ".output_png {\n",
       "    display: table-cell;\n",
       "    text-align: center;\n",
       "    vertical-align: middle;\n",
       "    horizontal-align: middle;\n",
       "}\n",
       "h1 {\n",
       "    display: inline-block;\n",
       "    text-align: center;\n",
       "    padding: 30px;\n",
       "    margin: 0;\n",
       "    background: linear-gradient(0deg, blue, green 40%, red);\n",
       "    -webkit-background-clip: text;\n",
       "    -webkit-text-fill-color: transparent;\n",
       "    width: 90%;\n",
       "    font-family: Raleway;\n",
       "    border-radius: 5px;\n",
       "}\n",
       "\n",
       "h2 {\n",
       "    display: inline-block;\n",
       "    text-align: center;\n",
       "    padding: 25px;\n",
       "    margin: 0;\n",
       "    background: linear-gradient(0deg, blue, green 40%, red);\n",
       "    -webkit-background-clip: text;\n",
       "    -webkit-text-fill-color: transparent;\n",
       "    width: 90%;\n",
       "    font-family: Raleway;\n",
       "    border-radius: 5px;\n",
       "}\n",
       "\n",
       "h3 {\n",
       "    display: inline-block;\n",
       "    text-align: center;\n",
       "    padding: 20px;\n",
       "    margin: 0;\n",
       "    background: linear-gradient(0deg, blue, green 40%, red);\n",
       "    -webkit-background-clip: text;\n",
       "    -webkit-text-fill-color: transparent;\n",
       "    width: 90%;\n",
       "    font-family: Raleway;\n",
       "    border-radius: 5px;\n",
       "}\n",
       "\n",
       "\n",
       "body, p, ul, li {\n",
       "    font-family: Raleway;\n",
       "    font-size: 15px;\n",
       "    color: charcoal;\n",
       "}\n",
       "div {\n",
       "    font-size: 14px;\n",
       "    margin: 0;\n",
       "\n",
       "}\n",
       "\n",
       "h4 {\n",
       "    padding: 0px;\n",
       "    margin: 0;\n",
       "    font-family: Raleway;\n",
       "    font-size: 20px;\n",
       "    background: linear-gradient(to right, #30CFD0 0%, #121FCF 100%);\n",
       "    -webkit-background-clip: text;\n",
       "    -webkit-text-fill-color: transparent;\n",
       "}\n",
       "</style>\n"
      ],
      "text/plain": [
       "<IPython.core.display.HTML object>"
      ]
     },
     "execution_count": 1,
     "metadata": {},
     "output_type": "execute_result"
    }
   ],
   "source": [
    "from IPython.core.display import HTML\n",
    "HTML(\"\"\"\n",
    "<style>\n",
    "@import url(\"https://fonts.googleapis.com/css2?family=Raleway&family=Roboto:ital,wght@0,500;0,900;1,500&display=swap\");\n",
    ".output_png {\n",
    "    display: table-cell;\n",
    "    text-align: center;\n",
    "    vertical-align: middle;\n",
    "    horizontal-align: middle;\n",
    "}\n",
    "h1 {\n",
    "    display: inline-block;\n",
    "    text-align: center;\n",
    "    padding: 30px;\n",
    "    margin: 0;\n",
    "    background: linear-gradient(0deg, blue, green 40%, red);\n",
    "    -webkit-background-clip: text;\n",
    "    -webkit-text-fill-color: transparent;\n",
    "    width: 90%;\n",
    "    font-family: Raleway;\n",
    "    border-radius: 5px;\n",
    "}\n",
    "\n",
    "h2 {\n",
    "    display: inline-block;\n",
    "    text-align: center;\n",
    "    padding: 25px;\n",
    "    margin: 0;\n",
    "    background: linear-gradient(0deg, blue, green 40%, red);\n",
    "    -webkit-background-clip: text;\n",
    "    -webkit-text-fill-color: transparent;\n",
    "    width: 90%;\n",
    "    font-family: Raleway;\n",
    "    border-radius: 5px;\n",
    "}\n",
    "\n",
    "h3 {\n",
    "    display: inline-block;\n",
    "    text-align: center;\n",
    "    padding: 20px;\n",
    "    margin: 0;\n",
    "    background: linear-gradient(0deg, blue, green 40%, red);\n",
    "    -webkit-background-clip: text;\n",
    "    -webkit-text-fill-color: transparent;\n",
    "    width: 90%;\n",
    "    font-family: Raleway;\n",
    "    border-radius: 5px;\n",
    "}\n",
    "\n",
    "\n",
    "body, p, ul, li {\n",
    "    font-family: Raleway;\n",
    "    font-size: 15px;\n",
    "    color: charcoal;\n",
    "}\n",
    "div {\n",
    "    font-size: 14px;\n",
    "    margin: 0;\n",
    "\n",
    "}\n",
    "\n",
    "h4 {\n",
    "    padding: 0px;\n",
    "    margin: 0;\n",
    "    font-family: Raleway;\n",
    "    font-size: 20px;\n",
    "    background: linear-gradient(to right, #30CFD0 0%, #121FCF 100%);\n",
    "    -webkit-background-clip: text;\n",
    "    -webkit-text-fill-color: transparent;\n",
    "}\n",
    "</style>\n",
    "\"\"\")"
   ]
  },
  {
   "cell_type": "code",
   "execution_count": 2,
   "id": "0433e6a2",
   "metadata": {
    "_kg_hide-output": true,
    "execution": {
     "iopub.execute_input": "2023-06-04T17:47:45.473021Z",
     "iopub.status.busy": "2023-06-04T17:47:45.472624Z",
     "iopub.status.idle": "2023-06-04T17:48:00.120678Z",
     "shell.execute_reply": "2023-06-04T17:48:00.118893Z"
    },
    "papermill": {
     "duration": 14.661303,
     "end_time": "2023-06-04T17:48:00.124268",
     "exception": false,
     "start_time": "2023-06-04T17:47:45.462965",
     "status": "completed"
    },
    "tags": []
   },
   "outputs": [
    {
     "name": "stdout",
     "output_type": "stream",
     "text": [
      "Collecting selenium\r\n",
      "  Downloading selenium-4.9.1-py3-none-any.whl (6.6 MB)\r\n",
      "\u001b[2K     \u001b[90m━━━━━━━━━━━━━━━━━━━━━━━━━━━━━━━━━━━━━━━━\u001b[0m \u001b[32m6.6/6.6 MB\u001b[0m \u001b[31m43.4 MB/s\u001b[0m eta \u001b[36m0:00:00\u001b[0m\r\n",
      "\u001b[?25hRequirement already satisfied: urllib3[socks]<3,>=1.26 in /opt/conda/lib/python3.10/site-packages (from selenium) (1.26.15)\r\n",
      "Collecting trio~=0.17 (from selenium)\r\n",
      "  Downloading trio-0.22.0-py3-none-any.whl (384 kB)\r\n",
      "\u001b[2K     \u001b[90m━━━━━━━━━━━━━━━━━━━━━━━━━━━━━━━━━━━━━━\u001b[0m \u001b[32m384.9/384.9 kB\u001b[0m \u001b[31m29.4 MB/s\u001b[0m eta \u001b[36m0:00:00\u001b[0m\r\n",
      "\u001b[?25hCollecting trio-websocket~=0.9 (from selenium)\r\n",
      "  Downloading trio_websocket-0.10.2-py3-none-any.whl (17 kB)\r\n",
      "Requirement already satisfied: certifi>=2021.10.8 in /opt/conda/lib/python3.10/site-packages (from selenium) (2023.5.7)\r\n",
      "Requirement already satisfied: attrs>=19.2.0 in /opt/conda/lib/python3.10/site-packages (from trio~=0.17->selenium) (23.1.0)\r\n",
      "Requirement already satisfied: sortedcontainers in /opt/conda/lib/python3.10/site-packages (from trio~=0.17->selenium) (2.4.0)\r\n",
      "Collecting async-generator>=1.9 (from trio~=0.17->selenium)\r\n",
      "  Downloading async_generator-1.10-py3-none-any.whl (18 kB)\r\n",
      "Requirement already satisfied: idna in /opt/conda/lib/python3.10/site-packages (from trio~=0.17->selenium) (3.4)\r\n",
      "Collecting outcome (from trio~=0.17->selenium)\r\n",
      "  Downloading outcome-1.2.0-py2.py3-none-any.whl (9.7 kB)\r\n",
      "Requirement already satisfied: sniffio in /opt/conda/lib/python3.10/site-packages (from trio~=0.17->selenium) (1.3.0)\r\n",
      "Collecting exceptiongroup>=1.0.0rc9 (from trio~=0.17->selenium)\r\n",
      "  Downloading exceptiongroup-1.1.1-py3-none-any.whl (14 kB)\r\n",
      "Collecting wsproto>=0.14 (from trio-websocket~=0.9->selenium)\r\n",
      "  Downloading wsproto-1.2.0-py3-none-any.whl (24 kB)\r\n",
      "Requirement already satisfied: PySocks!=1.5.7,<2.0,>=1.5.6 in /opt/conda/lib/python3.10/site-packages (from urllib3[socks]<3,>=1.26->selenium) (1.7.1)\r\n",
      "Requirement already satisfied: h11<1,>=0.9.0 in /opt/conda/lib/python3.10/site-packages (from wsproto>=0.14->trio-websocket~=0.9->selenium) (0.14.0)\r\n",
      "Installing collected packages: wsproto, outcome, exceptiongroup, async-generator, trio, trio-websocket, selenium\r\n",
      "Successfully installed async-generator-1.10 exceptiongroup-1.1.1 outcome-1.2.0 selenium-4.9.1 trio-0.22.0 trio-websocket-0.10.2 wsproto-1.2.0\r\n",
      "\u001b[33mWARNING: Running pip as the 'root' user can result in broken permissions and conflicting behaviour with the system package manager. It is recommended to use a virtual environment instead: https://pip.pypa.io/warnings/venv\u001b[0m\u001b[33m\r\n",
      "\u001b[0m"
     ]
    }
   ],
   "source": [
    "!pip install selenium # install selenium for web scraping"
   ]
  },
  {
   "cell_type": "code",
   "execution_count": 3,
   "id": "7eca75d1",
   "metadata": {
    "execution": {
     "iopub.execute_input": "2023-06-04T17:48:00.148704Z",
     "iopub.status.busy": "2023-06-04T17:48:00.148198Z",
     "iopub.status.idle": "2023-06-04T17:48:01.667904Z",
     "shell.execute_reply": "2023-06-04T17:48:01.666776Z"
    },
    "papermill": {
     "duration": 1.535372,
     "end_time": "2023-06-04T17:48:01.670520",
     "exception": false,
     "start_time": "2023-06-04T17:48:00.135148",
     "status": "completed"
    },
    "tags": []
   },
   "outputs": [],
   "source": [
    "# This Python 3 environment comes with many helpful analytics libraries installed\n",
    "# It is defined by the kaggle/python Docker image: https://github.com/kaggle/docker-python\n",
    "# For example, here's several helpful packages to load\n",
    "\n",
    "import numpy as np # linear algebra\n",
    "import pandas as pd # data processing, CSV file I/O (e.g. pd.read_csv)\n",
    "from selenium import webdriver # Selenium, webdriver to scrap dynamic website\n",
    "import matplotlib.pyplot as plt\n",
    "import seaborn as sns\n",
    "%matplotlib inline\n",
    "\n",
    "# Input data files are available in the read-only \"../input/\" directory\n",
    "# For example, running this (by clicking run or pressing Shift+Enter) will list all files under the input directory\n",
    "\n",
    "import os\n",
    "for dirname, _, filenames in os.walk('/kaggle/input'):\n",
    "    for filename in filenames:\n",
    "        print(os.path.join(dirname, filename))\n",
    "\n",
    "# You can write up to 20GB to the current directory (/kaggle/working/) that gets preserved as output when you create a version using \"Save & Run All\" \n",
    "# You can also write temporary files to /kaggle/temp/, but they won't be saved outside of the current sessio"
   ]
  },
  {
   "cell_type": "code",
   "execution_count": 4,
   "id": "e8308fff",
   "metadata": {
    "_kg_hide-output": true,
    "execution": {
     "iopub.execute_input": "2023-06-04T17:48:01.689717Z",
     "iopub.status.busy": "2023-06-04T17:48:01.688843Z",
     "iopub.status.idle": "2023-06-04T17:48:33.719339Z",
     "shell.execute_reply": "2023-06-04T17:48:33.717806Z"
    },
    "papermill": {
     "duration": 32.043044,
     "end_time": "2023-06-04T17:48:33.722024",
     "exception": false,
     "start_time": "2023-06-04T17:48:01.678980",
     "status": "completed"
    },
    "tags": []
   },
   "outputs": [
    {
     "name": "stdout",
     "output_type": "stream",
     "text": [
      "--2023-06-04 17:48:02--  https://dl.google.com/linux/linux_signing_key.pub\r\n",
      "Resolving dl.google.com (dl.google.com)... 172.217.218.91, 172.217.218.93, 172.217.218.136, ...\r\n",
      "Connecting to dl.google.com (dl.google.com)|172.217.218.91|:443... connected.\r\n",
      "HTTP request sent, awaiting response... 200 OK\r\n",
      "Length: 14605 (14K) [application/octet-stream]\r\n",
      "Saving to: ‘linux_signing_key.pub’\r\n",
      "\r\n",
      "linux_signing_key.p 100%[===================>]  14.26K  --.-KB/s    in 0s      \r\n",
      "\r\n",
      "2023-06-04 17:48:02 (55.1 MB/s) - ‘linux_signing_key.pub’ saved [14605/14605]\r\n",
      "\r\n",
      "OK\r\n",
      "Get:1 http://dl.google.com/linux/chrome/deb stable InRelease [1825 B]\r\n",
      "Hit:2 http://archive.ubuntu.com/ubuntu focal InRelease\r\n",
      "Get:3 http://packages.cloud.google.com/apt gcsfuse-focal InRelease [5002 B]\r\n",
      "Get:4 http://archive.ubuntu.com/ubuntu focal-updates InRelease [114 kB]\r\n",
      "Get:5 https://packages.cloud.google.com/apt cloud-sdk InRelease [6361 B]\r\n",
      "Get:6 http://archive.ubuntu.com/ubuntu focal-backports InRelease [108 kB]\r\n",
      "Get:7 http://dl.google.com/linux/chrome/deb stable/main amd64 Packages [1079 B]\r\n",
      "Get:8 http://security.ubuntu.com/ubuntu focal-security InRelease [114 kB]\r\n",
      "Get:9 https://packages.cloud.google.com/apt cloud-sdk/main amd64 Packages [453 kB]\r\n",
      "Get:10 http://archive.ubuntu.com/ubuntu focal-updates/main amd64 Packages [3252 kB]\r\n",
      "Get:11 http://archive.ubuntu.com/ubuntu focal-updates/universe amd64 Packages [1351 kB]\r\n",
      "Get:12 http://archive.ubuntu.com/ubuntu focal-updates/restricted amd64 Packages [2483 kB]\r\n",
      "Get:13 http://archive.ubuntu.com/ubuntu focal-backports/main amd64 Packages [55.2 kB]\r\n",
      "Get:14 http://archive.ubuntu.com/ubuntu focal-backports/universe amd64 Packages [28.6 kB]\r\n",
      "Get:15 http://security.ubuntu.com/ubuntu focal-security/main amd64 Packages [2773 kB]\r\n",
      "Get:16 http://security.ubuntu.com/ubuntu focal-security/restricted amd64 Packages [2345 kB]\r\n",
      "Get:17 http://security.ubuntu.com/ubuntu focal-security/universe amd64 Packages [1056 kB]\r\n",
      "Fetched 14.1 MB in 2s (7550 kB/s)\r\n",
      "\r\n",
      "\r\n",
      "\r\n",
      "\r\n",
      "The following additional packages will be installed:\r\n",
      "  libgbm1 libu2f-udev libwayland-server0 udev\r\n",
      "The following NEW packages will be installed:\r\n",
      "  google-chrome-stable libgbm1 libu2f-udev libwayland-server0 udev\r\n",
      "0 upgraded, 5 newly installed, 0 to remove and 31 not upgraded.\r\n",
      "Need to get 95.3 MB of archives.\r\n",
      "After this operation, 324 MB of additional disk space will be used.\r\n",
      "Get:1 http://dl.google.com/linux/chrome/deb stable/main amd64 google-chrome-stable amd64 114.0.5735.90-1 [93.8 MB]\r\n",
      "Get:2 http://archive.ubuntu.com/ubuntu focal-updates/main amd64 libwayland-server0 amd64 1.18.0-1ubuntu0.1 [31.3 kB]\r\n",
      "Get:3 http://archive.ubuntu.com/ubuntu focal-updates/main amd64 libgbm1 amd64 21.2.6-0ubuntu0.1~20.04.2 [29.2 kB]\r\n",
      "Get:4 http://archive.ubuntu.com/ubuntu focal-updates/main amd64 udev amd64 245.4-4ubuntu3.21 [1366 kB]\r\n",
      "Get:5 http://archive.ubuntu.com/ubuntu focal/main amd64 libu2f-udev all 1.1.10-1 [6108 B]\r\n",
      "Fetched 95.3 MB in 1s (89.5 MB/s)\r\n",
      "Selecting previously unselected package libwayland-server0:amd64.\r\n",
      "(Reading database ... 109859 files and directories currently installed.)\r\n",
      "Preparing to unpack .../libwayland-server0_1.18.0-1ubuntu0.1_amd64.deb ...\r\n",
      "Unpacking libwayland-server0:amd64 (1.18.0-1ubuntu0.1) ...\r\n",
      "Selecting previously unselected package libgbm1:amd64.\r\n",
      "Preparing to unpack .../libgbm1_21.2.6-0ubuntu0.1~20.04.2_amd64.deb ...\r\n",
      "Unpacking libgbm1:amd64 (21.2.6-0ubuntu0.1~20.04.2) ...\r\n",
      "Selecting previously unselected package udev.\r\n",
      "Preparing to unpack .../udev_245.4-4ubuntu3.21_amd64.deb ...\r\n",
      "Unpacking udev (245.4-4ubuntu3.21) ...\r\n",
      "Selecting previously unselected package libu2f-udev.\r\n",
      "Preparing to unpack .../libu2f-udev_1.1.10-1_all.deb ...\r\n",
      "Unpacking libu2f-udev (1.1.10-1) ...\r\n",
      "Selecting previously unselected package google-chrome-stable.\r\n",
      "Preparing to unpack .../google-chrome-stable_114.0.5735.90-1_amd64.deb ...\r\n",
      "Unpacking google-chrome-stable (114.0.5735.90-1) ...\r\n",
      "Setting up libwayland-server0:amd64 (1.18.0-1ubuntu0.1) ...\r\n",
      "Setting up libgbm1:amd64 (21.2.6-0ubuntu0.1~20.04.2) ...\r\n",
      "Setting up udev (245.4-4ubuntu3.21) ...\r\n",
      "invoke-rc.d: could not determine current runlevel\r\n",
      "invoke-rc.d: policy-rc.d denied execution of start.\r\n",
      "Setting up libu2f-udev (1.1.10-1) ...\r\n",
      "Failed to send reload request: No such file or directory\r\n",
      "Setting up google-chrome-stable (114.0.5735.90-1) ...\r\n",
      "update-alternatives: using /usr/bin/google-chrome-stable to provide /usr/bin/x-www-browser (x-www-browser) in auto mode\r\n",
      "update-alternatives: using /usr/bin/google-chrome-stable to provide /usr/bin/gnome-www-browser (gnome-www-browser) in auto mode\r\n",
      "update-alternatives: using /usr/bin/google-chrome-stable to provide /usr/bin/google-chrome (google-chrome) in auto mode\r\n",
      "Processing triggers for libc-bin (2.31-0ubuntu9.9) ...\r\n",
      "Processing triggers for systemd (245.4-4ubuntu3.21) ...\r\n",
      "Processing triggers for man-db (2.9.1-1) ...\r\n",
      "Processing triggers for mime-support (3.64ubuntu1) ...\r\n",
      "curl: /opt/conda/lib/libcurl.so.4: no version information available (required by curl)\r\n",
      "--2023-06-04 17:48:31--  http://chromedriver.storage.googleapis.com/114.0.5735.90/chromedriver_linux64.zip\r\n",
      "Resolving chromedriver.storage.googleapis.com (chromedriver.storage.googleapis.com)... 172.217.218.128, 2a00:1450:4013:c08::80\r\n",
      "Connecting to chromedriver.storage.googleapis.com (chromedriver.storage.googleapis.com)|172.217.218.128|:80... connected.\r\n",
      "HTTP request sent, awaiting response... 200 OK\r\n",
      "Length: 7407250 (7.1M) [application/zip]\r\n",
      "Saving to: ‘/tmp/chromedriver.zip’\r\n",
      "\r\n",
      "/tmp/chromedriver.z 100%[===================>]   7.06M  9.26MB/s    in 0.8s    \r\n",
      "\r\n",
      "2023-06-04 17:48:32 (9.26 MB/s) - ‘/tmp/chromedriver.zip’ saved [7407250/7407250]\r\n",
      "\r\n",
      "Archive:  /tmp/chromedriver.zip\r\n",
      "  inflating: /usr/local/bin/chromedriver  \r\n"
     ]
    }
   ],
   "source": [
    "# install google chrome\n",
    "!wget https://dl.google.com/linux/linux_signing_key.pub\n",
    "!sudo apt-key add linux_signing_key.pub\n",
    "!echo 'deb [arch=amd64] http://dl.google.com/linux/chrome/deb/ stable main' >> /etc/apt/sources.list.d/google-chrome.list\n",
    "!sudo apt-get -y update\n",
    "!sudo apt-get install -y google-chrome-stable\n",
    "\n",
    "# install chromedriver\n",
    "# !apt-get install -y qq unzip\n",
    "!wget -O /tmp/chromedriver.zip http://chromedriver.storage.googleapis.com/`curl -sS chromedriver.storage.googleapis.com/LATEST_RELEASE`/chromedriver_linux64.zip\n",
    "!unzip /tmp/chromedriver.zip chromedriver -d /usr/local/bin/"
   ]
  },
  {
   "cell_type": "code",
   "execution_count": 5,
   "id": "902ca174",
   "metadata": {
    "execution": {
     "iopub.execute_input": "2023-06-04T17:48:33.753549Z",
     "iopub.status.busy": "2023-06-04T17:48:33.752397Z",
     "iopub.status.idle": "2023-06-04T17:48:35.971994Z",
     "shell.execute_reply": "2023-06-04T17:48:35.970013Z"
    },
    "papermill": {
     "duration": 2.238458,
     "end_time": "2023-06-04T17:48:35.974983",
     "exception": false,
     "start_time": "2023-06-04T17:48:33.736525",
     "status": "completed"
    },
    "tags": []
   },
   "outputs": [
    {
     "name": "stdout",
     "output_type": "stream",
     "text": [
      "Google Chrome 114.0.5735.90 \r\n",
      "ChromeDriver 114.0.5735.90 (386bc09e8f4f2e025eddae123f36f6263096ae49-refs/branch-heads/5735@{#1052})\r\n"
     ]
    }
   ],
   "source": [
    "# To check Google Chrome's version\n",
    "!google-chrome --version\n",
    "\n",
    "# To check Chrome Driver's version\n",
    "!chromedriver -v"
   ]
  },
  {
   "cell_type": "code",
   "execution_count": 6,
   "id": "d3ce26bd",
   "metadata": {
    "execution": {
     "iopub.execute_input": "2023-06-04T17:48:36.008687Z",
     "iopub.status.busy": "2023-06-04T17:48:36.008223Z",
     "iopub.status.idle": "2023-06-04T17:48:42.741007Z",
     "shell.execute_reply": "2023-06-04T17:48:42.740072Z"
    },
    "papermill": {
     "duration": 6.752857,
     "end_time": "2023-06-04T17:48:42.743595",
     "exception": false,
     "start_time": "2023-06-04T17:48:35.990738",
     "status": "completed"
    },
    "tags": []
   },
   "outputs": [],
   "source": [
    "import time\n",
    "from selenium import webdriver\n",
    "# URL Stock Data\n",
    "url = \"https://www.set.or.th/th/market/index/set100/overview\"\n",
    "\n",
    "chrome_options = webdriver.ChromeOptions()\n",
    "chrome_options.add_argument('--no-sandbox')\n",
    "chrome_options.add_argument('--headless')\n",
    "chrome_options.add_argument('--disable-gpu')\n",
    "chrome_options.add_argument('--disable-dev-shm-usage')\n",
    "chrome_options.add_argument(\"--window-size=1920,1080\")\n",
    "driver = webdriver.Chrome(options=chrome_options)\n",
    "driver.get(url)\n",
    "\n",
    "# Open Page Source\n",
    "data = driver.page_source"
   ]
  },
  {
   "cell_type": "code",
   "execution_count": 7,
   "id": "a89e477d",
   "metadata": {
    "execution": {
     "iopub.execute_input": "2023-06-04T17:48:42.776267Z",
     "iopub.status.busy": "2023-06-04T17:48:42.775864Z",
     "iopub.status.idle": "2023-06-04T17:48:43.124326Z",
     "shell.execute_reply": "2023-06-04T17:48:43.123243Z"
    },
    "papermill": {
     "duration": 0.367802,
     "end_time": "2023-06-04T17:48:43.126654",
     "exception": false,
     "start_time": "2023-06-04T17:48:42.758852",
     "status": "completed"
    },
    "tags": []
   },
   "outputs": [
    {
     "data": {
      "text/html": [
       "<div>\n",
       "<style scoped>\n",
       "    .dataframe tbody tr th:only-of-type {\n",
       "        vertical-align: middle;\n",
       "    }\n",
       "\n",
       "    .dataframe tbody tr th {\n",
       "        vertical-align: top;\n",
       "    }\n",
       "\n",
       "    .dataframe thead th {\n",
       "        text-align: right;\n",
       "    }\n",
       "</style>\n",
       "<table border=\"1\" class=\"dataframe\">\n",
       "  <thead>\n",
       "    <tr style=\"text-align: right;\">\n",
       "      <th></th>\n",
       "      <th>หลักทรัพย์  (Click to sort Ascending)</th>\n",
       "      <th>เปิด  (Click to sort Ascending)</th>\n",
       "      <th>สูงสุด  (Click to sort Ascending)</th>\n",
       "      <th>ต่ำสุด  (Click to sort Ascending)</th>\n",
       "      <th>ล่าสุด  (Click to sort Ascending)</th>\n",
       "      <th>เปลี่ยนแปลง  (Click to sort Ascending)</th>\n",
       "      <th>% เปลี่ยนแปลง  (Click to sort Ascending)</th>\n",
       "      <th>เสนอซื้อ  (Click to sort Ascending)</th>\n",
       "      <th>เสนอขาย  (Click to sort Ascending)</th>\n",
       "      <th>ปริมาณ (หุ้น)  (Click to sort Ascending)</th>\n",
       "      <th>มูลค่า ('000 บาท)  (Click to sort Ascending)</th>\n",
       "    </tr>\n",
       "  </thead>\n",
       "  <tbody>\n",
       "    <tr>\n",
       "      <th>0</th>\n",
       "      <td>AAV</td>\n",
       "      <td>2.80</td>\n",
       "      <td>2.86</td>\n",
       "      <td>2.78</td>\n",
       "      <td>2.86</td>\n",
       "      <td>0.06</td>\n",
       "      <td>2.14</td>\n",
       "      <td>2.84</td>\n",
       "      <td>2.86</td>\n",
       "      <td>67441177</td>\n",
       "      <td>190395.94</td>\n",
       "    </tr>\n",
       "    <tr>\n",
       "      <th>1</th>\n",
       "      <td>ACE</td>\n",
       "      <td>1.92</td>\n",
       "      <td>1.96</td>\n",
       "      <td>1.92</td>\n",
       "      <td>1.94</td>\n",
       "      <td>0.03</td>\n",
       "      <td>1.57</td>\n",
       "      <td>1.94</td>\n",
       "      <td>1.95</td>\n",
       "      <td>19168863</td>\n",
       "      <td>37106.42</td>\n",
       "    </tr>\n",
       "    <tr>\n",
       "      <th>2</th>\n",
       "      <td>ADVANC</td>\n",
       "      <td>210.00</td>\n",
       "      <td>213.00</td>\n",
       "      <td>208.00</td>\n",
       "      <td>212.00</td>\n",
       "      <td>2.00</td>\n",
       "      <td>0.95</td>\n",
       "      <td>212.00</td>\n",
       "      <td>213.00</td>\n",
       "      <td>4179460</td>\n",
       "      <td>880017.85</td>\n",
       "    </tr>\n",
       "    <tr>\n",
       "      <th>3</th>\n",
       "      <td>AMATA</td>\n",
       "      <td>22.70</td>\n",
       "      <td>22.90</td>\n",
       "      <td>22.70</td>\n",
       "      <td>22.80</td>\n",
       "      <td>0.10</td>\n",
       "      <td>0.44</td>\n",
       "      <td>22.80</td>\n",
       "      <td>22.90</td>\n",
       "      <td>4409038</td>\n",
       "      <td>100550.31</td>\n",
       "    </tr>\n",
       "    <tr>\n",
       "      <th>4</th>\n",
       "      <td>AOT</td>\n",
       "      <td>71.00</td>\n",
       "      <td>71.25</td>\n",
       "      <td>70.75</td>\n",
       "      <td>70.75</td>\n",
       "      <td>0.00</td>\n",
       "      <td>0.00</td>\n",
       "      <td>70.75</td>\n",
       "      <td>71.00</td>\n",
       "      <td>19024759</td>\n",
       "      <td>1349503.74</td>\n",
       "    </tr>\n",
       "  </tbody>\n",
       "</table>\n",
       "</div>"
      ],
      "text/plain": [
       "  หลักทรัพย์  (Click to sort Ascending)  เปิด  (Click to sort Ascending)  \\\n",
       "0                                   AAV                             2.80   \n",
       "1                                   ACE                             1.92   \n",
       "2                                ADVANC                           210.00   \n",
       "3                                 AMATA                            22.70   \n",
       "4                                   AOT                            71.00   \n",
       "\n",
       "   สูงสุด  (Click to sort Ascending)  ต่ำสุด  (Click to sort Ascending)  \\\n",
       "0                               2.86                               2.78   \n",
       "1                               1.96                               1.92   \n",
       "2                             213.00                             208.00   \n",
       "3                              22.90                              22.70   \n",
       "4                              71.25                              70.75   \n",
       "\n",
       "   ล่าสุด  (Click to sort Ascending)  เปลี่ยนแปลง  (Click to sort Ascending)  \\\n",
       "0                               2.86                                    0.06   \n",
       "1                               1.94                                    0.03   \n",
       "2                             212.00                                    2.00   \n",
       "3                              22.80                                    0.10   \n",
       "4                              70.75                                    0.00   \n",
       "\n",
       "   % เปลี่ยนแปลง  (Click to sort Ascending)  \\\n",
       "0                                      2.14   \n",
       "1                                      1.57   \n",
       "2                                      0.95   \n",
       "3                                      0.44   \n",
       "4                                      0.00   \n",
       "\n",
       "   เสนอซื้อ  (Click to sort Ascending)  เสนอขาย  (Click to sort Ascending)  \\\n",
       "0                                 2.84                                2.86   \n",
       "1                                 1.94                                1.95   \n",
       "2                               212.00                              213.00   \n",
       "3                                22.80                               22.90   \n",
       "4                                70.75                               71.00   \n",
       "\n",
       "   ปริมาณ (หุ้น)  (Click to sort Ascending)  \\\n",
       "0                                  67441177   \n",
       "1                                  19168863   \n",
       "2                                   4179460   \n",
       "3                                   4409038   \n",
       "4                                  19024759   \n",
       "\n",
       "   มูลค่า ('000 บาท)  (Click to sort Ascending)  \n",
       "0                                     190395.94  \n",
       "1                                      37106.42  \n",
       "2                                     880017.85  \n",
       "3                                     100550.31  \n",
       "4                                    1349503.74  "
      ]
     },
     "execution_count": 7,
     "metadata": {},
     "output_type": "execute_result"
    }
   ],
   "source": [
    "# Get Data from driver\n",
    "df = pd.read_html(data)[1]\n",
    "df.head()"
   ]
  },
  {
   "cell_type": "code",
   "execution_count": 8,
   "id": "ab5d28a2",
   "metadata": {
    "execution": {
     "iopub.execute_input": "2023-06-04T17:48:43.159582Z",
     "iopub.status.busy": "2023-06-04T17:48:43.158010Z",
     "iopub.status.idle": "2023-06-04T17:48:43.177217Z",
     "shell.execute_reply": "2023-06-04T17:48:43.176137Z"
    },
    "papermill": {
     "duration": 0.037702,
     "end_time": "2023-06-04T17:48:43.179364",
     "exception": false,
     "start_time": "2023-06-04T17:48:43.141662",
     "status": "completed"
    },
    "tags": []
   },
   "outputs": [
    {
     "data": {
      "text/html": [
       "<div>\n",
       "<style scoped>\n",
       "    .dataframe tbody tr th:only-of-type {\n",
       "        vertical-align: middle;\n",
       "    }\n",
       "\n",
       "    .dataframe tbody tr th {\n",
       "        vertical-align: top;\n",
       "    }\n",
       "\n",
       "    .dataframe thead th {\n",
       "        text-align: right;\n",
       "    }\n",
       "</style>\n",
       "<table border=\"1\" class=\"dataframe\">\n",
       "  <thead>\n",
       "    <tr style=\"text-align: right;\">\n",
       "      <th></th>\n",
       "      <th>หลักทรัพย์</th>\n",
       "      <th>เปิด</th>\n",
       "      <th>สูงสุด</th>\n",
       "      <th>ต่ำสุด</th>\n",
       "      <th>ล่าสุด</th>\n",
       "      <th>เปลี่ยนแปลง</th>\n",
       "      <th>% เปลี่ยนแปลง</th>\n",
       "      <th>เสนอซื้อ</th>\n",
       "      <th>เสนอขาย</th>\n",
       "      <th>ปริมาณ (หุ้น)</th>\n",
       "      <th>มูลค่า ('000 บาท)</th>\n",
       "    </tr>\n",
       "  </thead>\n",
       "  <tbody>\n",
       "    <tr>\n",
       "      <th>0</th>\n",
       "      <td>AAV</td>\n",
       "      <td>2.80</td>\n",
       "      <td>2.86</td>\n",
       "      <td>2.78</td>\n",
       "      <td>2.86</td>\n",
       "      <td>0.06</td>\n",
       "      <td>2.14</td>\n",
       "      <td>2.84</td>\n",
       "      <td>2.86</td>\n",
       "      <td>67441177</td>\n",
       "      <td>190395.94</td>\n",
       "    </tr>\n",
       "    <tr>\n",
       "      <th>1</th>\n",
       "      <td>ACE</td>\n",
       "      <td>1.92</td>\n",
       "      <td>1.96</td>\n",
       "      <td>1.92</td>\n",
       "      <td>1.94</td>\n",
       "      <td>0.03</td>\n",
       "      <td>1.57</td>\n",
       "      <td>1.94</td>\n",
       "      <td>1.95</td>\n",
       "      <td>19168863</td>\n",
       "      <td>37106.42</td>\n",
       "    </tr>\n",
       "    <tr>\n",
       "      <th>2</th>\n",
       "      <td>ADVANC</td>\n",
       "      <td>210.00</td>\n",
       "      <td>213.00</td>\n",
       "      <td>208.00</td>\n",
       "      <td>212.00</td>\n",
       "      <td>2.00</td>\n",
       "      <td>0.95</td>\n",
       "      <td>212.00</td>\n",
       "      <td>213.00</td>\n",
       "      <td>4179460</td>\n",
       "      <td>880017.85</td>\n",
       "    </tr>\n",
       "    <tr>\n",
       "      <th>3</th>\n",
       "      <td>AMATA</td>\n",
       "      <td>22.70</td>\n",
       "      <td>22.90</td>\n",
       "      <td>22.70</td>\n",
       "      <td>22.80</td>\n",
       "      <td>0.10</td>\n",
       "      <td>0.44</td>\n",
       "      <td>22.80</td>\n",
       "      <td>22.90</td>\n",
       "      <td>4409038</td>\n",
       "      <td>100550.31</td>\n",
       "    </tr>\n",
       "    <tr>\n",
       "      <th>4</th>\n",
       "      <td>AOT</td>\n",
       "      <td>71.00</td>\n",
       "      <td>71.25</td>\n",
       "      <td>70.75</td>\n",
       "      <td>70.75</td>\n",
       "      <td>0.00</td>\n",
       "      <td>0.00</td>\n",
       "      <td>70.75</td>\n",
       "      <td>71.00</td>\n",
       "      <td>19024759</td>\n",
       "      <td>1349503.74</td>\n",
       "    </tr>\n",
       "  </tbody>\n",
       "</table>\n",
       "</div>"
      ],
      "text/plain": [
       "  หลักทรัพย์    เปิด  สูงสุด  ต่ำสุด  ล่าสุด  เปลี่ยนแปลง  % เปลี่ยนแปลง  \\\n",
       "0        AAV    2.80    2.86    2.78    2.86         0.06           2.14   \n",
       "1        ACE    1.92    1.96    1.92    1.94         0.03           1.57   \n",
       "2     ADVANC  210.00  213.00  208.00  212.00         2.00           0.95   \n",
       "3      AMATA   22.70   22.90   22.70   22.80         0.10           0.44   \n",
       "4        AOT   71.00   71.25   70.75   70.75         0.00           0.00   \n",
       "\n",
       "   เสนอซื้อ  เสนอขาย  ปริมาณ (หุ้น)  มูลค่า ('000 บาท)  \n",
       "0      2.84     2.86       67441177          190395.94  \n",
       "1      1.94     1.95       19168863           37106.42  \n",
       "2    212.00   213.00        4179460          880017.85  \n",
       "3     22.80    22.90        4409038          100550.31  \n",
       "4     70.75    71.00       19024759         1349503.74  "
      ]
     },
     "execution_count": 8,
     "metadata": {},
     "output_type": "execute_result"
    }
   ],
   "source": [
    "# Fix the column to easy to read and use it.\n",
    "clean_column = []\n",
    "for c in df.columns:\n",
    "    clean_column.append(c.replace('  (Click to sort Ascending)',''))\n",
    "    \n",
    "df.columns = clean_column\n",
    "df.head()"
   ]
  },
  {
   "cell_type": "code",
   "execution_count": 9,
   "id": "1c50e4e6",
   "metadata": {
    "execution": {
     "iopub.execute_input": "2023-06-04T17:48:43.211754Z",
     "iopub.status.busy": "2023-06-04T17:48:43.211400Z",
     "iopub.status.idle": "2023-06-04T17:48:43.230587Z",
     "shell.execute_reply": "2023-06-04T17:48:43.229351Z"
    },
    "papermill": {
     "duration": 0.037693,
     "end_time": "2023-06-04T17:48:43.233061",
     "exception": false,
     "start_time": "2023-06-04T17:48:43.195368",
     "status": "completed"
    },
    "tags": []
   },
   "outputs": [
    {
     "data": {
      "text/html": [
       "<div>\n",
       "<style scoped>\n",
       "    .dataframe tbody tr th:only-of-type {\n",
       "        vertical-align: middle;\n",
       "    }\n",
       "\n",
       "    .dataframe tbody tr th {\n",
       "        vertical-align: top;\n",
       "    }\n",
       "\n",
       "    .dataframe thead th {\n",
       "        text-align: right;\n",
       "    }\n",
       "</style>\n",
       "<table border=\"1\" class=\"dataframe\">\n",
       "  <thead>\n",
       "    <tr style=\"text-align: right;\">\n",
       "      <th></th>\n",
       "      <th>เปิด</th>\n",
       "      <th>สูงสุด</th>\n",
       "      <th>ต่ำสุด</th>\n",
       "      <th>ล่าสุด</th>\n",
       "      <th>เปลี่ยนแปลง</th>\n",
       "      <th>% เปลี่ยนแปลง</th>\n",
       "      <th>เสนอซื้อ</th>\n",
       "      <th>เสนอขาย</th>\n",
       "      <th>ปริมาณ (หุ้น)</th>\n",
       "      <th>มูลค่า ('000 บาท)</th>\n",
       "    </tr>\n",
       "    <tr>\n",
       "      <th>หลักทรัพย์</th>\n",
       "      <th></th>\n",
       "      <th></th>\n",
       "      <th></th>\n",
       "      <th></th>\n",
       "      <th></th>\n",
       "      <th></th>\n",
       "      <th></th>\n",
       "      <th></th>\n",
       "      <th></th>\n",
       "      <th></th>\n",
       "    </tr>\n",
       "  </thead>\n",
       "  <tbody>\n",
       "    <tr>\n",
       "      <th>AAV</th>\n",
       "      <td>2.80</td>\n",
       "      <td>2.86</td>\n",
       "      <td>2.78</td>\n",
       "      <td>2.86</td>\n",
       "      <td>0.06</td>\n",
       "      <td>2.14</td>\n",
       "      <td>2.84</td>\n",
       "      <td>2.86</td>\n",
       "      <td>67441177</td>\n",
       "      <td>190395.94</td>\n",
       "    </tr>\n",
       "    <tr>\n",
       "      <th>ACE</th>\n",
       "      <td>1.92</td>\n",
       "      <td>1.96</td>\n",
       "      <td>1.92</td>\n",
       "      <td>1.94</td>\n",
       "      <td>0.03</td>\n",
       "      <td>1.57</td>\n",
       "      <td>1.94</td>\n",
       "      <td>1.95</td>\n",
       "      <td>19168863</td>\n",
       "      <td>37106.42</td>\n",
       "    </tr>\n",
       "    <tr>\n",
       "      <th>ADVANC</th>\n",
       "      <td>210.00</td>\n",
       "      <td>213.00</td>\n",
       "      <td>208.00</td>\n",
       "      <td>212.00</td>\n",
       "      <td>2.00</td>\n",
       "      <td>0.95</td>\n",
       "      <td>212.00</td>\n",
       "      <td>213.00</td>\n",
       "      <td>4179460</td>\n",
       "      <td>880017.85</td>\n",
       "    </tr>\n",
       "    <tr>\n",
       "      <th>AMATA</th>\n",
       "      <td>22.70</td>\n",
       "      <td>22.90</td>\n",
       "      <td>22.70</td>\n",
       "      <td>22.80</td>\n",
       "      <td>0.10</td>\n",
       "      <td>0.44</td>\n",
       "      <td>22.80</td>\n",
       "      <td>22.90</td>\n",
       "      <td>4409038</td>\n",
       "      <td>100550.31</td>\n",
       "    </tr>\n",
       "    <tr>\n",
       "      <th>AOT</th>\n",
       "      <td>71.00</td>\n",
       "      <td>71.25</td>\n",
       "      <td>70.75</td>\n",
       "      <td>70.75</td>\n",
       "      <td>0.00</td>\n",
       "      <td>0.00</td>\n",
       "      <td>70.75</td>\n",
       "      <td>71.00</td>\n",
       "      <td>19024759</td>\n",
       "      <td>1349503.74</td>\n",
       "    </tr>\n",
       "  </tbody>\n",
       "</table>\n",
       "</div>"
      ],
      "text/plain": [
       "              เปิด  สูงสุด  ต่ำสุด  ล่าสุด  เปลี่ยนแปลง  % เปลี่ยนแปลง  \\\n",
       "หลักทรัพย์                                                               \n",
       "AAV           2.80    2.86    2.78    2.86         0.06           2.14   \n",
       "ACE           1.92    1.96    1.92    1.94         0.03           1.57   \n",
       "ADVANC      210.00  213.00  208.00  212.00         2.00           0.95   \n",
       "AMATA        22.70   22.90   22.70   22.80         0.10           0.44   \n",
       "AOT          71.00   71.25   70.75   70.75         0.00           0.00   \n",
       "\n",
       "            เสนอซื้อ  เสนอขาย  ปริมาณ (หุ้น)  มูลค่า ('000 บาท)  \n",
       "หลักทรัพย์                                                       \n",
       "AAV             2.84     2.86       67441177          190395.94  \n",
       "ACE             1.94     1.95       19168863           37106.42  \n",
       "ADVANC        212.00   213.00        4179460          880017.85  \n",
       "AMATA          22.80    22.90        4409038          100550.31  \n",
       "AOT            70.75    71.00       19024759         1349503.74  "
      ]
     },
     "execution_count": 9,
     "metadata": {},
     "output_type": "execute_result"
    }
   ],
   "source": [
    "# Set new index\n",
    "df = df.set_index('หลักทรัพย์')\n",
    "df.head()"
   ]
  },
  {
   "cell_type": "code",
   "execution_count": 10,
   "id": "770c2871",
   "metadata": {
    "execution": {
     "iopub.execute_input": "2023-06-04T17:48:43.269626Z",
     "iopub.status.busy": "2023-06-04T17:48:43.269211Z",
     "iopub.status.idle": "2023-06-04T17:48:43.275314Z",
     "shell.execute_reply": "2023-06-04T17:48:43.274571Z"
    },
    "papermill": {
     "duration": 0.030426,
     "end_time": "2023-06-04T17:48:43.278718",
     "exception": false,
     "start_time": "2023-06-04T17:48:43.248292",
     "status": "completed"
    },
    "tags": []
   },
   "outputs": [
    {
     "data": {
      "text/plain": [
       "'AAV'"
      ]
     },
     "execution_count": 10,
     "metadata": {},
     "output_type": "execute_result"
    }
   ],
   "source": [
    "# Make link from stock name to scrape each stock data\n",
    "stock = df.index[0]\n",
    "stock"
   ]
  },
  {
   "cell_type": "code",
   "execution_count": 11,
   "id": "faca0209",
   "metadata": {
    "execution": {
     "iopub.execute_input": "2023-06-04T17:48:43.319115Z",
     "iopub.status.busy": "2023-06-04T17:48:43.318159Z",
     "iopub.status.idle": "2023-06-04T17:48:43.325905Z",
     "shell.execute_reply": "2023-06-04T17:48:43.324908Z"
    },
    "papermill": {
     "duration": 0.027409,
     "end_time": "2023-06-04T17:48:43.328120",
     "exception": false,
     "start_time": "2023-06-04T17:48:43.300711",
     "status": "completed"
    },
    "tags": []
   },
   "outputs": [
    {
     "data": {
      "text/plain": [
       "'https://www.set.or.th/th/market/product/stock/quote/AAV/financial-statement/company-highlights'"
      ]
     },
     "execution_count": 11,
     "metadata": {},
     "output_type": "execute_result"
    }
   ],
   "source": [
    "# Create url link for all stock\n",
    "url = 'https://www.set.or.th/th/market/product/stock/quote/' + stock + '/financial-statement/company-highlights'\n",
    "url"
   ]
  },
  {
   "cell_type": "markdown",
   "id": "fe2bfcc9",
   "metadata": {
    "papermill": {
     "duration": 0.015009,
     "end_time": "2023-06-04T17:48:43.358706",
     "exception": false,
     "start_time": "2023-06-04T17:48:43.343697",
     "status": "completed"
    },
    "tags": []
   },
   "source": [
    "# Create Function to collect balance sheet and stock statistic data\n",
    "\n",
    "Once I get the stock information, I scrape the 2 table detail: Balance Sheet and Stock Statistic then collect both table to all_stock_dict variable."
   ]
  },
  {
   "cell_type": "code",
   "execution_count": 12,
   "id": "35164072",
   "metadata": {
    "execution": {
     "iopub.execute_input": "2023-06-04T17:48:43.391272Z",
     "iopub.status.busy": "2023-06-04T17:48:43.390677Z",
     "iopub.status.idle": "2023-06-04T17:48:43.396798Z",
     "shell.execute_reply": "2023-06-04T17:48:43.395542Z"
    },
    "papermill": {
     "duration": 0.025475,
     "end_time": "2023-06-04T17:48:43.399521",
     "exception": false,
     "start_time": "2023-06-04T17:48:43.374046",
     "status": "completed"
    },
    "tags": []
   },
   "outputs": [],
   "source": [
    "def get_stock_data(stock, driver, all_stock_dict):\n",
    "    stock = stock.split()[0]\n",
    "    url = 'https://www.set.or.th/th/market/product/stock/quote/' + stock + '/financial-statement/company-highlights'\n",
    "    driver.get(url)\n",
    "    stock_data = driver.page_source\n",
    "    a_df = pd.read_html(stock_data)[0]\n",
    "    b_df = pd.read_html(stock_data)[1]\n",
    "    all_stock_dict[stock] = [a_df, b_df]\n",
    "    return driver, all_stock_dict"
   ]
  },
  {
   "cell_type": "code",
   "execution_count": 13,
   "id": "d5a33fe7",
   "metadata": {
    "execution": {
     "iopub.execute_input": "2023-06-04T17:48:43.433227Z",
     "iopub.status.busy": "2023-06-04T17:48:43.432828Z",
     "iopub.status.idle": "2023-06-04T17:53:42.024200Z",
     "shell.execute_reply": "2023-06-04T17:53:42.023113Z"
    },
    "papermill": {
     "duration": 298.610957,
     "end_time": "2023-06-04T17:53:42.026974",
     "exception": false,
     "start_time": "2023-06-04T17:48:43.416017",
     "status": "completed"
    },
    "tags": []
   },
   "outputs": [],
   "source": [
    "all_stock_dict = dict()\n",
    "for stock in df.index:\n",
    "    driver, all_stock_dict = get_stock_data(stock, driver, all_stock_dict) "
   ]
  },
  {
   "cell_type": "code",
   "execution_count": 14,
   "id": "ede66673",
   "metadata": {
    "execution": {
     "iopub.execute_input": "2023-06-04T17:53:42.061618Z",
     "iopub.status.busy": "2023-06-04T17:53:42.061184Z",
     "iopub.status.idle": "2023-06-04T17:53:42.136501Z",
     "shell.execute_reply": "2023-06-04T17:53:42.135382Z"
    },
    "papermill": {
     "duration": 0.095396,
     "end_time": "2023-06-04T17:53:42.138980",
     "exception": false,
     "start_time": "2023-06-04T17:53:42.043584",
     "status": "completed"
    },
    "tags": []
   },
   "outputs": [],
   "source": [
    "for key in all_stock_dict.keys():\n",
    "    stock_df = all_stock_dict[key]\n",
    "    stock_df[0].set_index('งวดงบการเงิน ณ วันที่', inplace=True)\n",
    "    stock_df[1].set_index('ค่าสถิติสำคัญ ณ วันที่', inplace=True)"
   ]
  },
  {
   "cell_type": "markdown",
   "id": "6588448b",
   "metadata": {
    "papermill": {
     "duration": 0.023269,
     "end_time": "2023-06-04T17:53:42.180185",
     "exception": false,
     "start_time": "2023-06-04T17:53:42.156916",
     "status": "completed"
    },
    "tags": []
   },
   "source": [
    "# Analyze stock using P/E Ratio\n",
    "\n",
    "The price to earnings ratio (P/E) is one of the most widely used metrics for investors and analysts to determine stock valuation. It shows whether a company's stock price is overvalued or undervalued and can reveal how a stock's valuation compares to its industry group or a benchmark.\n",
    "\n",
    "The P/E ratio helps investors determine the market value of a stock as compared to the company's earnings. It shows what the market is willing to pay for a stock based on its past or future earnings.\n",
    "\n",
    "Companies that grow faster than average, such as technology companies, typically have higher P/Es. A higher P/E ratio shows that investors are willing to pay a higher share price now due to growth expectations in the future.\n",
    "\n",
    "Investors not only use the P/E ratio to determine a stock's market value but also in determining future earnings growth. Investors might expect the company to increase its dividends as a result if earnings are expected to rise. Higher earnings and rising dividends typically lead to a higher stock price."
   ]
  },
  {
   "cell_type": "markdown",
   "id": "1a95e2b7",
   "metadata": {
    "papermill": {
     "duration": 0.015328,
     "end_time": "2023-06-04T17:53:42.211197",
     "exception": false,
     "start_time": "2023-06-04T17:53:42.195869",
     "status": "completed"
    },
    "tags": []
   },
   "source": [
    "# Extract the P/E Ratio from the table\n",
    "\n",
    "Using iteration by for loop to get the P/E Ratio from latest information. In the for loop, I use error handling to prevent null value."
   ]
  },
  {
   "cell_type": "code",
   "execution_count": 15,
   "id": "2433068f",
   "metadata": {
    "execution": {
     "iopub.execute_input": "2023-06-04T17:53:42.245995Z",
     "iopub.status.busy": "2023-06-04T17:53:42.245540Z",
     "iopub.status.idle": "2023-06-04T17:53:42.258865Z",
     "shell.execute_reply": "2023-06-04T17:53:42.257632Z"
    },
    "papermill": {
     "duration": 0.033487,
     "end_time": "2023-06-04T17:53:42.261168",
     "exception": false,
     "start_time": "2023-06-04T17:53:42.227681",
     "status": "completed"
    },
    "tags": []
   },
   "outputs": [],
   "source": [
    "n_df = 1\n",
    "pe = 'P/E (เท่า)'\n",
    "\n",
    "focus_output = dict()\n",
    "\n",
    "for key in all_stock_dict.keys():\n",
    "    try:\n",
    "        selected_data = all_stock_dict[key][n_df][all_stock_dict[key][1].columns[-1]][pe]\n",
    "        focus_output[key] = float(selected_data)\n",
    "    except KeyError:\n",
    "        pass\n",
    "    except ValueError:\n",
    "        pass"
   ]
  },
  {
   "cell_type": "code",
   "execution_count": 16,
   "id": "38787ec0",
   "metadata": {
    "execution": {
     "iopub.execute_input": "2023-06-04T17:53:42.296467Z",
     "iopub.status.busy": "2023-06-04T17:53:42.295811Z",
     "iopub.status.idle": "2023-06-04T17:53:42.301807Z",
     "shell.execute_reply": "2023-06-04T17:53:42.300851Z"
    },
    "papermill": {
     "duration": 0.026906,
     "end_time": "2023-06-04T17:53:42.304357",
     "exception": false,
     "start_time": "2023-06-04T17:53:42.277451",
     "status": "completed"
    },
    "tags": []
   },
   "outputs": [
    {
     "data": {
      "text/plain": [
       "89"
      ]
     },
     "execution_count": 16,
     "metadata": {},
     "output_type": "execute_result"
    }
   ],
   "source": [
    "len(focus_output)"
   ]
  },
  {
   "cell_type": "code",
   "execution_count": 17,
   "id": "0b3058c2",
   "metadata": {
    "execution": {
     "iopub.execute_input": "2023-06-04T17:53:42.338091Z",
     "iopub.status.busy": "2023-06-04T17:53:42.337692Z",
     "iopub.status.idle": "2023-06-04T17:53:42.364820Z",
     "shell.execute_reply": "2023-06-04T17:53:42.363526Z"
    },
    "papermill": {
     "duration": 0.046528,
     "end_time": "2023-06-04T17:53:42.367216",
     "exception": false,
     "start_time": "2023-06-04T17:53:42.320688",
     "status": "completed"
    },
    "tags": []
   },
   "outputs": [
    {
     "data": {
      "text/html": [
       "<div>\n",
       "<style scoped>\n",
       "    .dataframe tbody tr th:only-of-type {\n",
       "        vertical-align: middle;\n",
       "    }\n",
       "\n",
       "    .dataframe tbody tr th {\n",
       "        vertical-align: top;\n",
       "    }\n",
       "\n",
       "    .dataframe thead th {\n",
       "        text-align: right;\n",
       "    }\n",
       "</style>\n",
       "<table border=\"1\" class=\"dataframe\">\n",
       "  <thead>\n",
       "    <tr style=\"text-align: right;\">\n",
       "      <th></th>\n",
       "      <th>ACE</th>\n",
       "      <th>ADVANC</th>\n",
       "      <th>AMATA</th>\n",
       "      <th>AP</th>\n",
       "      <th>AWC</th>\n",
       "      <th>BAM</th>\n",
       "      <th>BANPU</th>\n",
       "      <th>BBL</th>\n",
       "      <th>BCH</th>\n",
       "      <th>BCP</th>\n",
       "      <th>...</th>\n",
       "      <th>THANI</th>\n",
       "      <th>THG</th>\n",
       "      <th>TIDLOR</th>\n",
       "      <th>TIPH</th>\n",
       "      <th>TISCO</th>\n",
       "      <th>TOP</th>\n",
       "      <th>TQM</th>\n",
       "      <th>TTB</th>\n",
       "      <th>TU</th>\n",
       "      <th>WHA</th>\n",
       "    </tr>\n",
       "  </thead>\n",
       "  <tbody>\n",
       "    <tr>\n",
       "      <th>0</th>\n",
       "      <td>15.84</td>\n",
       "      <td>23.83</td>\n",
       "      <td>11.5</td>\n",
       "      <td>6.32</td>\n",
       "      <td>33.72</td>\n",
       "      <td>12.91</td>\n",
       "      <td>1.99</td>\n",
       "      <td>9.69</td>\n",
       "      <td>36.09</td>\n",
       "      <td>4.18</td>\n",
       "      <td>...</td>\n",
       "      <td>11.21</td>\n",
       "      <td>45.47</td>\n",
       "      <td>20.75</td>\n",
       "      <td>21.53</td>\n",
       "      <td>10.7</td>\n",
       "      <td>3.31</td>\n",
       "      <td>22.96</td>\n",
       "      <td>10.57</td>\n",
       "      <td>10.0</td>\n",
       "      <td>17.11</td>\n",
       "    </tr>\n",
       "  </tbody>\n",
       "</table>\n",
       "<p>1 rows × 89 columns</p>\n",
       "</div>"
      ],
      "text/plain": [
       "     ACE  ADVANC  AMATA    AP    AWC    BAM  BANPU   BBL    BCH   BCP  ...  \\\n",
       "0  15.84   23.83   11.5  6.32  33.72  12.91   1.99  9.69  36.09  4.18  ...   \n",
       "\n",
       "   THANI    THG  TIDLOR   TIPH  TISCO   TOP    TQM    TTB    TU    WHA  \n",
       "0  11.21  45.47   20.75  21.53   10.7  3.31  22.96  10.57  10.0  17.11  \n",
       "\n",
       "[1 rows x 89 columns]"
      ]
     },
     "execution_count": 17,
     "metadata": {},
     "output_type": "execute_result"
    }
   ],
   "source": [
    "focus_df = pd.DataFrame([focus_output])\n",
    "focus_df"
   ]
  },
  {
   "cell_type": "code",
   "execution_count": 18,
   "id": "fc8a5f25",
   "metadata": {
    "execution": {
     "iopub.execute_input": "2023-06-04T17:53:42.406821Z",
     "iopub.status.busy": "2023-06-04T17:53:42.405846Z",
     "iopub.status.idle": "2023-06-04T17:53:42.410683Z",
     "shell.execute_reply": "2023-06-04T17:53:42.409853Z"
    },
    "papermill": {
     "duration": 0.027036,
     "end_time": "2023-06-04T17:53:42.412872",
     "exception": false,
     "start_time": "2023-06-04T17:53:42.385836",
     "status": "completed"
    },
    "tags": []
   },
   "outputs": [],
   "source": [
    "focus_df = focus_df.transpose()"
   ]
  },
  {
   "cell_type": "code",
   "execution_count": 19,
   "id": "ff348f7c",
   "metadata": {
    "execution": {
     "iopub.execute_input": "2023-06-04T17:53:42.447839Z",
     "iopub.status.busy": "2023-06-04T17:53:42.447412Z",
     "iopub.status.idle": "2023-06-04T17:53:42.452681Z",
     "shell.execute_reply": "2023-06-04T17:53:42.451640Z"
    },
    "papermill": {
     "duration": 0.025525,
     "end_time": "2023-06-04T17:53:42.454947",
     "exception": false,
     "start_time": "2023-06-04T17:53:42.429422",
     "status": "completed"
    },
    "tags": []
   },
   "outputs": [],
   "source": [
    "focus_df.columns = ['p/e']"
   ]
  },
  {
   "cell_type": "code",
   "execution_count": 20,
   "id": "4590668b",
   "metadata": {
    "execution": {
     "iopub.execute_input": "2023-06-04T17:53:42.489353Z",
     "iopub.status.busy": "2023-06-04T17:53:42.488489Z",
     "iopub.status.idle": "2023-06-04T17:53:42.500505Z",
     "shell.execute_reply": "2023-06-04T17:53:42.499649Z"
    },
    "papermill": {
     "duration": 0.03158,
     "end_time": "2023-06-04T17:53:42.502778",
     "exception": false,
     "start_time": "2023-06-04T17:53:42.471198",
     "status": "completed"
    },
    "tags": []
   },
   "outputs": [
    {
     "data": {
      "text/html": [
       "<div>\n",
       "<style scoped>\n",
       "    .dataframe tbody tr th:only-of-type {\n",
       "        vertical-align: middle;\n",
       "    }\n",
       "\n",
       "    .dataframe tbody tr th {\n",
       "        vertical-align: top;\n",
       "    }\n",
       "\n",
       "    .dataframe thead th {\n",
       "        text-align: right;\n",
       "    }\n",
       "</style>\n",
       "<table border=\"1\" class=\"dataframe\">\n",
       "  <thead>\n",
       "    <tr style=\"text-align: right;\">\n",
       "      <th></th>\n",
       "      <th>p/e</th>\n",
       "    </tr>\n",
       "  </thead>\n",
       "  <tbody>\n",
       "    <tr>\n",
       "      <th>RCL</th>\n",
       "      <td>1.13</td>\n",
       "    </tr>\n",
       "    <tr>\n",
       "      <th>BANPU</th>\n",
       "      <td>1.99</td>\n",
       "    </tr>\n",
       "    <tr>\n",
       "      <th>TOP</th>\n",
       "      <td>3.31</td>\n",
       "    </tr>\n",
       "    <tr>\n",
       "      <th>PSL</th>\n",
       "      <td>4.05</td>\n",
       "    </tr>\n",
       "    <tr>\n",
       "      <th>BCP</th>\n",
       "      <td>4.18</td>\n",
       "    </tr>\n",
       "    <tr>\n",
       "      <th>...</th>\n",
       "      <td>...</td>\n",
       "    </tr>\n",
       "    <tr>\n",
       "      <th>CENTEL</th>\n",
       "      <td>62.40</td>\n",
       "    </tr>\n",
       "    <tr>\n",
       "      <th>DOHOME</th>\n",
       "      <td>72.78</td>\n",
       "    </tr>\n",
       "    <tr>\n",
       "      <th>DELTA</th>\n",
       "      <td>76.33</td>\n",
       "    </tr>\n",
       "    <tr>\n",
       "      <th>GPSC</th>\n",
       "      <td>96.43</td>\n",
       "    </tr>\n",
       "    <tr>\n",
       "      <th>EGCO</th>\n",
       "      <td>126.37</td>\n",
       "    </tr>\n",
       "  </tbody>\n",
       "</table>\n",
       "<p>89 rows × 1 columns</p>\n",
       "</div>"
      ],
      "text/plain": [
       "           p/e\n",
       "RCL       1.13\n",
       "BANPU     1.99\n",
       "TOP       3.31\n",
       "PSL       4.05\n",
       "BCP       4.18\n",
       "...        ...\n",
       "CENTEL   62.40\n",
       "DOHOME   72.78\n",
       "DELTA    76.33\n",
       "GPSC     96.43\n",
       "EGCO    126.37\n",
       "\n",
       "[89 rows x 1 columns]"
      ]
     },
     "execution_count": 20,
     "metadata": {},
     "output_type": "execute_result"
    }
   ],
   "source": [
    "focus_df_sorted = focus_df.sort_values(by='p/e')\n",
    "focus_df_sorted"
   ]
  },
  {
   "cell_type": "markdown",
   "id": "9e38f493",
   "metadata": {
    "papermill": {
     "duration": 0.016044,
     "end_time": "2023-06-04T17:53:42.535526",
     "exception": false,
     "start_time": "2023-06-04T17:53:42.519482",
     "status": "completed"
    },
    "tags": []
   },
   "source": [
    "# Display Thai font in Matplotlib"
   ]
  },
  {
   "cell_type": "code",
   "execution_count": 21,
   "id": "ba610176",
   "metadata": {
    "execution": {
     "iopub.execute_input": "2023-06-04T17:53:42.570668Z",
     "iopub.status.busy": "2023-06-04T17:53:42.570033Z",
     "iopub.status.idle": "2023-06-04T17:53:44.026325Z",
     "shell.execute_reply": "2023-06-04T17:53:44.024903Z"
    },
    "papermill": {
     "duration": 1.476213,
     "end_time": "2023-06-04T17:53:44.029024",
     "exception": false,
     "start_time": "2023-06-04T17:53:42.552811",
     "status": "completed"
    },
    "tags": []
   },
   "outputs": [
    {
     "name": "stdout",
     "output_type": "stream",
     "text": [
      "--2023-06-04 17:53:43--  https://github.com/google/fonts/raw/main/ofl/prompt/Prompt-Regular.ttf\r\n",
      "Resolving github.com (github.com)... 140.82.121.4\r\n",
      "Connecting to github.com (github.com)|140.82.121.4|:443... connected.\r\n",
      "HTTP request sent, awaiting response... 302 Found\r\n",
      "Location: https://raw.githubusercontent.com/google/fonts/main/ofl/prompt/Prompt-Regular.ttf [following]\r\n",
      "--2023-06-04 17:53:43--  https://raw.githubusercontent.com/google/fonts/main/ofl/prompt/Prompt-Regular.ttf\r\n",
      "Resolving raw.githubusercontent.com (raw.githubusercontent.com)... 185.199.109.133, 185.199.111.133, 185.199.110.133, ...\r\n",
      "Connecting to raw.githubusercontent.com (raw.githubusercontent.com)|185.199.109.133|:443... connected.\r\n",
      "HTTP request sent, awaiting response... 200 OK\r\n",
      "Length: 168932 (165K) [application/octet-stream]\r\n",
      "Saving to: ‘Prompt-Regular.ttf’\r\n",
      "\r\n",
      "Prompt-Regular.ttf  100%[===================>] 164.97K  --.-KB/s    in 0.008s  \r\n",
      "\r\n",
      "2023-06-04 17:53:43 (19.3 MB/s) - ‘Prompt-Regular.ttf’ saved [168932/168932]\r\n",
      "\r\n"
     ]
    }
   ],
   "source": [
    "import matplotlib as mpl\n",
    "import matplotlib.font_manager as fm\n",
    "\n",
    "!wget https://github.com/google/fonts/raw/main/ofl/prompt/Prompt-Regular.ttf\n",
    "mpl.font_manager.fontManager.addfont('Prompt-Regular.ttf')\n",
    "mpl.rc('font', family='Prompt')"
   ]
  },
  {
   "cell_type": "markdown",
   "id": "e9ceda72",
   "metadata": {
    "papermill": {
     "duration": 0.017732,
     "end_time": "2023-06-04T17:53:44.064056",
     "exception": false,
     "start_time": "2023-06-04T17:53:44.046324",
     "status": "completed"
    },
    "tags": []
   },
   "source": [
    "## Sort the P/E Ratio to easy to read"
   ]
  },
  {
   "cell_type": "code",
   "execution_count": 22,
   "id": "e9be7722",
   "metadata": {
    "execution": {
     "iopub.execute_input": "2023-06-04T17:53:44.101568Z",
     "iopub.status.busy": "2023-06-04T17:53:44.100924Z",
     "iopub.status.idle": "2023-06-04T17:53:44.111760Z",
     "shell.execute_reply": "2023-06-04T17:53:44.110643Z"
    },
    "papermill": {
     "duration": 0.034099,
     "end_time": "2023-06-04T17:53:44.114596",
     "exception": false,
     "start_time": "2023-06-04T17:53:44.080497",
     "status": "completed"
    },
    "tags": []
   },
   "outputs": [
    {
     "data": {
      "text/plain": [
       "p/e    float64\n",
       "dtype: object"
      ]
     },
     "execution_count": 22,
     "metadata": {},
     "output_type": "execute_result"
    }
   ],
   "source": [
    "focus_df_sorted.dtypes"
   ]
  },
  {
   "cell_type": "markdown",
   "id": "d1a8677e",
   "metadata": {
    "papermill": {
     "duration": 0.016155,
     "end_time": "2023-06-04T17:53:44.152737",
     "exception": false,
     "start_time": "2023-06-04T17:53:44.136582",
     "status": "completed"
    },
    "tags": []
   },
   "source": [
    "# Filter P/E Ratio less than 15\n",
    "\n",
    "Visualize P/E Ratio using bar plot."
   ]
  },
  {
   "cell_type": "code",
   "execution_count": 23,
   "id": "0affaaf9",
   "metadata": {
    "execution": {
     "iopub.execute_input": "2023-06-04T17:53:44.187202Z",
     "iopub.status.busy": "2023-06-04T17:53:44.186488Z",
     "iopub.status.idle": "2023-06-04T17:53:44.192131Z",
     "shell.execute_reply": "2023-06-04T17:53:44.191078Z"
    },
    "papermill": {
     "duration": 0.025579,
     "end_time": "2023-06-04T17:53:44.194479",
     "exception": false,
     "start_time": "2023-06-04T17:53:44.168900",
     "status": "completed"
    },
    "tags": []
   },
   "outputs": [],
   "source": [
    "# Filter Focus for P/E less than 15\n",
    "focus_df_sorted = focus_df_sorted[focus_df_sorted['p/e'] <= 15]"
   ]
  },
  {
   "cell_type": "code",
   "execution_count": 24,
   "id": "f9d0ebd9",
   "metadata": {
    "execution": {
     "iopub.execute_input": "2023-06-04T17:53:44.229338Z",
     "iopub.status.busy": "2023-06-04T17:53:44.228966Z",
     "iopub.status.idle": "2023-06-04T17:53:44.943619Z",
     "shell.execute_reply": "2023-06-04T17:53:44.942470Z"
    },
    "papermill": {
     "duration": 0.734989,
     "end_time": "2023-06-04T17:53:44.946420",
     "exception": false,
     "start_time": "2023-06-04T17:53:44.211431",
     "status": "completed"
    },
    "tags": []
   },
   "outputs": [
    {
     "data": {
      "text/plain": [
       "<Axes: title={'center': 'วิเคราะห์ด้วย P/E น้อยกว่า 15'}>"
      ]
     },
     "execution_count": 24,
     "metadata": {},
     "output_type": "execute_result"
    },
    {
     "data": {
      "image/png": "[encoded data removed]",
      "text/plain": [
       "<Figure size 1500x700 with 1 Axes>"
      ]
     },
     "metadata": {},
     "output_type": "display_data"
    }
   ],
   "source": [
    "focus_df_sorted.plot(kind='bar', figsize=(15,7), title='วิเคราะห์ด้วย P/E น้อยกว่า 15')"
   ]
  },
  {
   "cell_type": "code",
   "execution_count": null,
   "id": "8bc3066e",
   "metadata": {
    "papermill": {
     "duration": 0.017227,
     "end_time": "2023-06-04T17:53:44.980929",
     "exception": false,
     "start_time": "2023-06-04T17:53:44.963702",
     "status": "completed"
    },
    "tags": []
   },
   "outputs": [],
   "source": []
  }
 ],
 "metadata": {
  "kernelspec": {
   "display_name": "Python 3",
   "language": "python",
   "name": "python3"
  },
  "language_info": {
   "codemirror_mode": {
    "name": "ipython",
    "version": 3
   },
   "file_extension": ".py",
   "mimetype": "text/x-python",
   "name": "python",
   "nbconvert_exporter": "python",
   "pygments_lexer": "ipython3",
   "version": "3.10.10"
  },
  "papermill": {
   "default_parameters": {},
   "duration": 372.872884,
   "end_time": "2023-06-04T17:53:47.621039",
   "environment_variables": {},
   "exception": null,
   "input_path": "__notebook__.ipynb",
   "output_path": "__notebook__.ipynb",
   "parameters": {},
   "start_time": "2023-06-04T17:47:34.748155",
   "version": "2.4.0"
  }
 },
 "nbformat": 4,
 "nbformat_minor": 5
}
