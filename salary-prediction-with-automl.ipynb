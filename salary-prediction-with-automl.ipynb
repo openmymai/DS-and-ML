{
 "cells": [
  {
   "cell_type": "markdown",
   "id": "5e19100d",
   "metadata": {
    "papermill": {
     "duration": 0.009704,
     "end_time": "2023-06-07T10:46:45.435551",
     "exception": false,
     "start_time": "2023-06-07T10:46:45.425847",
     "status": "completed"
    },
    "tags": []
   },
   "source": [
    "# Salary Prediction using AutoML\n",
    "\n",
    "Columns\n",
    "\n",
    "1. Years Experience\n",
    "2. Salary\n",
    "\n",
    "AutoGluon can help to predict using AutoML, it is awesome 😇 <br>\n",
    "For the next code, I'm going to use Custom Feature Pipeline to define my own feature preprocessing pipeline."
   ]
  },
  {
   "cell_type": "code",
   "execution_count": 1,
   "id": "212ef1f3",
   "metadata": {
    "_kg_hide-input": true,
    "execution": {
     "iopub.execute_input": "2023-06-07T10:46:45.456299Z",
     "iopub.status.busy": "2023-06-07T10:46:45.455827Z",
     "iopub.status.idle": "2023-06-07T10:46:45.473898Z",
     "shell.execute_reply": "2023-06-07T10:46:45.472961Z"
    },
    "papermill": {
     "duration": 0.031462,
     "end_time": "2023-06-07T10:46:45.476368",
     "exception": false,
     "start_time": "2023-06-07T10:46:45.444906",
     "status": "completed"
    },
    "tags": []
   },
   "outputs": [
    {
     "data": {
      "text/html": [
       "\n",
       "<style>\n",
       "@import url(\"https://fonts.googleapis.com/css2?family=Raleway&family=Roboto:ital,wght@0,500;0,900;1,500&display=swap\");\n",
       ".output_png {\n",
       "    display: table-cell;\n",
       "    text-align: center;\n",
       "    vertical-align: middle;\n",
       "    horizontal-align: middle;\n",
       "}\n",
       "h1 {\n",
       "    display: inline-block;\n",
       "    text-align: center;\n",
       "    padding: 30px;\n",
       "    margin: 0;\n",
       "    background: linear-gradient(0deg, blue, green 40%, red);\n",
       "    -webkit-background-clip: text;\n",
       "    -webkit-text-fill-color: transparent;\n",
       "    width: 90%;\n",
       "    font-family: Raleway;\n",
       "    border-radius: 5px;\n",
       "}\n",
       "\n",
       "h2 {\n",
       "    display: inline-block;\n",
       "    text-align: center;\n",
       "    padding: 25px;\n",
       "    margin: 0;\n",
       "    background: linear-gradient(0deg, blue, green 40%, red);\n",
       "    -webkit-background-clip: text;\n",
       "    -webkit-text-fill-color: transparent;\n",
       "    width: 90%;\n",
       "    font-family: Raleway;\n",
       "    border-radius: 5px;\n",
       "}\n",
       "\n",
       "h3 {\n",
       "    display: inline-block;\n",
       "    text-align: center;\n",
       "    padding: 20px;\n",
       "    margin: 0;\n",
       "    background: linear-gradient(0deg, blue, green 40%, red);\n",
       "    -webkit-background-clip: text;\n",
       "    -webkit-text-fill-color: transparent;\n",
       "    width: 90%;\n",
       "    font-family: Raleway;\n",
       "    border-radius: 5px;\n",
       "}\n",
       "\n",
       "\n",
       "body, p, ul, li {\n",
       "    font-family: Raleway;\n",
       "    font-size: 15px;\n",
       "    color: charcoal;\n",
       "}\n",
       "div {\n",
       "    font-size: 14px;\n",
       "    margin: 0;\n",
       "\n",
       "}\n",
       "\n",
       "h4 {\n",
       "    padding: 0px;\n",
       "    margin: 0;\n",
       "    font-family: Raleway;\n",
       "    font-size: 20px;\n",
       "    background: linear-gradient(to right, #30CFD0 0%, #121FCF 100%);\n",
       "    -webkit-background-clip: text;\n",
       "    -webkit-text-fill-color: transparent;\n",
       "}\n",
       "</style>\n"
      ],
      "text/plain": [
       "<IPython.core.display.HTML object>"
      ]
     },
     "execution_count": 1,
     "metadata": {},
     "output_type": "execute_result"
    }
   ],
   "source": [
    "from IPython.core.display import HTML\n",
    "HTML(\"\"\"\n",
    "<style>\n",
    "@import url(\"https://fonts.googleapis.com/css2?family=Raleway&family=Roboto:ital,wght@0,500;0,900;1,500&display=swap\");\n",
    ".output_png {\n",
    "    display: table-cell;\n",
    "    text-align: center;\n",
    "    vertical-align: middle;\n",
    "    horizontal-align: middle;\n",
    "}\n",
    "h1 {\n",
    "    display: inline-block;\n",
    "    text-align: center;\n",
    "    padding: 30px;\n",
    "    margin: 0;\n",
    "    background: linear-gradient(0deg, blue, green 40%, red);\n",
    "    -webkit-background-clip: text;\n",
    "    -webkit-text-fill-color: transparent;\n",
    "    width: 90%;\n",
    "    font-family: Raleway;\n",
    "    border-radius: 5px;\n",
    "}\n",
    "\n",
    "h2 {\n",
    "    display: inline-block;\n",
    "    text-align: center;\n",
    "    padding: 25px;\n",
    "    margin: 0;\n",
    "    background: linear-gradient(0deg, blue, green 40%, red);\n",
    "    -webkit-background-clip: text;\n",
    "    -webkit-text-fill-color: transparent;\n",
    "    width: 90%;\n",
    "    font-family: Raleway;\n",
    "    border-radius: 5px;\n",
    "}\n",
    "\n",
    "h3 {\n",
    "    display: inline-block;\n",
    "    text-align: center;\n",
    "    padding: 20px;\n",
    "    margin: 0;\n",
    "    background: linear-gradient(0deg, blue, green 40%, red);\n",
    "    -webkit-background-clip: text;\n",
    "    -webkit-text-fill-color: transparent;\n",
    "    width: 90%;\n",
    "    font-family: Raleway;\n",
    "    border-radius: 5px;\n",
    "}\n",
    "\n",
    "\n",
    "body, p, ul, li {\n",
    "    font-family: Raleway;\n",
    "    font-size: 15px;\n",
    "    color: charcoal;\n",
    "}\n",
    "div {\n",
    "    font-size: 14px;\n",
    "    margin: 0;\n",
    "\n",
    "}\n",
    "\n",
    "h4 {\n",
    "    padding: 0px;\n",
    "    margin: 0;\n",
    "    font-family: Raleway;\n",
    "    font-size: 20px;\n",
    "    background: linear-gradient(to right, #30CFD0 0%, #121FCF 100%);\n",
    "    -webkit-background-clip: text;\n",
    "    -webkit-text-fill-color: transparent;\n",
    "}\n",
    "</style>\n",
    "\"\"\")"
   ]
  },
  {
   "cell_type": "code",
   "execution_count": 2,
   "id": "2d371dcb",
   "metadata": {
    "execution": {
     "iopub.execute_input": "2023-06-07T10:46:45.497938Z",
     "iopub.status.busy": "2023-06-07T10:46:45.497486Z",
     "iopub.status.idle": "2023-06-07T10:46:47.137285Z",
     "shell.execute_reply": "2023-06-07T10:46:47.135206Z"
    },
    "papermill": {
     "duration": 1.654123,
     "end_time": "2023-06-07T10:46:47.140228",
     "exception": false,
     "start_time": "2023-06-07T10:46:45.486105",
     "status": "completed"
    },
    "tags": []
   },
   "outputs": [
    {
     "name": "stdout",
     "output_type": "stream",
     "text": [
      "/kaggle/input/salary-prediction-data-simple-linear-regression/Salary_Data.csv\n",
      "/kaggle/input/salary-prediction-data-simple-linear-regression/Salary Data.csv\n"
     ]
    }
   ],
   "source": [
    "# This Python 3 environment comes with many helpful analytics libraries installed\n",
    "# It is defined by the kaggle/python Docker image: https://github.com/kaggle/docker-python\n",
    "# For example, here's several helpful packages to load\n",
    "\n",
    "import numpy as np # linear algebra\n",
    "import pandas as pd # data processing, CSV file I/O (e.g. pd.read_csv)\n",
    "import matplotlib.pyplot as plt\n",
    "import seaborn as sns\n",
    "\n",
    "# Input data files are available in the read-only \"../input/\" directory\n",
    "# For example, running this (by clicking run or pressing Shift+Enter) will list all files under the input directory\n",
    "\n",
    "import os\n",
    "for dirname, _, filenames in os.walk('/kaggle/input'):\n",
    "    for filename in filenames:\n",
    "        print(os.path.join(dirname, filename))\n",
    "\n",
    "# You can write up to 20GB to the current directory (/kaggle/working/) that gets preserved as output when you create a version using \"Save & Run All\" \n",
    "# You can also write temporary files to /kaggle/temp/, but they won't be saved outside of the current session"
   ]
  },
  {
   "cell_type": "markdown",
   "id": "f76b7502",
   "metadata": {
    "papermill": {
     "duration": 0.011827,
     "end_time": "2023-06-07T10:46:47.162122",
     "exception": false,
     "start_time": "2023-06-07T10:46:47.150295",
     "status": "completed"
    },
    "tags": []
   },
   "source": [
    "## Load data"
   ]
  },
  {
   "cell_type": "code",
   "execution_count": 3,
   "id": "7ab2f9ed",
   "metadata": {
    "execution": {
     "iopub.execute_input": "2023-06-07T10:46:47.184976Z",
     "iopub.status.busy": "2023-06-07T10:46:47.183585Z",
     "iopub.status.idle": "2023-06-07T10:46:47.231920Z",
     "shell.execute_reply": "2023-06-07T10:46:47.230716Z"
    },
    "papermill": {
     "duration": 0.062562,
     "end_time": "2023-06-07T10:46:47.234833",
     "exception": false,
     "start_time": "2023-06-07T10:46:47.172271",
     "status": "completed"
    },
    "tags": []
   },
   "outputs": [
    {
     "data": {
      "text/html": [
       "<div>\n",
       "<style scoped>\n",
       "    .dataframe tbody tr th:only-of-type {\n",
       "        vertical-align: middle;\n",
       "    }\n",
       "\n",
       "    .dataframe tbody tr th {\n",
       "        vertical-align: top;\n",
       "    }\n",
       "\n",
       "    .dataframe thead th {\n",
       "        text-align: right;\n",
       "    }\n",
       "</style>\n",
       "<table border=\"1\" class=\"dataframe\">\n",
       "  <thead>\n",
       "    <tr style=\"text-align: right;\">\n",
       "      <th></th>\n",
       "      <th>YearsExperience</th>\n",
       "      <th>Salary</th>\n",
       "    </tr>\n",
       "  </thead>\n",
       "  <tbody>\n",
       "    <tr>\n",
       "      <th>0</th>\n",
       "      <td>1.1</td>\n",
       "      <td>39343.0</td>\n",
       "    </tr>\n",
       "    <tr>\n",
       "      <th>1</th>\n",
       "      <td>1.3</td>\n",
       "      <td>46205.0</td>\n",
       "    </tr>\n",
       "    <tr>\n",
       "      <th>2</th>\n",
       "      <td>1.5</td>\n",
       "      <td>37731.0</td>\n",
       "    </tr>\n",
       "    <tr>\n",
       "      <th>3</th>\n",
       "      <td>2.0</td>\n",
       "      <td>43525.0</td>\n",
       "    </tr>\n",
       "    <tr>\n",
       "      <th>4</th>\n",
       "      <td>2.2</td>\n",
       "      <td>39891.0</td>\n",
       "    </tr>\n",
       "  </tbody>\n",
       "</table>\n",
       "</div>"
      ],
      "text/plain": [
       "   YearsExperience   Salary\n",
       "0              1.1  39343.0\n",
       "1              1.3  46205.0\n",
       "2              1.5  37731.0\n",
       "3              2.0  43525.0\n",
       "4              2.2  39891.0"
      ]
     },
     "execution_count": 3,
     "metadata": {},
     "output_type": "execute_result"
    }
   ],
   "source": [
    "df = pd.read_csv(\"/kaggle/input/salary-prediction-data-simple-linear-regression/Salary_Data.csv\")\n",
    "df.head()"
   ]
  },
  {
   "cell_type": "code",
   "execution_count": 4,
   "id": "5a722cb9",
   "metadata": {
    "execution": {
     "iopub.execute_input": "2023-06-07T10:46:47.257523Z",
     "iopub.status.busy": "2023-06-07T10:46:47.256367Z",
     "iopub.status.idle": "2023-06-07T10:46:47.283304Z",
     "shell.execute_reply": "2023-06-07T10:46:47.281593Z"
    },
    "papermill": {
     "duration": 0.040945,
     "end_time": "2023-06-07T10:46:47.285920",
     "exception": false,
     "start_time": "2023-06-07T10:46:47.244975",
     "status": "completed"
    },
    "tags": []
   },
   "outputs": [
    {
     "name": "stdout",
     "output_type": "stream",
     "text": [
      "<class 'pandas.core.frame.DataFrame'>\n",
      "RangeIndex: 30 entries, 0 to 29\n",
      "Data columns (total 2 columns):\n",
      " #   Column           Non-Null Count  Dtype  \n",
      "---  ------           --------------  -----  \n",
      " 0   YearsExperience  30 non-null     float64\n",
      " 1   Salary           30 non-null     float64\n",
      "dtypes: float64(2)\n",
      "memory usage: 608.0 bytes\n"
     ]
    }
   ],
   "source": [
    "df.info()"
   ]
  },
  {
   "cell_type": "code",
   "execution_count": 5,
   "id": "659e1beb",
   "metadata": {
    "execution": {
     "iopub.execute_input": "2023-06-07T10:46:47.308106Z",
     "iopub.status.busy": "2023-06-07T10:46:47.307676Z",
     "iopub.status.idle": "2023-06-07T10:46:48.202392Z",
     "shell.execute_reply": "2023-06-07T10:46:48.201080Z"
    },
    "papermill": {
     "duration": 0.90912,
     "end_time": "2023-06-07T10:46:48.205313",
     "exception": false,
     "start_time": "2023-06-07T10:46:47.296193",
     "status": "completed"
    },
    "tags": []
   },
   "outputs": [
    {
     "data": {
      "text/plain": [
       "Text(0.5, 0.98, 'Salary Analysis')"
      ]
     },
     "execution_count": 5,
     "metadata": {},
     "output_type": "execute_result"
    },
    {
     "data": {
      "image/png": "[encoded data removed]",
      "text/plain": [
       "<Figure size 1000x500 with 2 Axes>"
      ]
     },
     "metadata": {},
     "output_type": "display_data"
    }
   ],
   "source": [
    "fig, axs = plt.subplots(1, 2, sharey=True, tight_layout=True, figsize=(10,5))\n",
    "\n",
    "axs[0].hist(df[\"Salary\"])\n",
    "axs[0].set(title=\"Salary\")\n",
    "\n",
    "axs[1].hist(df[\"YearsExperience\"])\n",
    "axs[1].set(title=\"Years Experience\")\n",
    "\n",
    "fig.suptitle(\"Salary Analysis\", fontsize=18, fontweight=\"bold\")"
   ]
  },
  {
   "cell_type": "code",
   "execution_count": 6,
   "id": "533ae42d",
   "metadata": {
    "_kg_hide-input": true,
    "_kg_hide-output": true,
    "execution": {
     "iopub.execute_input": "2023-06-07T10:46:48.229547Z",
     "iopub.status.busy": "2023-06-07T10:46:48.229139Z",
     "iopub.status.idle": "2023-06-07T10:50:33.767169Z",
     "shell.execute_reply": "2023-06-07T10:50:33.765207Z"
    },
    "papermill": {
     "duration": 225.554213,
     "end_time": "2023-06-07T10:50:33.770654",
     "exception": false,
     "start_time": "2023-06-07T10:46:48.216441",
     "status": "completed"
    },
    "tags": []
   },
   "outputs": [
    {
     "name": "stdout",
     "output_type": "stream",
     "text": [
      "Collecting autogluon\r\n",
      "  Downloading autogluon-0.7.0-py3-none-any.whl (9.7 kB)\r\n",
      "Collecting autogluon.core[all]==0.7.0 (from autogluon)\r\n",
      "  Downloading autogluon.core-0.7.0-py3-none-any.whl (218 kB)\r\n",
      "\u001b[2K     \u001b[90m━━━━━━━━━━━━━━━━━━━━━━━━━━━━━━━━━━━━━━━\u001b[0m \u001b[32m218.3/218.3 kB\u001b[0m \u001b[31m4.6 MB/s\u001b[0m eta \u001b[36m0:00:00\u001b[0m\r\n",
      "\u001b[?25hCollecting autogluon.features==0.7.0 (from autogluon)\r\n",
      "  Downloading autogluon.features-0.7.0-py3-none-any.whl (60 kB)\r\n",
      "\u001b[2K     \u001b[90m━━━━━━━━━━━━━━━━━━━━━━━━━━━━━━━━━━━━━━━━\u001b[0m \u001b[32m60.1/60.1 kB\u001b[0m \u001b[31m4.3 MB/s\u001b[0m eta \u001b[36m0:00:00\u001b[0m\r\n",
      "\u001b[?25hCollecting autogluon.tabular[all]==0.7.0 (from autogluon)\r\n",
      "  Downloading autogluon.tabular-0.7.0-py3-none-any.whl (292 kB)\r\n",
      "\u001b[2K     \u001b[90m━━━━━━━━━━━━━━━━━━━━━━━━━━━━━━━━━━━━━━\u001b[0m \u001b[32m292.2/292.2 kB\u001b[0m \u001b[31m14.8 MB/s\u001b[0m eta \u001b[36m0:00:00\u001b[0m\r\n",
      "\u001b[?25hCollecting autogluon.multimodal==0.7.0 (from autogluon)\r\n",
      "  Downloading autogluon.multimodal-0.7.0-py3-none-any.whl (331 kB)\r\n",
      "\u001b[2K     \u001b[90m━━━━━━━━━━━━━━━━━━━━━━━━━━━━━━━━━━━━━━\u001b[0m \u001b[32m331.1/331.1 kB\u001b[0m \u001b[31m21.9 MB/s\u001b[0m eta \u001b[36m0:00:00\u001b[0m\r\n",
      "\u001b[?25hCollecting autogluon.timeseries[all]==0.7.0 (from autogluon)\r\n",
      "  Downloading autogluon.timeseries-0.7.0-py3-none-any.whl (108 kB)\r\n",
      "\u001b[2K     \u001b[90m━━━━━━━━━━━━━━━━━━━━━━━━━━━━━━━━━━━━━━━\u001b[0m \u001b[32m108.7/108.7 kB\u001b[0m \u001b[31m8.2 MB/s\u001b[0m eta \u001b[36m0:00:00\u001b[0m\r\n",
      "\u001b[?25hRequirement already satisfied: numpy<1.27,>=1.21 in /opt/conda/lib/python3.10/site-packages (from autogluon.core[all]==0.7.0->autogluon) (1.23.5)\r\n",
      "Requirement already satisfied: scipy<1.12,>=1.5.4 in /opt/conda/lib/python3.10/site-packages (from autogluon.core[all]==0.7.0->autogluon) (1.10.1)\r\n",
      "Requirement already satisfied: scikit-learn<1.3,>=1.0 in /opt/conda/lib/python3.10/site-packages (from autogluon.core[all]==0.7.0->autogluon) (1.2.2)\r\n",
      "Collecting networkx<3.0,>=2.3 (from autogluon.core[all]==0.7.0->autogluon)\r\n",
      "  Downloading networkx-2.8.8-py3-none-any.whl (2.0 MB)\r\n",
      "\u001b[2K     \u001b[90m━━━━━━━━━━━━━━━━━━━━━━━━━━━━━━━━━━━━━━━━\u001b[0m \u001b[32m2.0/2.0 MB\u001b[0m \u001b[31m46.3 MB/s\u001b[0m eta \u001b[36m0:00:00\u001b[0m\r\n",
      "\u001b[?25hRequirement already satisfied: pandas<1.6,>=1.4.1 in /opt/conda/lib/python3.10/site-packages (from autogluon.core[all]==0.7.0->autogluon) (1.5.3)\r\n",
      "Requirement already satisfied: tqdm<5,>=4.38 in /opt/conda/lib/python3.10/site-packages (from autogluon.core[all]==0.7.0->autogluon) (4.64.1)\r\n",
      "Requirement already satisfied: requests in /opt/conda/lib/python3.10/site-packages (from autogluon.core[all]==0.7.0->autogluon) (2.28.2)\r\n",
      "Requirement already satisfied: matplotlib in /opt/conda/lib/python3.10/site-packages (from autogluon.core[all]==0.7.0->autogluon) (3.6.3)\r\n",
      "Requirement already satisfied: boto3<2,>=1.10 in /opt/conda/lib/python3.10/site-packages (from autogluon.core[all]==0.7.0->autogluon) (1.26.100)\r\n",
      "Collecting autogluon.common==0.7.0 (from autogluon.core[all]==0.7.0->autogluon)\r\n",
      "  Downloading autogluon.common-0.7.0-py3-none-any.whl (45 kB)\r\n",
      "\u001b[2K     \u001b[90m━━━━━━━━━━━━━━━━━━━━━━━━━━━━━━━━━━━━━━━━\u001b[0m \u001b[32m45.0/45.0 kB\u001b[0m \u001b[31m3.2 MB/s\u001b[0m eta \u001b[36m0:00:00\u001b[0m\r\n",
      "\u001b[?25hRequirement already satisfied: hyperopt<0.2.8,>=0.2.7 in /opt/conda/lib/python3.10/site-packages (from autogluon.core[all]==0.7.0->autogluon) (0.2.7)\r\n",
      "Collecting ray[tune]<2.3,>=2.2 (from autogluon.core[all]==0.7.0->autogluon)\r\n",
      "  Downloading ray-2.2.0-cp310-cp310-manylinux2014_x86_64.whl (57.4 MB)\r\n",
      "\u001b[2K     \u001b[90m━━━━━━━━━━━━━━━━━━━━━━━━━━━━━━━━━━━━━━━━\u001b[0m \u001b[32m57.4/57.4 MB\u001b[0m \u001b[31m16.9 MB/s\u001b[0m eta \u001b[36m0:00:00\u001b[0m\r\n",
      "\u001b[?25hRequirement already satisfied: Pillow<9.6,>=9.3 in /opt/conda/lib/python3.10/site-packages (from autogluon.multimodal==0.7.0->autogluon) (9.5.0)\r\n",
      "Requirement already satisfied: jsonschema<4.18,>=4.14 in /opt/conda/lib/python3.10/site-packages (from autogluon.multimodal==0.7.0->autogluon) (4.17.3)\r\n",
      "Collecting seqeval<1.3.0,>=1.2.2 (from autogluon.multimodal==0.7.0->autogluon)\r\n",
      "  Downloading seqeval-1.2.2.tar.gz (43 kB)\r\n",
      "\u001b[2K     \u001b[90m━━━━━━━━━━━━━━━━━━━━━━━━━━━━━━━━━━━━━━━━\u001b[0m \u001b[32m43.6/43.6 kB\u001b[0m \u001b[31m3.5 MB/s\u001b[0m eta \u001b[36m0:00:00\u001b[0m\r\n",
      "\u001b[?25h  Preparing metadata (setup.py) ... \u001b[?25l-\b \b\\\b \bdone\r\n",
      "\u001b[?25hCollecting evaluate<0.4.0,>=0.2.2 (from autogluon.multimodal==0.7.0->autogluon)\r\n",
      "  Downloading evaluate-0.3.0-py3-none-any.whl (72 kB)\r\n",
      "\u001b[2K     \u001b[90m━━━━━━━━━━━━━━━━━━━━━━━━━━━━━━━━━━━━━━━━\u001b[0m \u001b[32m72.9/72.9 kB\u001b[0m \u001b[31m5.1 MB/s\u001b[0m eta \u001b[36m0:00:00\u001b[0m\r\n",
      "\u001b[?25hRequirement already satisfied: accelerate<0.17,>=0.9 in /opt/conda/lib/python3.10/site-packages (from autogluon.multimodal==0.7.0->autogluon) (0.12.0)\r\n",
      "Collecting timm<0.7.0,>=0.6.12 (from autogluon.multimodal==0.7.0->autogluon)\r\n",
      "  Downloading timm-0.6.13-py3-none-any.whl (549 kB)\r\n",
      "\u001b[2K     \u001b[90m━━━━━━━━━━━━━━━━━━━━━━━━━━━━━━━━━━━━━━\u001b[0m \u001b[32m549.1/549.1 kB\u001b[0m \u001b[31m33.8 MB/s\u001b[0m eta \u001b[36m0:00:00\u001b[0m\r\n",
      "\u001b[?25hCollecting torch<1.14,>=1.9 (from autogluon.multimodal==0.7.0->autogluon)\r\n",
      "  Downloading torch-1.13.1-cp310-cp310-manylinux1_x86_64.whl (887.5 MB)\r\n",
      "\u001b[2K     \u001b[90m━━━━━━━━━━━━━━━━━━━━━━━━━━━━━━━━━━━━━━━\u001b[0m \u001b[32m887.5/887.5 MB\u001b[0m \u001b[31m1.1 MB/s\u001b[0m eta \u001b[36m0:00:00\u001b[0m\r\n",
      "\u001b[?25hCollecting torchvision<0.15.0 (from autogluon.multimodal==0.7.0->autogluon)\r\n",
      "  Downloading torchvision-0.14.1-cp310-cp310-manylinux1_x86_64.whl (24.2 MB)\r\n",
      "\u001b[2K     \u001b[90m━━━━━━━━━━━━━━━━━━━━━━━━━━━━━━━━━━━━━━━━\u001b[0m \u001b[32m24.2/24.2 MB\u001b[0m \u001b[31m35.6 MB/s\u001b[0m eta \u001b[36m0:00:00\u001b[0m\r\n",
      "\u001b[?25hCollecting fairscale<0.4.14,>=0.4.5 (from autogluon.multimodal==0.7.0->autogluon)\r\n",
      "  Downloading fairscale-0.4.13.tar.gz (266 kB)\r\n",
      "\u001b[2K     \u001b[90m━━━━━━━━━━━━━━━━━━━━━━━━━━━━━━━━━━━━━━\u001b[0m \u001b[32m266.3/266.3 kB\u001b[0m \u001b[31m18.8 MB/s\u001b[0m eta \u001b[36m0:00:00\u001b[0m\r\n",
      "\u001b[?25h  Installing build dependencies ... \u001b[?25l-\b \b\\\b \b|\b \b/\b \b-\b \bdone\r\n",
      "\u001b[?25h  Getting requirements to build wheel ... \u001b[?25ldone\r\n",
      "\u001b[?25h  Installing backend dependencies ... \u001b[?25l-\b \b\\\b \b|\b \bdone\r\n",
      "\u001b[?25h  Preparing metadata (pyproject.toml) ... \u001b[?25l-\b \bdone\r\n",
      "\u001b[?25hCollecting scikit-image<0.20.0,>=0.19.1 (from autogluon.multimodal==0.7.0->autogluon)\r\n",
      "  Downloading scikit_image-0.19.3-cp310-cp310-manylinux_2_17_x86_64.manylinux2014_x86_64.whl (13.9 MB)\r\n",
      "\u001b[2K     \u001b[90m━━━━━━━━━━━━━━━━━━━━━━━━━━━━━━━━━━━━━━━━\u001b[0m \u001b[32m13.9/13.9 MB\u001b[0m \u001b[31m46.4 MB/s\u001b[0m eta \u001b[36m0:00:00\u001b[0m\r\n",
      "\u001b[?25hCollecting pytorch-lightning<1.10.0,>=1.9.0 (from autogluon.multimodal==0.7.0->autogluon)\r\n",
      "  Downloading pytorch_lightning-1.9.5-py3-none-any.whl (829 kB)\r\n",
      "\u001b[2K     \u001b[90m━━━━━━━━━━━━━━━━━━━━━━━━━━━━━━━━━━━━━━\u001b[0m \u001b[32m829.5/829.5 kB\u001b[0m \u001b[31m43.0 MB/s\u001b[0m eta \u001b[36m0:00:00\u001b[0m\r\n",
      "\u001b[?25hRequirement already satisfied: text-unidecode<1.4,>=1.3 in /opt/conda/lib/python3.10/site-packages (from autogluon.multimodal==0.7.0->autogluon) (1.3)\r\n",
      "Collecting torchmetrics<0.9.0,>=0.8.0 (from autogluon.multimodal==0.7.0->autogluon)\r\n",
      "  Downloading torchmetrics-0.8.2-py3-none-any.whl (409 kB)\r\n",
      "\u001b[2K     \u001b[90m━━━━━━━━━━━━━━━━━━━━━━━━━━━━━━━━━━━━━━\u001b[0m \u001b[32m409.8/409.8 kB\u001b[0m \u001b[31m30.4 MB/s\u001b[0m eta \u001b[36m0:00:00\u001b[0m\r\n",
      "\u001b[?25hCollecting transformers<4.27.0,>=4.23.0 (from autogluon.multimodal==0.7.0->autogluon)\r\n",
      "  Downloading transformers-4.26.1-py3-none-any.whl (6.3 MB)\r\n",
      "\u001b[2K     \u001b[90m━━━━━━━━━━━━━━━━━━━━━━━━━━━━━━━━━━━━━━━━\u001b[0m \u001b[32m6.3/6.3 MB\u001b[0m \u001b[31m70.8 MB/s\u001b[0m eta \u001b[36m0:00:00\u001b[0m\r\n",
      "\u001b[?25hCollecting nptyping<2.5.0,>=1.4.4 (from autogluon.multimodal==0.7.0->autogluon)\r\n",
      "  Downloading nptyping-2.4.1-py3-none-any.whl (36 kB)\r\n",
      "Collecting omegaconf<2.3.0,>=2.1.1 (from autogluon.multimodal==0.7.0->autogluon)\r\n",
      "  Downloading omegaconf-2.2.3-py3-none-any.whl (79 kB)\r\n",
      "\u001b[2K     \u001b[90m━━━━━━━━━━━━━━━━━━━━━━━━━━━━━━━━━━━━━━━━\u001b[0m \u001b[32m79.3/79.3 kB\u001b[0m \u001b[31m7.6 MB/s\u001b[0m eta \u001b[36m0:00:00\u001b[0m\r\n",
      "\u001b[?25hRequirement already satisfied: sentencepiece<0.2.0,>=0.1.95 in /opt/conda/lib/python3.10/site-packages (from autogluon.multimodal==0.7.0->autogluon) (0.1.99)\r\n",
      "Collecting pytorch-metric-learning<2.0,>=1.3.0 (from autogluon.multimodal==0.7.0->autogluon)\r\n",
      "  Downloading pytorch_metric_learning-1.7.3-py3-none-any.whl (112 kB)\r\n",
      "\u001b[2K     \u001b[90m━━━━━━━━━━━━━━━━━━━━━━━━━━━━━━━━━━━━━━━\u001b[0m \u001b[32m112.2/112.2 kB\u001b[0m \u001b[31m9.3 MB/s\u001b[0m eta \u001b[36m0:00:00\u001b[0m\r\n",
      "\u001b[?25hCollecting nlpaug<1.2.0,>=1.1.10 (from autogluon.multimodal==0.7.0->autogluon)\r\n",
      "  Downloading nlpaug-1.1.11-py3-none-any.whl (410 kB)\r\n",
      "\u001b[2K     \u001b[90m━━━━━━━━━━━━━━━━━━━━━━━━━━━━━━━━━━━━━━\u001b[0m \u001b[32m410.5/410.5 kB\u001b[0m \u001b[31m30.2 MB/s\u001b[0m eta \u001b[36m0:00:00\u001b[0m\r\n",
      "\u001b[?25hCollecting nltk<4.0.0,>=3.4.5 (from autogluon.multimodal==0.7.0->autogluon)\r\n",
      "  Downloading nltk-3.8.1-py3-none-any.whl (1.5 MB)\r\n",
      "\u001b[2K     \u001b[90m━━━━━━━━━━━━━━━━━━━━━━━━━━━━━━━━━━━━━━━━\u001b[0m \u001b[32m1.5/1.5 MB\u001b[0m \u001b[31m62.7 MB/s\u001b[0m eta \u001b[36m0:00:00\u001b[0m\r\n",
      "\u001b[?25hCollecting openmim<0.4.0,>0.1.5 (from autogluon.multimodal==0.7.0->autogluon)\r\n",
      "  Downloading openmim-0.3.7-py2.py3-none-any.whl (51 kB)\r\n",
      "\u001b[2K     \u001b[90m━━━━━━━━━━━━━━━━━━━━━━━━━━━━━━━━━━━━━━━━\u001b[0m \u001b[32m51.3/51.3 kB\u001b[0m \u001b[31m3.8 MB/s\u001b[0m eta \u001b[36m0:00:00\u001b[0m\r\n",
      "\u001b[?25hRequirement already satisfied: defusedxml<0.7.2,>=0.7.1 in /opt/conda/lib/python3.10/site-packages (from autogluon.multimodal==0.7.0->autogluon) (0.7.1)\r\n",
      "Requirement already satisfied: jinja2<3.2,>=3.0.3 in /opt/conda/lib/python3.10/site-packages (from autogluon.multimodal==0.7.0->autogluon) (3.1.2)\r\n",
      "Requirement already satisfied: tensorboard<3,>=2.9 in /opt/conda/lib/python3.10/site-packages (from autogluon.multimodal==0.7.0->autogluon) (2.12.3)\r\n",
      "Requirement already satisfied: pytesseract<0.3.11,>=0.3.9 in /opt/conda/lib/python3.10/site-packages (from autogluon.multimodal==0.7.0->autogluon) (0.3.10)\r\n",
      "Collecting catboost<1.2,>=1.0 (from autogluon.tabular[all]==0.7.0->autogluon)\r\n",
      "  Downloading catboost-1.1.1-cp310-none-manylinux1_x86_64.whl (76.6 MB)\r\n",
      "\u001b[2K     \u001b[90m━━━━━━━━━━━━━━━━━━━━━━━━━━━━━━━━━━━━━━━━\u001b[0m \u001b[32m76.6/76.6 MB\u001b[0m \u001b[31m11.8 MB/s\u001b[0m eta \u001b[36m0:00:00\u001b[0m\r\n",
      "\u001b[?25hRequirement already satisfied: lightgbm<3.4,>=3.3 in /opt/conda/lib/python3.10/site-packages (from autogluon.tabular[all]==0.7.0->autogluon) (3.3.2)\r\n",
      "Requirement already satisfied: xgboost<1.8,>=1.6 in /opt/conda/lib/python3.10/site-packages (from autogluon.tabular[all]==0.7.0->autogluon) (1.7.5)\r\n",
      "Requirement already satisfied: fastai<2.8,>=2.3.1 in /opt/conda/lib/python3.10/site-packages (from autogluon.tabular[all]==0.7.0->autogluon) (2.7.12)\r\n",
      "Requirement already satisfied: joblib<2,>=1.1 in /opt/conda/lib/python3.10/site-packages (from autogluon.timeseries[all]==0.7.0->autogluon) (1.2.0)\r\n",
      "Requirement already satisfied: statsmodels<0.14,>=0.13.0 in /opt/conda/lib/python3.10/site-packages (from autogluon.timeseries[all]==0.7.0->autogluon) (0.13.5)\r\n",
      "Collecting gluonts<0.13,>=0.12.0 (from autogluon.timeseries[all]==0.7.0->autogluon)\r\n",
      "  Downloading gluonts-0.12.8-py3-none-any.whl (1.2 MB)\r\n",
      "\u001b[2K     \u001b[90m━━━━━━━━━━━━━━━━━━━━━━━━━━━━━━━━━━━━━━━━\u001b[0m \u001b[32m1.2/1.2 MB\u001b[0m \u001b[31m48.5 MB/s\u001b[0m eta \u001b[36m0:00:00\u001b[0m\r\n",
      "\u001b[?25hCollecting statsforecast<1.5,>=1.4.0 (from autogluon.timeseries[all]==0.7.0->autogluon)\r\n",
      "  Downloading statsforecast-1.4.0-py3-none-any.whl (91 kB)\r\n",
      "\u001b[2K     \u001b[90m━━━━━━━━━━━━━━━━━━━━━━━━━━━━━━━━━━━━━━━━\u001b[0m \u001b[32m92.0/92.0 kB\u001b[0m \u001b[31m7.0 MB/s\u001b[0m eta \u001b[36m0:00:00\u001b[0m\r\n",
      "\u001b[?25hRequirement already satisfied: ujson<6,>=5 in /opt/conda/lib/python3.10/site-packages (from autogluon.timeseries[all]==0.7.0->autogluon) (5.7.0)\r\n",
      "Collecting sktime<0.16,>=0.14 (from autogluon.timeseries[all]==0.7.0->autogluon)\r\n",
      "  Downloading sktime-0.15.1-py3-none-any.whl (16.0 MB)\r\n",
      "\u001b[2K     \u001b[90m━━━━━━━━━━━━━━━━━━━━━━━━━━━━━━━━━━━━━━━━\u001b[0m \u001b[32m16.0/16.0 MB\u001b[0m \u001b[31m58.2 MB/s\u001b[0m eta \u001b[36m0:00:00\u001b[0m\r\n",
      "\u001b[?25hCollecting tbats<2,>=1.1 (from autogluon.timeseries[all]==0.7.0->autogluon)\r\n",
      "  Downloading tbats-1.1.3-py3-none-any.whl (44 kB)\r\n",
      "\u001b[2K     \u001b[90m━━━━━━━━━━━━━━━━━━━━━━━━━━━━━━━━━━━━━━━━\u001b[0m \u001b[32m44.0/44.0 kB\u001b[0m \u001b[31m3.0 MB/s\u001b[0m eta \u001b[36m0:00:00\u001b[0m\r\n",
      "\u001b[?25hCollecting pmdarima<1.9,>=1.8.2 (from autogluon.timeseries[all]==0.7.0->autogluon)\r\n",
      "  Downloading pmdarima-1.8.5-cp310-cp310-manylinux_2_17_x86_64.manylinux2014_x86_64.manylinux_2_24_x86_64.whl (1.4 MB)\r\n",
      "\u001b[2K     \u001b[90m━━━━━━━━━━━━━━━━━━━━━━━━━━━━━━━━━━━━━━━━\u001b[0m \u001b[32m1.4/1.4 MB\u001b[0m \u001b[31m51.7 MB/s\u001b[0m eta \u001b[36m0:00:00\u001b[0m\r\n",
      "\u001b[?25hRequirement already satisfied: psutil<6,>=5.7.3 in /opt/conda/lib/python3.10/site-packages (from autogluon.common==0.7.0->autogluon.core[all]==0.7.0->autogluon) (5.9.3)\r\n",
      "Requirement already satisfied: setuptools in /opt/conda/lib/python3.10/site-packages (from autogluon.common==0.7.0->autogluon.core[all]==0.7.0->autogluon) (59.8.0)\r\n",
      "Requirement already satisfied: packaging>=20.0 in /opt/conda/lib/python3.10/site-packages (from accelerate<0.17,>=0.9->autogluon.multimodal==0.7.0->autogluon) (21.3)\r\n",
      "Requirement already satisfied: pyyaml in /opt/conda/lib/python3.10/site-packages (from accelerate<0.17,>=0.9->autogluon.multimodal==0.7.0->autogluon) (5.4.1)\r\n",
      "Collecting botocore<1.30.0,>=1.29.100 (from boto3<2,>=1.10->autogluon.core[all]==0.7.0->autogluon)\r\n",
      "  Downloading botocore-1.29.148-py3-none-any.whl (10.8 MB)\r\n",
      "\u001b[2K     \u001b[90m━━━━━━━━━━━━━━━━━━━━━━━━━━━━━━━━━━━━━━━━\u001b[0m \u001b[32m10.8/10.8 MB\u001b[0m \u001b[31m69.6 MB/s\u001b[0m eta \u001b[36m0:00:00\u001b[0m\r\n",
      "\u001b[?25hRequirement already satisfied: jmespath<2.0.0,>=0.7.1 in /opt/conda/lib/python3.10/site-packages (from boto3<2,>=1.10->autogluon.core[all]==0.7.0->autogluon) (1.0.1)\r\n",
      "Requirement already satisfied: s3transfer<0.7.0,>=0.6.0 in /opt/conda/lib/python3.10/site-packages (from boto3<2,>=1.10->autogluon.core[all]==0.7.0->autogluon) (0.6.1)\r\n",
      "Requirement already satisfied: graphviz in /opt/conda/lib/python3.10/site-packages (from catboost<1.2,>=1.0->autogluon.tabular[all]==0.7.0->autogluon) (0.20.1)\r\n",
      "Requirement already satisfied: plotly in /opt/conda/lib/python3.10/site-packages (from catboost<1.2,>=1.0->autogluon.tabular[all]==0.7.0->autogluon) (5.14.1)\r\n",
      "Requirement already satisfied: six in /opt/conda/lib/python3.10/site-packages (from catboost<1.2,>=1.0->autogluon.tabular[all]==0.7.0->autogluon) (1.16.0)\r\n",
      "Requirement already satisfied: datasets>=2.0.0 in /opt/conda/lib/python3.10/site-packages (from evaluate<0.4.0,>=0.2.2->autogluon.multimodal==0.7.0->autogluon) (2.1.0)\r\n",
      "Requirement already satisfied: dill in /opt/conda/lib/python3.10/site-packages (from evaluate<0.4.0,>=0.2.2->autogluon.multimodal==0.7.0->autogluon) (0.3.6)\r\n",
      "Requirement already satisfied: xxhash in /opt/conda/lib/python3.10/site-packages (from evaluate<0.4.0,>=0.2.2->autogluon.multimodal==0.7.0->autogluon) (3.2.0)\r\n",
      "Requirement already satisfied: multiprocess in /opt/conda/lib/python3.10/site-packages (from evaluate<0.4.0,>=0.2.2->autogluon.multimodal==0.7.0->autogluon) (0.70.14)\r\n",
      "Requirement already satisfied: fsspec[http]>=2021.05.0 in /opt/conda/lib/python3.10/site-packages (from evaluate<0.4.0,>=0.2.2->autogluon.multimodal==0.7.0->autogluon) (2023.5.0)\r\n",
      "Requirement already satisfied: huggingface-hub>=0.7.0 in /opt/conda/lib/python3.10/site-packages (from evaluate<0.4.0,>=0.2.2->autogluon.multimodal==0.7.0->autogluon) (0.14.1)\r\n",
      "Requirement already satisfied: responses<0.19 in /opt/conda/lib/python3.10/site-packages (from evaluate<0.4.0,>=0.2.2->autogluon.multimodal==0.7.0->autogluon) (0.18.0)\r\n",
      "Requirement already satisfied: pip in /opt/conda/lib/python3.10/site-packages (from fastai<2.8,>=2.3.1->autogluon.tabular[all]==0.7.0->autogluon) (23.1.2)\r\n",
      "Requirement already satisfied: fastdownload<2,>=0.0.5 in /opt/conda/lib/python3.10/site-packages (from fastai<2.8,>=2.3.1->autogluon.tabular[all]==0.7.0->autogluon) (0.0.7)\r\n",
      "Requirement already satisfied: fastcore<1.6,>=1.5.29 in /opt/conda/lib/python3.10/site-packages (from fastai<2.8,>=2.3.1->autogluon.tabular[all]==0.7.0->autogluon) (1.5.29)\r\n",
      "Requirement already satisfied: fastprogress>=0.2.4 in /opt/conda/lib/python3.10/site-packages (from fastai<2.8,>=2.3.1->autogluon.tabular[all]==0.7.0->autogluon) (1.0.3)\r\n",
      "Requirement already satisfied: spacy<4 in /opt/conda/lib/python3.10/site-packages (from fastai<2.8,>=2.3.1->autogluon.tabular[all]==0.7.0->autogluon) (3.5.3)\r\n",
      "Requirement already satisfied: pydantic~=1.7 in /opt/conda/lib/python3.10/site-packages (from gluonts<0.13,>=0.12.0->autogluon.timeseries[all]==0.7.0->autogluon) (1.10.7)\r\n",
      "Requirement already satisfied: toolz~=0.10 in /opt/conda/lib/python3.10/site-packages (from gluonts<0.13,>=0.12.0->autogluon.timeseries[all]==0.7.0->autogluon) (0.12.0)\r\n",
      "Requirement already satisfied: typing-extensions~=4.0 in /opt/conda/lib/python3.10/site-packages (from gluonts<0.13,>=0.12.0->autogluon.timeseries[all]==0.7.0->autogluon) (4.5.0)\r\n",
      "Requirement already satisfied: future in /opt/conda/lib/python3.10/site-packages (from hyperopt<0.2.8,>=0.2.7->autogluon.core[all]==0.7.0->autogluon) (0.18.3)\r\n",
      "Requirement already satisfied: cloudpickle in /opt/conda/lib/python3.10/site-packages (from hyperopt<0.2.8,>=0.2.7->autogluon.core[all]==0.7.0->autogluon) (2.2.1)\r\n",
      "Requirement already satisfied: py4j in /opt/conda/lib/python3.10/site-packages (from hyperopt<0.2.8,>=0.2.7->autogluon.core[all]==0.7.0->autogluon) (0.10.9.7)\r\n",
      "Requirement already satisfied: MarkupSafe>=2.0 in /opt/conda/lib/python3.10/site-packages (from jinja2<3.2,>=3.0.3->autogluon.multimodal==0.7.0->autogluon) (2.1.2)\r\n",
      "Requirement already satisfied: attrs>=17.4.0 in /opt/conda/lib/python3.10/site-packages (from jsonschema<4.18,>=4.14->autogluon.multimodal==0.7.0->autogluon) (23.1.0)\r\n",
      "Requirement already satisfied: pyrsistent!=0.17.0,!=0.17.1,!=0.17.2,>=0.14.0 in /opt/conda/lib/python3.10/site-packages (from jsonschema<4.18,>=4.14->autogluon.multimodal==0.7.0->autogluon) (0.19.3)\r\n",
      "Requirement already satisfied: wheel in /opt/conda/lib/python3.10/site-packages (from lightgbm<3.4,>=3.3->autogluon.tabular[all]==0.7.0->autogluon) (0.40.0)\r\n",
      "Collecting gdown>=4.0.0 (from nlpaug<1.2.0,>=1.1.10->autogluon.multimodal==0.7.0->autogluon)\r\n",
      "  Downloading gdown-4.7.1-py3-none-any.whl (15 kB)\r\n",
      "Requirement already satisfied: click in /opt/conda/lib/python3.10/site-packages (from nltk<4.0.0,>=3.4.5->autogluon.multimodal==0.7.0->autogluon) (8.1.3)\r\n",
      "Requirement already satisfied: regex>=2021.8.3 in /opt/conda/lib/python3.10/site-packages (from nltk<4.0.0,>=3.4.5->autogluon.multimodal==0.7.0->autogluon) (2023.5.5)\r\n",
      "Collecting antlr4-python3-runtime==4.9.* (from omegaconf<2.3.0,>=2.1.1->autogluon.multimodal==0.7.0->autogluon)\r\n",
      "  Downloading antlr4-python3-runtime-4.9.3.tar.gz (117 kB)\r\n",
      "\u001b[2K     \u001b[90m━━━━━━━━━━━━━━━━━━━━━━━━━━━━━━━━━━━━━━━\u001b[0m \u001b[32m117.0/117.0 kB\u001b[0m \u001b[31m8.3 MB/s\u001b[0m eta \u001b[36m0:00:00\u001b[0m\r\n",
      "\u001b[?25h  Preparing metadata (setup.py) ... \u001b[?25l-\b \b\\\b \bdone\r\n",
      "\u001b[?25hRequirement already satisfied: colorama in /opt/conda/lib/python3.10/site-packages (from openmim<0.4.0,>0.1.5->autogluon.multimodal==0.7.0->autogluon) (0.4.6)\r\n",
      "Collecting model-index (from openmim<0.4.0,>0.1.5->autogluon.multimodal==0.7.0->autogluon)\r\n",
      "  Downloading model_index-0.1.11-py3-none-any.whl (34 kB)\r\n",
      "Requirement already satisfied: rich in /opt/conda/lib/python3.10/site-packages (from openmim<0.4.0,>0.1.5->autogluon.multimodal==0.7.0->autogluon) (13.3.5)\r\n",
      "Requirement already satisfied: tabulate in /opt/conda/lib/python3.10/site-packages (from openmim<0.4.0,>0.1.5->autogluon.multimodal==0.7.0->autogluon) (0.9.0)\r\n",
      "Requirement already satisfied: python-dateutil>=2.8.1 in /opt/conda/lib/python3.10/site-packages (from pandas<1.6,>=1.4.1->autogluon.core[all]==0.7.0->autogluon) (2.8.2)\r\n",
      "Requirement already satisfied: pytz>=2020.1 in /opt/conda/lib/python3.10/site-packages (from pandas<1.6,>=1.4.1->autogluon.core[all]==0.7.0->autogluon) (2023.3)\r\n",
      "Requirement already satisfied: Cython!=0.29.18,>=0.29 in /opt/conda/lib/python3.10/site-packages (from pmdarima<1.9,>=1.8.2->autogluon.timeseries[all]==0.7.0->autogluon) (0.29.34)\r\n",
      "Requirement already satisfied: urllib3 in /opt/conda/lib/python3.10/site-packages (from pmdarima<1.9,>=1.8.2->autogluon.timeseries[all]==0.7.0->autogluon) (1.26.15)\r\n",
      "Requirement already satisfied: lightning-utilities>=0.6.0.post0 in /opt/conda/lib/python3.10/site-packages (from pytorch-lightning<1.10.0,>=1.9.0->autogluon.multimodal==0.7.0->autogluon) (0.8.0)\r\n",
      "Requirement already satisfied: filelock in /opt/conda/lib/python3.10/site-packages (from ray[tune]<2.3,>=2.2->autogluon.core[all]==0.7.0->autogluon) (3.12.0)\r\n",
      "Requirement already satisfied: msgpack<2.0.0,>=1.0.0 in /opt/conda/lib/python3.10/site-packages (from ray[tune]<2.3,>=2.2->autogluon.core[all]==0.7.0->autogluon) (1.0.5)\r\n",
      "Requirement already satisfied: protobuf!=3.19.5,>=3.15.3 in /opt/conda/lib/python3.10/site-packages (from ray[tune]<2.3,>=2.2->autogluon.core[all]==0.7.0->autogluon) (3.20.3)\r\n",
      "Requirement already satisfied: aiosignal in /opt/conda/lib/python3.10/site-packages (from ray[tune]<2.3,>=2.2->autogluon.core[all]==0.7.0->autogluon) (1.3.1)\r\n",
      "Requirement already satisfied: frozenlist in /opt/conda/lib/python3.10/site-packages (from ray[tune]<2.3,>=2.2->autogluon.core[all]==0.7.0->autogluon) (1.3.3)\r\n",
      "Requirement already satisfied: virtualenv>=20.0.24 in /opt/conda/lib/python3.10/site-packages (from ray[tune]<2.3,>=2.2->autogluon.core[all]==0.7.0->autogluon) (20.21.0)\r\n",
      "Requirement already satisfied: grpcio>=1.42.0 in /opt/conda/lib/python3.10/site-packages (from ray[tune]<2.3,>=2.2->autogluon.core[all]==0.7.0->autogluon) (1.51.3)\r\n",
      "Requirement already satisfied: tensorboardX>=1.9 in /opt/conda/lib/python3.10/site-packages (from ray[tune]<2.3,>=2.2->autogluon.core[all]==0.7.0->autogluon) (2.6)\r\n",
      "Requirement already satisfied: charset-normalizer<4,>=2 in /opt/conda/lib/python3.10/site-packages (from requests->autogluon.core[all]==0.7.0->autogluon) (2.1.1)\r\n",
      "Requirement already satisfied: idna<4,>=2.5 in /opt/conda/lib/python3.10/site-packages (from requests->autogluon.core[all]==0.7.0->autogluon) (3.4)\r\n",
      "Requirement already satisfied: certifi>=2017.4.17 in /opt/conda/lib/python3.10/site-packages (from requests->autogluon.core[all]==0.7.0->autogluon) (2023.5.7)\r\n",
      "Requirement already satisfied: imageio>=2.4.1 in /opt/conda/lib/python3.10/site-packages (from scikit-image<0.20.0,>=0.19.1->autogluon.multimodal==0.7.0->autogluon) (2.28.1)\r\n",
      "Requirement already satisfied: tifffile>=2019.7.26 in /opt/conda/lib/python3.10/site-packages (from scikit-image<0.20.0,>=0.19.1->autogluon.multimodal==0.7.0->autogluon) (2023.4.12)\r\n",
      "Requirement already satisfied: PyWavelets>=1.1.1 in /opt/conda/lib/python3.10/site-packages (from scikit-image<0.20.0,>=0.19.1->autogluon.multimodal==0.7.0->autogluon) (1.4.1)\r\n",
      "Requirement already satisfied: threadpoolctl>=2.0.0 in /opt/conda/lib/python3.10/site-packages (from scikit-learn<1.3,>=1.0->autogluon.core[all]==0.7.0->autogluon) (3.1.0)\r\n",
      "Requirement already satisfied: deprecated>=1.2.13 in /opt/conda/lib/python3.10/site-packages (from sktime<0.16,>=0.14->autogluon.timeseries[all]==0.7.0->autogluon) (1.2.13)\r\n",
      "Requirement already satisfied: numba>=0.55 in /opt/conda/lib/python3.10/site-packages (from sktime<0.16,>=0.14->autogluon.timeseries[all]==0.7.0->autogluon) (0.57.0)\r\n",
      "Requirement already satisfied: patsy>=0.5.2 in /opt/conda/lib/python3.10/site-packages (from statsmodels<0.14,>=0.13.0->autogluon.timeseries[all]==0.7.0->autogluon) (0.5.3)\r\n",
      "Requirement already satisfied: absl-py>=0.4 in /opt/conda/lib/python3.10/site-packages (from tensorboard<3,>=2.9->autogluon.multimodal==0.7.0->autogluon) (1.4.0)\r\n",
      "Requirement already satisfied: google-auth<3,>=1.6.3 in /opt/conda/lib/python3.10/site-packages (from tensorboard<3,>=2.9->autogluon.multimodal==0.7.0->autogluon) (2.17.3)\r\n",
      "Requirement already satisfied: google-auth-oauthlib<1.1,>=0.5 in /opt/conda/lib/python3.10/site-packages (from tensorboard<3,>=2.9->autogluon.multimodal==0.7.0->autogluon) (1.0.0)\r\n",
      "Requirement already satisfied: markdown>=2.6.8 in /opt/conda/lib/python3.10/site-packages (from tensorboard<3,>=2.9->autogluon.multimodal==0.7.0->autogluon) (3.4.3)\r\n",
      "Requirement already satisfied: tensorboard-data-server<0.8.0,>=0.7.0 in /opt/conda/lib/python3.10/site-packages (from tensorboard<3,>=2.9->autogluon.multimodal==0.7.0->autogluon) (0.7.0)\r\n",
      "Requirement already satisfied: werkzeug>=1.0.1 in /opt/conda/lib/python3.10/site-packages (from tensorboard<3,>=2.9->autogluon.multimodal==0.7.0->autogluon) (2.3.4)\r\n",
      "Collecting nvidia-cuda-runtime-cu11==11.7.99 (from torch<1.14,>=1.9->autogluon.multimodal==0.7.0->autogluon)\r\n",
      "  Downloading nvidia_cuda_runtime_cu11-11.7.99-py3-none-manylinux1_x86_64.whl (849 kB)\r\n",
      "\u001b[2K     \u001b[90m━━━━━━━━━━━━━━━━━━━━━━━━━━━━━━━━━━━━━━\u001b[0m \u001b[32m849.3/849.3 kB\u001b[0m \u001b[31m39.9 MB/s\u001b[0m eta \u001b[36m0:00:00\u001b[0m\r\n",
      "\u001b[?25hCollecting nvidia-cudnn-cu11==8.5.0.96 (from torch<1.14,>=1.9->autogluon.multimodal==0.7.0->autogluon)\r\n",
      "  Downloading nvidia_cudnn_cu11-8.5.0.96-2-py3-none-manylinux1_x86_64.whl (557.1 MB)\r\n",
      "\u001b[2K     \u001b[90m━━━━━━━━━━━━━━━━━━━━━━━━━━━━━━━━━━━━━━━\u001b[0m \u001b[32m557.1/557.1 MB\u001b[0m \u001b[31m1.9 MB/s\u001b[0m eta \u001b[36m0:00:00\u001b[0m\r\n",
      "\u001b[?25hCollecting nvidia-cublas-cu11==11.10.3.66 (from torch<1.14,>=1.9->autogluon.multimodal==0.7.0->autogluon)\r\n",
      "  Downloading nvidia_cublas_cu11-11.10.3.66-py3-none-manylinux1_x86_64.whl (317.1 MB)\r\n",
      "\u001b[2K     \u001b[90m━━━━━━━━━━━━━━━━━━━━━━━━━━━━━━━━━━━━━━━\u001b[0m \u001b[32m317.1/317.1 MB\u001b[0m \u001b[31m3.2 MB/s\u001b[0m eta \u001b[36m0:00:00\u001b[0m\r\n",
      "\u001b[?25hCollecting nvidia-cuda-nvrtc-cu11==11.7.99 (from torch<1.14,>=1.9->autogluon.multimodal==0.7.0->autogluon)\r\n",
      "  Downloading nvidia_cuda_nvrtc_cu11-11.7.99-2-py3-none-manylinux1_x86_64.whl (21.0 MB)\r\n",
      "\u001b[2K     \u001b[90m━━━━━━━━━━━━━━━━━━━━━━━━━━━━━━━━━━━━━━━━\u001b[0m \u001b[32m21.0/21.0 MB\u001b[0m \u001b[31m53.3 MB/s\u001b[0m eta \u001b[36m0:00:00\u001b[0m\r\n",
      "\u001b[?25hCollecting pyDeprecate==0.3.* (from torchmetrics<0.9.0,>=0.8.0->autogluon.multimodal==0.7.0->autogluon)\r\n",
      "  Downloading pyDeprecate-0.3.2-py3-none-any.whl (10 kB)\r\n",
      "Requirement already satisfied: tokenizers!=0.11.3,<0.14,>=0.11.1 in /opt/conda/lib/python3.10/site-packages (from transformers<4.27.0,>=4.23.0->autogluon.multimodal==0.7.0->autogluon) (0.13.3)\r\n",
      "Requirement already satisfied: contourpy>=1.0.1 in /opt/conda/lib/python3.10/site-packages (from matplotlib->autogluon.core[all]==0.7.0->autogluon) (1.0.7)\r\n",
      "Requirement already satisfied: cycler>=0.10 in /opt/conda/lib/python3.10/site-packages (from matplotlib->autogluon.core[all]==0.7.0->autogluon) (0.11.0)\r\n",
      "Requirement already satisfied: fonttools>=4.22.0 in /opt/conda/lib/python3.10/site-packages (from matplotlib->autogluon.core[all]==0.7.0->autogluon) (4.39.3)\r\n",
      "Requirement already satisfied: kiwisolver>=1.0.1 in /opt/conda/lib/python3.10/site-packages (from matplotlib->autogluon.core[all]==0.7.0->autogluon) (1.4.4)\r\n",
      "Requirement already satisfied: pyparsing>=2.2.1 in /opt/conda/lib/python3.10/site-packages (from matplotlib->autogluon.core[all]==0.7.0->autogluon) (3.0.9)\r\n",
      "Requirement already satisfied: pyarrow>=5.0.0 in /opt/conda/lib/python3.10/site-packages (from datasets>=2.0.0->evaluate<0.4.0,>=0.2.2->autogluon.multimodal==0.7.0->autogluon) (9.0.0)\r\n",
      "Requirement already satisfied: aiohttp in /opt/conda/lib/python3.10/site-packages (from datasets>=2.0.0->evaluate<0.4.0,>=0.2.2->autogluon.multimodal==0.7.0->autogluon) (3.8.4)\r\n",
      "Requirement already satisfied: wrapt<2,>=1.10 in /opt/conda/lib/python3.10/site-packages (from deprecated>=1.2.13->sktime<0.16,>=0.14->autogluon.timeseries[all]==0.7.0->autogluon) (1.14.1)\r\n",
      "Requirement already satisfied: beautifulsoup4 in /opt/conda/lib/python3.10/site-packages (from gdown>=4.0.0->nlpaug<1.2.0,>=1.1.10->autogluon.multimodal==0.7.0->autogluon) (4.12.2)\r\n",
      "Requirement already satisfied: cachetools<6.0,>=2.0.0 in /opt/conda/lib/python3.10/site-packages (from google-auth<3,>=1.6.3->tensorboard<3,>=2.9->autogluon.multimodal==0.7.0->autogluon) (4.2.4)\r\n",
      "Requirement already satisfied: pyasn1-modules>=0.2.1 in /opt/conda/lib/python3.10/site-packages (from google-auth<3,>=1.6.3->tensorboard<3,>=2.9->autogluon.multimodal==0.7.0->autogluon) (0.2.7)\r\n",
      "Requirement already satisfied: rsa<5,>=3.1.4 in /opt/conda/lib/python3.10/site-packages (from google-auth<3,>=1.6.3->tensorboard<3,>=2.9->autogluon.multimodal==0.7.0->autogluon) (4.9)\r\n",
      "Requirement already satisfied: requests-oauthlib>=0.7.0 in /opt/conda/lib/python3.10/site-packages (from google-auth-oauthlib<1.1,>=0.5->tensorboard<3,>=2.9->autogluon.multimodal==0.7.0->autogluon) (1.3.1)\r\n",
      "Requirement already satisfied: llvmlite<0.41,>=0.40.0dev0 in /opt/conda/lib/python3.10/site-packages (from numba>=0.55->sktime<0.16,>=0.14->autogluon.timeseries[all]==0.7.0->autogluon) (0.40.0)\r\n",
      "Requirement already satisfied: spacy-legacy<3.1.0,>=3.0.11 in /opt/conda/lib/python3.10/site-packages (from spacy<4->fastai<2.8,>=2.3.1->autogluon.tabular[all]==0.7.0->autogluon) (3.0.12)\r\n",
      "Requirement already satisfied: spacy-loggers<2.0.0,>=1.0.0 in /opt/conda/lib/python3.10/site-packages (from spacy<4->fastai<2.8,>=2.3.1->autogluon.tabular[all]==0.7.0->autogluon) (1.0.4)\r\n",
      "Requirement already satisfied: murmurhash<1.1.0,>=0.28.0 in /opt/conda/lib/python3.10/site-packages (from spacy<4->fastai<2.8,>=2.3.1->autogluon.tabular[all]==0.7.0->autogluon) (1.0.9)\r\n",
      "Requirement already satisfied: cymem<2.1.0,>=2.0.2 in /opt/conda/lib/python3.10/site-packages (from spacy<4->fastai<2.8,>=2.3.1->autogluon.tabular[all]==0.7.0->autogluon) (2.0.7)\r\n",
      "Requirement already satisfied: preshed<3.1.0,>=3.0.2 in /opt/conda/lib/python3.10/site-packages (from spacy<4->fastai<2.8,>=2.3.1->autogluon.tabular[all]==0.7.0->autogluon) (3.0.8)\r\n",
      "Requirement already satisfied: thinc<8.2.0,>=8.1.8 in /opt/conda/lib/python3.10/site-packages (from spacy<4->fastai<2.8,>=2.3.1->autogluon.tabular[all]==0.7.0->autogluon) (8.1.10)\r\n",
      "Requirement already satisfied: wasabi<1.2.0,>=0.9.1 in /opt/conda/lib/python3.10/site-packages (from spacy<4->fastai<2.8,>=2.3.1->autogluon.tabular[all]==0.7.0->autogluon) (1.1.1)\r\n",
      "Requirement already satisfied: srsly<3.0.0,>=2.4.3 in /opt/conda/lib/python3.10/site-packages (from spacy<4->fastai<2.8,>=2.3.1->autogluon.tabular[all]==0.7.0->autogluon) (2.4.6)\r\n",
      "Requirement already satisfied: catalogue<2.1.0,>=2.0.6 in /opt/conda/lib/python3.10/site-packages (from spacy<4->fastai<2.8,>=2.3.1->autogluon.tabular[all]==0.7.0->autogluon) (2.0.8)\r\n",
      "Requirement already satisfied: typer<0.8.0,>=0.3.0 in /opt/conda/lib/python3.10/site-packages (from spacy<4->fastai<2.8,>=2.3.1->autogluon.tabular[all]==0.7.0->autogluon) (0.7.0)\r\n",
      "Requirement already satisfied: pathy>=0.10.0 in /opt/conda/lib/python3.10/site-packages (from spacy<4->fastai<2.8,>=2.3.1->autogluon.tabular[all]==0.7.0->autogluon) (0.10.1)\r\n",
      "Requirement already satisfied: smart-open<7.0.0,>=5.2.1 in /opt/conda/lib/python3.10/site-packages (from spacy<4->fastai<2.8,>=2.3.1->autogluon.tabular[all]==0.7.0->autogluon) (6.3.0)\r\n",
      "Requirement already satisfied: langcodes<4.0.0,>=3.2.0 in /opt/conda/lib/python3.10/site-packages (from spacy<4->fastai<2.8,>=2.3.1->autogluon.tabular[all]==0.7.0->autogluon) (3.3.0)\r\n",
      "Requirement already satisfied: distlib<1,>=0.3.6 in /opt/conda/lib/python3.10/site-packages (from virtualenv>=20.0.24->ray[tune]<2.3,>=2.2->autogluon.core[all]==0.7.0->autogluon) (0.3.6)\r\n",
      "Requirement already satisfied: platformdirs<4,>=2.4 in /opt/conda/lib/python3.10/site-packages (from virtualenv>=20.0.24->ray[tune]<2.3,>=2.2->autogluon.core[all]==0.7.0->autogluon) (3.5.0)\r\n",
      "Collecting ordered-set (from model-index->openmim<0.4.0,>0.1.5->autogluon.multimodal==0.7.0->autogluon)\r\n",
      "  Downloading ordered_set-4.1.0-py3-none-any.whl (7.6 kB)\r\n",
      "Requirement already satisfied: tenacity>=6.2.0 in /opt/conda/lib/python3.10/site-packages (from plotly->catboost<1.2,>=1.0->autogluon.tabular[all]==0.7.0->autogluon) (8.2.2)\r\n",
      "Requirement already satisfied: markdown-it-py<3.0.0,>=2.2.0 in /opt/conda/lib/python3.10/site-packages (from rich->openmim<0.4.0,>0.1.5->autogluon.multimodal==0.7.0->autogluon) (2.2.0)\r\n",
      "Requirement already satisfied: pygments<3.0.0,>=2.13.0 in /opt/conda/lib/python3.10/site-packages (from rich->openmim<0.4.0,>0.1.5->autogluon.multimodal==0.7.0->autogluon) (2.15.1)\r\n",
      "Requirement already satisfied: multidict<7.0,>=4.5 in /opt/conda/lib/python3.10/site-packages (from aiohttp->datasets>=2.0.0->evaluate<0.4.0,>=0.2.2->autogluon.multimodal==0.7.0->autogluon) (6.0.4)\r\n",
      "Requirement already satisfied: async-timeout<5.0,>=4.0.0a3 in /opt/conda/lib/python3.10/site-packages (from aiohttp->datasets>=2.0.0->evaluate<0.4.0,>=0.2.2->autogluon.multimodal==0.7.0->autogluon) (4.0.2)\r\n",
      "Requirement already satisfied: yarl<2.0,>=1.0 in /opt/conda/lib/python3.10/site-packages (from aiohttp->datasets>=2.0.0->evaluate<0.4.0,>=0.2.2->autogluon.multimodal==0.7.0->autogluon) (1.9.1)\r\n",
      "Requirement already satisfied: mdurl~=0.1 in /opt/conda/lib/python3.10/site-packages (from markdown-it-py<3.0.0,>=2.2.0->rich->openmim<0.4.0,>0.1.5->autogluon.multimodal==0.7.0->autogluon) (0.1.2)\r\n",
      "Requirement already satisfied: pyasn1<0.5.0,>=0.4.6 in /opt/conda/lib/python3.10/site-packages (from pyasn1-modules>=0.2.1->google-auth<3,>=1.6.3->tensorboard<3,>=2.9->autogluon.multimodal==0.7.0->autogluon) (0.4.8)\r\n",
      "Requirement already satisfied: oauthlib>=3.0.0 in /opt/conda/lib/python3.10/site-packages (from requests-oauthlib>=0.7.0->google-auth-oauthlib<1.1,>=0.5->tensorboard<3,>=2.9->autogluon.multimodal==0.7.0->autogluon) (3.2.2)\r\n",
      "Requirement already satisfied: blis<0.8.0,>=0.7.8 in /opt/conda/lib/python3.10/site-packages (from thinc<8.2.0,>=8.1.8->spacy<4->fastai<2.8,>=2.3.1->autogluon.tabular[all]==0.7.0->autogluon) (0.7.9)\r\n",
      "Requirement already satisfied: confection<1.0.0,>=0.0.1 in /opt/conda/lib/python3.10/site-packages (from thinc<8.2.0,>=8.1.8->spacy<4->fastai<2.8,>=2.3.1->autogluon.tabular[all]==0.7.0->autogluon) (0.0.4)\r\n",
      "Requirement already satisfied: soupsieve>1.2 in /opt/conda/lib/python3.10/site-packages (from beautifulsoup4->gdown>=4.0.0->nlpaug<1.2.0,>=1.1.10->autogluon.multimodal==0.7.0->autogluon) (2.3.2.post1)\r\n",
      "Requirement already satisfied: PySocks!=1.5.7,>=1.5.6 in /opt/conda/lib/python3.10/site-packages (from requests->autogluon.core[all]==0.7.0->autogluon) (1.7.1)\r\n",
      "Building wheels for collected packages: fairscale, antlr4-python3-runtime, seqeval\r\n",
      "  Building wheel for fairscale (pyproject.toml) ... \u001b[?25l-\b \b\\\b \b|\b \bdone\r\n",
      "\u001b[?25h  Created wheel for fairscale: filename=fairscale-0.4.13-py3-none-any.whl size=332112 sha256=ca0ac2e9e4e9d191362b2d6dd8f151522b22367105c37185d32dac4b348f48c4\r\n",
      "  Stored in directory: /root/.cache/pip/wheels/78/a4/c0/fb0a7ef03cff161611c3fa40c6cf898f76e58ec421b88e8cb3\r\n",
      "  Building wheel for antlr4-python3-runtime (setup.py) ... \u001b[?25l-\b \b\\\b \b|\b \bdone\r\n",
      "\u001b[?25h  Created wheel for antlr4-python3-runtime: filename=antlr4_python3_runtime-4.9.3-py3-none-any.whl size=144574 sha256=f002a40141dd722e825e33db21e0a53b0da16dd0b57e7477a7fb454cde2d63b5\r\n",
      "  Stored in directory: /root/.cache/pip/wheels/12/93/dd/1f6a127edc45659556564c5730f6d4e300888f4bca2d4c5a88\r\n",
      "  Building wheel for seqeval (setup.py) ... \u001b[?25l-\b \b\\\b \bdone\r\n",
      "\u001b[?25h  Created wheel for seqeval: filename=seqeval-1.2.2-py3-none-any.whl size=16181 sha256=01fdaf448b9db83746acb076f2063da2e86884e3aba3c501a8828492739bcf98\r\n",
      "  Stored in directory: /root/.cache/pip/wheels/1a/67/4a/ad4082dd7dfc30f2abfe4d80a2ed5926a506eb8a972b4767fa\r\n",
      "Successfully built fairscale antlr4-python3-runtime seqeval\r\n",
      "Installing collected packages: antlr4-python3-runtime, pyDeprecate, ordered-set, omegaconf, nvidia-cuda-runtime-cu11, nvidia-cuda-nvrtc-cu11, nvidia-cublas-cu11, nptyping, nltk, networkx, scikit-image, ray, nvidia-cudnn-cu11, model-index, botocore, transformers, torch, seqeval, openmim, gluonts, gdown, catboost, torchvision, torchmetrics, statsforecast, sktime, pytorch-metric-learning, pmdarima, nlpaug, fairscale, timm, tbats, pytorch-lightning, evaluate, autogluon.common, autogluon.features, autogluon.core, autogluon.tabular, autogluon.multimodal, autogluon.timeseries, autogluon\r\n",
      "  Attempting uninstall: nltk\r\n",
      "    Found existing installation: nltk 3.2.4\r\n",
      "    Uninstalling nltk-3.2.4:\r\n",
      "      Successfully uninstalled nltk-3.2.4\r\n",
      "  Attempting uninstall: networkx\r\n",
      "    Found existing installation: networkx 3.1\r\n",
      "    Uninstalling networkx-3.1:\r\n",
      "      Successfully uninstalled networkx-3.1\r\n",
      "  Attempting uninstall: scikit-image\r\n",
      "    Found existing installation: scikit-image 0.20.0\r\n",
      "    Uninstalling scikit-image-0.20.0:\r\n",
      "      Successfully uninstalled scikit-image-0.20.0\r\n",
      "  Attempting uninstall: ray\r\n",
      "    Found existing installation: ray 2.4.0\r\n",
      "    Uninstalling ray-2.4.0:\r\n",
      "      Successfully uninstalled ray-2.4.0\r\n",
      "  Attempting uninstall: botocore\r\n",
      "    Found existing installation: botocore 1.29.76\r\n",
      "    Uninstalling botocore-1.29.76:\r\n",
      "      Successfully uninstalled botocore-1.29.76\r\n",
      "  Attempting uninstall: transformers\r\n",
      "    Found existing installation: transformers 4.29.2\r\n",
      "    Uninstalling transformers-4.29.2:\r\n",
      "      Successfully uninstalled transformers-4.29.2\r\n",
      "  Attempting uninstall: torch\r\n",
      "    Found existing installation: torch 2.0.0+cpu\r\n",
      "    Uninstalling torch-2.0.0+cpu:\r\n",
      "      Successfully uninstalled torch-2.0.0+cpu\r\n",
      "  Attempting uninstall: catboost\r\n",
      "    Found existing installation: catboost 1.2\r\n",
      "    Uninstalling catboost-1.2:\r\n",
      "      Successfully uninstalled catboost-1.2\r\n",
      "  Attempting uninstall: torchvision\r\n",
      "    Found existing installation: torchvision 0.15.1+cpu\r\n",
      "    Uninstalling torchvision-0.15.1+cpu:\r\n",
      "      Successfully uninstalled torchvision-0.15.1+cpu\r\n",
      "  Attempting uninstall: torchmetrics\r\n",
      "    Found existing installation: torchmetrics 0.11.4\r\n",
      "    Uninstalling torchmetrics-0.11.4:\r\n",
      "      Successfully uninstalled torchmetrics-0.11.4\r\n",
      "  Attempting uninstall: timm\r\n",
      "    Found existing installation: timm 0.9.2\r\n",
      "    Uninstalling timm-0.9.2:\r\n",
      "      Successfully uninstalled timm-0.9.2\r\n",
      "  Attempting uninstall: pytorch-lightning\r\n",
      "    Found existing installation: pytorch-lightning 2.0.2\r\n",
      "    Uninstalling pytorch-lightning-2.0.2:\r\n",
      "      Successfully uninstalled pytorch-lightning-2.0.2\r\n",
      "\u001b[31mERROR: pip's dependency resolver does not currently take into account all the packages that are installed. This behaviour is the source of the following dependency conflicts.\r\n",
      "aiobotocore 2.5.0 requires botocore<1.29.77,>=1.29.76, but you have botocore 1.29.148 which is incompatible.\r\n",
      "momepy 0.6.0 requires shapely>=2, but you have shapely 1.8.5.post1 which is incompatible.\r\n",
      "preprocessing 0.1.13 requires nltk==3.2.4, but you have nltk 3.8.1 which is incompatible.\r\n",
      "torchaudio 2.0.1+cpu requires torch==2.0.0, but you have torch 1.13.1 which is incompatible.\r\n",
      "torchdata 0.6.0 requires torch==2.0.0, but you have torch 1.13.1 which is incompatible.\r\n",
      "torchtext 0.15.1+cpu requires torch==2.0.0, but you have torch 1.13.1 which is incompatible.\r\n",
      "ydata-profiling 4.1.2 requires scipy<1.10,>=1.4.1, but you have scipy 1.10.1 which is incompatible.\u001b[0m\u001b[31m\r\n",
      "\u001b[0mSuccessfully installed antlr4-python3-runtime-4.9.3 autogluon-0.7.0 autogluon.common-0.7.0 autogluon.core-0.7.0 autogluon.features-0.7.0 autogluon.multimodal-0.7.0 autogluon.tabular-0.7.0 autogluon.timeseries-0.7.0 botocore-1.29.148 catboost-1.1.1 evaluate-0.3.0 fairscale-0.4.13 gdown-4.7.1 gluonts-0.12.8 model-index-0.1.11 networkx-2.8.8 nlpaug-1.1.11 nltk-3.8.1 nptyping-2.4.1 nvidia-cublas-cu11-11.10.3.66 nvidia-cuda-nvrtc-cu11-11.7.99 nvidia-cuda-runtime-cu11-11.7.99 nvidia-cudnn-cu11-8.5.0.96 omegaconf-2.2.3 openmim-0.3.7 ordered-set-4.1.0 pmdarima-1.8.5 pyDeprecate-0.3.2 pytorch-lightning-1.9.5 pytorch-metric-learning-1.7.3 ray-2.2.0 scikit-image-0.19.3 seqeval-1.2.2 sktime-0.15.1 statsforecast-1.4.0 tbats-1.1.3 timm-0.6.13 torch-1.13.1 torchmetrics-0.8.2 torchvision-0.14.1 transformers-4.26.1\r\n",
      "\u001b[33mWARNING: Running pip as the 'root' user can result in broken permissions and conflicting behaviour with the system package manager. It is recommended to use a virtual environment instead: https://pip.pypa.io/warnings/venv\u001b[0m\u001b[33m\r\n",
      "\u001b[0m"
     ]
    }
   ],
   "source": [
    "!pip install autogluon"
   ]
  },
  {
   "cell_type": "markdown",
   "id": "176c0b86",
   "metadata": {
    "papermill": {
     "duration": 0.089856,
     "end_time": "2023-06-07T10:50:33.951713",
     "exception": false,
     "start_time": "2023-06-07T10:50:33.861857",
     "status": "completed"
    },
    "tags": []
   },
   "source": [
    "### Imports"
   ]
  },
  {
   "cell_type": "code",
   "execution_count": 7,
   "id": "682596bb",
   "metadata": {
    "execution": {
     "iopub.execute_input": "2023-06-07T10:50:34.140464Z",
     "iopub.status.busy": "2023-06-07T10:50:34.139938Z",
     "iopub.status.idle": "2023-06-07T10:50:34.987339Z",
     "shell.execute_reply": "2023-06-07T10:50:34.986332Z"
    },
    "papermill": {
     "duration": 0.946114,
     "end_time": "2023-06-07T10:50:34.990368",
     "exception": false,
     "start_time": "2023-06-07T10:50:34.044254",
     "status": "completed"
    },
    "tags": []
   },
   "outputs": [],
   "source": [
    "from autogluon.tabular import TabularDataset, TabularPredictor"
   ]
  },
  {
   "cell_type": "code",
   "execution_count": 8,
   "id": "4b88040c",
   "metadata": {
    "execution": {
     "iopub.execute_input": "2023-06-07T10:50:35.178126Z",
     "iopub.status.busy": "2023-06-07T10:50:35.177597Z",
     "iopub.status.idle": "2023-06-07T10:50:35.189886Z",
     "shell.execute_reply": "2023-06-07T10:50:35.188257Z"
    },
    "papermill": {
     "duration": 0.108088,
     "end_time": "2023-06-07T10:50:35.192528",
     "exception": false,
     "start_time": "2023-06-07T10:50:35.084440",
     "status": "completed"
    },
    "tags": []
   },
   "outputs": [
    {
     "name": "stderr",
     "output_type": "stream",
     "text": [
      "Loaded data from: /kaggle/input/salary-prediction-data-simple-linear-regression/Salary_Data.csv | Columns = 2 / 2 | Rows = 30 -> 30\n"
     ]
    }
   ],
   "source": [
    "data = TabularDataset(\"/kaggle/input/salary-prediction-data-simple-linear-regression/Salary_Data.csv\")"
   ]
  },
  {
   "cell_type": "code",
   "execution_count": 9,
   "id": "d3d1cc9e",
   "metadata": {
    "execution": {
     "iopub.execute_input": "2023-06-07T10:50:35.377905Z",
     "iopub.status.busy": "2023-06-07T10:50:35.377318Z",
     "iopub.status.idle": "2023-06-07T10:50:35.392263Z",
     "shell.execute_reply": "2023-06-07T10:50:35.390841Z"
    },
    "papermill": {
     "duration": 0.110727,
     "end_time": "2023-06-07T10:50:35.394932",
     "exception": false,
     "start_time": "2023-06-07T10:50:35.284205",
     "status": "completed"
    },
    "tags": []
   },
   "outputs": [
    {
     "data": {
      "text/html": [
       "<div>\n",
       "<style scoped>\n",
       "    .dataframe tbody tr th:only-of-type {\n",
       "        vertical-align: middle;\n",
       "    }\n",
       "\n",
       "    .dataframe tbody tr th {\n",
       "        vertical-align: top;\n",
       "    }\n",
       "\n",
       "    .dataframe thead th {\n",
       "        text-align: right;\n",
       "    }\n",
       "</style>\n",
       "<table border=\"1\" class=\"dataframe\">\n",
       "  <thead>\n",
       "    <tr style=\"text-align: right;\">\n",
       "      <th></th>\n",
       "      <th>YearsExperience</th>\n",
       "      <th>Salary</th>\n",
       "    </tr>\n",
       "  </thead>\n",
       "  <tbody>\n",
       "    <tr>\n",
       "      <th>0</th>\n",
       "      <td>1.1</td>\n",
       "      <td>39343.0</td>\n",
       "    </tr>\n",
       "    <tr>\n",
       "      <th>1</th>\n",
       "      <td>1.3</td>\n",
       "      <td>46205.0</td>\n",
       "    </tr>\n",
       "    <tr>\n",
       "      <th>2</th>\n",
       "      <td>1.5</td>\n",
       "      <td>37731.0</td>\n",
       "    </tr>\n",
       "    <tr>\n",
       "      <th>3</th>\n",
       "      <td>2.0</td>\n",
       "      <td>43525.0</td>\n",
       "    </tr>\n",
       "    <tr>\n",
       "      <th>4</th>\n",
       "      <td>2.2</td>\n",
       "      <td>39891.0</td>\n",
       "    </tr>\n",
       "  </tbody>\n",
       "</table>\n",
       "</div>"
      ],
      "text/plain": [
       "   YearsExperience   Salary\n",
       "0              1.1  39343.0\n",
       "1              1.3  46205.0\n",
       "2              1.5  37731.0\n",
       "3              2.0  43525.0\n",
       "4              2.2  39891.0"
      ]
     },
     "execution_count": 9,
     "metadata": {},
     "output_type": "execute_result"
    }
   ],
   "source": [
    "data.head()"
   ]
  },
  {
   "cell_type": "markdown",
   "id": "880f4fe2",
   "metadata": {
    "papermill": {
     "duration": 0.08842,
     "end_time": "2023-06-07T10:50:35.573453",
     "exception": false,
     "start_time": "2023-06-07T10:50:35.485033",
     "status": "completed"
    },
    "tags": []
   },
   "source": [
    "### Train Test Split"
   ]
  },
  {
   "cell_type": "code",
   "execution_count": 10,
   "id": "fa97a8ba",
   "metadata": {
    "execution": {
     "iopub.execute_input": "2023-06-07T10:50:35.758394Z",
     "iopub.status.busy": "2023-06-07T10:50:35.757989Z",
     "iopub.status.idle": "2023-06-07T10:50:35.767229Z",
     "shell.execute_reply": "2023-06-07T10:50:35.765907Z"
    },
    "papermill": {
     "duration": 0.106369,
     "end_time": "2023-06-07T10:50:35.769692",
     "exception": false,
     "start_time": "2023-06-07T10:50:35.663323",
     "status": "completed"
    },
    "tags": []
   },
   "outputs": [],
   "source": [
    "train_size = 24 # 0.8*len(data)\n",
    "seed = 42\n",
    "\n",
    "train_data = data.sample(train_size, random_state=seed)\n",
    "test_data = data.drop(train_data.index)"
   ]
  },
  {
   "cell_type": "markdown",
   "id": "6d926707",
   "metadata": {
    "papermill": {
     "duration": 0.087994,
     "end_time": "2023-06-07T10:50:35.948525",
     "exception": false,
     "start_time": "2023-06-07T10:50:35.860531",
     "status": "completed"
    },
    "tags": []
   },
   "source": [
    "### Training"
   ]
  },
  {
   "cell_type": "code",
   "execution_count": 11,
   "id": "c99c4384",
   "metadata": {
    "execution": {
     "iopub.execute_input": "2023-06-07T10:50:36.133105Z",
     "iopub.status.busy": "2023-06-07T10:50:36.132627Z",
     "iopub.status.idle": "2023-06-07T10:50:36.137380Z",
     "shell.execute_reply": "2023-06-07T10:50:36.136341Z"
    },
    "papermill": {
     "duration": 0.099054,
     "end_time": "2023-06-07T10:50:36.139477",
     "exception": false,
     "start_time": "2023-06-07T10:50:36.040423",
     "status": "completed"
    },
    "tags": []
   },
   "outputs": [],
   "source": [
    "save_path = 'salary_predictors'"
   ]
  },
  {
   "cell_type": "code",
   "execution_count": 12,
   "id": "33f144c3",
   "metadata": {
    "execution": {
     "iopub.execute_input": "2023-06-07T10:50:36.322628Z",
     "iopub.status.busy": "2023-06-07T10:50:36.322175Z",
     "iopub.status.idle": "2023-06-07T10:50:36.330582Z",
     "shell.execute_reply": "2023-06-07T10:50:36.329424Z"
    },
    "papermill": {
     "duration": 0.103138,
     "end_time": "2023-06-07T10:50:36.333002",
     "exception": false,
     "start_time": "2023-06-07T10:50:36.229864",
     "status": "completed"
    },
    "tags": []
   },
   "outputs": [],
   "source": [
    "predictor = TabularPredictor(label='Salary', path=save_path)"
   ]
  },
  {
   "cell_type": "code",
   "execution_count": 13,
   "id": "5343ff75",
   "metadata": {
    "execution": {
     "iopub.execute_input": "2023-06-07T10:50:36.516147Z",
     "iopub.status.busy": "2023-06-07T10:50:36.515508Z",
     "iopub.status.idle": "2023-06-07T10:51:18.031270Z",
     "shell.execute_reply": "2023-06-07T10:51:18.029848Z"
    },
    "papermill": {
     "duration": 41.611496,
     "end_time": "2023-06-07T10:51:18.034538",
     "exception": false,
     "start_time": "2023-06-07T10:50:36.423042",
     "status": "completed"
    },
    "tags": []
   },
   "outputs": [
    {
     "name": "stderr",
     "output_type": "stream",
     "text": [
      "Beginning AutoGluon training ...\n",
      "AutoGluon will save models to \"salary_predictors/\"\n",
      "AutoGluon Version:  0.7.0\n",
      "Python Version:     3.10.10\n",
      "Operating System:   Linux\n",
      "Platform Machine:   x86_64\n",
      "Platform Version:   #1 SMP Wed May 31 10:45:00 UTC 2023\n",
      "Train Data Rows:    24\n",
      "Train Data Columns: 1\n",
      "Label Column: Salary\n",
      "Preprocessing data ...\n",
      "AutoGluon infers your prediction problem is: 'regression' (because dtype of label-column == float and many unique label-values observed).\n",
      "\tLabel info (max, min, mean, stddev): (122391.0, 37731.0, 77312.0, 29549.68936)\n",
      "\tIf 'regression' is not the correct problem_type, please manually specify the problem_type parameter during predictor init (You may specify problem_type as one of: ['binary', 'multiclass', 'regression'])\n",
      "Using Feature Generators to preprocess the data ...\n",
      "Fitting AutoMLPipelineFeatureGenerator...\n",
      "\tAvailable Memory:                    32444.96 MB\n",
      "\tTrain Data (Original)  Memory Usage: 0.0 MB (0.0% of available memory)\n",
      "\tInferring data type of each feature based on column values. Set feature_metadata_in to manually specify special dtypes of the features.\n",
      "\tStage 1 Generators:\n",
      "\t\tFitting AsTypeFeatureGenerator...\n",
      "\tStage 2 Generators:\n",
      "\t\tFitting FillNaFeatureGenerator...\n",
      "\tStage 3 Generators:\n",
      "\t\tFitting IdentityFeatureGenerator...\n",
      "\tStage 4 Generators:\n",
      "\t\tFitting DropUniqueFeatureGenerator...\n",
      "\tTypes of features in original data (raw dtype, special dtypes):\n",
      "\t\t('float', []) : 1 | ['YearsExperience']\n",
      "\tTypes of features in processed data (raw dtype, special dtypes):\n",
      "\t\t('float', []) : 1 | ['YearsExperience']\n",
      "\t0.0s = Fit runtime\n",
      "\t1 features in original data used to generate 1 features in processed data.\n",
      "\tTrain Data (Processed) Memory Usage: 0.0 MB (0.0% of available memory)\n",
      "Data preprocessing and feature engineering runtime = 0.06s ...\n",
      "AutoGluon will gauge predictive performance using evaluation metric: 'root_mean_squared_error'\n",
      "\tThis metric's sign has been flipped to adhere to being higher_is_better. The metric score can be multiplied by -1 to get the metric value.\n",
      "\tTo change this, specify the eval_metric parameter of Predictor()\n",
      "Automatically generating train/validation split with holdout_frac=0.2, Train Rows: 19, Val Rows: 5\n",
      "Fitting 11 L1 models ...\n",
      "Fitting model: KNeighborsUnif ...\n",
      "\t-6445.5128\t = Validation score   (-root_mean_squared_error)\n",
      "\t2.42s\t = Training   runtime\n",
      "\t0.01s\t = Validation runtime\n",
      "Fitting model: KNeighborsDist ...\n",
      "\t-5497.6682\t = Validation score   (-root_mean_squared_error)\n",
      "\t0.01s\t = Training   runtime\n",
      "\t0.0s\t = Validation runtime\n",
      "Fitting model: LightGBMXT ...\n",
      "\t-23194.3855\t = Validation score   (-root_mean_squared_error)\n",
      "\t1.84s\t = Training   runtime\n",
      "\t0.0s\t = Validation runtime\n",
      "Fitting model: LightGBM ...\n",
      "\t-23194.3855\t = Validation score   (-root_mean_squared_error)\n",
      "\t0.34s\t = Training   runtime\n",
      "\t0.0s\t = Validation runtime\n",
      "Fitting model: RandomForestMSE ...\n",
      "\t-4193.1435\t = Validation score   (-root_mean_squared_error)\n",
      "\t0.79s\t = Training   runtime\n",
      "\t0.06s\t = Validation runtime\n",
      "Fitting model: CatBoost ...\n",
      "\t-2463.8698\t = Validation score   (-root_mean_squared_error)\n",
      "\t32.46s\t = Training   runtime\n",
      "\t0.01s\t = Validation runtime\n",
      "Fitting model: ExtraTreesMSE ...\n",
      "\t-5731.1772\t = Validation score   (-root_mean_squared_error)\n",
      "\t0.85s\t = Training   runtime\n",
      "\t0.06s\t = Validation runtime\n",
      "Fitting model: NeuralNetFastAI ...\n",
      "No improvement since epoch 0: early stopping\n",
      "\t-24083.9753\t = Validation score   (-root_mean_squared_error)\n",
      "\t0.74s\t = Training   runtime\n",
      "\t0.01s\t = Validation runtime\n",
      "Fitting model: XGBoost ...\n",
      "\t-7073.4113\t = Validation score   (-root_mean_squared_error)\n",
      "\t0.26s\t = Training   runtime\n",
      "\t0.01s\t = Validation runtime\n",
      "Fitting model: NeuralNetTorch ...\n",
      "\t-3321.5279\t = Validation score   (-root_mean_squared_error)\n",
      "\t0.42s\t = Training   runtime\n",
      "\t0.01s\t = Validation runtime\n",
      "Fitting model: LightGBMLarge ...\n",
      "\t-10943.9935\t = Validation score   (-root_mean_squared_error)\n",
      "\t0.5s\t = Training   runtime\n",
      "\t0.0s\t = Validation runtime\n",
      "Fitting model: WeightedEnsemble_L2 ...\n",
      "\t-2019.5633\t = Validation score   (-root_mean_squared_error)\n",
      "\t0.4s\t = Training   runtime\n",
      "\t0.0s\t = Validation runtime\n",
      "AutoGluon training complete, total runtime = 41.48s ... Best model: \"WeightedEnsemble_L2\"\n",
      "TabularPredictor saved. To load, use: predictor = TabularPredictor.load(\"salary_predictors/\")\n"
     ]
    },
    {
     "data": {
      "text/plain": [
       "<autogluon.tabular.predictor.predictor.TabularPredictor at 0x7db291902800>"
      ]
     },
     "execution_count": 13,
     "metadata": {},
     "output_type": "execute_result"
    }
   ],
   "source": [
    "predictor.fit(train_data)"
   ]
  },
  {
   "cell_type": "code",
   "execution_count": 14,
   "id": "efa383e8",
   "metadata": {
    "execution": {
     "iopub.execute_input": "2023-06-07T10:51:18.240640Z",
     "iopub.status.busy": "2023-06-07T10:51:18.239135Z",
     "iopub.status.idle": "2023-06-07T10:51:18.859959Z",
     "shell.execute_reply": "2023-06-07T10:51:18.857975Z"
    },
    "papermill": {
     "duration": 0.727114,
     "end_time": "2023-06-07T10:51:18.862944",
     "exception": false,
     "start_time": "2023-06-07T10:51:18.135830",
     "status": "completed"
    },
    "tags": []
   },
   "outputs": [
    {
     "name": "stdout",
     "output_type": "stream",
     "text": [
      "*** Summary of fit() ***\n",
      "Estimated performance of each model:\n",
      "                  model     score_val  pred_time_val   fit_time  pred_time_val_marginal  fit_time_marginal  stack_level  can_infer  fit_order\n",
      "0   WeightedEnsemble_L2  -2019.563294       0.068030  33.912405                0.000713           0.398382            2       True         12\n",
      "1              CatBoost  -2463.869802       0.005720  32.462728                0.005720          32.462728            1       True          6\n",
      "2        NeuralNetTorch  -3321.527891       0.005255   0.420476                0.005255           0.420476            1       True         10\n",
      "3       RandomForestMSE  -4193.143509       0.056354   0.791223                0.056354           0.791223            1       True          5\n",
      "4        KNeighborsDist  -5497.668202       0.001261   0.006504                0.001261           0.006504            1       True          2\n",
      "5         ExtraTreesMSE  -5731.177205       0.063509   0.849275                0.063509           0.849275            1       True          7\n",
      "6        KNeighborsUnif  -6445.512792       0.011602   2.419463                0.011602           2.419463            1       True          1\n",
      "7               XGBoost  -7073.411251       0.005243   0.260072                0.005243           0.260072            1       True          9\n",
      "8         LightGBMLarge -10943.993515       0.001999   0.504961                0.001999           0.504961            1       True         11\n",
      "9              LightGBM -23194.385486       0.001961   0.344880                0.001961           0.344880            1       True          4\n",
      "10           LightGBMXT -23194.385486       0.002013   1.838892                0.002013           1.838892            1       True          3\n",
      "11      NeuralNetFastAI -24083.975278       0.012994   0.737019                0.012994           0.737019            1       True          8\n",
      "Number of models trained: 12\n",
      "Types of models trained:\n",
      "{'LGBModel', 'XTModel', 'KNNModel', 'NNFastAiTabularModel', 'CatBoostModel', 'TabularNeuralNetTorchModel', 'RFModel', 'XGBoostModel', 'WeightedEnsembleModel'}\n",
      "Bagging used: False \n",
      "Multi-layer stack-ensembling used: False \n",
      "Feature Metadata (Processed):\n",
      "(raw dtype, special dtypes):\n",
      "('float', []) : 1 | ['YearsExperience']\n",
      "Plot summary of models saved to file: salary_predictors/SummaryOfModels.html\n",
      "*** End of fit() summary ***\n"
     ]
    },
    {
     "data": {
      "text/plain": [
       "{'model_types': {'KNeighborsUnif': 'KNNModel',\n",
       "  'KNeighborsDist': 'KNNModel',\n",
       "  'LightGBMXT': 'LGBModel',\n",
       "  'LightGBM': 'LGBModel',\n",
       "  'RandomForestMSE': 'RFModel',\n",
       "  'CatBoost': 'CatBoostModel',\n",
       "  'ExtraTreesMSE': 'XTModel',\n",
       "  'NeuralNetFastAI': 'NNFastAiTabularModel',\n",
       "  'XGBoost': 'XGBoostModel',\n",
       "  'NeuralNetTorch': 'TabularNeuralNetTorchModel',\n",
       "  'LightGBMLarge': 'LGBModel',\n",
       "  'WeightedEnsemble_L2': 'WeightedEnsembleModel'},\n",
       " 'model_performance': {'KNeighborsUnif': -6445.512791848134,\n",
       "  'KNeighborsDist': -5497.6682015899205,\n",
       "  'LightGBMXT': -23194.385485882933,\n",
       "  'LightGBM': -23194.385485882933,\n",
       "  'RandomForestMSE': -4193.14350933853,\n",
       "  'CatBoost': -2463.869801754955,\n",
       "  'ExtraTreesMSE': -5731.17720548297,\n",
       "  'NeuralNetFastAI': -24083.975278182075,\n",
       "  'XGBoost': -7073.411250713432,\n",
       "  'NeuralNetTorch': -3321.527890511302,\n",
       "  'LightGBMLarge': -10943.993515437698,\n",
       "  'WeightedEnsemble_L2': -2019.563293616674},\n",
       " 'model_best': 'WeightedEnsemble_L2',\n",
       " 'model_paths': {'KNeighborsUnif': 'salary_predictors/models/KNeighborsUnif/',\n",
       "  'KNeighborsDist': 'salary_predictors/models/KNeighborsDist/',\n",
       "  'LightGBMXT': 'salary_predictors/models/LightGBMXT/',\n",
       "  'LightGBM': 'salary_predictors/models/LightGBM/',\n",
       "  'RandomForestMSE': 'salary_predictors/models/RandomForestMSE/',\n",
       "  'CatBoost': 'salary_predictors/models/CatBoost/',\n",
       "  'ExtraTreesMSE': 'salary_predictors/models/ExtraTreesMSE/',\n",
       "  'NeuralNetFastAI': 'salary_predictors/models/NeuralNetFastAI/',\n",
       "  'XGBoost': 'salary_predictors/models/XGBoost/',\n",
       "  'NeuralNetTorch': 'salary_predictors/models/NeuralNetTorch/',\n",
       "  'LightGBMLarge': 'salary_predictors/models/LightGBMLarge/',\n",
       "  'WeightedEnsemble_L2': 'salary_predictors/models/WeightedEnsemble_L2/'},\n",
       " 'model_fit_times': {'KNeighborsUnif': 2.4194629192352295,\n",
       "  'KNeighborsDist': 0.0065038204193115234,\n",
       "  'LightGBMXT': 1.8388922214508057,\n",
       "  'LightGBM': 0.3448798656463623,\n",
       "  'RandomForestMSE': 0.7912230491638184,\n",
       "  'CatBoost': 32.46272826194763,\n",
       "  'ExtraTreesMSE': 0.8492751121520996,\n",
       "  'NeuralNetFastAI': 0.7370193004608154,\n",
       "  'XGBoost': 0.2600715160369873,\n",
       "  'NeuralNetTorch': 0.42047643661499023,\n",
       "  'LightGBMLarge': 0.5049610137939453,\n",
       "  'WeightedEnsemble_L2': 0.39838218688964844},\n",
       " 'model_pred_times': {'KNeighborsUnif': 0.011602401733398438,\n",
       "  'KNeighborsDist': 0.001260519027709961,\n",
       "  'LightGBMXT': 0.002012968063354492,\n",
       "  'LightGBM': 0.0019614696502685547,\n",
       "  'RandomForestMSE': 0.05635380744934082,\n",
       "  'CatBoost': 0.005719661712646484,\n",
       "  'ExtraTreesMSE': 0.06350898742675781,\n",
       "  'NeuralNetFastAI': 0.012994050979614258,\n",
       "  'XGBoost': 0.005243062973022461,\n",
       "  'NeuralNetTorch': 0.0052547454833984375,\n",
       "  'LightGBMLarge': 0.0019986629486083984,\n",
       "  'WeightedEnsemble_L2': 0.0007131099700927734},\n",
       " 'num_bag_folds': 0,\n",
       " 'max_stack_level': 2,\n",
       " 'model_hyperparams': {'KNeighborsUnif': {'weights': 'uniform'},\n",
       "  'KNeighborsDist': {'weights': 'distance'},\n",
       "  'LightGBMXT': {'learning_rate': 0.05, 'extra_trees': True},\n",
       "  'LightGBM': {'learning_rate': 0.05},\n",
       "  'RandomForestMSE': {'n_estimators': 300,\n",
       "   'max_leaf_nodes': 15000,\n",
       "   'n_jobs': -1,\n",
       "   'random_state': 0,\n",
       "   'bootstrap': True,\n",
       "   'criterion': 'squared_error'},\n",
       "  'CatBoost': {'iterations': 10000,\n",
       "   'learning_rate': 0.05,\n",
       "   'random_seed': 0,\n",
       "   'allow_writing_files': False,\n",
       "   'eval_metric': 'RMSE'},\n",
       "  'ExtraTreesMSE': {'n_estimators': 300,\n",
       "   'max_leaf_nodes': 15000,\n",
       "   'n_jobs': -1,\n",
       "   'random_state': 0,\n",
       "   'bootstrap': True,\n",
       "   'criterion': 'squared_error'},\n",
       "  'NeuralNetFastAI': {'layers': None,\n",
       "   'emb_drop': 0.1,\n",
       "   'ps': 0.1,\n",
       "   'bs': 'auto',\n",
       "   'lr': 0.01,\n",
       "   'epochs': 'auto',\n",
       "   'early.stopping.min_delta': 0.0001,\n",
       "   'early.stopping.patience': 20,\n",
       "   'smoothing': 0.0},\n",
       "  'XGBoost': {'n_estimators': 10000,\n",
       "   'learning_rate': 0.1,\n",
       "   'n_jobs': -1,\n",
       "   'proc.max_category_levels': 100,\n",
       "   'objective': 'reg:squarederror',\n",
       "   'booster': 'gbtree'},\n",
       "  'NeuralNetTorch': {'num_epochs': 500,\n",
       "   'epochs_wo_improve': 20,\n",
       "   'activation': 'relu',\n",
       "   'embedding_size_factor': 1.0,\n",
       "   'embed_exponent': 0.56,\n",
       "   'max_embedding_dim': 100,\n",
       "   'y_range': None,\n",
       "   'y_range_extend': 0.05,\n",
       "   'dropout_prob': 0.1,\n",
       "   'optimizer': 'adam',\n",
       "   'learning_rate': 0.0003,\n",
       "   'weight_decay': 1e-06,\n",
       "   'proc.embed_min_categories': 4,\n",
       "   'proc.impute_strategy': 'median',\n",
       "   'proc.max_category_levels': 100,\n",
       "   'proc.skew_threshold': 0.99,\n",
       "   'use_ngram_features': False,\n",
       "   'num_layers': 4,\n",
       "   'hidden_size': 128,\n",
       "   'max_batch_size': 512,\n",
       "   'use_batchnorm': False,\n",
       "   'loss_function': 'auto'},\n",
       "  'LightGBMLarge': {'learning_rate': 0.03,\n",
       "   'num_leaves': 128,\n",
       "   'feature_fraction': 0.9,\n",
       "   'min_data_in_leaf': 5},\n",
       "  'WeightedEnsemble_L2': {'use_orig_features': False,\n",
       "   'max_base_models': 25,\n",
       "   'max_base_models_per_type': 5,\n",
       "   'save_bag_folds': True}},\n",
       " 'leaderboard':                   model     score_val  pred_time_val   fit_time  \\\n",
       " 0   WeightedEnsemble_L2  -2019.563294       0.068030  33.912405   \n",
       " 1              CatBoost  -2463.869802       0.005720  32.462728   \n",
       " 2        NeuralNetTorch  -3321.527891       0.005255   0.420476   \n",
       " 3       RandomForestMSE  -4193.143509       0.056354   0.791223   \n",
       " 4        KNeighborsDist  -5497.668202       0.001261   0.006504   \n",
       " 5         ExtraTreesMSE  -5731.177205       0.063509   0.849275   \n",
       " 6        KNeighborsUnif  -6445.512792       0.011602   2.419463   \n",
       " 7               XGBoost  -7073.411251       0.005243   0.260072   \n",
       " 8         LightGBMLarge -10943.993515       0.001999   0.504961   \n",
       " 9              LightGBM -23194.385486       0.001961   0.344880   \n",
       " 10           LightGBMXT -23194.385486       0.002013   1.838892   \n",
       " 11      NeuralNetFastAI -24083.975278       0.012994   0.737019   \n",
       " \n",
       "     pred_time_val_marginal  fit_time_marginal  stack_level  can_infer  \\\n",
       " 0                 0.000713           0.398382            2       True   \n",
       " 1                 0.005720          32.462728            1       True   \n",
       " 2                 0.005255           0.420476            1       True   \n",
       " 3                 0.056354           0.791223            1       True   \n",
       " 4                 0.001261           0.006504            1       True   \n",
       " 5                 0.063509           0.849275            1       True   \n",
       " 6                 0.011602           2.419463            1       True   \n",
       " 7                 0.005243           0.260072            1       True   \n",
       " 8                 0.001999           0.504961            1       True   \n",
       " 9                 0.001961           0.344880            1       True   \n",
       " 10                0.002013           1.838892            1       True   \n",
       " 11                0.012994           0.737019            1       True   \n",
       " \n",
       "     fit_order  \n",
       " 0          12  \n",
       " 1           6  \n",
       " 2          10  \n",
       " 3           5  \n",
       " 4           2  \n",
       " 5           7  \n",
       " 6           1  \n",
       " 7           9  \n",
       " 8          11  \n",
       " 9           4  \n",
       " 10          3  \n",
       " 11          8  }"
      ]
     },
     "execution_count": 14,
     "metadata": {},
     "output_type": "execute_result"
    }
   ],
   "source": [
    "predictor.fit_summary()"
   ]
  },
  {
   "cell_type": "code",
   "execution_count": 15,
   "id": "f79f53ec",
   "metadata": {
    "execution": {
     "iopub.execute_input": "2023-06-07T10:51:19.070144Z",
     "iopub.status.busy": "2023-06-07T10:51:19.069651Z",
     "iopub.status.idle": "2023-06-07T10:51:19.077123Z",
     "shell.execute_reply": "2023-06-07T10:51:19.076194Z"
    },
    "papermill": {
     "duration": 0.116056,
     "end_time": "2023-06-07T10:51:19.080087",
     "exception": false,
     "start_time": "2023-06-07T10:51:18.964031",
     "status": "completed"
    },
    "tags": []
   },
   "outputs": [
    {
     "data": {
      "text/plain": [
       "'WeightedEnsemble_L2'"
      ]
     },
     "execution_count": 15,
     "metadata": {},
     "output_type": "execute_result"
    }
   ],
   "source": [
    "predictor.get_model_best()"
   ]
  },
  {
   "cell_type": "markdown",
   "id": "dcce1b20",
   "metadata": {
    "papermill": {
     "duration": 0.098965,
     "end_time": "2023-06-07T10:51:19.286228",
     "exception": false,
     "start_time": "2023-06-07T10:51:19.187263",
     "status": "completed"
    },
    "tags": []
   },
   "source": [
    "The best result is the WeightedEnsemble_L2. This is, as the name states, not a unique model, but an ensemble consisting of the best models."
   ]
  },
  {
   "cell_type": "markdown",
   "id": "84d3da02",
   "metadata": {
    "papermill": {
     "duration": 0.099438,
     "end_time": "2023-06-07T10:51:19.484388",
     "exception": false,
     "start_time": "2023-06-07T10:51:19.384950",
     "status": "completed"
    },
    "tags": []
   },
   "source": [
    "### Load Model"
   ]
  },
  {
   "cell_type": "code",
   "execution_count": 16,
   "id": "bfc4ed2b",
   "metadata": {
    "execution": {
     "iopub.execute_input": "2023-06-07T10:51:19.684468Z",
     "iopub.status.busy": "2023-06-07T10:51:19.683587Z",
     "iopub.status.idle": "2023-06-07T10:51:19.691806Z",
     "shell.execute_reply": "2023-06-07T10:51:19.690806Z"
    },
    "papermill": {
     "duration": 0.111911,
     "end_time": "2023-06-07T10:51:19.694326",
     "exception": false,
     "start_time": "2023-06-07T10:51:19.582415",
     "status": "completed"
    },
    "tags": []
   },
   "outputs": [],
   "source": [
    "save_path = 'salary_predictors'\n",
    "predictor = TabularPredictor.load(save_path)"
   ]
  },
  {
   "cell_type": "markdown",
   "id": "50b1cdcd",
   "metadata": {
    "papermill": {
     "duration": 0.100586,
     "end_time": "2023-06-07T10:51:19.894730",
     "exception": false,
     "start_time": "2023-06-07T10:51:19.794144",
     "status": "completed"
    },
    "tags": []
   },
   "source": [
    "### Validation"
   ]
  },
  {
   "cell_type": "code",
   "execution_count": 17,
   "id": "f21edcff",
   "metadata": {
    "execution": {
     "iopub.execute_input": "2023-06-07T10:51:20.104357Z",
     "iopub.status.busy": "2023-06-07T10:51:20.103814Z",
     "iopub.status.idle": "2023-06-07T10:51:20.110959Z",
     "shell.execute_reply": "2023-06-07T10:51:20.109871Z"
    },
    "papermill": {
     "duration": 0.116022,
     "end_time": "2023-06-07T10:51:20.113559",
     "exception": false,
     "start_time": "2023-06-07T10:51:19.997537",
     "status": "completed"
    },
    "tags": []
   },
   "outputs": [],
   "source": [
    "y_test = test_data[\"Salary\"]\n",
    "test_data = test_data.drop(columns=[\"Salary\"])"
   ]
  },
  {
   "cell_type": "code",
   "execution_count": 18,
   "id": "1a2e1a46",
   "metadata": {
    "execution": {
     "iopub.execute_input": "2023-06-07T10:51:20.320093Z",
     "iopub.status.busy": "2023-06-07T10:51:20.319545Z",
     "iopub.status.idle": "2023-06-07T10:51:20.462186Z",
     "shell.execute_reply": "2023-06-07T10:51:20.460061Z"
    },
    "papermill": {
     "duration": 0.248137,
     "end_time": "2023-06-07T10:51:20.465070",
     "exception": false,
     "start_time": "2023-06-07T10:51:20.216933",
     "status": "completed"
    },
    "tags": []
   },
   "outputs": [
    {
     "name": "stderr",
     "output_type": "stream",
     "text": [
      "Evaluation: root_mean_squared_error on test data: -7371.869722787937\n",
      "\tNote: Scores are always higher_is_better. This metric score can be multiplied by -1 to get the metric value.\n",
      "Evaluations on test data:\n",
      "{\n",
      "    \"root_mean_squared_error\": -7371.869722787937,\n",
      "    \"mean_squared_error\": -54344463.209757484,\n",
      "    \"mean_absolute_error\": -6753.666666666667,\n",
      "    \"r2\": 0.7835061464102864,\n",
      "    \"pearsonr\": 0.894984584626348,\n",
      "    \"median_absolute_error\": -6204.36328125\n",
      "}\n"
     ]
    }
   ],
   "source": [
    "y_pred = predictor.predict(test_data)\n",
    "metrics = predictor.evaluate_predictions(y_true=y_test, y_pred=y_pred, auxiliary_metrics=True)"
   ]
  },
  {
   "cell_type": "markdown",
   "id": "cc6cc71a",
   "metadata": {
    "papermill": {
     "duration": 0.101904,
     "end_time": "2023-06-07T10:51:20.668438",
     "exception": false,
     "start_time": "2023-06-07T10:51:20.566534",
     "status": "completed"
    },
    "tags": []
   },
   "source": [
    "### Feature Importance"
   ]
  },
  {
   "cell_type": "code",
   "execution_count": 19,
   "id": "9348eb2b",
   "metadata": {
    "execution": {
     "iopub.execute_input": "2023-06-07T10:51:20.870089Z",
     "iopub.status.busy": "2023-06-07T10:51:20.869643Z",
     "iopub.status.idle": "2023-06-07T10:51:21.537892Z",
     "shell.execute_reply": "2023-06-07T10:51:21.536685Z"
    },
    "papermill": {
     "duration": 0.772058,
     "end_time": "2023-06-07T10:51:21.540894",
     "exception": false,
     "start_time": "2023-06-07T10:51:20.768836",
     "status": "completed"
    },
    "tags": []
   },
   "outputs": [
    {
     "name": "stderr",
     "output_type": "stream",
     "text": [
      "Computing feature importance via permutation shuffling for 1 features using 24 rows with 5 shuffle sets...\n",
      "\t1.26s\t= Expected runtime (0.25s per shuffle set)\n",
      "\t0.65s\t= Actual runtime (Completed 5 of 5 shuffle sets)\n"
     ]
    },
    {
     "data": {
      "text/html": [
       "<div>\n",
       "<style scoped>\n",
       "    .dataframe tbody tr th:only-of-type {\n",
       "        vertical-align: middle;\n",
       "    }\n",
       "\n",
       "    .dataframe tbody tr th {\n",
       "        vertical-align: top;\n",
       "    }\n",
       "\n",
       "    .dataframe thead th {\n",
       "        text-align: right;\n",
       "    }\n",
       "</style>\n",
       "<table border=\"1\" class=\"dataframe\">\n",
       "  <thead>\n",
       "    <tr style=\"text-align: right;\">\n",
       "      <th></th>\n",
       "      <th>importance</th>\n",
       "      <th>stddev</th>\n",
       "      <th>p_value</th>\n",
       "      <th>n</th>\n",
       "      <th>p99_high</th>\n",
       "      <th>p99_low</th>\n",
       "    </tr>\n",
       "  </thead>\n",
       "  <tbody>\n",
       "    <tr>\n",
       "      <th>YearsExperience</th>\n",
       "      <td>43102.728438</td>\n",
       "      <td>4286.377479</td>\n",
       "      <td>0.000012</td>\n",
       "      <td>5</td>\n",
       "      <td>51928.43891</td>\n",
       "      <td>34277.017965</td>\n",
       "    </tr>\n",
       "  </tbody>\n",
       "</table>\n",
       "</div>"
      ],
      "text/plain": [
       "                   importance       stddev   p_value  n     p99_high  \\\n",
       "YearsExperience  43102.728438  4286.377479  0.000012  5  51928.43891   \n",
       "\n",
       "                      p99_low  \n",
       "YearsExperience  34277.017965  "
      ]
     },
     "execution_count": 19,
     "metadata": {},
     "output_type": "execute_result"
    }
   ],
   "source": [
    "predictor.feature_importance(train_data)"
   ]
  },
  {
   "cell_type": "markdown",
   "id": "49c8809a",
   "metadata": {
    "papermill": {
     "duration": 0.103019,
     "end_time": "2023-06-07T10:51:21.746047",
     "exception": false,
     "start_time": "2023-06-07T10:51:21.643028",
     "status": "completed"
    },
    "tags": []
   },
   "source": [
    "# Finally\n",
    "As above, it's shown that the best model is WeightedEnsemble_L2."
   ]
  },
  {
   "cell_type": "code",
   "execution_count": 20,
   "id": "ae75ac85",
   "metadata": {
    "execution": {
     "iopub.execute_input": "2023-06-07T10:51:21.951398Z",
     "iopub.status.busy": "2023-06-07T10:51:21.950112Z",
     "iopub.status.idle": "2023-06-07T10:51:22.298972Z",
     "shell.execute_reply": "2023-06-07T10:51:22.297284Z"
    },
    "papermill": {
     "duration": 0.45574,
     "end_time": "2023-06-07T10:51:22.302143",
     "exception": false,
     "start_time": "2023-06-07T10:51:21.846403",
     "status": "completed"
    },
    "tags": []
   },
   "outputs": [
    {
     "data": {
      "image/png": "[encoded data removed]",
      "text/plain": [
       "<Figure size 640x480 with 1 Axes>"
      ]
     },
     "metadata": {},
     "output_type": "display_data"
    }
   ],
   "source": [
    "test_data,y_test, y_pred\n",
    "\n",
    "plt.scatter(x=test_data,y=y_test)\n",
    "plt.plot(test_data,y_pred,color=\"red\",linewidth=3)\n",
    "plt.title(\"Actual Salary vs Predicted Salary\")\n",
    "plt.xlabel(\"Years of Experience\")\n",
    "plt.ylabel(\"Salary\")\n",
    "plt.show()"
   ]
  },
  {
   "cell_type": "code",
   "execution_count": null,
   "id": "169e7a3f",
   "metadata": {
    "papermill": {
     "duration": 0.100629,
     "end_time": "2023-06-07T10:51:22.504363",
     "exception": false,
     "start_time": "2023-06-07T10:51:22.403734",
     "status": "completed"
    },
    "tags": []
   },
   "outputs": [],
   "source": []
  }
 ],
 "metadata": {
  "kernelspec": {
   "display_name": "Python 3",
   "language": "python",
   "name": "python3"
  },
  "language_info": {
   "codemirror_mode": {
    "name": "ipython",
    "version": 3
   },
   "file_extension": ".py",
   "mimetype": "text/x-python",
   "name": "python",
   "nbconvert_exporter": "python",
   "pygments_lexer": "ipython3",
   "version": "3.10.10"
  },
  "papermill": {
   "default_parameters": {},
   "duration": 294.117132,
   "end_time": "2023-06-07T10:51:26.148172",
   "environment_variables": {},
   "exception": null,
   "input_path": "__notebook__.ipynb",
   "output_path": "__notebook__.ipynb",
   "parameters": {},
   "start_time": "2023-06-07T10:46:32.031040",
   "version": "2.4.0"
  }
 },
 "nbformat": 4,
 "nbformat_minor": 5
}
